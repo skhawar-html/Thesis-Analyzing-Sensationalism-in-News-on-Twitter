{
 "cells": [
  {
   "cell_type": "code",
   "execution_count": 1,
   "metadata": {},
   "outputs": [],
   "source": [
    "import pandas as pd\n",
    "import re\n",
    "import csv\n",
    "import numpy as np\n",
    "from collections import Counter\n",
    "import nltk\n",
    "from nltk.corpus import stopwords\n",
    "import emoji\n",
    "import statsmodels.api as sm\n",
    "import statsmodels.formula.api as smf"
   ]
  },
  {
   "cell_type": "code",
   "execution_count": 2,
   "metadata": {},
   "outputs": [],
   "source": [
    "pd.options.display.max_rows\n",
    "pd.set_option('display.max_colwidth', -1)"
   ]
  },
  {
   "cell_type": "markdown",
   "metadata": {},
   "source": [
    "Reading file 'AutomatedCA_sample.csv' containing sample for automated content analysis "
   ]
  },
  {
   "cell_type": "code",
   "execution_count": 3,
   "metadata": {},
   "outputs": [],
   "source": [
    "AutomatedCA_sample = pd.read_csv('/Users/salmankhawar/Desktop/Thesis/Content Analysis/AutomatedCA_sample.csv')"
   ]
  },
  {
   "cell_type": "markdown",
   "metadata": {},
   "source": [
    "Detecting Sensationalist Features"
   ]
  },
  {
   "cell_type": "markdown",
   "metadata": {},
   "source": [
    "Hyperbolic feature: \n",
    "\n",
    "getting list of hyperbolic words/phrases from 'Hyperbolic Words.txt' file"
   ]
  },
  {
   "cell_type": "code",
   "execution_count": 4,
   "metadata": {},
   "outputs": [
    {
     "name": "stdout",
     "output_type": "stream",
     "text": [
      "['A Single', 'Absolutely', 'Amazing', 'Awesome', 'Best', 'Breathtaking', 'But what happened next', 'Can change your life', \"Can't Even Handle\", \"Can't Handle\", 'Cannot Even Handle', \"Doesn't want you to see\", 'Epic', 'Everything You Need To Know', 'Gasp-Worthy', 'Go Viral', 'Greatest', 'Incredible', 'Infuriate', 'Literally', 'Mind Blowing', 'Mind BLOWN', 'Mind Blown', 'Need To Visit Before You Die', 'Nothing Could Prepare Me For', 'Of All Time', 'OMG', 'One Weird Trick', 'Perfection', 'Priceless', 'Prove', 'Right Now', 'Scientific Reasons', 'Shocked', 'Shocking', 'Simple Lessons', \"Stop What You're Doing\", 'TERRIFYING', 'Terrifying', 'That Will Make You Rethink', \"The World's Best\", 'This Is What Happens', 'Totally blew my mind', 'Unbelievable', 'Unimaginable', 'WHAT?', 'Whoa', 'WHOA', 'Whoah', 'Will Blow Your Mind', 'Will Change Your Life Forever', 'Won the Internet', 'Wonderful', 'Worst', 'Wow', 'WOW', \"You Didn't Know Exist\", \"You Didn't Know Existed\", \"You Won't Believe\", 'Have To See To Believe']\n"
     ]
    }
   ],
   "source": [
    "hyperbolic_words = open(\"/Users/salmankhawar/Desktop/Thesis/Content Analysis/Hyperbolic Words.txt\", \"r\")\n",
    "hyperbolic_words_list = hyperbolic_words.readlines()\n",
    "\n",
    "hyperbolic_list=[]\n",
    "for words in hyperbolic_words_list:\n",
    "    hyperbolic_list.append(words.strip())\n",
    "    \n",
    "print(hyperbolic_list)   "
   ]
  },
  {
   "cell_type": "code",
   "execution_count": 5,
   "metadata": {},
   "outputs": [],
   "source": [
    "def hyperbolic_detection(text, query):\n",
    "    text = str(text).lower()\n",
    "    newquery = []\n",
    "    for word in query:\n",
    "        newquery.append(str(word).lower())\n",
    "    tokens = re.findall(r\"[\\w']+|[.,!?;$@#]\", text)\n",
    "    \n",
    "    for word in newquery:\n",
    "        if word in tokens:\n",
    "            return 1\n",
    "    return 0"
   ]
  },
  {
   "cell_type": "code",
   "execution_count": 6,
   "metadata": {},
   "outputs": [],
   "source": [
    "AutomatedCA_sample['hyperbolic_feature'] = AutomatedCA_sample['text'].apply(hyperbolic_detection,\n",
    "                                                      args=(hyperbolic_list,))"
   ]
  },
  {
   "cell_type": "markdown",
   "metadata": {},
   "source": [
    "The hyperbolic feature is found in 2.56% of the sample"
   ]
  },
  {
   "cell_type": "code",
   "execution_count": 7,
   "metadata": {},
   "outputs": [
    {
     "data": {
      "text/plain": [
       "0    97.4375\n",
       "1    2.5625 \n",
       "Name: hyperbolic_feature, dtype: float64"
      ]
     },
     "execution_count": 7,
     "metadata": {},
     "output_type": "execute_result"
    }
   ],
   "source": [
    "AutomatedCA_sample['hyperbolic_feature'].value_counts(normalize=True)*100"
   ]
  },
  {
   "cell_type": "code",
   "execution_count": 8,
   "metadata": {},
   "outputs": [
    {
     "data": {
      "text/plain": [
       "25     Phone-Banking Is Democrats’ Best Hope For Organizing In A Pandemic. It's Also Helping Volunteers Feel Less Lonely.                                          \n",
       "45     Proud middle children share the reasons they’re absolutely sure they’re the best (even if their diplomatic parents won’t openly admit it).                  \n",
       "57     21 Absolutely Fucking Perfect Moments In Sporting Caption History\\n\\n                                                                                       \n",
       "92     Whoa! Megan Fox showed up in a nearly invisible dress for the #VMAs.                                                                                        \n",
       "131    This is the greatest thing on the internet right now.                                                                                                       \n",
       "201    Best Actor in a Motion Picture Drama: Rami Malek for #BohemianRhapsody (Will he thank Bryan Singer???)                                                      \n",
       "213    The CEO of Dallas-based Match said she was “shocked that I now live in a state where women’s reproductive laws are more regressive than most of the world.” \n",
       "247    Brian Kelly on leaving Notre Dame for LSU: \"I came down here because I wanted to be with the best.\"                                                         \n",
       "360    \"Devastated and shocked\": Serena Williams speaks out about the well-being of Chinese tennis player Peng Shuai.                                              \n",
       "388    The First Trailer For \"The Hate U Give\" Is Finally Here And It Looks Incredible                                                                             \n",
       "Name: text, dtype: object"
      ]
     },
     "execution_count": 8,
     "metadata": {},
     "output_type": "execute_result"
    }
   ],
   "source": [
    "AutomatedCA_sample[AutomatedCA_sample['hyperbolic_feature'] == 1]['text'].head(10)"
   ]
  },
  {
   "cell_type": "markdown",
   "metadata": {},
   "source": [
    "Slang feature: \n",
    "\n",
    "extracting list of slang words from 'Slang.txt' file"
   ]
  },
  {
   "cell_type": "code",
   "execution_count": 9,
   "metadata": {},
   "outputs": [
    {
     "name": "stdout",
     "output_type": "stream",
     "text": [
      "['?', '?', '?4U', ';S', '^^', '<3', '<3', '<33', '@TEOTD', '.02', '1TG, 2TG', '1UP', '121', '1337', '143', '1432', '14AA41', '182', '19', '10M', '10X', '10Q', '1CE', '1DR', '1NAM', '2', '20', '2B', '2EZ', '2G2BT', '2M2H', '2MI', '2MOR', '2MORO', '2M2H', '2N8', '2NTE', '4', '411', '404', '411', '420', '420', '459', '4AO', '4COL', '4EAE', '4EVA', '4NR', '^5', '511', '555', '55555', '55555', '6Y', '7K', '81', '831', '86', '88', '88', '9', '*s*', '*w*', 'A3', 'AA', 'AA', 'AA', 'AAF', 'AAF', 'AAK', 'AAK', 'AAMOF', 'AAMOI', 'AAP', 'AAR', 'AAS', 'AASHTA', 'AATK', 'AAYF', 'ABBR', 'ABC', 'ABD', 'ABT', 'ABT2', 'ABTA', 'ABU', 'AC', 'ACC', 'ACD', 'ACDNT', 'ACE', 'ACK', 'ACPT', 'ACQSTN', 'ADAD', 'ADBB', 'ADD', 'ADDY', 'ADIH']\n"
     ]
    },
    {
     "data": {
      "text/plain": [
       "1506"
      ]
     },
     "execution_count": 9,
     "metadata": {},
     "output_type": "execute_result"
    }
   ],
   "source": [
    "slang_words = open(\"/Users/salmankhawar/Desktop/Thesis/Content Analysis/Slang.txt\", \"r\")\n",
    "slang_words_list = slang_words.readlines()\n",
    "\n",
    "slang_list=[]\n",
    "for words in slang_words_list:\n",
    "    slang_list.append(words.strip().split('=')[0])\n",
    "       \n",
    "print(slang_list[:100])        \n",
    "len(slang_list)"
   ]
  },
  {
   "cell_type": "markdown",
   "metadata": {},
   "source": [
    "Extracting 200 most commonly appearing words, and filtering out the ones that appear in the slang list"
   ]
  },
  {
   "cell_type": "code",
   "execution_count": 10,
   "metadata": {},
   "outputs": [],
   "source": [
    "texts = AutomatedCA_sample['text'].tolist()"
   ]
  },
  {
   "cell_type": "code",
   "execution_count": 11,
   "metadata": {},
   "outputs": [],
   "source": [
    "total_words = Counter()\n",
    "for text in texts:\n",
    "    text = str(text).lower()\n",
    "    text = text.split(' ')\n",
    "    newtext = []\n",
    "    for item in text:\n",
    "            newtext.append(item)\n",
    "            \n",
    "    newtext = ' '.join(newtext)\n",
    "        \n",
    "    tokens = re.findall(r\"[\\w']{2,}\", newtext)\n",
    "    for token in tokens:\n",
    "        total_words[token] += 1\n",
    "        \n"
   ]
  },
  {
   "cell_type": "code",
   "execution_count": 12,
   "metadata": {},
   "outputs": [
    {
     "name": "stdout",
     "output_type": "stream",
     "text": [
      "['THE', 'TO', 'OF', 'AND', 'IN', 'FOR', 'ON', 'IS', 'WITH', 'THAT', 'HIS', 'TRUMP', 'AT', 'IT', 'ARE', 'AS', 'FROM', 'WAS', 'HAS', 'ABOUT', 'HE', 'NEW', 'THIS', 'BE', 'BIDEN', 'WILL', 'AFTER', 'HAVE', 'YOU', 'BUT', 'SAID', 'AN', 'BY', 'PRESIDENT', 'NOT', 'HER', 'WHO', 'WHAT', 'OUT', 'FIRST', 'THEIR', 'OVER', 'ONE', 'MORE', 'HOW', 'UP', 'HOUSE', 'THEY', 'SAYS', 'ALL', 'NOW', 'JUST', 'WE', 'COVID', 'FORMER', 'COURT', 'PEOPLE', 'BEEN', 'CAN', 'TIME', 'OR', 'NO', '19', 'YEAR', 'JOE', 'GET', 'SHE', 'AGAINST', 'GAME', 'STATE', 'IF', 'DEMOCRATS', 'SOME', 'BACK', 'LIKE', 'SO', 'WHEN', 'HAD', 'TWO', \"IT'S\", 'INTO', 'WERE', 'COULD', 'ITS', 'ELECTION', 'WOULD', 'HIM', 'LAST', 'YOUR', 'WHITE', 'MY', 'THAN', 'US', 'SAY', 'WEEK', 'SEASON', 'DO', 'SUPREME', \"HERE'S\", 'WIN', 'DAY', 'SENATE', 'MOST', 'HERE', 'WORLD', 'OUR', 'REPUBLICAN', 'DOWN', 'BEFORE', 'BILL', 'SHOW', 'OFF', 'DURING', 'KNOW', 'FEDERAL', 'VIA', 'MAKE', 'YEARS', 'TEAM', 'STILL', 'WHY', 'OTHER', 'CAPITOL', \"TRUMP'S\", 'DONALD', 'THERE', 'STAR', 'REPUBLICANS', 'WHICH', 'CONGRESS', 'BEST', \"BIDEN'S\", 'TODAY', 'THESE', 'NEWS', 'TAKE', 'BEING', 'RIGHT', 'THEM', 'SHOULD', 'GOP', 'CORONAVIRUS', 'TOP', 'EVEN', 'TEXAS', 'BIG', 'GOING', 'MADE', 'NIGHT', 'FOOTBALL', 'CAMPAIGN', 'NEXT', 'ADMINISTRATION', 'BLACK', 'ONLY', 'SERIES', 'POLICE', 'TOLD', 'END', 'ME', 'ALSO', 'NFL', 'HOME', 'GO', 'VOTE', 'DID', 'CALIFORNIA', 'AFGHANISTAN', 'WHILE', 'SINCE', 'WANT', 'GOT', 'LAW', 'WOMEN', 'MANY', 'WAY', '2020', 'DEMOCRATIC', 'FANS', 'LOOK', 'NATIONAL', 'JUDGE', 'YORK', 'HARRIS', 'HEALTH', 'JUSTICE', 'THREE', 'RUN', 'PANDEMIC', 'RIGHTS', 'MAY', 'OFFICE', 'ABORTION', 'NEED', 'OFFICIALS', 'JAN', 'HELP', 'VACCINE', 'LONG', 'AGAIN']\n"
     ]
    }
   ],
   "source": [
    "most_common_list = total_words.most_common(200)\n",
    "\n",
    "words_without_count = []\n",
    "\n",
    "for a_tuple in most_common_list:\n",
    "       words_without_count.append(a_tuple[0].upper())\n",
    "print(words_without_count)\n"
   ]
  },
  {
   "cell_type": "code",
   "execution_count": 13,
   "metadata": {},
   "outputs": [],
   "source": [
    "slang_list = [e for e in slang_list if e not in words_without_count]"
   ]
  },
  {
   "cell_type": "code",
   "execution_count": 14,
   "metadata": {},
   "outputs": [],
   "source": [
    "slang_list = [s for s in slang_list if len(s) > 1]"
   ]
  },
  {
   "cell_type": "code",
   "execution_count": 15,
   "metadata": {},
   "outputs": [],
   "source": [
    "def slang_detection(text, query):\n",
    "    newquery = []\n",
    "    text = str(text).lower()\n",
    "\n",
    "    for word in query:\n",
    "        newquery.append(str(word).lower())\n",
    "    tokens = re.findall(r\"[\\w']+\", text)\n",
    "    \n",
    "    for word in newquery:\n",
    "        if word in tokens:\n",
    "            return 1\n",
    "    return 0"
   ]
  },
  {
   "cell_type": "code",
   "execution_count": 16,
   "metadata": {},
   "outputs": [],
   "source": [
    "AutomatedCA_sample['slang_feature'] = AutomatedCA_sample['text'].apply(slang_detection,\n",
    "                                                      args=(slang_list,))"
   ]
  },
  {
   "cell_type": "markdown",
   "metadata": {},
   "source": [
    "The slang feature is detected in 5.68% of the sample"
   ]
  },
  {
   "cell_type": "code",
   "execution_count": 17,
   "metadata": {},
   "outputs": [
    {
     "data": {
      "text/plain": [
       "0    94.324219\n",
       "1    5.675781 \n",
       "Name: slang_feature, dtype: float64"
      ]
     },
     "execution_count": 17,
     "metadata": {},
     "output_type": "execute_result"
    }
   ],
   "source": [
    "AutomatedCA_sample['slang_feature'].value_counts(normalize=True)*100"
   ]
  },
  {
   "cell_type": "code",
   "execution_count": 18,
   "metadata": {},
   "outputs": [
    {
     "data": {
      "text/plain": [
       "6      \"My wife looked over at me and said she wished we had graduation hats to throw into the air.\"                                                                                                                             \n",
       "13     LeBron James has 39 points in 43 minutes to lead Lakers to 124-116 OT win over Pacers.                                                                                                                                    \n",
       "27     86% of NBA GM's say they would sign Anthony Davis first if they were starting a franchise today.                                                                                                                          \n",
       "36     Prince Harry and Duchess Meghan said they asked the queen in advance to pass her childhood nickname, Lilibet, down to their new baby daughter after a BBC report said they didn't.                                        \n",
       "66     'Sadly, he is who he is.' Hillary Clinton criticizes Trump in DNC speech promoting Biden                                                                                                                                  \n",
       "99     Rams CB Jalen Ramsey did not practice because of illness, per the Rams injury report.                                                                                                                                     \n",
       "109    Federal filings give a hint at how large a tab the meal-kit company is running up to stifle a union campaign by Unite Here.                                                                                               \n",
       "118    👋 We're having another #AskAReporter event this Wednesday at 6pm PST.\\n\\n@BillPlaschke will be talking about his career (as our @latimessports columnist) and the stories behind his book 📚\\n\\nLivestream link 👨‍💻 👩‍💻 👇\\n\n",
       "132    A Chinese Diplomat Got Called Racist For Tweeting About DC While Defending Muslim Internment Camps                                                                                                                        \n",
       "151    Ty Lue said of the team's approach with Marcus Morris' recovery: Day by day.                                                                                                                                              \n",
       "Name: text, dtype: object"
      ]
     },
     "execution_count": 18,
     "metadata": {},
     "output_type": "execute_result"
    }
   ],
   "source": [
    "AutomatedCA_sample[AutomatedCA_sample['slang_feature'] == 1]['text'].head(10)"
   ]
  },
  {
   "cell_type": "markdown",
   "metadata": {},
   "source": [
    "Listicle feature"
   ]
  },
  {
   "cell_type": "code",
   "execution_count": 19,
   "metadata": {},
   "outputs": [],
   "source": [
    "def listicle_detection(text):\n",
    "    text = str(text)\n",
    "    if re.match(r\"^\\d\", text):\n",
    "            return 1\n",
    "    return 0"
   ]
  },
  {
   "cell_type": "code",
   "execution_count": 20,
   "metadata": {},
   "outputs": [],
   "source": [
    "AutomatedCA_sample['listicle_feature'] = AutomatedCA_sample['text'].apply(listicle_detection)"
   ]
  },
  {
   "cell_type": "markdown",
   "metadata": {},
   "source": [
    "The listicle feature is detected in 0.95% of the sample"
   ]
  },
  {
   "cell_type": "code",
   "execution_count": 21,
   "metadata": {},
   "outputs": [
    {
     "data": {
      "text/plain": [
       "0    99.054688\n",
       "1    0.945312 \n",
       "Name: listicle_feature, dtype: float64"
      ]
     },
     "execution_count": 21,
     "metadata": {},
     "output_type": "execute_result"
    }
   ],
   "source": [
    "AutomatedCA_sample['listicle_feature'].value_counts(normalize=True)*100"
   ]
  },
  {
   "cell_type": "code",
   "execution_count": 22,
   "metadata": {},
   "outputs": [
    {
     "data": {
      "text/plain": [
       "20     31 \"Sex And The City\" Guest Stars You Probably Totally Forgot About                                                                                             \n",
       "27     86% of NBA GM's say they would sign Anthony Davis first if they were starting a franchise today.                                                                \n",
       "57     21 Absolutely Fucking Perfect Moments In Sporting Caption History\\n\\n                                                                                           \n",
       "252    21 Quizzes Marvel Fans Should Take Right Now                                                                                                                    \n",
       "271    140 women have accused former USA Gymnastics doctor Larry Nassar of abuse. His victims think we don't care.                                                     \n",
       "457    72 straight pats for miami kicker just snapped. 72! Fsu up 1                                                                                                    \n",
       "587    2028 L.A. Olympics: Agreement outlines key issues but final price tag remains unclear                                                                           \n",
       "635    3 more hours until all is right with the world.                                                                                                                 \n",
       "748    15 Radio Interview Moments That Are Fucking Bonkers                                                                                                             \n",
       "966    25 years ago this week, California passed the nation’s first medical marijuana law.\\n\\nYet today, cannabis remains a federally prohibited, Schedule 1 drug. \\n\\n\n",
       "Name: text, dtype: object"
      ]
     },
     "execution_count": 22,
     "metadata": {},
     "output_type": "execute_result"
    }
   ],
   "source": [
    "AutomatedCA_sample[AutomatedCA_sample['listicle_feature'] == 1]['text'].head(10)"
   ]
  },
  {
   "cell_type": "markdown",
   "metadata": {},
   "source": [
    "Emoji feature"
   ]
  },
  {
   "cell_type": "code",
   "execution_count": 23,
   "metadata": {},
   "outputs": [
    {
     "data": {
      "text/plain": [
       "4702"
      ]
     },
     "execution_count": 23,
     "metadata": {},
     "output_type": "execute_result"
    }
   ],
   "source": [
    "emoji_list = list(emoji.UNICODE_EMOJI['en'].keys())\n",
    "len(emoji_list)"
   ]
  },
  {
   "cell_type": "code",
   "execution_count": 24,
   "metadata": {},
   "outputs": [],
   "source": [
    "def emoji_detection(text):\n",
    "    text = str(text)\n",
    "    for word in text:\n",
    "        if word in emoji_list:\n",
    "            return 1\n",
    "    return 0"
   ]
  },
  {
   "cell_type": "code",
   "execution_count": 25,
   "metadata": {},
   "outputs": [],
   "source": [
    "AutomatedCA_sample['emoji_feature'] = AutomatedCA_sample['text'].apply(emoji_detection)"
   ]
  },
  {
   "cell_type": "markdown",
   "metadata": {},
   "source": [
    "The emoji feature is detected in 2.89% of the sample"
   ]
  },
  {
   "cell_type": "code",
   "execution_count": 26,
   "metadata": {},
   "outputs": [
    {
     "data": {
      "text/plain": [
       "0    97.109375\n",
       "1    2.890625 \n",
       "Name: emoji_feature, dtype: float64"
      ]
     },
     "execution_count": 26,
     "metadata": {},
     "output_type": "execute_result"
    }
   ],
   "source": [
    "AutomatedCA_sample['emoji_feature'].value_counts(normalize=True)*100"
   ]
  },
  {
   "cell_type": "code",
   "execution_count": 27,
   "metadata": {},
   "outputs": [
    {
     "data": {
      "text/plain": [
       "11     Atlanta ties it at 2-2 on Dansby Swanson’s solo home run! #WorldSeries \\n\\n🎥: @MLB\\n                                                                                                                                          \n",
       "37     #What2Watch hosts @scottygb and @DionneGrant face some blowback over their Should You Watch It? Board choices 😅                                                                                                               \n",
       "56     .@robcorddry says he joined #TheUnicorn because of his pal Walton Goggins: \"First of all, just do whatever Walton says.\" 🦄                                                                                                    \n",
       "88     The on-screen couples we can't get enough of, and the ones we're dreaming of 😍 #TheBuzz                                                                                                                                       \n",
       "96     There are new Harry Styles pics on the timeline and fans *Ariel* excited 🧜‍♀️ #TheBuzz                                                                                                                                        \n",
       "118    👋 We're having another #AskAReporter event this Wednesday at 6pm PST.\\n\\n@BillPlaschke will be talking about his career (as our @latimessports columnist) and the stories behind his book 📚\\n\\nLivestream link 👨‍💻 👩‍💻 👇\\n    \n",
       "136    .@ellajaybasco says most of the training she had to do to play Cassandra Cain in #BirdsOfPrey was working with a magician to learn how to convincingly steal and work with cards 🃏                                            \n",
       "174    Full interview: @SkylarAstin reads some 🔥 tweets and talks #ZoeysPlaylist, \"Pitch Perfect,\" and more                                                                                                                          \n",
       "219    Cowboys QB Dak Prescott is listed as questionable to play vs. Vikings.\\n\\nWhy? How did this happen? What are the Cowboys saying? And what will the decision ultimately hinge on? Here's what we know, via @usatodaysports 👇🏽\\n\n",
       "296    Thunder coach Mark Daigneault on Drake attending tonight's game: \"I don't know Drake and Drake certainly doesn’t know who I am.\" 😂                                                                                            \n",
       "Name: text, dtype: object"
      ]
     },
     "execution_count": 27,
     "metadata": {},
     "output_type": "execute_result"
    }
   ],
   "source": [
    "AutomatedCA_sample[AutomatedCA_sample['emoji_feature'] == 1]['text'].head(10)"
   ]
  },
  {
   "cell_type": "markdown",
   "metadata": {},
   "source": [
    "Question feature"
   ]
  },
  {
   "cell_type": "code",
   "execution_count": 28,
   "metadata": {},
   "outputs": [],
   "source": [
    "def question_detection(text):\n",
    "    text = str(text)\n",
    "    if re.search('\\w[?]\\s', text):\n",
    "        return 1\n",
    "    return 0"
   ]
  },
  {
   "cell_type": "code",
   "execution_count": 29,
   "metadata": {},
   "outputs": [],
   "source": [
    "AutomatedCA_sample['question_feature'] = AutomatedCA_sample['text'].apply(question_detection)"
   ]
  },
  {
   "cell_type": "markdown",
   "metadata": {},
   "source": [
    "The question feature is detected in 4.59% of the sample"
   ]
  },
  {
   "cell_type": "code",
   "execution_count": 30,
   "metadata": {},
   "outputs": [
    {
     "data": {
      "text/plain": [
       "0    95.410156\n",
       "1    4.589844 \n",
       "Name: question_feature, dtype: float64"
      ]
     },
     "execution_count": 30,
     "metadata": {},
     "output_type": "execute_result"
    }
   ],
   "source": [
    "AutomatedCA_sample['question_feature'].value_counts(normalize=True)*100"
   ]
  },
  {
   "cell_type": "code",
   "execution_count": 31,
   "metadata": {},
   "outputs": [
    {
     "data": {
      "text/plain": [
       "37     #What2Watch hosts @scottygb and @DionneGrant face some blowback over their Should You Watch It? Board choices 😅                                                                                                                                          \n",
       "49     What makes an elite team? @CoachLindsayG\\nhas a powerpoint for that. \\n\\nThe @USCWBB HC makes her Trojan debut tonight as USC tries to climb back to glory  \\n                                                                                           \n",
       "63     Review: Is Christmas the season of Nintendo or the opiate of the masses? Two new movies chime in                                                                                                                                                         \n",
       "90     hello! have you had trouble finding a good therapist? any tips that worked for you? (or if you're a therapist yourself, what advice do you have?) would love to hear from you for a story. DMs open, or you can email doliver@usatoday.com. thanks much!!\n",
       "134    Who will be the breakout star of the Super Bowl this year? @kcifeanyi &amp; @rawan weigh in                                                                                                                                                              \n",
       "163    Missed our conversation today? Catch up on our discussion about what happened on election night and what it means for 2022 here:                                                                                                                         \n",
       "176    Want to lower your risk of cardiovascular disease? Adjust your bedtime.                                                                                                                                                                                  \n",
       "182    What do you think of the \"Justice League\" #SnyderCut? #TheBuzz                                                                                                                                                                                           \n",
       "183    What Does It Take For Republicans To Bail On A Controversial Judicial Nominee?                                                                                                                                                                           \n",
       "219    Cowboys QB Dak Prescott is listed as questionable to play vs. Vikings.\\n\\nWhy? How did this happen? What are the Cowboys saying? And what will the decision ultimately hinge on? Here's what we know, via @usatodaysports 👇🏽\\n                           \n",
       "Name: text, dtype: object"
      ]
     },
     "execution_count": 31,
     "metadata": {},
     "output_type": "execute_result"
    }
   ],
   "source": [
    "AutomatedCA_sample[AutomatedCA_sample['question_feature'] == 1]['text'].head(10)"
   ]
  },
  {
   "cell_type": "markdown",
   "metadata": {},
   "source": [
    "Hashtag feature"
   ]
  },
  {
   "cell_type": "code",
   "execution_count": 32,
   "metadata": {},
   "outputs": [],
   "source": [
    "def hashtag_detection(text):\n",
    "    text = str(text)\n",
    "    if re.search('#\\w', text):\n",
    "        return 1\n",
    "    return 0"
   ]
  },
  {
   "cell_type": "code",
   "execution_count": 33,
   "metadata": {},
   "outputs": [],
   "source": [
    "AutomatedCA_sample['hashtag_feature'] = AutomatedCA_sample['text'].apply(hashtag_detection)"
   ]
  },
  {
   "cell_type": "markdown",
   "metadata": {},
   "source": [
    "The hashtag feature is detected in 8.90% of the sample"
   ]
  },
  {
   "cell_type": "code",
   "execution_count": 34,
   "metadata": {},
   "outputs": [
    {
     "data": {
      "text/plain": [
       "0    91.097656\n",
       "1    8.902344 \n",
       "Name: hashtag_feature, dtype: float64"
      ]
     },
     "execution_count": 34,
     "metadata": {},
     "output_type": "execute_result"
    }
   ],
   "source": [
    "AutomatedCA_sample['hashtag_feature'].value_counts(normalize=True)*100"
   ]
  },
  {
   "cell_type": "code",
   "execution_count": 35,
   "metadata": {},
   "outputs": [
    {
     "data": {
      "text/plain": [
       "1     Now that's the Russell Wilson we are used to right there #Seahawks #mnf                                                                                                                                                          \n",
       "10    Full interview: @BradleyWhitford discusses his new series #PerfectHarmony, whether \"The West Wing\" could be made today, what the Emmys are really like, and more                                                                 \n",
       "11    Atlanta ties it at 2-2 on Dansby Swanson’s solo home run! #WorldSeries \\n\\n🎥: @MLB\\n                                                                                                                                             \n",
       "17    Bottom of the ninth. Tie game. Mood. #ComeTogether                                                                                                                                                                               \n",
       "37    #What2Watch hosts @scottygb and @DionneGrant face some blowback over their Should You Watch It? Board choices 😅                                                                                                                  \n",
       "42    #KaceyMusgraves is no longer keeping it to herself.                                                                                                                                                                              \n",
       "56    .@robcorddry says he joined #TheUnicorn because of his pal Walton Goggins: \"First of all, just do whatever Walton says.\" 🦄                                                                                                       \n",
       "62    We're here with your reminder that horror icon @StephenKing is pretty great at writing crime thrillers. #BillySummers                                                                                                            \n",
       "73    \"I'm so tired of guys getting to start out being Scrooge and being crazy and everybody's like, 'Oh, that's great,' but if it's a woman, it's like, 'Oh, she's not likable.'\"\\n\\n@paulfeig shares what drew him to #LastChristmas \n",
       "88    The on-screen couples we can't get enough of, and the ones we're dreaming of 😍 #TheBuzz                                                                                                                                          \n",
       "Name: text, dtype: object"
      ]
     },
     "execution_count": 35,
     "metadata": {},
     "output_type": "execute_result"
    }
   ],
   "source": [
    "AutomatedCA_sample[AutomatedCA_sample['hashtag_feature'] == 1]['text'].head(10)"
   ]
  },
  {
   "cell_type": "markdown",
   "metadata": {},
   "source": [
    "Informal punctuation feature"
   ]
  },
  {
   "cell_type": "code",
   "execution_count": 36,
   "metadata": {},
   "outputs": [],
   "source": [
    "def informalpunct_detection(text):\n",
    "    text = str(text)\n",
    "    pattern = '[!?*.]{2,}|\\*\\w+\\*'\n",
    "    if re.search(pattern, text):\n",
    "            return 1\n",
    "    else:\n",
    "            return 0"
   ]
  },
  {
   "cell_type": "code",
   "execution_count": 37,
   "metadata": {},
   "outputs": [],
   "source": [
    "AutomatedCA_sample['informalpunct_feature'] = AutomatedCA_sample['text'].apply(informalpunct_detection) "
   ]
  },
  {
   "cell_type": "markdown",
   "metadata": {},
   "source": [
    "The informal punctuation feature is detected in 1.76% of the sample"
   ]
  },
  {
   "cell_type": "code",
   "execution_count": 38,
   "metadata": {},
   "outputs": [
    {
     "data": {
      "text/plain": [
       "0    98.242188\n",
       "1    1.757812 \n",
       "Name: informalpunct_feature, dtype: float64"
      ]
     },
     "execution_count": 38,
     "metadata": {},
     "output_type": "execute_result"
    }
   ],
   "source": [
    "AutomatedCA_sample['informalpunct_feature'].value_counts(normalize=True)*100"
   ]
  },
  {
   "cell_type": "code",
   "execution_count": 39,
   "metadata": {},
   "outputs": [
    {
     "data": {
      "text/plain": [
       "77     Yep...                                                                                                                                                                                                                                                         \n",
       "90     hello! have you had trouble finding a good therapist? any tips that worked for you? (or if you're a therapist yourself, what advice do you have?) would love to hear from you for a story. DMs open, or you can email doliver@usatoday.com. thanks much!!      \n",
       "96     There are new Harry Styles pics on the timeline and fans *Ariel* excited 🧜‍♀️ #TheBuzz                                                                                                                                                                         \n",
       "177    RILEY!!!                                                                                                                                                                                                                                                       \n",
       "201    Best Actor in a Motion Picture Drama: Rami Malek for #BohemianRhapsody (Will he thank Bryan Singer???)                                                                                                                                                         \n",
       "241    \"These threats include those posed by domestic terrorists, individuals and groups engaged in grievance-based violence...'\\n\\n                                                                                                                                  \n",
       "305    Is it not just a tad bit strange that Steph Curry was a DISTANT third in the player voting for guards in the west?! #NBAAllStar                                                                                                                                \n",
       "346    ICYMI…..@USMNT settles for 1-1 draw with Jamaica in World Cup qualifier                                                                                                                                                                                        \n",
       "357    Rams have fourth and 1 at the 3 and .... pass. Incomplete.                                                                                                                                                                                                     \n",
       "372    I love ghost stories — especially *real* ones — but what I love the most about this beautiful new @HuffPost Personal piece by Salina Jivani is what she learned while her family was being haunted in a brand new country they were struggling to make home\\n\\n\n",
       "Name: text, dtype: object"
      ]
     },
     "execution_count": 39,
     "metadata": {},
     "output_type": "execute_result"
    }
   ],
   "source": [
    "AutomatedCA_sample[AutomatedCA_sample['informalpunct_feature'] == 1]['text'].head(10)"
   ]
  },
  {
   "cell_type": "markdown",
   "metadata": {},
   "source": [
    "Forward referencing"
   ]
  },
  {
   "cell_type": "code",
   "execution_count": 40,
   "metadata": {},
   "outputs": [],
   "source": [
    "forwardref_list = ['This','That','These','Those','He','She','They','Him','Her','Them','You','Here','There']"
   ]
  },
  {
   "cell_type": "code",
   "execution_count": 41,
   "metadata": {},
   "outputs": [],
   "source": [
    "def forwardref_detection(text):\n",
    "    text = str(text)\n",
    "    if (text.startswith(tuple(forwardref_list))):\n",
    "            return 1\n",
    "    return 0"
   ]
  },
  {
   "cell_type": "code",
   "execution_count": 42,
   "metadata": {},
   "outputs": [],
   "source": [
    "AutomatedCA_sample['forwardref_feature'] = AutomatedCA_sample['text'].apply(forwardref_detection) "
   ]
  },
  {
   "cell_type": "markdown",
   "metadata": {},
   "source": [
    "The forward referencing feature is detected in 3.70% of the sample"
   ]
  },
  {
   "cell_type": "code",
   "execution_count": 43,
   "metadata": {},
   "outputs": [
    {
     "data": {
      "text/plain": [
       "0    96.300781\n",
       "1    3.699219 \n",
       "Name: forwardref_feature, dtype: float64"
      ]
     },
     "execution_count": 43,
     "metadata": {},
     "output_type": "execute_result"
    }
   ],
   "source": [
    "AutomatedCA_sample['forwardref_feature'].value_counts(normalize=True)*100"
   ]
  },
  {
   "cell_type": "code",
   "execution_count": 44,
   "metadata": {},
   "outputs": [
    {
     "data": {
      "text/plain": [
       "60     Here's What Everyone Wore To This Year's BET Awards                                                                \n",
       "80     This Is What Actual Teenagers Think About Claudia Conway                                                           \n",
       "82     This $9 Trillion Proposal Is The Most Ambitious Climate Change Policy Yet From A Democratic Presidential Candidate \n",
       "91     This Is What People Promised They Would Do If Biden Won                                                            \n",
       "96     There are new Harry Styles pics on the timeline and fans *Ariel* excited 🧜‍♀️ #TheBuzz                             \n",
       "108    There is a petition calling for the @Browns to start Johnny Manziel.                                               \n",
       "121    This is the legacy of 'movie monster' Jean-Paul Belmondo                                                           \n",
       "131    This is the greatest thing on the internet right now.                                                              \n",
       "154    You used to call me on my cell phone\\n\\nLate night when you need injury updates                                    \n",
       "155    This 'Jeopardy!' question finally ended Matt Amodio's 38-game winning streak                                       \n",
       "Name: text, dtype: object"
      ]
     },
     "execution_count": 44,
     "metadata": {},
     "output_type": "execute_result"
    }
   ],
   "source": [
    "AutomatedCA_sample[AutomatedCA_sample['forwardref_feature'] == 1]['text'].head(10)"
   ]
  },
  {
   "cell_type": "markdown",
   "metadata": {},
   "source": [
    "All Caps feature:\n",
    "\n",
    "Using part of speech tagging to identify all uppercase proper nouns with lengths of two or more characters in the sample, and excluding them in detection of the all caps feature"
   ]
  },
  {
   "cell_type": "code",
   "execution_count": 45,
   "metadata": {},
   "outputs": [],
   "source": [
    "tag_list = []\n",
    "def pos_tagging(txt):\n",
    "        txt = str(txt)\n",
    "        wordslist = nltk.word_tokenize(txt)\n",
    "        tagged = nltk.pos_tag(wordslist)\n",
    "            \n",
    "        for tupl in tagged:\n",
    "                if tupl[1] == \"NNP\":\n",
    "                        tag_list.append(tupl[0])\n",
    "                  \n",
    "                else:\n",
    "                    pass"
   ]
  },
  {
   "cell_type": "code",
   "execution_count": 46,
   "metadata": {},
   "outputs": [
    {
     "data": {
      "text/plain": [
       "['James',\n",
       " 'OT',\n",
       " 'Pacers',\n",
       " 'October',\n",
       " 'November',\n",
       " 'USSF',\n",
       " 'President',\n",
       " 'Cindy',\n",
       " 'Parlow',\n",
       " 'Cone',\n",
       " 'FIFA',\n",
       " '’',\n",
       " 'World',\n",
       " 'Cup',\n",
       " 'Schools',\n",
       " 'Newsom',\n",
       " 'Bottom',\n",
       " 'Mood',\n",
       " 'ComeTogether',\n",
       " 'Supreme',\n",
       " 'Court',\n",
       " 'Trump',\n",
       " 'U.S.',\n",
       " 'Andrew',\n",
       " 'Yang',\n",
       " 'Is',\n",
       " 'Campaign',\n",
       " 'Has',\n",
       " 'Big',\n",
       " 'City',\n",
       " 'Guest',\n",
       " 'Stars',\n",
       " 'Totally',\n",
       " 'Forgot',\n",
       " 'Kabul',\n",
       " '’',\n",
       " 'Afghan',\n",
       " 'Kamala',\n",
       " 'Harris',\n",
       " '’',\n",
       " 'Friendship',\n",
       " 'Joe',\n",
       " 'Biden',\n",
       " '’',\n",
       " 'Late',\n",
       " 'Son',\n",
       " 'Was',\n",
       " 'Central',\n",
       " 'Their',\n",
       " 'First',\n",
       " 'Joint',\n",
       " 'Event',\n",
       " 'USC',\n",
       " 'Utah',\n",
       " 'Isaiah',\n",
       " 'Mobley',\n",
       " 'DeVonta',\n",
       " 'Smith',\n",
       " 'Denver',\n",
       " 'Eagles',\n",
       " 'Broncos',\n",
       " 'Best',\n",
       " 'Hope',\n",
       " 'Organizing',\n",
       " 'A',\n",
       " 'Pandemic',\n",
       " 'Volunteers',\n",
       " 'Feel',\n",
       " 'Less',\n",
       " 'Lonely',\n",
       " 'Astros',\n",
       " '’',\n",
       " 'Carlos',\n",
       " 'Gomez',\n",
       " 'KC',\n",
       " 'NBA',\n",
       " 'GM',\n",
       " 'Anthony',\n",
       " 'Davis',\n",
       " 'Their',\n",
       " 'Impeachment',\n",
       " 'Inquiry',\n",
       " 'Hearings',\n",
       " 'Will',\n",
       " 'Be',\n",
       " 'Public',\n",
       " 'Soon',\n",
       " 'Supreme',\n",
       " 'Court',\n",
       " 'Mississippi',\n",
       " 'Notre',\n",
       " 'Dame',\n",
       " 'Marcus',\n",
       " 'Freeman',\n",
       " 'Brian',\n",
       " 'Kelly',\n",
       " 'Trump',\n",
       " 'Paul',\n",
       " 'Manafort',\n",
       " 'Roger',\n",
       " 'Stone',\n",
       " 'Jared',\n",
       " 'Kushner',\n",
       " 'Washington',\n",
       " 'Senate',\n",
       " 'August',\n",
       " 'People',\n",
       " 'Act',\n",
       " 'DOJ',\n",
       " 'Texas',\n",
       " 'Stadium',\n",
       " 'Eats',\n",
       " 'Jenn',\n",
       " 'Staples',\n",
       " 'Center',\n",
       " 'Wahoo',\n",
       " 'Wetzel',\n",
       " 'LudoBird',\n",
       " 'Doghaus',\n",
       " 'Outtakes',\n",
       " 'Twitter',\n",
       " 'Cancun',\n",
       " 'Harry',\n",
       " 'Duchess',\n",
       " 'Meghan',\n",
       " 'Lilibet',\n",
       " 'BBC',\n",
       " 'What2Watch',\n",
       " '@',\n",
       " 'DionneGrant',\n",
       " 'Board',\n",
       " 'Supreme',\n",
       " 'Court',\n",
       " 'Biden',\n",
       " 'Texas',\n",
       " 'Biden',\n",
       " 'KaceyMusgraves',\n",
       " 'Obamas',\n",
       " 'A',\n",
       " 'Netflix',\n",
       " 'Deal',\n",
       " 'Produce',\n",
       " 'Films',\n",
       " 'Documentaries',\n",
       " 'Pentagon',\n",
       " 'Friday',\n",
       " 'Kabul',\n",
       " 'Proud',\n",
       " 'Britain',\n",
       " '’',\n",
       " 'Piers',\n",
       " 'Morgan',\n",
       " 'Meghan',\n",
       " 'Duchess',\n",
       " 'Sussex',\n",
       " 'World',\n",
       " 'Food',\n",
       " 'Programme',\n",
       " 'Has',\n",
       " 'Nobel',\n",
       " 'Peace',\n",
       " 'Prize',\n",
       " 'CoachLindsayG',\n",
       " 'USCWBB',\n",
       " 'HC',\n",
       " 'Trojan',\n",
       " 'USC',\n",
       " 'Kevin',\n",
       " 'Hayes',\n",
       " 'NHL',\n",
       " 'Jimmy',\n",
       " 'Hayes',\n",
       " 'August',\n",
       " 'WTA',\n",
       " 'China',\n",
       " 'Peng',\n",
       " 'Shuai',\n",
       " 'Pop',\n",
       " 'September',\n",
       " 'Joe',\n",
       " 'Biden',\n",
       " 'Says',\n",
       " 'Donald',\n",
       " 'Trump',\n",
       " '“',\n",
       " 'Long-term',\n",
       " 'Biden',\n",
       " 'Congress',\n",
       " '–',\n",
       " 'TheUnicorn',\n",
       " 'Walton',\n",
       " 'First',\n",
       " 'Walton',\n",
       " 'Perfect',\n",
       " 'Moments',\n",
       " 'Caption',\n",
       " 'History',\n",
       " 'IRS',\n",
       " 'Federico',\n",
       " 'Klein',\n",
       " 'Everyone',\n",
       " 'BET',\n",
       " 'Awards',\n",
       " 'President',\n",
       " 'Biden',\n",
       " 'Iran',\n",
       " 'Trump',\n",
       " '@',\n",
       " 'StephenKing',\n",
       " 'Christmas',\n",
       " 'Nintendo',\n",
       " 'El',\n",
       " 'Salvador',\n",
       " 'Guatemala',\n",
       " 'Honduras',\n",
       " 'US',\n",
       " 'Maryland',\n",
       " 'Clinton',\n",
       " 'Trump',\n",
       " 'DNC',\n",
       " 'Biden',\n",
       " 'House',\n",
       " 'Speaker',\n",
       " 'Nancy',\n",
       " 'Pelosi',\n",
       " 'D-Calif.',\n",
       " 'Senate',\n",
       " 'Sammy',\n",
       " 'Blais',\n",
       " 'ACL',\n",
       " 'Devils',\n",
       " 'P.K',\n",
       " 'Subban',\n",
       " '”',\n",
       " 'Prime',\n",
       " 'Minister',\n",
       " 'Ariel',\n",
       " 'Henry',\n",
       " 'Watchdog',\n",
       " 'DOJ',\n",
       " 'Scrooge',\n",
       " 'LastChristmas',\n",
       " 'Paris',\n",
       " 'Paris',\n",
       " 'Germany',\n",
       " 'France',\n",
       " 'Football',\n",
       " 'Podcast',\n",
       " 'Week',\n",
       " 'Browns',\n",
       " 'Aaron',\n",
       " 'Rodgers',\n",
       " '@',\n",
       " 'JosinaAnderson',\n",
       " '@',\n",
       " 'TheTylerDragon',\n",
       " '@',\n",
       " 'EmilyTOlsen',\n",
       " '@',\n",
       " '@',\n",
       " 'USATSportsPlus',\n",
       " 'Cuomo',\n",
       " 'Judge',\n",
       " 'Royce',\n",
       " 'Lamberth',\n",
       " 'Phoenix',\n",
       " 'QAnon',\n",
       " 'Jake',\n",
       " 'Angeli',\n",
       " 'U.S.',\n",
       " 'Capitol',\n",
       " 'Jan.',\n",
       " 'LGBTQ',\n",
       " 'Supreme',\n",
       " 'Court',\n",
       " 'Teenagers',\n",
       " 'Claudia',\n",
       " 'Conway',\n",
       " 'Jared',\n",
       " 'Kushner',\n",
       " 'Spoke',\n",
       " 'Private',\n",
       " 'Senate',\n",
       " 'Intelligence',\n",
       " 'Committee',\n",
       " 'Russia',\n",
       " 'Investigation',\n",
       " 'Trillion',\n",
       " 'Proposal',\n",
       " 'Climate',\n",
       " 'Change',\n",
       " 'Policy',\n",
       " 'Yet',\n",
       " 'A',\n",
       " 'Presidential',\n",
       " 'Candidate',\n",
       " 'Washington',\n",
       " 'D.C.',\n",
       " 'National',\n",
       " 'Conference',\n",
       " 'State',\n",
       " 'Legislatures',\n",
       " 'McConnell',\n",
       " 'Afghan',\n",
       " 'U.S.',\n",
       " 'Trump',\n",
       " '😍',\n",
       " 'TheBuzz',\n",
       " 'Emmys',\n",
       " 'Sunday',\n",
       " 'DMs',\n",
       " '@',\n",
       " 'Biden',\n",
       " 'Megan',\n",
       " 'Fox',\n",
       " 'VMAs',\n",
       " 'Pyeongchang2018',\n",
       " 'Phoebe',\n",
       " 'Bridgers',\n",
       " 'Fox',\n",
       " 'News',\n",
       " 'Harry',\n",
       " 'Styles',\n",
       " 'TheBuzz',\n",
       " 'Rep.',\n",
       " 'John',\n",
       " 'Lewis',\n",
       " 'Justice',\n",
       " 'Department',\n",
       " 'Justin',\n",
       " 'Bieber',\n",
       " 'MTV',\n",
       " 'Video',\n",
       " 'Music',\n",
       " 'Awards',\n",
       " 'Rams',\n",
       " 'CB',\n",
       " 'Jalen',\n",
       " 'Ramsey',\n",
       " 'Rams',\n",
       " 'Congress',\n",
       " 'Friday',\n",
       " 'Joe',\n",
       " 'Biden',\n",
       " 'House',\n",
       " 'House',\n",
       " 'Freedom',\n",
       " 'Caucus',\n",
       " 'Chairman',\n",
       " 'Has',\n",
       " 'Been',\n",
       " 'House',\n",
       " 'Ethics',\n",
       " 'Committee',\n",
       " 'Cuomo',\n",
       " 'GarthBrooks',\n",
       " 'Wednesday',\n",
       " 'COVID-19',\n",
       " 'Dustin',\n",
       " 'Johnson',\n",
       " 'Q',\n",
       " 'Enjoy',\n",
       " 'Life',\n",
       " 'All',\n",
       " 'Time',\n",
       " 'DJohnsonPGA',\n",
       " '@',\n",
       " 'DrinkBODYARMOR',\n",
       " 'Taliban',\n",
       " 'Trump',\n",
       " '”',\n",
       " 'Jake',\n",
       " 'Sullivan',\n",
       " 'NBA',\n",
       " 'LaVar',\n",
       " 'Lonzo',\n",
       " 'JessicaSimpson',\n",
       " '@',\n",
       " 'Browns',\n",
       " 'Johnny',\n",
       " 'Manziel',\n",
       " 'Unite',\n",
       " 'U.S.',\n",
       " 'U.N.',\n",
       " 'Vice',\n",
       " 'President',\n",
       " 'Harris',\n",
       " 'Anthony',\n",
       " 'Davis',\n",
       " '”',\n",
       " 'Davis',\n",
       " 'Washington',\n",
       " 'Post',\n",
       " 'New',\n",
       " 'York',\n",
       " 'Times',\n",
       " 'Trump',\n",
       " 'Supreme',\n",
       " 'Court',\n",
       " 'TeamUSA',\n",
       " 'Katie',\n",
       " 'Ledecky',\n",
       " 'China',\n",
       " 'Peng',\n",
       " 'Shuai',\n",
       " 'Alex',\n",
       " 'Bowman',\n",
       " 'NASCAR',\n",
       " 'Cup',\n",
       " 'AskAReporter',\n",
       " 'Wednesday',\n",
       " 'PST',\n",
       " 'BillPlaschke',\n",
       " '📚',\n",
       " 'Livestream',\n",
       " '👨\\u200d💻',\n",
       " '👩\\u200d💻',\n",
       " 'Donald',\n",
       " 'Trump',\n",
       " 'Belmondo',\n",
       " 'Pentagon',\n",
       " 'Thursday',\n",
       " 'Season',\n",
       " 'Ted',\n",
       " 'Sarandos',\n",
       " 'DaveChappelle',\n",
       " 'Closer',\n",
       " 'Marie',\n",
       " 'Kondo',\n",
       " 'Islamist',\n",
       " 'UK',\n",
       " 'GOP',\n",
       " 'Natti',\n",
       " 'Natasha',\n",
       " 'Life',\n",
       " 'Kamala',\n",
       " 'Harris',\n",
       " 'Amy',\n",
       " 'Klobuchar',\n",
       " 'Both',\n",
       " 'Former',\n",
       " 'Brett',\n",
       " 'Kavanaugh',\n",
       " 'Hearings',\n",
       " 'Diplomat',\n",
       " 'Got',\n",
       " 'Called',\n",
       " 'Racist',\n",
       " 'About',\n",
       " 'DC',\n",
       " 'Muslim',\n",
       " 'Internment',\n",
       " 'Camps',\n",
       " 'UCLA',\n",
       " 'Colorado',\n",
       " 'Pac-12',\n",
       " 'Super',\n",
       " 'Bowl',\n",
       " '@',\n",
       " 'kcifeanyi',\n",
       " 'Rex',\n",
       " 'Burkhead',\n",
       " 'Cassandra',\n",
       " 'Cain',\n",
       " 'BirdsOfPrey',\n",
       " 'Iran',\n",
       " 'Iraq',\n",
       " 'Trump',\n",
       " 'Purple',\n",
       " 'Heart',\n",
       " 'House',\n",
       " 'Just',\n",
       " 'Bill',\n",
       " 'Death',\n",
       " 'Toll',\n",
       " 'Disaster',\n",
       " 'Puerto',\n",
       " 'Rico',\n",
       " 'Pete',\n",
       " 'Buttigieg',\n",
       " 'First',\n",
       " 'Openly',\n",
       " 'Gay',\n",
       " 'Major',\n",
       " 'Party',\n",
       " 'Presidential',\n",
       " 'Candidate',\n",
       " 'Guy',\n",
       " 'Was',\n",
       " 'NBA',\n",
       " 'Rajon',\n",
       " 'Rondo',\n",
       " 'AStarIsBorn',\n",
       " 'May',\n",
       " 'Get',\n",
       " 'Pop',\n",
       " 'Music',\n",
       " 'Right',\n",
       " 'Matters',\n",
       " '@',\n",
       " 'Chaz',\n",
       " 'Elijah',\n",
       " 'Confederate',\n",
       " 'Sept.',\n",
       " 'Mexico',\n",
       " 'Supreme',\n",
       " 'Court',\n",
       " 'Catholic',\n",
       " 'foster',\n",
       " 'Philadelphia',\n",
       " 'Midterm',\n",
       " 'Fake',\n",
       " 'News',\n",
       " 'Apocalypse',\n",
       " 'Never',\n",
       " 'Came',\n",
       " 'Afghanistan',\n",
       " 'Marine',\n",
       " 'Gen.',\n",
       " 'Frank',\n",
       " 'McKenzie',\n",
       " 'U.S.',\n",
       " 'Central',\n",
       " 'Command',\n",
       " 'Florida',\n",
       " 'Jonas',\n",
       " 'Valanciunas',\n",
       " 'ICE',\n",
       " 'BuzzFeed',\n",
       " 'News',\n",
       " 'White',\n",
       " 'House',\n",
       " 'Supreme',\n",
       " 'Court',\n",
       " 'J.D',\n",
       " 'Vance',\n",
       " 'U.S.',\n",
       " 'Senate',\n",
       " 'Thursday',\n",
       " 'GOP',\n",
       " 'Ty',\n",
       " 'Lue',\n",
       " 'Marcus',\n",
       " 'Morris',\n",
       " 'Kamala',\n",
       " 'Harris',\n",
       " 'Is',\n",
       " 'Joe',\n",
       " 'Biden',\n",
       " 'Pick',\n",
       " 'Vice',\n",
       " 'President',\n",
       " 'Late',\n",
       " 'Matt',\n",
       " 'Amodio',\n",
       " 'Darrell',\n",
       " 'Henderson',\n",
       " 'Iimar',\n",
       " 'Thomas',\n",
       " 'Charisma',\n",
       " 'Osborne',\n",
       " 'No',\n",
       " 'St.',\n",
       " 'John',\n",
       " 'New',\n",
       " 'York',\n",
       " 'Albany',\n",
       " 'County',\n",
       " 'Sheriff',\n",
       " 'Office',\n",
       " 'Recall',\n",
       " 'Newsom',\n",
       " '—',\n",
       " 'Black',\n",
       " 'Agriculture',\n",
       " 'Sec',\n",
       " 'Tom',\n",
       " 'Vilsack',\n",
       " 'HuffPost',\n",
       " 'Life',\n",
       " 'Prime',\n",
       " 'Day',\n",
       " 'Dan',\n",
       " 'Patrick',\n",
       " 'Fox',\n",
       " 'News',\n",
       " 'Laura',\n",
       " 'Ingraham',\n",
       " 'Thursday',\n",
       " 'Marvel',\n",
       " 'Comics',\n",
       " 'RSherman_25',\n",
       " 'INTs',\n",
       " 'NFL',\n",
       " 'Seahawks',\n",
       " 'Oop',\n",
       " 'Victoria',\n",
       " 'Secret',\n",
       " 'Say',\n",
       " 'Angels',\n",
       " '@',\n",
       " 'Valentina',\n",
       " 'Sampaio',\n",
       " 'Biden',\n",
       " 'Dodgers',\n",
       " 'Game',\n",
       " 'NLDS',\n",
       " 'NLCS',\n",
       " 'Biden',\n",
       " 'Cast',\n",
       " 'Member',\n",
       " 'Office',\n",
       " 'Has',\n",
       " 'Their',\n",
       " 'Rumored',\n",
       " 'Reboot',\n",
       " '@',\n",
       " 'NBA',\n",
       " 'Lakers',\n",
       " '’',\n",
       " 'Mookie',\n",
       " 'Betts',\n",
       " 'Comcast',\n",
       " 'ViacomCBS',\n",
       " 'SkyShowtime',\n",
       " 'Full',\n",
       " 'SkylarAstin',\n",
       " 'ZoeysPlaylist',\n",
       " 'Perfect',\n",
       " '’',\n",
       " 'CNN',\n",
       " 'Jake',\n",
       " 'Tapper',\n",
       " 'Adjust',\n",
       " 'Joe',\n",
       " 'Biden',\n",
       " 'Way',\n",
       " 'Out',\n",
       " 'Darkness',\n",
       " '—',\n",
       " 'Coronavirus',\n",
       " 'Crisis',\n",
       " '—',\n",
       " 'Nomination',\n",
       " 'President',\n",
       " 'Biden',\n",
       " 'Cabinet',\n",
       " 'Texas',\n",
       " 'Roe',\n",
       " 'Wade',\n",
       " 'Justice',\n",
       " 'League',\n",
       " 'SnyderCut',\n",
       " 'Bail',\n",
       " 'A',\n",
       " 'Controversial',\n",
       " 'Judicial',\n",
       " 'Nominee',\n",
       " 'Senate',\n",
       " 'B',\n",
       " 'Dreamers',\n",
       " 'Author',\n",
       " 'Robbie',\n",
       " 'Couch',\n",
       " 'Michigan',\n",
       " 'New',\n",
       " 'Orleans',\n",
       " 'Jazz',\n",
       " 'Festival',\n",
       " 'Buick',\n",
       " 'Tom',\n",
       " 'Steyer',\n",
       " 'Thinks',\n",
       " 'Mike',\n",
       " 'Bloomberg',\n",
       " 'Should',\n",
       " 'Meet',\n",
       " 'Them',\n",
       " 'Eye',\n",
       " 'Association',\n",
       " 'Professional',\n",
       " 'Flight',\n",
       " 'California',\n",
       " 'USA',\n",
       " 'Today',\n",
       " 'U.S.',\n",
       " 'My',\n",
       " 'Star',\n",
       " 'Wars',\n",
       " 'Star',\n",
       " 'Wars',\n",
       " 'Star',\n",
       " 'Wars',\n",
       " 'Marshawn',\n",
       " 'Lynch',\n",
       " 'Carroll+Schneider',\n",
       " 'Aaron',\n",
       " 'Rodgers',\n",
       " 'Tucker',\n",
       " 'Carlson',\n",
       " 'Friedman',\n",
       " 'Dodgers',\n",
       " 'Bauer',\n",
       " '’',\n",
       " 'Lorenzen',\n",
       " 'Fullerton',\n",
       " 'HS',\n",
       " 'Cal',\n",
       " 'State',\n",
       " 'Fullerton',\n",
       " 'RHP',\n",
       " 'MLB',\n",
       " 'Washington',\n",
       " 'Monday',\n",
       " 'Couy',\n",
       " 'Griffin',\n",
       " 'Motion',\n",
       " 'Picture',\n",
       " 'Drama',\n",
       " 'Rami',\n",
       " 'Malek',\n",
       " 'BohemianRhapsody',\n",
       " 'Will',\n",
       " 'Bryan',\n",
       " 'Singer',\n",
       " 'Book',\n",
       " \"'The\",\n",
       " 'Boys',\n",
       " 'Robert',\n",
       " 'Lee',\n",
       " 'Supreme',\n",
       " 'Court',\n",
       " 'Dr.',\n",
       " 'Anthony',\n",
       " 'Fauci',\n",
       " 'California',\n",
       " 'San',\n",
       " 'Francisco',\n",
       " 'Departments',\n",
       " 'Public',\n",
       " 'Health',\n",
       " 'CDC',\n",
       " 'COVID-19',\n",
       " 'California',\n",
       " 'Walton',\n",
       " 'Buffalo',\n",
       " 'New',\n",
       " 'York',\n",
       " 'Mayor',\n",
       " 'Byron',\n",
       " 'Brown',\n",
       " 'Brown',\n",
       " 'Supreme',\n",
       " 'Court',\n",
       " 'Will',\n",
       " 'Again',\n",
       " 'Consider',\n",
       " 'Redistricting',\n",
       " 'Decisions',\n",
       " 'Partisan',\n",
       " 'Police',\n",
       " 'Trump',\n",
       " 'Secretary',\n",
       " 'Mike',\n",
       " 'Pompeo',\n",
       " 'Press',\n",
       " 'Secretary',\n",
       " 'Jen',\n",
       " 'Psaki',\n",
       " 'White',\n",
       " 'House',\n",
       " 'CEO',\n",
       " 'Match',\n",
       " 'Arizona',\n",
       " 'Biden',\n",
       " 'Trump',\n",
       " 'Biden',\n",
       " 'Pope',\n",
       " 'Francis',\n",
       " 'Biden',\n",
       " '’',\n",
       " 'Cowboys',\n",
       " 'QB',\n",
       " 'Dak',\n",
       " 'Prescott',\n",
       " 'Vikings',\n",
       " 'Cowboys',\n",
       " 'Trump',\n",
       " 'Biden',\n",
       " 'Nebraska',\n",
       " 'October',\n",
       " 'Kentucky',\n",
       " 'National',\n",
       " 'Guard',\n",
       " 'Matt',\n",
       " 'LeBlanc',\n",
       " 'Reunion',\n",
       " 'Evidence',\n",
       " 'Official',\n",
       " 'Probe',\n",
       " 'Has',\n",
       " 'Trump',\n",
       " '’',\n",
       " 'Claim',\n",
       " 'FBI',\n",
       " 'Spy',\n",
       " 'Britney',\n",
       " 'Spears',\n",
       " 'Biden',\n",
       " 'COVID-19',\n",
       " 'FDR',\n",
       " 'Senate',\n",
       " 'Billionaire',\n",
       " 'David',\n",
       " 'Koch',\n",
       " 'Who',\n",
       " 'Shaped',\n",
       " 'Modern',\n",
       " 'Conservative',\n",
       " 'Politics',\n",
       " 'Has',\n",
       " 'Pentagon',\n",
       " 'Senate',\n",
       " 'Armed',\n",
       " 'Committee',\n",
       " 'Afghanistan',\n",
       " 'Senate',\n",
       " 'President',\n",
       " 'Joe',\n",
       " 'Biden',\n",
       " 'Dan',\n",
       " 'Gilbert',\n",
       " 'David',\n",
       " 'Blatt',\n",
       " 'Cleveland',\n",
       " 'Northeast',\n",
       " 'Ohio',\n",
       " 'Cleveland',\n",
       " 'Cavalier',\n",
       " 'FBI',\n",
       " 'Pvt',\n",
       " 'Felix',\n",
       " 'Hall',\n",
       " '’',\n",
       " 'WFH',\n",
       " 'Will',\n",
       " 'Smith',\n",
       " 'Richard',\n",
       " 'Venus',\n",
       " 'Serena',\n",
       " 'Williams',\n",
       " 'Deshaun',\n",
       " 'Watson',\n",
       " 'Houston',\n",
       " 'NFL',\n",
       " 'Latest',\n",
       " '@',\n",
       " 'USATODAY',\n",
       " 'LGBT',\n",
       " 'AM2DM',\n",
       " 'Colin',\n",
       " 'Kaepernick',\n",
       " '+',\n",
       " 'Seahawks',\n",
       " 'NOT',\n",
       " 'Temple',\n",
       " 'Colin',\n",
       " 'Kaepernick',\n",
       " 'INTs',\n",
       " 'Belarusians',\n",
       " 'Lonnie',\n",
       " 'Coffman',\n",
       " 'COVID',\n",
       " 'Please',\n",
       " 'DM',\n",
       " '@',\n",
       " 'Trump',\n",
       " 'Senate',\n",
       " \"'stupid\",\n",
       " 'Florida',\n",
       " 'House',\n",
       " 'Brian',\n",
       " 'Kelly',\n",
       " 'Notre',\n",
       " 'Dame',\n",
       " 'LSU',\n",
       " 'Bridesmaids',\n",
       " 'Pulp',\n",
       " 'Fiction',\n",
       " 'Black',\n",
       " 'College',\n",
       " 'Football',\n",
       " 'Playoff',\n",
       " 'DanWolken',\n",
       " 'Trump',\n",
       " 'Quizzes',\n",
       " 'Marvel',\n",
       " 'Right',\n",
       " 'Biden',\n",
       " 'House',\n",
       " 'Serena',\n",
       " 'Venus',\n",
       " 'Williams',\n",
       " '@',\n",
       " 'NBA',\n",
       " 'Tuesday',\n",
       " 'October',\n",
       " 'Former',\n",
       " 'Trump',\n",
       " 'Campaign',\n",
       " 'Aide',\n",
       " 'Campaign',\n",
       " 'Was',\n",
       " 'Release',\n",
       " 'Hacked',\n",
       " 'DNC',\n",
       " 'Emails',\n",
       " 'Viral',\n",
       " 'Conspiracy',\n",
       " 'Claiming',\n",
       " 'Trump',\n",
       " 'A',\n",
       " 'Hidden',\n",
       " 'Oxygen',\n",
       " 'Tank',\n",
       " 'Way',\n",
       " 'Chefjernard',\n",
       " 'Thanksgiving2021',\n",
       " 'MLB',\n",
       " 'Atlanta',\n",
       " '@',\n",
       " 'GabeLacques',\n",
       " 'City',\n",
       " 'Council',\n",
       " 'Jefferson',\n",
       " 'Amy',\n",
       " 'Schumer',\n",
       " 'Steve',\n",
       " 'Kornacki',\n",
       " 'Was',\n",
       " 'Us',\n",
       " 'Broken',\n",
       " 'Tie',\n",
       " 'Together',\n",
       " 'Election',\n",
       " 'Week',\n",
       " 'Choice',\n",
       " 'Stan',\n",
       " 'U.S.',\n",
       " 'COVID-19',\n",
       " 'Mike',\n",
       " 'Tyson',\n",
       " 'Saturday',\n",
       " 'Beverly',\n",
       " 'Hills',\n",
       " 'USA',\n",
       " 'Gymnastics',\n",
       " 'Larry',\n",
       " 'Nassar',\n",
       " 'Jason',\n",
       " 'Momoa',\n",
       " '@',\n",
       " 'Las',\n",
       " 'Vegas',\n",
       " '@',\n",
       " 'PHVegas',\n",
       " '@',\n",
       " '@',\n",
       " 'BSB',\n",
       " 'Rolling',\n",
       " 'Stones',\n",
       " 'Ben',\n",
       " 'Carson',\n",
       " 'Has',\n",
       " 'Coronavirus',\n",
       " 'Election',\n",
       " 'Night',\n",
       " 'Party',\n",
       " 'White',\n",
       " 'House',\n",
       " 'HOF',\n",
       " 'Kate',\n",
       " 'Hudson',\n",
       " 'VeniceFilmFestival',\n",
       " 'Terry',\n",
       " 'McAuliffe-Glenn',\n",
       " 'Youngkin',\n",
       " 'Mike',\n",
       " 'Pence',\n",
       " 'Ron',\n",
       " 'DeSantis',\n",
       " 'Donald',\n",
       " 'Trump',\n",
       " 'Loud',\n",
       " 'House',\n",
       " 'Movie',\n",
       " 'Nickelodeon',\n",
       " 'Hey',\n",
       " 'Upper',\n",
       " 'East',\n",
       " ...]"
      ]
     },
     "execution_count": 46,
     "metadata": {},
     "output_type": "execute_result"
    }
   ],
   "source": [
    "AutomatedCA_sample['text'].apply(pos_tagging)\n",
    "tag_list[50:]"
   ]
  },
  {
   "cell_type": "code",
   "execution_count": 47,
   "metadata": {},
   "outputs": [
    {
     "data": {
      "text/plain": [
       "['HOMER',\n",
       " 'REPEAT',\n",
       " 'GWR',\n",
       " 'N.Y.',\n",
       " 'WORLD',\n",
       " 'GQ',\n",
       " 'VAL',\n",
       " 'OG',\n",
       " 'AS',\n",
       " 'TRICK',\n",
       " 'JANUARY',\n",
       " 'NO',\n",
       " 'UPS',\n",
       " 'TD-INT',\n",
       " 'LOL',\n",
       " 'OVERLOAD',\n",
       " 'RBI',\n",
       " 'SAVAGEEEEEEEEE',\n",
       " 'RTDNEWS',\n",
       " 'SUCCEED',\n",
       " 'PICK-SIX',\n",
       " 'WINSLOW',\n",
       " 'T.K',\n",
       " 'NAJ_TV',\n",
       " 'MCFC',\n",
       " 'NOW',\n",
       " 'NASA',\n",
       " 'D.C',\n",
       " 'AOC',\n",
       " 'CAA',\n",
       " 'TSLA',\n",
       " 'KD',\n",
       " 'C-17',\n",
       " 'J.',\n",
       " 'J.D',\n",
       " 'COP26',\n",
       " 'USAID',\n",
       " 'SATC',\n",
       " 'UNLV',\n",
       " 'AGAIN',\n",
       " 'FERNANDOGARIBAY',\n",
       " 'RG3',\n",
       " 'II',\n",
       " 'CARD',\n",
       " 'AP',\n",
       " 'CSKA',\n",
       " 'CONTENT',\n",
       " 'CGI',\n",
       " 'S.E',\n",
       " 'FUCCBOI',\n",
       " 'ADORABLE',\n",
       " 'AFI',\n",
       " 'TERRY',\n",
       " 'IT',\n",
       " 'MAXI',\n",
       " 'KRISTAPS',\n",
       " 'MEANWHILE',\n",
       " 'S6',\n",
       " 'FRISCO',\n",
       " 'SEX',\n",
       " 'NICKIMINAJ',\n",
       " 'FINAL',\n",
       " 'G-7',\n",
       " 'P-R',\n",
       " 'BRONCOS',\n",
       " 'H1-B',\n",
       " 'JAM',\n",
       " 'KING',\n",
       " 'OBJ',\n",
       " 'DHS',\n",
       " 'UCLA',\n",
       " 'LP',\n",
       " 'LOT',\n",
       " 'NEVER',\n",
       " 'ALERT🚨',\n",
       " 'PARIS',\n",
       " 'CHASE',\n",
       " 'HE',\n",
       " 'MAJOR',\n",
       " 'DOE',\n",
       " 'BNHR',\n",
       " 'DAYS',\n",
       " 'GILDED',\n",
       " 'NBC',\n",
       " 'SXSW',\n",
       " 'GW',\n",
       " 'NBD',\n",
       " 'PCR',\n",
       " 'RB',\n",
       " 'JAYS',\n",
       " 'GOT7',\n",
       " 'HA',\n",
       " 'PFAS',\n",
       " 'KANSAS',\n",
       " 'FOR',\n",
       " 'LET',\n",
       " 'OLY',\n",
       " 'COUNTED',\n",
       " 'ISIS-K',\n",
       " 'LMA',\n",
       " 'OPS',\n",
       " 'ANWR',\n",
       " 'KELLYROWLAND',\n",
       " 'FSU',\n",
       " 'WRECKED',\n",
       " 'SINGLE',\n",
       " 'FIVE',\n",
       " 'U.N.',\n",
       " 'CRY',\n",
       " 'ENG',\n",
       " 'HSBC',\n",
       " 'RHUGT',\n",
       " 'GLOBAL',\n",
       " 'L.A',\n",
       " 'DIY',\n",
       " 'ACL',\n",
       " 'APAHM',\n",
       " 'OCD',\n",
       " 'TJ',\n",
       " 'SG',\n",
       " 'SIGAR',\n",
       " 'B1G',\n",
       " 'GUYS',\n",
       " 'GAME',\n",
       " 'AMLO',\n",
       " \"BTS'\",\n",
       " 'ENTERTAINED',\n",
       " 'WATCH',\n",
       " 'JOEY',\n",
       " 'LA',\n",
       " 'CHAMPIOOOOONNSSSSSSS',\n",
       " 'HGTV',\n",
       " 'ASAP',\n",
       " 'OK',\n",
       " 'HB2',\n",
       " 'LIZZO',\n",
       " 'SMILED',\n",
       " 'SCHEDULE',\n",
       " 'EMILY',\n",
       " 'HEAR',\n",
       " 'XM',\n",
       " 'UNTIL',\n",
       " 'DACA',\n",
       " 'MCM',\n",
       " '.S',\n",
       " 'MAC',\n",
       " 'WWE',\n",
       " 'HARRIET',\n",
       " 'BC',\n",
       " 'BBC',\n",
       " 'TE',\n",
       " 'TV',\n",
       " 'HONOR',\n",
       " 'WELL',\n",
       " 'PSV',\n",
       " 'NFL',\n",
       " 'SS',\n",
       " 'ASIB',\n",
       " 'CAR',\n",
       " 'ZURICH',\n",
       " 'CHP',\n",
       " 'GAME👏🏽',\n",
       " 'THEIR',\n",
       " 'THAT',\n",
       " 'ICE',\n",
       " 'LALALALA',\n",
       " 'DEBUT',\n",
       " 'A.J',\n",
       " 'ESPNU',\n",
       " 'THOUGHTS',\n",
       " 'PAC',\n",
       " 'E10',\n",
       " 'U.S.A',\n",
       " 'PAT',\n",
       " 'S2E1',\n",
       " 'VA',\n",
       " 'WHO',\n",
       " 'COVID-19',\n",
       " 'KTVU',\n",
       " 'F1',\n",
       " 'JODO',\n",
       " 'JPP',\n",
       " 'MAD',\n",
       " 'THIRD🚨',\n",
       " 'NHL',\n",
       " 'MGR',\n",
       " 'THIS',\n",
       " 'SHE',\n",
       " 'SF',\n",
       " 'R-AR',\n",
       " 'QUIZ',\n",
       " 'KNICKSTAPE',\n",
       " 'TQL',\n",
       " 'COLD',\n",
       " 'CERO',\n",
       " 'EVERYWHERE',\n",
       " 'KNIGHT',\n",
       " 'FDA',\n",
       " 'OVERTIME',\n",
       " 'A.L',\n",
       " 'TCA18',\n",
       " 'REPORT',\n",
       " 'THIS—',\n",
       " 'JJ',\n",
       " 'TDS',\n",
       " 'AG',\n",
       " 'PSA',\n",
       " 'N.C.',\n",
       " 'BOSH',\n",
       " 'L.',\n",
       " 'ALIVE',\n",
       " 'DRILL🚨',\n",
       " 'CARES',\n",
       " 'SB',\n",
       " 'ANOTHA',\n",
       " 'RF',\n",
       " 'MVP',\n",
       " 'LGBTQ+',\n",
       " 'KCAL-9',\n",
       " 'GUARANTEED',\n",
       " 'KJ',\n",
       " 'AFC',\n",
       " 'WICK',\n",
       " 'IV',\n",
       " 'WGA',\n",
       " 'WIDE',\n",
       " 'DAB',\n",
       " 'UFC',\n",
       " 'SPAC',\n",
       " 'UCL',\n",
       " 'NEED',\n",
       " 'RBG',\n",
       " 'DWTS',\n",
       " 'HT',\n",
       " 'ER',\n",
       " 'MLK',\n",
       " 'RIVERS',\n",
       " 'EURO',\n",
       " 'AJR',\n",
       " 'WAKANDA',\n",
       " 'SMH',\n",
       " 'QUEEN',\n",
       " 'KCAL',\n",
       " 'DO',\n",
       " 'AMC',\n",
       " 'DAVID',\n",
       " 'WWII',\n",
       " 'ALLBLK',\n",
       " 'GPS',\n",
       " 'FCB',\n",
       " 'MPP',\n",
       " 'IN',\n",
       " 'WERE',\n",
       " 'RG',\n",
       " 'AA',\n",
       " 'ROCKETMAN',\n",
       " 'BE',\n",
       " 'FY19',\n",
       " 'SEA',\n",
       " 'P.K',\n",
       " 'DISGRACED',\n",
       " 'BDSM',\n",
       " 'THREAD',\n",
       " 'METS',\n",
       " 'IMDB',\n",
       " 'ET',\n",
       " 'OUTFITS',\n",
       " 'OTHER',\n",
       " 'FIFTH',\n",
       " 'NHS',\n",
       " 'OT',\n",
       " 'EM',\n",
       " 'JONAS',\n",
       " 'RHOA',\n",
       " 'D.',\n",
       " 'BATE',\n",
       " 'NCIS',\n",
       " 'ICYMI',\n",
       " 'CTE',\n",
       " 'EXCEPT',\n",
       " 'MJ',\n",
       " 'LEAVING',\n",
       " 'PA.',\n",
       " 'F.',\n",
       " 'JOB',\n",
       " 'ESPN2',\n",
       " 'DNC',\n",
       " 'ACTION',\n",
       " 'BOGO',\n",
       " 'A1',\n",
       " 'UTLEY',\n",
       " 'CDMX',\n",
       " 'LAUSD',\n",
       " 'GAY',\n",
       " 'FDR',\n",
       " 'TEA',\n",
       " 'OVER',\n",
       " 'GUESS',\n",
       " 'K.',\n",
       " 'SVP',\n",
       " 'NYFW',\n",
       " 'SCORES',\n",
       " 'ESPYS',\n",
       " 'CAROLINA',\n",
       " 'FR',\n",
       " 'SJP',\n",
       " 'SIV',\n",
       " 'LT',\n",
       " 'MLB',\n",
       " 'INIESTA',\n",
       " 'DNA',\n",
       " 'FAN',\n",
       " 'CVS',\n",
       " 'GEICO',\n",
       " 'BCS',\n",
       " 'LAST',\n",
       " 'SATAN',\n",
       " 'DAY',\n",
       " 'WAP',\n",
       " 'ONLY',\n",
       " 'MCU',\n",
       " 'WICKED',\n",
       " 'JOHN',\n",
       " 'EMMYS',\n",
       " '800-273-TALK',\n",
       " 'AVATAR',\n",
       " 'HOF',\n",
       " 'SQUEAKER',\n",
       " 'OITNB',\n",
       " 'C.',\n",
       " 'FINDING',\n",
       " 'P.S',\n",
       " 'LEE',\n",
       " 'WS',\n",
       " 'USATODAYDC',\n",
       " 'ALDS',\n",
       " 'DEA',\n",
       " 'TFW',\n",
       " 'R-N.Y.',\n",
       " 'JOCTOBER',\n",
       " 'SNF',\n",
       " 'VR',\n",
       " 'SO',\n",
       " 'PALACE',\n",
       " 'AFP',\n",
       " 'BASKETBALL',\n",
       " 'MSU',\n",
       " 'MARVELOUSMRSMAISEL',\n",
       " 'USS',\n",
       " 'SNOOPY',\n",
       " 'LHP',\n",
       " 'YOUR',\n",
       " 'IMG',\n",
       " 'SITUATION',\n",
       " 'ODNI',\n",
       " 'NY',\n",
       " 'RHP',\n",
       " 'J.J.',\n",
       " 'WHOA',\n",
       " 'WORST',\n",
       " 'PAULI',\n",
       " 'DISNEY',\n",
       " 'ONE',\n",
       " 'LSU',\n",
       " 'IG',\n",
       " 'FOX',\n",
       " 'HS',\n",
       " 'SUPER',\n",
       " 'THREE',\n",
       " 'D.C.',\n",
       " 'NC',\n",
       " 'WORK',\n",
       " 'UNBELIEVABLE',\n",
       " 'LGBT',\n",
       " 'LALALAND',\n",
       " 'P.M.',\n",
       " 'JANEIRO',\n",
       " 'CMA',\n",
       " 'CFP',\n",
       " 'CLIPPERS',\n",
       " 'LED',\n",
       " 'RE2SPECT',\n",
       " 'EU',\n",
       " 'OKC',\n",
       " 'COLLEGE',\n",
       " 'BS',\n",
       " 'BITCH',\n",
       " 'CO/NJ',\n",
       " 'GSA',\n",
       " 'UPFRONTS',\n",
       " 'ARSENAL',\n",
       " 'BACK',\n",
       " 'D-R.I.',\n",
       " 'RN',\n",
       " 'CDC',\n",
       " 'NBATV',\n",
       " 'AAPI',\n",
       " 'AD',\n",
       " 'DP',\n",
       " 'CJ',\n",
       " 'U.K.',\n",
       " 'HBOPR',\n",
       " 'CRT',\n",
       " 'MS.',\n",
       " 'VALANCIUNAS',\n",
       " 'SDCC',\n",
       " 'CONTENDERS',\n",
       " 'DUI',\n",
       " 'SJD_51',\n",
       " 'ID',\n",
       " \"'WAP\",\n",
       " 'NBA75',\n",
       " 'GM',\n",
       " 'USMNT',\n",
       " 'TBT',\n",
       " 'TALE',\n",
       " 'HALLOWEEN',\n",
       " 'OSU',\n",
       " 'SPOILER',\n",
       " 'GALA',\n",
       " 'WATTBA',\n",
       " 'CBC',\n",
       " 'NL',\n",
       " 'REVENGE',\n",
       " 'YES',\n",
       " 'EVER',\n",
       " 'BROWNS',\n",
       " 'CAN',\n",
       " 'NHLPA',\n",
       " 'G.O.A.T',\n",
       " 'HTGAWM',\n",
       " 'PTI',\n",
       " 'PBS',\n",
       " 'EST',\n",
       " 'CONCACAF',\n",
       " 'LITERALLY',\n",
       " 'TURNER',\n",
       " 'MLM',\n",
       " 'ABBA',\n",
       " 'SWEEP',\n",
       " 'KP',\n",
       " 'LOS',\n",
       " 'YOU',\n",
       " 'D-N.Y.',\n",
       " 'EVERYTHING',\n",
       " 'XCX',\n",
       " 'GRONK',\n",
       " 'GOAL',\n",
       " 'KOTOR',\n",
       " 'BEEN',\n",
       " 'LAPD',\n",
       " 'ZERO',\n",
       " 'BASEBALL',\n",
       " 'OSHA',\n",
       " 'MRI',\n",
       " 'USWNT',\n",
       " 'TOTALLY',\n",
       " 'UP',\n",
       " 'MORALES',\n",
       " 'PHILIP',\n",
       " 'SUNDAY🏈🎉🙏🏽',\n",
       " 'NEWS',\n",
       " 'DID',\n",
       " 'EDGE',\n",
       " 'BARTOLO',\n",
       " 'ASTROS',\n",
       " 'USPS',\n",
       " 'UNC',\n",
       " 'EO',\n",
       " 'ROSARIO',\n",
       " 'AWKWARD',\n",
       " 'FAN590',\n",
       " 'DTR',\n",
       " 'BTSARMY',\n",
       " \"'PEPAS\",\n",
       " 'RCF',\n",
       " 'NEC',\n",
       " 'NINTH',\n",
       " 'RSL',\n",
       " 'BOOM',\n",
       " 'WOAH',\n",
       " 'ISS',\n",
       " 'COVD-19',\n",
       " 'TIE',\n",
       " 'TRASH',\n",
       " 'SMG',\n",
       " 'OLE',\n",
       " 'JAQUEZ',\n",
       " 'COUNTRY',\n",
       " 'RIDER',\n",
       " 'WOMEN',\n",
       " 'FTC',\n",
       " 'TITANIC',\n",
       " 'WSJ',\n",
       " 'BOOKSMART',\n",
       " '…I',\n",
       " 'FUELS',\n",
       " 'CA',\n",
       " 'TPS',\n",
       " 'J6',\n",
       " 'TCA19',\n",
       " 'MY',\n",
       " 'CA2016',\n",
       " 'ABC',\n",
       " 'EPA',\n",
       " 'EXCLUSIVE',\n",
       " 'BD_WONG',\n",
       " 'HEADED',\n",
       " 'JUST',\n",
       " 'LOVE',\n",
       " 'QB1',\n",
       " 'USDA',\n",
       " 'FBS',\n",
       " 'WFT',\n",
       " 'CBO',\n",
       " 'SALT',\n",
       " 'BILLION',\n",
       " 'STILLWATER',\n",
       " 'CHAMPPPPIOOOONSSSS',\n",
       " 'STORY',\n",
       " 'OAR',\n",
       " 'XI',\n",
       " 'MAKE',\n",
       " 'DET',\n",
       " 'WNBA',\n",
       " 'MMA',\n",
       " 'JUSTISE',\n",
       " 'NUTS',\n",
       " 'BOWL',\n",
       " 'SERIES',\n",
       " 'BOX',\n",
       " 'DOWN',\n",
       " 'ESPNNBA',\n",
       " 'MISS',\n",
       " 'SMU',\n",
       " 'ICYMI….\\u2066',\n",
       " 'FC',\n",
       " 'PT',\n",
       " 'E-40',\n",
       " 'GOP',\n",
       " 'AN',\n",
       " 'WAY',\n",
       " 'PRIDE',\n",
       " 'HAT',\n",
       " 'JVG',\n",
       " 'USAG',\n",
       " 'ANGELES',\n",
       " 'PGA',\n",
       " 'GIROUD',\n",
       " 'M.D',\n",
       " 'ADAMS',\n",
       " 'U.S.',\n",
       " 'CUBS',\n",
       " 'KU',\n",
       " 'SOUR',\n",
       " 'JERKS',\n",
       " 'PASS',\n",
       " 'PEEOTUS',\n",
       " 'III',\n",
       " 'IRA',\n",
       " 'Z/',\n",
       " 'UN',\n",
       " 'W.',\n",
       " 'FANS',\n",
       " 'OC',\n",
       " 'WTF',\n",
       " 'EEOC',\n",
       " 'WILL',\n",
       " 'YORK',\n",
       " 'EVAN',\n",
       " 'B.S',\n",
       " 'DFA',\n",
       " 'DC',\n",
       " 'FIRST',\n",
       " 'AEG',\n",
       " 'LVI',\n",
       " 'HELEN',\n",
       " 'QO',\n",
       " 'MAGA',\n",
       " 'JLO',\n",
       " 'IMAGES',\n",
       " 'FX',\n",
       " 'BSB',\n",
       " 'J.K.',\n",
       " 'D.A',\n",
       " 'G-20',\n",
       " 'NASCAR',\n",
       " 'NLDS',\n",
       " 'PAW',\n",
       " 'NCAADIII',\n",
       " 'OLB',\n",
       " 'START',\n",
       " 'ASU',\n",
       " 'RUSS',\n",
       " 'REALLY',\n",
       " 'RS',\n",
       " 'TCU',\n",
       " 'HDR',\n",
       " 'NYC',\n",
       " 'TB12',\n",
       " 'NHK',\n",
       " 'NJ',\n",
       " 'PANTHERS',\n",
       " 'N.J.',\n",
       " 'WATCHING',\n",
       " 'NBA/NBPA',\n",
       " 'PLEASE',\n",
       " 'MURRAY',\n",
       " 'A+',\n",
       " 'A+++',\n",
       " 'NSA',\n",
       " 'FA',\n",
       " 'KIDDING',\n",
       " 'KICK',\n",
       " 'KNIGHTS',\n",
       " 'LAT',\n",
       " 'GOAT',\n",
       " 'MBC',\n",
       " 'FUCKING',\n",
       " 'ADELE',\n",
       " 'ATM',\n",
       " 'NEWTON',\n",
       " 'USCWBB',\n",
       " 'SMOOTH',\n",
       " 'HAVE',\n",
       " 'RULES',\n",
       " 'AR-15',\n",
       " 'FEMA',\n",
       " 'P.',\n",
       " 'HC',\n",
       " 'DJ',\n",
       " 'NIL',\n",
       " 'NBA2K',\n",
       " 'CRAP',\n",
       " 'DNC2020',\n",
       " 'KAT',\n",
       " 'UFC193',\n",
       " 'NFL\\u2069',\n",
       " 'STAT',\n",
       " 'FOIA',\n",
       " 'OAN',\n",
       " 'YPC',\n",
       " 'SPOILERS',\n",
       " 'GOING',\n",
       " 'BATFLIPS',\n",
       " 'COVID19',\n",
       " 'ICU',\n",
       " 'REPUBLIC',\n",
       " 'PJ',\n",
       " 'AGREEMENT',\n",
       " 'NLCS',\n",
       " 'NEW',\n",
       " 'LIFE',\n",
       " 'KSHB41',\n",
       " 'QB',\n",
       " 'KKK',\n",
       " 'POC',\n",
       " 'KUSA',\n",
       " 'JV',\n",
       " 'UTLA',\n",
       " 'HERE',\n",
       " 'NXIVM',\n",
       " 'ACLU',\n",
       " 'DOCUMENTS',\n",
       " 'QUITE',\n",
       " 'R13JM',\n",
       " 'SPEAK',\n",
       " 'V.',\n",
       " 'UPDATE',\n",
       " 'CEO',\n",
       " '*NSYNC',\n",
       " 'D.A.',\n",
       " 'EP',\n",
       " 'ALERT',\n",
       " 'HULK',\n",
       " 'USGP',\n",
       " 'E8',\n",
       " 'IATSE',\n",
       " 'HIV',\n",
       " 'FIU',\n",
       " 'FTA',\n",
       " 'EDD',\n",
       " 'SANDRA',\n",
       " 'CBA',\n",
       " 'CUBA',\n",
       " 'COVID',\n",
       " 'KUWTK',\n",
       " 'NRG',\n",
       " 'ANALYSIS',\n",
       " \"N'T\",\n",
       " 'JFK',\n",
       " 'LAC',\n",
       " 'OWNTV',\n",
       " 'ACA',\n",
       " 'ENERGY',\n",
       " 'RUDY',\n",
       " 'USABMNT',\n",
       " 'LIVE',\n",
       " 'AHEAD',\n",
       " 'E9',\n",
       " 'K-12',\n",
       " 'USATODAY\\u2069',\n",
       " 'CBP',\n",
       " 'OFF',\n",
       " 'MONTERO',\n",
       " 'D-MN',\n",
       " 'DION',\n",
       " 'MARVEL',\n",
       " 'VIDEO',\n",
       " 'NSW',\n",
       " 'TNT',\n",
       " 'CFB',\n",
       " 'SVU',\n",
       " 'NIGHT',\n",
       " 'FIFA',\n",
       " 'YEAR',\n",
       " 'C.K',\n",
       " 'ENCOURAGES',\n",
       " 'AGT',\n",
       " 'USUAL',\n",
       " 'THIRD',\n",
       " 'JMU',\n",
       " 'ARE',\n",
       " 'L.O.L',\n",
       " 'AIDS',\n",
       " 'LBGTQ',\n",
       " 'WHAT',\n",
       " 'O.J',\n",
       " 'CNN',\n",
       " 'KG',\n",
       " 'L.A.',\n",
       " 'IRL',\n",
       " 'MOTHER',\n",
       " 'PM',\n",
       " 'EPL',\n",
       " 'THR',\n",
       " 'TAKE',\n",
       " 'OUR',\n",
       " 'ALADDIN',\n",
       " 'DWI',\n",
       " 'CNBC',\n",
       " 'ARTPOP',\n",
       " 'TODAY',\n",
       " 'OPEN',\n",
       " 'KCBS',\n",
       " 'BH90210',\n",
       " 'FEC',\n",
       " 'AND',\n",
       " 'NYU',\n",
       " 'S.O.Z',\n",
       " 'UAE',\n",
       " 'MCC',\n",
       " 'DUNK',\n",
       " 'VP',\n",
       " 'CATCH',\n",
       " 'HBCU',\n",
       " 'KILLINGEVE',\n",
       " 'PICTURES',\n",
       " 'G.',\n",
       " 'FYI',\n",
       " 'NOT',\n",
       " 'U.N',\n",
       " 'CAM',\n",
       " 'COUNTY',\n",
       " 'TV+',\n",
       " 'OH',\n",
       " 'CF',\n",
       " 'AF',\n",
       " 'LDR',\n",
       " 'EVAC',\n",
       " 'DSCC',\n",
       " 'OWN',\n",
       " 'BFF',\n",
       " 'EURO2016',\n",
       " 'YOUNGER',\n",
       " 'MAGIC',\n",
       " 'CALL',\n",
       " 'PR',\n",
       " 'S5',\n",
       " 'AMA',\n",
       " 'UFA',\n",
       " 'GAO',\n",
       " 'SHAQ',\n",
       " 'JR.',\n",
       " 'IRS',\n",
       " 'FLOTUS',\n",
       " 'BF',\n",
       " 'HRC',\n",
       " 'ABOUT',\n",
       " 'RIO',\n",
       " 'WEEK',\n",
       " 'CPR',\n",
       " 'DIFFERENT',\n",
       " 'HELL',\n",
       " 'INT',\n",
       " 'WEDDING',\n",
       " 'ANYONE',\n",
       " 'BTNHBONETHUGS',\n",
       " 'SILLY',\n",
       " 'BAMA',\n",
       " 'ETERNITY',\n",
       " 'HAPPENING',\n",
       " 'LI',\n",
       " 'PROPHECY',\n",
       " 'HBO',\n",
       " 'NERDY',\n",
       " 'THESE',\n",
       " 'CHRIS',\n",
       " 'PASSES',\n",
       " 'MIRACLE',\n",
       " 'KO',\n",
       " 'CLEVELAND',\n",
       " 'CFC',\n",
       " 'MIRREN',\n",
       " 'USA',\n",
       " 'WAIT',\n",
       " 'PG13',\n",
       " 'NRA',\n",
       " 'BAT',\n",
       " 'RNC',\n",
       " 'RISE',\n",
       " 'TELLURIDE',\n",
       " 'CC',\n",
       " 'TO',\n",
       " 'OMARS',\n",
       " 'DOS',\n",
       " 'DOJ',\n",
       " 'NOW🚨',\n",
       " 'SWEET',\n",
       " 'ICMYI',\n",
       " 'WR',\n",
       " 'PEYTON',\n",
       " 'N.',\n",
       " 'MONEY',\n",
       " 'THING',\n",
       " 'BLUE',\n",
       " 'FATHER',\n",
       " 'BLM',\n",
       " 'BRB',\n",
       " 'THEREALSWIZZZ',\n",
       " 'ALL',\n",
       " 'H.',\n",
       " 'ANOTHER',\n",
       " 'ANY',\n",
       " 'ELSE',\n",
       " 'EXCUSE',\n",
       " 'ACC',\n",
       " 'TNF',\n",
       " 'AFT',\n",
       " 'AAA',\n",
       " 'MATTERS',\n",
       " 'NBA',\n",
       " 'POTUS',\n",
       " 'PSG',\n",
       " 'DA',\n",
       " 'MOON',\n",
       " 'HUD',\n",
       " 'DM',\n",
       " 'T.C',\n",
       " 'WCQ',\n",
       " 'PST',\n",
       " 'NOTICE🚨',\n",
       " 'BET',\n",
       " 'AUKUS',\n",
       " 'WIN',\n",
       " 'STAR',\n",
       " 'AM2DM',\n",
       " 'WWF',\n",
       " 'DESERVED',\n",
       " 'SM',\n",
       " 'RT',\n",
       " 'TMZ',\n",
       " 'S.F',\n",
       " 'TD',\n",
       " 'PA',\n",
       " 'REVIEWS',\n",
       " 'H.B',\n",
       " 'ODB',\n",
       " 'COTA',\n",
       " 'DUNKING',\n",
       " 'ALCS',\n",
       " 'NEEDS',\n",
       " 'UNCW',\n",
       " 'FROM',\n",
       " 'VFX',\n",
       " 'CAIR-OK',\n",
       " 'HHS',\n",
       " 'EVERY',\n",
       " 'WH',\n",
       " 'CHC',\n",
       " 'ICYMI…..',\n",
       " 'GLAAD',\n",
       " 'USC',\n",
       " 'IGGY',\n",
       " 'PARTY',\n",
       " 'THT',\n",
       " 'MOTM',\n",
       " 'LEGO',\n",
       " 'SAD',\n",
       " 'SOUL',\n",
       " 'TLC',\n",
       " 'ITS',\n",
       " 'BATFLIP',\n",
       " 'G1',\n",
       " 'GO',\n",
       " 'MINUTES',\n",
       " 'DL',\n",
       " 'PROFILE',\n",
       " 'D-NH',\n",
       " 'ROYALS',\n",
       " 'STRAIGHT',\n",
       " 'AMAZING',\n",
       " 'JBL',\n",
       " 'AMC_TV',\n",
       " 'O.C',\n",
       " 'USATODAY',\n",
       " 'NEVERLAND',\n",
       " 'BOOMING',\n",
       " 'C.J',\n",
       " 'MBS',\n",
       " 'CITY',\n",
       " 'ME',\n",
       " 'R.',\n",
       " 'WARRIORS🚨',\n",
       " 'LGM',\n",
       " 'CP3',\n",
       " 'FRIDAY',\n",
       " 'MIC',\n",
       " 'BREAKING',\n",
       " 'RACE',\n",
       " 'IIFA',\n",
       " 'HOLY',\n",
       " 'KCP',\n",
       " 'NM',\n",
       " 'BLOCK',\n",
       " 'NAACP',\n",
       " 'RINOS',\n",
       " 'RHOBH',\n",
       " 'ROY',\n",
       " 'MGM',\n",
       " 'OR',\n",
       " 'TATBILB',\n",
       " 'ICM',\n",
       " 'UFC268',\n",
       " \"'SNL\",\n",
       " 'BTS',\n",
       " 'ARLINGTON',\n",
       " 'JR',\n",
       " 'XC',\n",
       " 'TIFF',\n",
       " 'MCL',\n",
       " 'OFFICE',\n",
       " 'DERRICK',\n",
       " 'BOTH',\n",
       " 'HANDLE',\n",
       " 'WTA',\n",
       " 'TCL',\n",
       " 'THOUGHT',\n",
       " 'ERROR',\n",
       " 'COLON',\n",
       " 'WE',\n",
       " 'IUD',\n",
       " 'OMG',\n",
       " 'SPARTAAAAAA',\n",
       " 'OOOOOOF',\n",
       " 'SSNHQ',\n",
       " 'AJ',\n",
       " 'WILD',\n",
       " 'GOOD',\n",
       " 'S.B',\n",
       " 'STL',\n",
       " 'BLT',\n",
       " 'B.',\n",
       " 'WFH',\n",
       " 'BIABIA',\n",
       " 'NLBM',\n",
       " 'AHOY',\n",
       " 'THERE',\n",
       " 'RIVM',\n",
       " 'AL',\n",
       " 'MNF',\n",
       " 'UCLAMBB',\n",
       " 'AAF',\n",
       " 'MS',\n",
       " 'HP',\n",
       " 'WO',\n",
       " 'AI',\n",
       " 'LCF',\n",
       " 'PERFORMANCE',\n",
       " 'NAME',\n",
       " 'MANAGER',\n",
       " 'SHREK',\n",
       " 'LGBTQ',\n",
       " 'VS',\n",
       " 'CIN',\n",
       " 'BRAVES',\n",
       " 'PEOPLE',\n",
       " 'CAS',\n",
       " 'IM2',\n",
       " 'LAFC',\n",
       " ...]"
      ]
     },
     "execution_count": 47,
     "metadata": {},
     "output_type": "execute_result"
    }
   ],
   "source": [
    "tag_list_upper = [w for w in tag_list if w.isupper() and len(w) > 1]\n",
    "tag_list_upper = list(set(tag_list_upper))\n",
    "tag_list_upper[50:]"
   ]
  },
  {
   "cell_type": "code",
   "execution_count": 48,
   "metadata": {},
   "outputs": [],
   "source": [
    "def capitalized_detection(text):\n",
    "    text = str(text)\n",
    "    \n",
    "    m = re.findall(r\"\\b[A-Z]{2,}\\b\", text)\n",
    "    if m:\n",
    "        if any(x in m for x in tag_list_upper):\n",
    "                       return 0\n",
    "             \n",
    "        else: \n",
    "                       return 1\n",
    "            \n",
    "    else:\n",
    "        return 0"
   ]
  },
  {
   "cell_type": "code",
   "execution_count": 49,
   "metadata": {},
   "outputs": [],
   "source": [
    "AutomatedCA_sample['capitalized_feature'] = AutomatedCA_sample['text'].apply(capitalized_detection) "
   ]
  },
  {
   "cell_type": "markdown",
   "metadata": {},
   "source": [
    "The all caps feature is detected in 0.25% of the sample"
   ]
  },
  {
   "cell_type": "code",
   "execution_count": 50,
   "metadata": {},
   "outputs": [
    {
     "data": {
      "text/plain": [
       "0    99.746094\n",
       "1    0.253906 \n",
       "Name: capitalized_feature, dtype: float64"
      ]
     },
     "execution_count": 50,
     "metadata": {},
     "output_type": "execute_result"
    }
   ],
   "source": [
    "AutomatedCA_sample['capitalized_feature'].value_counts(normalize=True)*100"
   ]
  },
  {
   "cell_type": "code",
   "execution_count": 51,
   "metadata": {
    "scrolled": true
   },
   "outputs": [
    {
     "data": {
      "text/plain": [
       "177     RILEY!!!                                                                                                                                                  \n",
       "476     @doliver8 @Josh1Rivera @heyitsanika Hi Dav- I mean Olivia, we would love to get an exclusive on your red carpet look when the time comes. XOXO            \n",
       "606     Donald Trump's son last week endorsed sending an AR-15 rifle to the acquitted shooter.                                                                    \n",
       "1095    Under its first woman president, the AFL-CIO is pursuing big legislative goals in Washington while trying to turn around the decline in union membership. \n",
       "1148    @joga_newsletter what a LEGEND                                                                                                                            \n",
       "2003    ‘This Was The XFL’: Examining Television’s Greatest Sports Flop Ever -  @30for30                                                                          \n",
       "2830    The Florida governor is taking on Ben &amp; Jerry's while his state grapples with record COVD-19 cases.                                                   \n",
       "3137    Mark Richards also slammed Donald Trump Jr. as \"an idiot\" after he announced a gun organization planned to award Rittenhouse an AR-15.                    \n",
       "3908    🚨IMPORTANT NOTICE🚨\\nYou can now buy Will &amp; Carlton's Bel-Air Academy basketball jerseys!                                                              \n",
       "4259    Lakers' big three has 42 points combined. LAL up 51-48                                                                                                    \n",
       "Name: text, dtype: object"
      ]
     },
     "execution_count": 51,
     "metadata": {},
     "output_type": "execute_result"
    }
   ],
   "source": [
    "AutomatedCA_sample[AutomatedCA_sample['capitalized_feature'] == 1]['text'].head(10)"
   ]
  },
  {
   "cell_type": "markdown",
   "metadata": {},
   "source": [
    "Media feature"
   ]
  },
  {
   "cell_type": "code",
   "execution_count": 52,
   "metadata": {},
   "outputs": [
    {
     "data": {
      "text/plain": [
       "no media        81.898438\n",
       "photo           13.746094\n",
       "video           2.734375 \n",
       "animated_gif    1.621094 \n",
       "Name: media_type, dtype: float64"
      ]
     },
     "execution_count": 52,
     "metadata": {},
     "output_type": "execute_result"
    }
   ],
   "source": [
    "AutomatedCA_sample['media_type'].value_counts(normalize=True)*100"
   ]
  },
  {
   "cell_type": "markdown",
   "metadata": {},
   "source": [
    "Creating dummy variable for media feature (1= photo, video and animated gif, 0=no media)"
   ]
  },
  {
   "cell_type": "code",
   "execution_count": 53,
   "metadata": {},
   "outputs": [],
   "source": [
    "def media_feature(x):\n",
    "        if x == 'no media':\n",
    "            return 0\n",
    "        else:\n",
    "            return 1"
   ]
  },
  {
   "cell_type": "code",
   "execution_count": 54,
   "metadata": {},
   "outputs": [],
   "source": [
    "AutomatedCA_sample['media_dummy'] = AutomatedCA_sample['media_type'].apply(media_feature) "
   ]
  },
  {
   "cell_type": "markdown",
   "metadata": {},
   "source": [
    "The media feature is detected in 18.10% of the sample"
   ]
  },
  {
   "cell_type": "code",
   "execution_count": 55,
   "metadata": {},
   "outputs": [
    {
     "data": {
      "text/plain": [
       "0    81.898438\n",
       "1    18.101562\n",
       "Name: media_dummy, dtype: float64"
      ]
     },
     "execution_count": 55,
     "metadata": {},
     "output_type": "execute_result"
    }
   ],
   "source": [
    "AutomatedCA_sample['media_dummy'].value_counts(normalize=True)*100"
   ]
  },
  {
   "cell_type": "markdown",
   "metadata": {},
   "source": [
    "Analysis - RQ2"
   ]
  },
  {
   "cell_type": "markdown",
   "metadata": {},
   "source": [
    "Creating dummy variable for outlet type (1=tweets published by online-native outlets, 0=tweets published by legacy outlets)"
   ]
  },
  {
   "cell_type": "code",
   "execution_count": 56,
   "metadata": {},
   "outputs": [],
   "source": [
    "legacy_outlets = ['USA TODAY Politics', 'USA TODAY Sports', 'USA TODAY Life', 'L.A. Times Politics', 'L.A. Times Sports', 'LAT Entertainment']\n",
    "regex_legacy_outlets = re.compile(\"(?=(\" + \"|\".join(map(re.escape, legacy_outlets)) + \"))\")"
   ]
  },
  {
   "cell_type": "code",
   "execution_count": 57,
   "metadata": {},
   "outputs": [],
   "source": [
    "def news_outlet_classification(text):\n",
    "    text = str(text)\n",
    "    m=re.search(regex_legacy_outlets, text)\n",
    "    if m:\n",
    "        return 0\n",
    "    else:\n",
    "        return 1"
   ]
  },
  {
   "cell_type": "code",
   "execution_count": 58,
   "metadata": {},
   "outputs": [],
   "source": [
    "AutomatedCA_sample['outlet_type'] = AutomatedCA_sample['twitter_account'].apply(news_outlet_classification) "
   ]
  },
  {
   "cell_type": "code",
   "execution_count": 59,
   "metadata": {},
   "outputs": [
    {
     "data": {
      "text/plain": [
       "1    12800\n",
       "0    12800\n",
       "Name: outlet_type, dtype: int64"
      ]
     },
     "execution_count": 59,
     "metadata": {},
     "output_type": "execute_result"
    }
   ],
   "source": [
    "AutomatedCA_sample['outlet_type'].value_counts()"
   ]
  },
  {
   "cell_type": "markdown",
   "metadata": {},
   "source": [
    "Creating dummy variable for presence of sensationalism in tweets (1=sensationalist feature present, 0=sensationalist feature not present)"
   ]
  },
  {
   "cell_type": "code",
   "execution_count": 60,
   "metadata": {},
   "outputs": [],
   "source": [
    "features_grid = AutomatedCA_sample[['hyperbolic_feature', 'slang_feature', 'listicle_feature', 'emoji_feature', 'question_feature', 'hashtag_feature', 'forwardref_feature', 'informalpunct_feature', 'capitalized_feature', 'media_dummy']]"
   ]
  },
  {
   "cell_type": "code",
   "execution_count": 61,
   "metadata": {},
   "outputs": [],
   "source": [
    "features_grid = np.array(features_grid)\n",
    "features_grid = features_grid.tolist()"
   ]
  },
  {
   "cell_type": "code",
   "execution_count": 62,
   "metadata": {},
   "outputs": [],
   "source": [
    "any_row = [int(any(row)) for row in features_grid]"
   ]
  },
  {
   "cell_type": "code",
   "execution_count": 63,
   "metadata": {},
   "outputs": [],
   "source": [
    "AutomatedCA_sample['combined_features_dummy'] = any_row"
   ]
  },
  {
   "cell_type": "code",
   "execution_count": 64,
   "metadata": {},
   "outputs": [
    {
     "data": {
      "text/plain": [
       "0    16126\n",
       "1    9474 \n",
       "Name: combined_features_dummy, dtype: int64"
      ]
     },
     "execution_count": 64,
     "metadata": {},
     "output_type": "execute_result"
    }
   ],
   "source": [
    "AutomatedCA_sample['combined_features_dummy'].value_counts()"
   ]
  },
  {
   "cell_type": "markdown",
   "metadata": {},
   "source": [
    "Sensationalist feature/s present in 37.01% of tweets in sample"
   ]
  },
  {
   "cell_type": "code",
   "execution_count": 65,
   "metadata": {},
   "outputs": [
    {
     "data": {
      "text/plain": [
       "0    62.992188\n",
       "1    37.007812\n",
       "Name: combined_features_dummy, dtype: float64"
      ]
     },
     "execution_count": 65,
     "metadata": {},
     "output_type": "execute_result"
    }
   ],
   "source": [
    "AutomatedCA_sample['combined_features_dummy'].value_counts(normalize=True)*100"
   ]
  },
  {
   "cell_type": "markdown",
   "metadata": {},
   "source": [
    "Creating count variable with number of features in each tweet"
   ]
  },
  {
   "cell_type": "code",
   "execution_count": 66,
   "metadata": {},
   "outputs": [],
   "source": [
    "count_variable = np.sum(features_grid ,axis=1).tolist()"
   ]
  },
  {
   "cell_type": "code",
   "execution_count": 67,
   "metadata": {
    "scrolled": true
   },
   "outputs": [
    {
     "data": {
      "text/plain": [
       "0    62.992188\n",
       "1    27.171875\n",
       "2    7.726562 \n",
       "3    1.730469 \n",
       "4    0.332031 \n",
       "5    0.046875 \n",
       "Name: count_variable, dtype: float64"
      ]
     },
     "execution_count": 67,
     "metadata": {},
     "output_type": "execute_result"
    }
   ],
   "source": [
    "AutomatedCA_sample['count_variable'] = count_variable\n",
    "AutomatedCA_sample['count_variable'].value_counts(normalize=True)*100"
   ]
  },
  {
   "cell_type": "markdown",
   "metadata": {},
   "source": [
    "Creating variable for channel type (1=tweets published in soft news sub-channels i.e sports,entertainment/life, 0=tweets published in hard news sub-channels i.e politics)"
   ]
  },
  {
   "cell_type": "code",
   "execution_count": 68,
   "metadata": {},
   "outputs": [],
   "source": [
    "def hard_soft_classifications(x):\n",
    "    x = str(x)\n",
    "    if re.search('(Politics)', x):\n",
    "        return 0\n",
    "    else:\n",
    "        return 1"
   ]
  },
  {
   "cell_type": "code",
   "execution_count": 69,
   "metadata": {},
   "outputs": [],
   "source": [
    "AutomatedCA_sample['channel_type'] = AutomatedCA_sample['twitter_account'].apply(hard_soft_classifications) "
   ]
  },
  {
   "cell_type": "code",
   "execution_count": 70,
   "metadata": {},
   "outputs": [
    {
     "data": {
      "text/plain": [
       "1    12800\n",
       "0    12800\n",
       "Name: channel_type, dtype: int64"
      ]
     },
     "execution_count": 70,
     "metadata": {},
     "output_type": "execute_result"
    }
   ],
   "source": [
    "AutomatedCA_sample['channel_type'].value_counts()"
   ]
  },
  {
   "cell_type": "markdown",
   "metadata": {},
   "source": [
    "Creating dummy variable for tweet length"
   ]
  },
  {
   "cell_type": "code",
   "execution_count": 71,
   "metadata": {},
   "outputs": [],
   "source": [
    "def length_tweet(x):\n",
    "    x = str(x)\n",
    "    return len(x)"
   ]
  },
  {
   "cell_type": "code",
   "execution_count": 72,
   "metadata": {},
   "outputs": [],
   "source": [
    "AutomatedCA_sample['len_tweet'] = AutomatedCA_sample['text'].apply(length_tweet) "
   ]
  },
  {
   "cell_type": "markdown",
   "metadata": {},
   "source": [
    "Creating variables for engagement metrics per hundred thousand account followers"
   ]
  },
  {
   "cell_type": "code",
   "execution_count": 73,
   "metadata": {},
   "outputs": [],
   "source": [
    "BuzzFeedPolitics_followers = int(140881)/int(100000)\n",
    "BuzzFeedSports_followers = int(63060)/int(100000)\n",
    "BuzzFeedEnt_followers = int(81725)/int(100000)\n",
    "HuffPostPolitics_followers = int(1439630)/int(100000)\n",
    "HuffPostSports_followers = int(62587)/int(100000)\n",
    "HuffPostLife_followers = int(125749)/int(100000)\n",
    "USATODAYPolitics_followers = int(215937)/int(100000)\n",
    "USATODAYSports_followers = int(246780)/int(100000)\n",
    "USATODAYLife_followers= int(85285)/int(100000)\n",
    "LATimesPolitics_followers = int(12314)/int(100000)\n",
    "LATimesSports_followers = int(50398)/int(100000)\n",
    "LATEnt_followers = int(168665)/int(100000)"
   ]
  },
  {
   "cell_type": "code",
   "execution_count": 74,
   "metadata": {},
   "outputs": [],
   "source": [
    "AutomatedCA_sample['followers_per100000'] = ''"
   ]
  },
  {
   "cell_type": "code",
   "execution_count": 75,
   "metadata": {},
   "outputs": [],
   "source": [
    "AutomatedCA_sample.loc[(AutomatedCA_sample['twitter_account'] == 'BuzzFeed Politics'), 'followers_per100000'] = BuzzFeedPolitics_followers\n",
    "AutomatedCA_sample.loc[(AutomatedCA_sample['twitter_account'] == 'BuzzFeed Sports'), 'followers_per100000'] = BuzzFeedSports_followers\n",
    "AutomatedCA_sample.loc[(AutomatedCA_sample['twitter_account'] == 'BuzzFeed Arts & Entertainment'), 'followers_per100000'] = BuzzFeedEnt_followers\n",
    "AutomatedCA_sample.loc[(AutomatedCA_sample['twitter_account'] == 'HuffPost Politics'), 'followers_per100000'] = HuffPostPolitics_followers\n",
    "AutomatedCA_sample.loc[(AutomatedCA_sample['twitter_account'] == 'HuffPost Sports'), 'followers_per100000'] = HuffPostSports_followers\n",
    "AutomatedCA_sample.loc[(AutomatedCA_sample['twitter_account'] == 'HuffPost Life'), 'followers_per100000'] = HuffPostLife_followers\n",
    "AutomatedCA_sample.loc[(AutomatedCA_sample['twitter_account'] == 'USA TODAY Politics'), 'followers_per100000'] = USATODAYPolitics_followers\n",
    "AutomatedCA_sample.loc[(AutomatedCA_sample['twitter_account'] == 'USA TODAY Sports'), 'followers_per100000'] = USATODAYSports_followers\n",
    "AutomatedCA_sample.loc[(AutomatedCA_sample['twitter_account'] == 'USA TODAY Life'), 'followers_per100000'] = USATODAYLife_followers\n",
    "AutomatedCA_sample.loc[(AutomatedCA_sample['twitter_account'] == 'L.A. Times Politics'), 'followers_per100000'] = LATimesPolitics_followers\n",
    "AutomatedCA_sample.loc[(AutomatedCA_sample['twitter_account'] == 'L.A. Times Sports'), 'followers_per100000'] = LATimesSports_followers\n",
    "AutomatedCA_sample.loc[(AutomatedCA_sample['twitter_account'] == 'LAT Entertainment'), 'followers_per100000'] = LATEnt_followers"
   ]
  },
  {
   "cell_type": "code",
   "execution_count": 76,
   "metadata": {},
   "outputs": [],
   "source": [
    "AutomatedCA_sample['favorites_per100000'] = list(map(lambda x,y: x/y, AutomatedCA_sample['favorite_count'],AutomatedCA_sample['followers_per100000']))"
   ]
  },
  {
   "cell_type": "code",
   "execution_count": 77,
   "metadata": {},
   "outputs": [],
   "source": [
    "AutomatedCA_sample['retweets_per100000'] = list(map(lambda x,y: x/y, AutomatedCA_sample['retweet_count'],AutomatedCA_sample['followers_per100000']))"
   ]
  },
  {
   "cell_type": "markdown",
   "metadata": {},
   "source": [
    "Testing H1:\n",
    "\n",
    "Running Logistic Regression using dummy variable for presence of sensationalist feature/s in tweets as DV and outlet type, channel type and tweet length as IVs (Table D1)"
   ]
  },
  {
   "cell_type": "code",
   "execution_count": 78,
   "metadata": {},
   "outputs": [],
   "source": [
    "features_aca = ['outlet_type', 'len_tweet', 'channel_type']"
   ]
  },
  {
   "cell_type": "code",
   "execution_count": 79,
   "metadata": {
    "scrolled": true
   },
   "outputs": [
    {
     "name": "stdout",
     "output_type": "stream",
     "text": [
      "Optimization terminated successfully.\n",
      "         Current function value: 0.577510\n",
      "         Iterations 5\n",
      "                              Logit Regression Results                             \n",
      "===================================================================================\n",
      "Dep. Variable:     combined_features_dummy   No. Observations:                25600\n",
      "Model:                               Logit   Df Residuals:                    25596\n",
      "Method:                                MLE   Df Model:                            3\n",
      "Date:                     Wed, 02 Feb 2022   Pseudo R-squ.:                  0.1237\n",
      "Time:                             14:21:27   Log-Likelihood:                -14784.\n",
      "converged:                            True   LL-Null:                       -16870.\n",
      "Covariance Type:                 nonrobust   LLR p-value:                     0.000\n",
      "================================================================================\n",
      "                   coef    std err          z      P>|z|      [0.025      0.975]\n",
      "--------------------------------------------------------------------------------\n",
      "const           -2.0169      0.046    -44.119      0.000      -2.106      -1.927\n",
      "outlet_type      0.9811      0.029     33.609      0.000       0.924       1.038\n",
      "len_tweet        0.0010      0.000      3.620      0.000       0.000       0.002\n",
      "channel_type     1.5561      0.029     53.305      0.000       1.499       1.613\n",
      "================================================================================\n"
     ]
    },
    {
     "name": "stderr",
     "output_type": "stream",
     "text": [
      "/Applications/anaconda3/lib/python3.7/site-packages/numpy/core/fromnumeric.py:2495: FutureWarning: Method .ptp is deprecated and will be removed in a future version. Use numpy.ptp instead.\n",
      "  return ptp(axis=axis, out=out, **kwargs)\n"
     ]
    }
   ],
   "source": [
    "logit_model = sm.Logit(AutomatedCA_sample['combined_features_dummy'], sm.add_constant(AutomatedCA_sample[features_aca]))\n",
    "ACAreg_modelH1a = logit_model.fit()\n",
    "print(ACAreg_modelH1a.summary())"
   ]
  },
  {
   "cell_type": "markdown",
   "metadata": {},
   "source": [
    "OLS regression using count variable (aggregate of sensationalist features present in each tweet) (Table D1)"
   ]
  },
  {
   "cell_type": "code",
   "execution_count": 80,
   "metadata": {},
   "outputs": [
    {
     "name": "stdout",
     "output_type": "stream",
     "text": [
      "                            OLS Regression Results                            \n",
      "==============================================================================\n",
      "Dep. Variable:         count_variable   R-squared:                       0.160\n",
      "Model:                            OLS   Adj. R-squared:                  0.159\n",
      "Method:                 Least Squares   F-statistic:                     1620.\n",
      "Date:                Wed, 02 Feb 2022   Prob (F-statistic):               0.00\n",
      "Time:                        14:21:36   Log-Likelihood:                -26622.\n",
      "No. Observations:               25600   AIC:                         5.325e+04\n",
      "Df Residuals:                   25596   BIC:                         5.328e+04\n",
      "Df Model:                           3                                         \n",
      "Covariance Type:            nonrobust                                         \n",
      "================================================================================\n",
      "                   coef    std err          t      P>|t|      [0.025      0.975]\n",
      "--------------------------------------------------------------------------------\n",
      "const            0.0636      0.013      4.944      0.000       0.038       0.089\n",
      "outlet_type      0.2736      0.009     31.572      0.000       0.257       0.291\n",
      "len_tweet        0.0003   8.97e-05      2.808      0.005     7.6e-05       0.000\n",
      "channel_type     0.5329      0.009     62.167      0.000       0.516       0.550\n",
      "==============================================================================\n",
      "Omnibus:                     6454.702   Durbin-Watson:                   1.990\n",
      "Prob(Omnibus):                  0.000   Jarque-Bera (JB):            16445.397\n",
      "Skew:                           1.377   Prob(JB):                         0.00\n",
      "Kurtosis:                       5.799   Cond. No.                         388.\n",
      "==============================================================================\n",
      "\n",
      "Warnings:\n",
      "[1] Standard Errors assume that the covariance matrix of the errors is correctly specified.\n"
     ]
    }
   ],
   "source": [
    "OLS_model =  sm.OLS(AutomatedCA_sample['count_variable'], sm.add_constant(AutomatedCA_sample[features_aca]))\n",
    "ACAreg_modelh1b = OLS_model.fit()\n",
    "print(ACAreg_modelh1b.summary())"
   ]
  },
  {
   "cell_type": "markdown",
   "metadata": {},
   "source": [
    "Testing H3"
   ]
  },
  {
   "cell_type": "markdown",
   "metadata": {},
   "source": [
    "Running OLS Regression using favorite count (per hundred thousand followers) as DV and dummy variable for presence of sensationalist feature/s (main variable of interest) outlet type, channel type and tweet length as IVs (Table D2)"
   ]
  },
  {
   "cell_type": "code",
   "execution_count": 81,
   "metadata": {},
   "outputs": [],
   "source": [
    "features_aca_h3a = ['combined_features_dummy','outlet_type','channel_type','len_tweet']"
   ]
  },
  {
   "cell_type": "code",
   "execution_count": 87,
   "metadata": {},
   "outputs": [],
   "source": [
    "features_aca_h3b = ['count_variable','outlet_type','channel_type','len_tweet']"
   ]
  },
  {
   "cell_type": "code",
   "execution_count": 83,
   "metadata": {},
   "outputs": [],
   "source": [
    "OLS_model2a =  sm.OLS(AutomatedCA_sample['favorites_per100000'], sm.add_constant(AutomatedCA_sample[features_aca_h3a]))"
   ]
  },
  {
   "cell_type": "code",
   "execution_count": 84,
   "metadata": {},
   "outputs": [
    {
     "name": "stdout",
     "output_type": "stream",
     "text": [
      "                             OLS Regression Results                            \n",
      "===============================================================================\n",
      "Dep. Variable:     favorites_per100000   R-squared:                       0.001\n",
      "Model:                             OLS   Adj. R-squared:                  0.000\n",
      "Method:                  Least Squares   F-statistic:                     4.083\n",
      "Date:                 Wed, 02 Feb 2022   Prob (F-statistic):            0.00261\n",
      "Time:                         14:21:50   Log-Likelihood:            -1.8987e+05\n",
      "No. Observations:                25600   AIC:                         3.798e+05\n",
      "Df Residuals:                    25595   BIC:                         3.798e+05\n",
      "Df Model:                            4                                         \n",
      "Covariance Type:             nonrobust                                         \n",
      "===========================================================================================\n",
      "                              coef    std err          t      P>|t|      [0.025      0.975]\n",
      "-------------------------------------------------------------------------------------------\n",
      "const                      34.0853      7.586      4.493      0.000      19.215      48.955\n",
      "combined_features_dummy     9.9555      5.667      1.757      0.079      -1.152      21.063\n",
      "outlet_type                -3.8309      5.217     -0.734      0.463     -14.056       6.394\n",
      "channel_type                0.1524      5.370      0.028      0.977     -10.373      10.678\n",
      "len_tweet                  -0.1876      0.053     -3.556      0.000      -0.291      -0.084\n",
      "==============================================================================\n",
      "Omnibus:                   110634.565   Durbin-Watson:                   1.999\n",
      "Prob(Omnibus):                  0.000   Jarque-Bera (JB):     397101134869.364\n",
      "Skew:                         131.124   Prob(JB):                         0.00\n",
      "Kurtosis:                   19295.836   Cond. No.                         390.\n",
      "==============================================================================\n",
      "\n",
      "Warnings:\n",
      "[1] Standard Errors assume that the covariance matrix of the errors is correctly specified.\n"
     ]
    }
   ],
   "source": [
    "ACAreg_model2a = OLS_model2a.fit()\n",
    "print(ACAreg_model2a.summary())"
   ]
  },
  {
   "cell_type": "markdown",
   "metadata": {},
   "source": [
    "Running OLS Regression using retweet count (per hundred thousand followers) as DV and dummy variable for presence of sensationalist feature/s (main variable of interest) outlet type, channel type and tweet length as IVs (Table D2)"
   ]
  },
  {
   "cell_type": "code",
   "execution_count": 85,
   "metadata": {},
   "outputs": [
    {
     "name": "stdout",
     "output_type": "stream",
     "text": [
      "                            OLS Regression Results                            \n",
      "==============================================================================\n",
      "Dep. Variable:     retweets_per100000   R-squared:                       0.004\n",
      "Model:                            OLS   Adj. R-squared:                  0.003\n",
      "Method:                 Least Squares   F-statistic:                     22.54\n",
      "Date:                Wed, 02 Feb 2022   Prob (F-statistic):           1.30e-18\n",
      "Time:                        14:21:54   Log-Likelihood:            -2.1387e+05\n",
      "No. Observations:               25600   AIC:                         4.277e+05\n",
      "Df Residuals:                   25595   BIC:                         4.278e+05\n",
      "Df Model:                           4                                         \n",
      "Covariance Type:            nonrobust                                         \n",
      "===========================================================================================\n",
      "                              coef    std err          t      P>|t|      [0.025      0.975]\n",
      "-------------------------------------------------------------------------------------------\n",
      "const                      40.5364     19.367      2.093      0.036       2.577      78.496\n",
      "combined_features_dummy    38.2865     14.466      2.647      0.008       9.932      66.641\n",
      "outlet_type                44.2440     13.317      3.322      0.001      18.142      70.346\n",
      "channel_type               67.6514     13.709      4.935      0.000      40.781      94.521\n",
      "len_tweet                  -0.5898      0.135     -4.380      0.000      -0.854      -0.326\n",
      "==============================================================================\n",
      "Omnibus:                    89641.878   Durbin-Watson:                   1.966\n",
      "Prob(Omnibus):                  0.000   Jarque-Bera (JB):      36062113347.302\n",
      "Skew:                          68.059   Prob(JB):                         0.00\n",
      "Kurtosis:                    5815.891   Cond. No.                         390.\n",
      "==============================================================================\n",
      "\n",
      "Warnings:\n",
      "[1] Standard Errors assume that the covariance matrix of the errors is correctly specified.\n"
     ]
    }
   ],
   "source": [
    "OLS_model2b =  sm.OLS(AutomatedCA_sample['retweets_per100000'], sm.add_constant(AutomatedCA_sample[features_aca_h3a]))\n",
    "ACAreg_model2b = OLS_model2b.fit()\n",
    "print(ACAreg_model2b.summary())"
   ]
  },
  {
   "cell_type": "markdown",
   "metadata": {},
   "source": [
    "Running OLS Regression using favorite count (per hundred thousand followers) as DV and count variable for number of sensationalist features (main variable of interest), outlet type, channel type and tweet length as IVs (Table D3)"
   ]
  },
  {
   "cell_type": "code",
   "execution_count": 88,
   "metadata": {},
   "outputs": [
    {
     "name": "stdout",
     "output_type": "stream",
     "text": [
      "                             OLS Regression Results                            \n",
      "===============================================================================\n",
      "Dep. Variable:     favorites_per100000   R-squared:                       0.001\n",
      "Model:                             OLS   Adj. R-squared:                  0.001\n",
      "Method:                  Least Squares   F-statistic:                     4.475\n",
      "Date:                 Wed, 02 Feb 2022   Prob (F-statistic):            0.00129\n",
      "Time:                         14:22:24   Log-Likelihood:            -1.8987e+05\n",
      "No. Observations:                25600   AIC:                         3.798e+05\n",
      "Df Residuals:                    25595   BIC:                         3.798e+05\n",
      "Df Model:                            4                                         \n",
      "Covariance Type:             nonrobust                                         \n",
      "==================================================================================\n",
      "                     coef    std err          t      P>|t|      [0.025      0.975]\n",
      "----------------------------------------------------------------------------------\n",
      "const             34.4924      7.572      4.555      0.000      19.651      49.334\n",
      "count_variable     7.9336      3.676      2.158      0.031       0.728      15.139\n",
      "outlet_type       -4.0512      5.195     -0.780      0.436     -14.234       6.132\n",
      "channel_type      -0.8261      5.409     -0.153      0.879     -11.428       9.775\n",
      "len_tweet         -0.1880      0.053     -3.563      0.000      -0.291      -0.085\n",
      "==============================================================================\n",
      "Omnibus:                   110637.110   Durbin-Watson:                   2.000\n",
      "Prob(Omnibus):                  0.000   Jarque-Bera (JB):     397178750513.844\n",
      "Skew:                         131.134   Prob(JB):                         0.00\n",
      "Kurtosis:                   19297.722   Cond. No.                         390.\n",
      "==============================================================================\n",
      "\n",
      "Warnings:\n",
      "[1] Standard Errors assume that the covariance matrix of the errors is correctly specified.\n"
     ]
    }
   ],
   "source": [
    "OLS_model2c =  sm.OLS(AutomatedCA_sample['favorites_per100000'], sm.add_constant(AutomatedCA_sample[features_aca_h3b]))\n",
    "ACAreg_model2c = OLS_model2c.fit()\n",
    "print(ACAreg_model2c.summary())"
   ]
  },
  {
   "cell_type": "markdown",
   "metadata": {},
   "source": [
    "Running OLS Regression using retweet count (per hundred thousand followers) as DV and count variable for number of sensationalist features (main variable of interest), outlet type, channel type and tweet length as IVs (Table D3)"
   ]
  },
  {
   "cell_type": "code",
   "execution_count": 89,
   "metadata": {},
   "outputs": [
    {
     "name": "stdout",
     "output_type": "stream",
     "text": [
      "                            OLS Regression Results                            \n",
      "==============================================================================\n",
      "Dep. Variable:     retweets_per100000   R-squared:                       0.004\n",
      "Model:                            OLS   Adj. R-squared:                  0.004\n",
      "Method:                 Least Squares   F-statistic:                     23.82\n",
      "Date:                Wed, 02 Feb 2022   Prob (F-statistic):           1.09e-19\n",
      "Time:                        14:22:35   Log-Likelihood:            -2.1386e+05\n",
      "No. Observations:               25600   AIC:                         4.277e+05\n",
      "Df Residuals:                   25595   BIC:                         4.278e+05\n",
      "Df Model:                           4                                         \n",
      "Covariance Type:            nonrobust                                         \n",
      "==================================================================================\n",
      "                     coef    std err          t      P>|t|      [0.025      0.975]\n",
      "----------------------------------------------------------------------------------\n",
      "const             41.9679     19.329      2.171      0.030       4.083      79.853\n",
      "count_variable    32.6206      9.384      3.476      0.001      14.227      51.014\n",
      "outlet_type       42.8196     13.262      3.229      0.001      16.826      68.813\n",
      "channel_type      62.7640     13.806      4.546      0.000      35.703      89.825\n",
      "len_tweet         -0.5918      0.135     -4.395      0.000      -0.856      -0.328\n",
      "==============================================================================\n",
      "Omnibus:                    89655.967   Durbin-Watson:                   1.966\n",
      "Prob(Omnibus):                  0.000   Jarque-Bera (JB):      36115952598.182\n",
      "Skew:                          68.091   Prob(JB):                         0.00\n",
      "Kurtosis:                    5820.230   Cond. No.                         390.\n",
      "==============================================================================\n",
      "\n",
      "Warnings:\n",
      "[1] Standard Errors assume that the covariance matrix of the errors is correctly specified.\n"
     ]
    }
   ],
   "source": [
    "OLS_model2d =  sm.OLS(AutomatedCA_sample['retweets_per100000'], sm.add_constant(AutomatedCA_sample[features_aca_h3b]))\n",
    "ACAreg_model2d = OLS_model2d.fit()\n",
    "print(ACAreg_model2d.summary())"
   ]
  },
  {
   "cell_type": "markdown",
   "metadata": {},
   "source": [
    "Running OLS Regression using favorite count (per hundred thousand followers) as DV and individual sensationalist features as IVs (Table D4)"
   ]
  },
  {
   "cell_type": "code",
   "execution_count": 90,
   "metadata": {},
   "outputs": [],
   "source": [
    "aca_features_indiv = ['hyperbolic_feature','slang_feature','listicle_feature','emoji_feature','question_feature','hashtag_feature','informalpunct_feature','forwardref_feature','media_dummy','capitalized_feature']"
   ]
  },
  {
   "cell_type": "code",
   "execution_count": 92,
   "metadata": {},
   "outputs": [
    {
     "name": "stdout",
     "output_type": "stream",
     "text": [
      "                             OLS Regression Results                            \n",
      "===============================================================================\n",
      "Dep. Variable:     favorites_per100000   R-squared:                       0.001\n",
      "Model:                             OLS   Adj. R-squared:                  0.000\n",
      "Method:                  Least Squares   F-statistic:                     1.451\n",
      "Date:                 Wed, 02 Feb 2022   Prob (F-statistic):              0.151\n",
      "Time:                         14:22:54   Log-Likelihood:            -1.8987e+05\n",
      "No. Observations:                25600   AIC:                         3.798e+05\n",
      "Df Residuals:                    25589   BIC:                         3.799e+05\n",
      "Df Model:                           10                                         \n",
      "Covariance Type:             nonrobust                                         \n",
      "=========================================================================================\n",
      "                            coef    std err          t      P>|t|      [0.025      0.975]\n",
      "-----------------------------------------------------------------------------------------\n",
      "const                    11.6472      3.036      3.836      0.000       5.697      17.598\n",
      "hyperbolic_feature       11.2654     16.017      0.703      0.482     -20.130      42.660\n",
      "slang_feature            -1.5258     10.911     -0.140      0.889     -22.912      19.861\n",
      "listicle_feature         -3.3890     26.181     -0.129      0.897     -54.705      47.927\n",
      "emoji_feature             2.5730     15.389      0.167      0.867     -27.591      32.737\n",
      "question_feature         -7.9478     12.059     -0.659      0.510     -31.585      15.689\n",
      "hashtag_feature           0.2845      9.043      0.031      0.975     -17.440      18.009\n",
      "informalpunct_feature    16.2557     19.261      0.844      0.399     -21.498      54.009\n",
      "forwardref_feature       -4.4389     13.381     -0.332      0.740     -30.667      21.789\n",
      "media_dummy              23.1370      6.637      3.486      0.000      10.129      36.145\n",
      "capitalized_feature       4.6003     50.057      0.092      0.927     -93.515     102.716\n",
      "==============================================================================\n",
      "Omnibus:                   110652.930   Durbin-Watson:                   2.000\n",
      "Prob(Omnibus):                  0.000   Jarque-Bera (JB):     397707022045.561\n",
      "Skew:                         131.196   Prob(JB):                         0.00\n",
      "Kurtosis:                   19310.550   Cond. No.                         20.4\n",
      "==============================================================================\n",
      "\n",
      "Warnings:\n",
      "[1] Standard Errors assume that the covariance matrix of the errors is correctly specified.\n"
     ]
    }
   ],
   "source": [
    "OLS_model3a =  sm.OLS(AutomatedCA_sample['favorites_per100000'], sm.add_constant(AutomatedCA_sample[aca_features_indiv]))\n",
    "ACAreg_modelH3a = OLS_model3a.fit()\n",
    "print(ACAreg_modelH3a.summary())"
   ]
  },
  {
   "cell_type": "markdown",
   "metadata": {},
   "source": [
    "Running OLS Regression using retweet count (per hundred thousand followers) as DV and individual sensationalist features as IVs (Table D4)"
   ]
  },
  {
   "cell_type": "code",
   "execution_count": 93,
   "metadata": {},
   "outputs": [
    {
     "name": "stdout",
     "output_type": "stream",
     "text": [
      "                            OLS Regression Results                            \n",
      "==============================================================================\n",
      "Dep. Variable:     retweets_per100000   R-squared:                       0.002\n",
      "Model:                            OLS   Adj. R-squared:                  0.002\n",
      "Method:                 Least Squares   F-statistic:                     6.266\n",
      "Date:                Wed, 02 Feb 2022   Prob (F-statistic):           1.17e-09\n",
      "Time:                        14:23:02   Log-Likelihood:            -2.1388e+05\n",
      "No. Observations:               25600   AIC:                         4.278e+05\n",
      "Df Residuals:                   25589   BIC:                         4.279e+05\n",
      "Df Model:                          10                                         \n",
      "Covariance Type:            nonrobust                                         \n",
      "=========================================================================================\n",
      "                            coef    std err          t      P>|t|      [0.025      0.975]\n",
      "-----------------------------------------------------------------------------------------\n",
      "const                    20.2374      7.754      2.610      0.009       5.039      35.436\n",
      "hyperbolic_feature        3.8424     40.909      0.094      0.925     -76.342      84.027\n",
      "slang_feature            64.7708     27.867      2.324      0.020      10.149     119.393\n",
      "listicle_feature        -23.3894     66.868     -0.350      0.727    -154.454     107.675\n",
      "emoji_feature           109.6335     39.305      2.789      0.005      32.593     186.674\n",
      "question_feature        -37.7368     30.800     -1.225      0.221     -98.107      22.634\n",
      "hashtag_feature          30.4016     23.096      1.316      0.188     -14.868      75.671\n",
      "informalpunct_feature    78.0850     49.194      1.587      0.112     -18.339     174.509\n",
      "forwardref_feature        5.8537     34.176      0.171      0.864     -61.133      72.841\n",
      "media_dummy              98.0938     16.950      5.787      0.000      64.870     131.317\n",
      "capitalized_feature     124.4340    127.849      0.973      0.330    -126.158     375.026\n",
      "==============================================================================\n",
      "Omnibus:                    89660.119   Durbin-Watson:                   1.967\n",
      "Prob(Omnibus):                  0.000   Jarque-Bera (JB):      36108783186.276\n",
      "Skew:                          68.101   Prob(JB):                         0.00\n",
      "Kurtosis:                    5819.651   Cond. No.                         20.4\n",
      "==============================================================================\n",
      "\n",
      "Warnings:\n",
      "[1] Standard Errors assume that the covariance matrix of the errors is correctly specified.\n"
     ]
    }
   ],
   "source": [
    "OLS_model3b =  sm.OLS(AutomatedCA_sample['retweets_per100000'], sm.add_constant(AutomatedCA_sample[aca_features_indiv]))\n",
    "ACAreg_modelH3b = OLS_model3b.fit()\n",
    "print(ACAreg_modelH3b.summary())"
   ]
  },
  {
   "cell_type": "code",
   "execution_count": null,
   "metadata": {},
   "outputs": [],
   "source": []
  }
 ],
 "metadata": {
  "kernelspec": {
   "display_name": "Python 3",
   "language": "python",
   "name": "python3"
  },
  "language_info": {
   "codemirror_mode": {
    "name": "ipython",
    "version": 3
   },
   "file_extension": ".py",
   "mimetype": "text/x-python",
   "name": "python",
   "nbconvert_exporter": "python",
   "pygments_lexer": "ipython3",
   "version": "3.7.4"
  }
 },
 "nbformat": 4,
 "nbformat_minor": 2
}
