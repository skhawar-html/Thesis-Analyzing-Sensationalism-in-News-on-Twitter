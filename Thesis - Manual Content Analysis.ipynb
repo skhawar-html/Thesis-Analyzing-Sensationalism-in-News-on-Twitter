{
 "cells": [
  {
   "cell_type": "code",
   "execution_count": 1,
   "metadata": {},
   "outputs": [],
   "source": [
    "import pandas as pd\n",
    "import csv\n",
    "import krippendorff\n",
    "import numpy as np\n",
    "import re\n",
    "from collections import Counter\n",
    "import statsmodels.api as sm\n",
    "import statsmodels.formula.api as smf"
   ]
  },
  {
   "cell_type": "markdown",
   "metadata": {},
   "source": [
    "Intercoder Reliability (ICR)"
   ]
  },
  {
   "cell_type": "markdown",
   "metadata": {},
   "source": [
    "Retrieving data from 'ICR_Data.csv' file with coded responses of Coders 1 and 2 and creating a function to calculate ICR scores (Krippendorff's alpha)"
   ]
  },
  {
   "cell_type": "code",
   "execution_count": 2,
   "metadata": {},
   "outputs": [],
   "source": [
    "intercoder_data = pd.read_csv('/Users/salmankhawar/Desktop/Thesis/Content Analysis/ICR_Data.csv')"
   ]
  },
  {
   "cell_type": "code",
   "execution_count": 3,
   "metadata": {},
   "outputs": [],
   "source": [
    "intercoder_data_cleaned = intercoder_data[2:][['[coder]','[tweet_ID]','[news_outlet]','[tweet_topic] ','[hyperbolic_feature]','[slang_feature]','[listicle_feature]','[emoji_feature]','[hashtag_feature]','[cap_feature]','[punct_feature]','[forw_ref_feature]','[question_feature]','[media_feature]']]"
   ]
  },
  {
   "cell_type": "code",
   "execution_count": 4,
   "metadata": {},
   "outputs": [],
   "source": [
    "cols = intercoder_data_cleaned.columns\n",
    "intercoder_data_cleaned[cols] = intercoder_data_cleaned[cols].apply(pd.to_numeric, errors='coerce')"
   ]
  },
  {
   "cell_type": "code",
   "execution_count": 5,
   "metadata": {},
   "outputs": [],
   "source": [
    "def ICR_score(column):\n",
    "    coder1 = intercoder_data_cleaned.loc[(intercoder_data_cleaned[\"[coder]\"] == 1), column]\n",
    "    coder2 = intercoder_data_cleaned.loc[(intercoder_data_cleaned[\"[coder]\"] == 2), column]\n",
    "    array = [coder1, coder2]\n",
    "    return krippendorff.alpha(array)"
   ]
  },
  {
   "cell_type": "markdown",
   "metadata": {},
   "source": [
    "Calcuating ICR scores for individual variables"
   ]
  },
  {
   "cell_type": "code",
   "execution_count": 6,
   "metadata": {},
   "outputs": [
    {
     "data": {
      "text/plain": [
       "0.9513953882218716"
      ]
     },
     "execution_count": 6,
     "metadata": {},
     "output_type": "execute_result"
    }
   ],
   "source": [
    "ICR_score('[news_outlet]')"
   ]
  },
  {
   "cell_type": "code",
   "execution_count": 7,
   "metadata": {},
   "outputs": [
    {
     "data": {
      "text/plain": [
       "0.7240888102957068"
      ]
     },
     "execution_count": 7,
     "metadata": {},
     "output_type": "execute_result"
    }
   ],
   "source": [
    "ICR_score('[tweet_topic] ')"
   ]
  },
  {
   "cell_type": "code",
   "execution_count": 8,
   "metadata": {},
   "outputs": [
    {
     "data": {
      "text/plain": [
       "0.6927775781530723"
      ]
     },
     "execution_count": 8,
     "metadata": {},
     "output_type": "execute_result"
    }
   ],
   "source": [
    "ICR_score('[hyperbolic_feature]')"
   ]
  },
  {
   "cell_type": "code",
   "execution_count": 9,
   "metadata": {},
   "outputs": [
    {
     "data": {
      "text/plain": [
       "0.7437499999999999"
      ]
     },
     "execution_count": 9,
     "metadata": {},
     "output_type": "execute_result"
    }
   ],
   "source": [
    "ICR_score('[slang_feature]')"
   ]
  },
  {
   "cell_type": "code",
   "execution_count": 10,
   "metadata": {},
   "outputs": [
    {
     "data": {
      "text/plain": [
       "1.0"
      ]
     },
     "execution_count": 10,
     "metadata": {},
     "output_type": "execute_result"
    }
   ],
   "source": [
    "ICR_score('[listicle_feature]')"
   ]
  },
  {
   "cell_type": "code",
   "execution_count": 11,
   "metadata": {},
   "outputs": [
    {
     "data": {
      "text/plain": [
       "1.0"
      ]
     },
     "execution_count": 11,
     "metadata": {},
     "output_type": "execute_result"
    }
   ],
   "source": [
    "ICR_score('[emoji_feature]')"
   ]
  },
  {
   "cell_type": "code",
   "execution_count": 12,
   "metadata": {},
   "outputs": [
    {
     "data": {
      "text/plain": [
       "0.9487870619946092"
      ]
     },
     "execution_count": 12,
     "metadata": {},
     "output_type": "execute_result"
    }
   ],
   "source": [
    "ICR_score('[hashtag_feature]')"
   ]
  },
  {
   "cell_type": "code",
   "execution_count": 13,
   "metadata": {},
   "outputs": [
    {
     "data": {
      "text/plain": [
       "1.0"
      ]
     },
     "execution_count": 13,
     "metadata": {},
     "output_type": "execute_result"
    }
   ],
   "source": [
    "ICR_score('[cap_feature]')"
   ]
  },
  {
   "cell_type": "code",
   "execution_count": 14,
   "metadata": {},
   "outputs": [
    {
     "data": {
      "text/plain": [
       "0.9058089924515917"
      ]
     },
     "execution_count": 14,
     "metadata": {},
     "output_type": "execute_result"
    }
   ],
   "source": [
    "ICR_score('[punct_feature]')"
   ]
  },
  {
   "cell_type": "code",
   "execution_count": 15,
   "metadata": {},
   "outputs": [
    {
     "data": {
      "text/plain": [
       "0.7612596553773024"
      ]
     },
     "execution_count": 15,
     "metadata": {},
     "output_type": "execute_result"
    }
   ],
   "source": [
    "ICR_score('[forw_ref_feature]')"
   ]
  },
  {
   "cell_type": "code",
   "execution_count": 16,
   "metadata": {},
   "outputs": [
    {
     "data": {
      "text/plain": [
       "0.846441947565543"
      ]
     },
     "execution_count": 16,
     "metadata": {},
     "output_type": "execute_result"
    }
   ],
   "source": [
    "ICR_score('[question_feature]')"
   ]
  },
  {
   "cell_type": "code",
   "execution_count": 17,
   "metadata": {},
   "outputs": [
    {
     "data": {
      "text/plain": [
       "0.9057670920934173"
      ]
     },
     "execution_count": 17,
     "metadata": {},
     "output_type": "execute_result"
    }
   ],
   "source": [
    "ICR_score('[media_feature]')"
   ]
  },
  {
   "cell_type": "code",
   "execution_count": null,
   "metadata": {},
   "outputs": [],
   "source": []
  },
  {
   "cell_type": "markdown",
   "metadata": {},
   "source": [
    "Analyzing Manual Content Analysis Results."
   ]
  },
  {
   "cell_type": "markdown",
   "metadata": {},
   "source": [
    "Reading CSV file with manual content analysis results,retreiving engagement metrics from the sample file and joining them with the results dataframe. "
   ]
  },
  {
   "cell_type": "code",
   "execution_count": 18,
   "metadata": {},
   "outputs": [],
   "source": [
    "CA_results = pd.read_csv('/Users/salmankhawar/Desktop/Thesis/Content Analysis/Results_CA.csv')"
   ]
  },
  {
   "cell_type": "code",
   "execution_count": 19,
   "metadata": {},
   "outputs": [
    {
     "data": {
      "text/plain": [
       "0"
      ]
     },
     "execution_count": 19,
     "metadata": {},
     "output_type": "execute_result"
    }
   ],
   "source": [
    "CA_results.duplicated().sum()"
   ]
  },
  {
   "cell_type": "code",
   "execution_count": 20,
   "metadata": {},
   "outputs": [],
   "source": [
    "CA_results.drop(['Unnamed: 0','Unnamed: 0.1'], axis=1, inplace=True)"
   ]
  },
  {
   "cell_type": "code",
   "execution_count": 21,
   "metadata": {},
   "outputs": [],
   "source": [
    "manualCA_sample = pd.read_csv('/Users/salmankhawar/Desktop/Thesis/Data_Collection_Twitter/Data_csv/Data_Collected_Tweepy/ManualCA_sample.csv')"
   ]
  },
  {
   "cell_type": "code",
   "execution_count": 22,
   "metadata": {},
   "outputs": [],
   "source": [
    "engagement_metrics = manualCA_sample[['favorite_count','retweet_count','is_retweet','twitter_account']]"
   ]
  },
  {
   "cell_type": "code",
   "execution_count": 23,
   "metadata": {},
   "outputs": [],
   "source": [
    "CA_results = CA_results.join(engagement_metrics)"
   ]
  },
  {
   "cell_type": "code",
   "execution_count": 24,
   "metadata": {},
   "outputs": [
    {
     "data": {
      "text/html": [
       "<div>\n",
       "<style scoped>\n",
       "    .dataframe tbody tr th:only-of-type {\n",
       "        vertical-align: middle;\n",
       "    }\n",
       "\n",
       "    .dataframe tbody tr th {\n",
       "        vertical-align: top;\n",
       "    }\n",
       "\n",
       "    .dataframe thead th {\n",
       "        text-align: right;\n",
       "    }\n",
       "</style>\n",
       "<table border=\"1\" class=\"dataframe\">\n",
       "  <thead>\n",
       "    <tr style=\"text-align: right;\">\n",
       "      <th></th>\n",
       "      <th>[tweet_ID]</th>\n",
       "      <th>StartDate</th>\n",
       "      <th>EndDate</th>\n",
       "      <th>Status</th>\n",
       "      <th>IPAddress</th>\n",
       "      <th>Progress</th>\n",
       "      <th>Duration (in seconds)</th>\n",
       "      <th>Finished</th>\n",
       "      <th>RecordedDate</th>\n",
       "      <th>ResponseId</th>\n",
       "      <th>...</th>\n",
       "      <th>[hashtag_feature]</th>\n",
       "      <th>[cap_feature]</th>\n",
       "      <th>[punct_feature]</th>\n",
       "      <th>[forw_ref_feature]</th>\n",
       "      <th>[question_feature]</th>\n",
       "      <th>[media_feature]</th>\n",
       "      <th>favorite_count</th>\n",
       "      <th>retweet_count</th>\n",
       "      <th>is_retweet</th>\n",
       "      <th>twitter_account</th>\n",
       "    </tr>\n",
       "  </thead>\n",
       "  <tbody>\n",
       "    <tr>\n",
       "      <td>0</td>\n",
       "      <td>1351933244179152904</td>\n",
       "      <td>2021-12-10 11:39:07</td>\n",
       "      <td>2021-12-10 11:42:07</td>\n",
       "      <td>0</td>\n",
       "      <td>84.84.82.135</td>\n",
       "      <td>100</td>\n",
       "      <td>179</td>\n",
       "      <td>1</td>\n",
       "      <td>2021-12-10 11:42:07</td>\n",
       "      <td>R_26o3GTpqSKoGoXO</td>\n",
       "      <td>...</td>\n",
       "      <td>0</td>\n",
       "      <td>0</td>\n",
       "      <td>0</td>\n",
       "      <td>0</td>\n",
       "      <td>0</td>\n",
       "      <td>0</td>\n",
       "      <td>12</td>\n",
       "      <td>3</td>\n",
       "      <td>No</td>\n",
       "      <td>BuzzFeed Politics</td>\n",
       "    </tr>\n",
       "    <tr>\n",
       "      <td>1</td>\n",
       "      <td>1309828834691350529</td>\n",
       "      <td>2021-12-10 11:42:39</td>\n",
       "      <td>2021-12-10 11:44:07</td>\n",
       "      <td>0</td>\n",
       "      <td>84.84.82.135</td>\n",
       "      <td>100</td>\n",
       "      <td>87</td>\n",
       "      <td>1</td>\n",
       "      <td>2021-12-10 11:44:07</td>\n",
       "      <td>R_1IDXJeinkI7KvcK</td>\n",
       "      <td>...</td>\n",
       "      <td>0</td>\n",
       "      <td>0</td>\n",
       "      <td>0</td>\n",
       "      <td>0</td>\n",
       "      <td>0</td>\n",
       "      <td>0</td>\n",
       "      <td>0</td>\n",
       "      <td>1</td>\n",
       "      <td>No</td>\n",
       "      <td>L.A. Times Politics</td>\n",
       "    </tr>\n",
       "    <tr>\n",
       "      <td>2</td>\n",
       "      <td>1006560210029305856</td>\n",
       "      <td>2021-12-10 11:46:35</td>\n",
       "      <td>2021-12-10 11:48:15</td>\n",
       "      <td>0</td>\n",
       "      <td>84.84.82.135</td>\n",
       "      <td>100</td>\n",
       "      <td>99</td>\n",
       "      <td>1</td>\n",
       "      <td>2021-12-10 11:48:15</td>\n",
       "      <td>R_DAE9jLJPb9q2huV</td>\n",
       "      <td>...</td>\n",
       "      <td>0</td>\n",
       "      <td>0</td>\n",
       "      <td>0</td>\n",
       "      <td>0</td>\n",
       "      <td>1</td>\n",
       "      <td>1</td>\n",
       "      <td>0</td>\n",
       "      <td>1</td>\n",
       "      <td>No</td>\n",
       "      <td>HuffPost Sports</td>\n",
       "    </tr>\n",
       "    <tr>\n",
       "      <td>3</td>\n",
       "      <td>1422561643213426692</td>\n",
       "      <td>2021-12-10 11:48:55</td>\n",
       "      <td>2021-12-10 11:52:04</td>\n",
       "      <td>0</td>\n",
       "      <td>84.84.82.135</td>\n",
       "      <td>100</td>\n",
       "      <td>188</td>\n",
       "      <td>1</td>\n",
       "      <td>2021-12-10 11:52:04</td>\n",
       "      <td>R_1fjvJlj04zzulOF</td>\n",
       "      <td>...</td>\n",
       "      <td>0</td>\n",
       "      <td>0</td>\n",
       "      <td>0</td>\n",
       "      <td>0</td>\n",
       "      <td>0</td>\n",
       "      <td>0</td>\n",
       "      <td>1</td>\n",
       "      <td>3</td>\n",
       "      <td>No</td>\n",
       "      <td>USA TODAY Politics</td>\n",
       "    </tr>\n",
       "    <tr>\n",
       "      <td>4</td>\n",
       "      <td>1465819596162678787</td>\n",
       "      <td>2021-12-10 11:52:10</td>\n",
       "      <td>2021-12-10 11:57:00</td>\n",
       "      <td>0</td>\n",
       "      <td>84.84.82.135</td>\n",
       "      <td>100</td>\n",
       "      <td>289</td>\n",
       "      <td>1</td>\n",
       "      <td>2021-12-10 11:57:00</td>\n",
       "      <td>R_1OZx8VPHhLFgtU9</td>\n",
       "      <td>...</td>\n",
       "      <td>0</td>\n",
       "      <td>0</td>\n",
       "      <td>0</td>\n",
       "      <td>0</td>\n",
       "      <td>0</td>\n",
       "      <td>1</td>\n",
       "      <td>0</td>\n",
       "      <td>32</td>\n",
       "      <td>Yes</td>\n",
       "      <td>L.A. Times Sports</td>\n",
       "    </tr>\n",
       "  </tbody>\n",
       "</table>\n",
       "<p>5 rows × 35 columns</p>\n",
       "</div>"
      ],
      "text/plain": [
       "            [tweet_ID]            StartDate              EndDate  Status  \\\n",
       "0  1351933244179152904  2021-12-10 11:39:07  2021-12-10 11:42:07       0   \n",
       "1  1309828834691350529  2021-12-10 11:42:39  2021-12-10 11:44:07       0   \n",
       "2  1006560210029305856  2021-12-10 11:46:35  2021-12-10 11:48:15       0   \n",
       "3  1422561643213426692  2021-12-10 11:48:55  2021-12-10 11:52:04       0   \n",
       "4  1465819596162678787  2021-12-10 11:52:10  2021-12-10 11:57:00       0   \n",
       "\n",
       "      IPAddress  Progress  Duration (in seconds)  Finished  \\\n",
       "0  84.84.82.135       100                    179         1   \n",
       "1  84.84.82.135       100                     87         1   \n",
       "2  84.84.82.135       100                     99         1   \n",
       "3  84.84.82.135       100                    188         1   \n",
       "4  84.84.82.135       100                    289         1   \n",
       "\n",
       "          RecordedDate         ResponseId  ...  [hashtag_feature]  \\\n",
       "0  2021-12-10 11:42:07  R_26o3GTpqSKoGoXO  ...                  0   \n",
       "1  2021-12-10 11:44:07  R_1IDXJeinkI7KvcK  ...                  0   \n",
       "2  2021-12-10 11:48:15  R_DAE9jLJPb9q2huV  ...                  0   \n",
       "3  2021-12-10 11:52:04  R_1fjvJlj04zzulOF  ...                  0   \n",
       "4  2021-12-10 11:57:00  R_1OZx8VPHhLFgtU9  ...                  0   \n",
       "\n",
       "   [cap_feature]  [punct_feature]  [forw_ref_feature]  [question_feature]  \\\n",
       "0              0                0                   0                   0   \n",
       "1              0                0                   0                   0   \n",
       "2              0                0                   0                   1   \n",
       "3              0                0                   0                   0   \n",
       "4              0                0                   0                   0   \n",
       "\n",
       "   [media_feature] favorite_count retweet_count  is_retweet  \\\n",
       "0                0             12             3          No   \n",
       "1                0              0             1          No   \n",
       "2                1              0             1          No   \n",
       "3                0              1             3          No   \n",
       "4                1              0            32         Yes   \n",
       "\n",
       "       twitter_account  \n",
       "0    BuzzFeed Politics  \n",
       "1  L.A. Times Politics  \n",
       "2      HuffPost Sports  \n",
       "3   USA TODAY Politics  \n",
       "4    L.A. Times Sports  \n",
       "\n",
       "[5 rows x 35 columns]"
      ]
     },
     "execution_count": 24,
     "metadata": {},
     "output_type": "execute_result"
    }
   ],
   "source": [
    "CA_results.head()"
   ]
  },
  {
   "cell_type": "code",
   "execution_count": 25,
   "metadata": {},
   "outputs": [
    {
     "data": {
      "text/plain": [
       "Index(['[tweet_ID]', 'StartDate', 'EndDate', 'Status', 'IPAddress', 'Progress',\n",
       "       'Duration (in seconds)', 'Finished', 'RecordedDate', 'ResponseId',\n",
       "       'RecipientLastName', 'RecipientFirstName', 'RecipientEmail',\n",
       "       'ExternalReference', 'LocationLatitude', 'LocationLongitude',\n",
       "       'DistributionChannel', 'UserLanguage', '[news_outlet]', '[tweet_topic]',\n",
       "       '[tweet_topic] _11_TEXT', '[hyperbolic_feature]', '[slang_feature]',\n",
       "       '[listicle_feature]', '[emoji_feature]', '[hashtag_feature]',\n",
       "       '[cap_feature]', '[punct_feature]', '[forw_ref_feature]',\n",
       "       '[question_feature]', '[media_feature]', 'favorite_count',\n",
       "       'retweet_count', 'is_retweet', 'twitter_account'],\n",
       "      dtype='object')"
      ]
     },
     "execution_count": 25,
     "metadata": {},
     "output_type": "execute_result"
    }
   ],
   "source": [
    "CA_results.columns"
   ]
  },
  {
   "cell_type": "markdown",
   "metadata": {},
   "source": [
    "Calculating detection rates for each sensationalist feature (1=feature present, 0=feature not present)"
   ]
  },
  {
   "cell_type": "code",
   "execution_count": 26,
   "metadata": {},
   "outputs": [
    {
     "data": {
      "text/plain": [
       "0    89.930556\n",
       "1    10.069444\n",
       "Name: [hyperbolic_feature], dtype: float64"
      ]
     },
     "execution_count": 26,
     "metadata": {},
     "output_type": "execute_result"
    }
   ],
   "source": [
    "CA_results['[hyperbolic_feature]'].value_counts(normalize=True)*100"
   ]
  },
  {
   "cell_type": "code",
   "execution_count": 27,
   "metadata": {},
   "outputs": [
    {
     "data": {
      "text/plain": [
       "0    94.166667\n",
       "1     5.833333\n",
       "Name: [slang_feature], dtype: float64"
      ]
     },
     "execution_count": 27,
     "metadata": {},
     "output_type": "execute_result"
    }
   ],
   "source": [
    "CA_results['[slang_feature]'].value_counts(normalize=True)*100"
   ]
  },
  {
   "cell_type": "code",
   "execution_count": 28,
   "metadata": {},
   "outputs": [
    {
     "data": {
      "text/plain": [
       "0    99.097222\n",
       "1     0.902778\n",
       "Name: [listicle_feature], dtype: float64"
      ]
     },
     "execution_count": 28,
     "metadata": {},
     "output_type": "execute_result"
    }
   ],
   "source": [
    "CA_results['[listicle_feature]'].value_counts(normalize=True)*100"
   ]
  },
  {
   "cell_type": "code",
   "execution_count": 29,
   "metadata": {},
   "outputs": [
    {
     "data": {
      "text/plain": [
       "0    95.763889\n",
       "1     4.236111\n",
       "Name: [emoji_feature], dtype: float64"
      ]
     },
     "execution_count": 29,
     "metadata": {},
     "output_type": "execute_result"
    }
   ],
   "source": [
    "CA_results['[emoji_feature]'].value_counts(normalize=True)*100"
   ]
  },
  {
   "cell_type": "code",
   "execution_count": 30,
   "metadata": {},
   "outputs": [
    {
     "data": {
      "text/plain": [
       "0    91.527778\n",
       "1     8.472222\n",
       "Name: [hashtag_feature], dtype: float64"
      ]
     },
     "execution_count": 30,
     "metadata": {},
     "output_type": "execute_result"
    }
   ],
   "source": [
    "CA_results['[hashtag_feature]'].value_counts(normalize=True)*100"
   ]
  },
  {
   "cell_type": "code",
   "execution_count": 31,
   "metadata": {},
   "outputs": [
    {
     "data": {
      "text/plain": [
       "0    96.944444\n",
       "1     3.055556\n",
       "Name: [cap_feature], dtype: float64"
      ]
     },
     "execution_count": 31,
     "metadata": {},
     "output_type": "execute_result"
    }
   ],
   "source": [
    "CA_results['[cap_feature]'].value_counts(normalize=True)*100"
   ]
  },
  {
   "cell_type": "code",
   "execution_count": 32,
   "metadata": {},
   "outputs": [
    {
     "data": {
      "text/plain": [
       "0    97.430556\n",
       "1     2.569444\n",
       "Name: [punct_feature], dtype: float64"
      ]
     },
     "execution_count": 32,
     "metadata": {},
     "output_type": "execute_result"
    }
   ],
   "source": [
    "CA_results['[punct_feature]'].value_counts(normalize=True)*100"
   ]
  },
  {
   "cell_type": "code",
   "execution_count": 33,
   "metadata": {},
   "outputs": [
    {
     "data": {
      "text/plain": [
       "0    95.833333\n",
       "1     4.166667\n",
       "Name: [forw_ref_feature], dtype: float64"
      ]
     },
     "execution_count": 33,
     "metadata": {},
     "output_type": "execute_result"
    }
   ],
   "source": [
    "CA_results['[forw_ref_feature]'].value_counts(normalize=True)*100"
   ]
  },
  {
   "cell_type": "code",
   "execution_count": 34,
   "metadata": {},
   "outputs": [
    {
     "data": {
      "text/plain": [
       "0    94.444444\n",
       "1     5.555556\n",
       "Name: [question_feature], dtype: float64"
      ]
     },
     "execution_count": 34,
     "metadata": {},
     "output_type": "execute_result"
    }
   ],
   "source": [
    "CA_results['[question_feature]'].value_counts(normalize=True)*100"
   ]
  },
  {
   "cell_type": "markdown",
   "metadata": {},
   "source": [
    "Media Feature: 0=no media, 1=photo, 2=video, 3=animated gif"
   ]
  },
  {
   "cell_type": "code",
   "execution_count": 35,
   "metadata": {},
   "outputs": [
    {
     "data": {
      "text/plain": [
       "0    79.791667\n",
       "1    13.680556\n",
       "2     5.208333\n",
       "3     1.319444\n",
       "Name: [media_feature], dtype: float64"
      ]
     },
     "execution_count": 35,
     "metadata": {},
     "output_type": "execute_result"
    }
   ],
   "source": [
    "CA_results['[media_feature]'].value_counts(normalize=True)*100"
   ]
  },
  {
   "cell_type": "markdown",
   "metadata": {},
   "source": [
    "Creating dummy variable for media (1=media present, 0=media not present)"
   ]
  },
  {
   "cell_type": "code",
   "execution_count": 36,
   "metadata": {},
   "outputs": [],
   "source": [
    "def media_feature(x):\n",
    "               if x == 0:\n",
    "                        return 0\n",
    "               else:\n",
    "                        return 1"
   ]
  },
  {
   "cell_type": "code",
   "execution_count": 37,
   "metadata": {},
   "outputs": [],
   "source": [
    "CA_results['[media_dummy]'] = CA_results['[media_feature]'].apply(media_feature) "
   ]
  },
  {
   "cell_type": "code",
   "execution_count": 38,
   "metadata": {},
   "outputs": [
    {
     "data": {
      "text/plain": [
       "0    79.791667\n",
       "1    20.208333\n",
       "Name: [media_dummy], dtype: float64"
      ]
     },
     "execution_count": 38,
     "metadata": {},
     "output_type": "execute_result"
    }
   ],
   "source": [
    "CA_results['[media_dummy]'].value_counts(normalize=True)*100"
   ]
  },
  {
   "cell_type": "markdown",
   "metadata": {},
   "source": [
    "Creating dummy variable for presence of sensationalism in tweets (1=sensationalist feature present, 0=sensationalist feature not present)"
   ]
  },
  {
   "cell_type": "code",
   "execution_count": 39,
   "metadata": {},
   "outputs": [],
   "source": [
    "CA_features_grid = CA_results[['[hyperbolic_feature]', '[slang_feature]', '[listicle_feature]', '[emoji_feature]', '[question_feature]', '[hashtag_feature]', '[forw_ref_feature]', '[punct_feature]', '[cap_feature]', '[media_dummy]']].apply(pd.to_numeric)"
   ]
  },
  {
   "cell_type": "code",
   "execution_count": 40,
   "metadata": {},
   "outputs": [],
   "source": [
    "CA_features_grid = np.array(CA_features_grid)"
   ]
  },
  {
   "cell_type": "code",
   "execution_count": 41,
   "metadata": {},
   "outputs": [],
   "source": [
    "CA_features_grid = CA_features_grid.tolist()"
   ]
  },
  {
   "cell_type": "code",
   "execution_count": 42,
   "metadata": {},
   "outputs": [],
   "source": [
    "CAcombined_features_dummy = [int(any(row)) for row in CA_features_grid]"
   ]
  },
  {
   "cell_type": "code",
   "execution_count": 43,
   "metadata": {},
   "outputs": [
    {
     "data": {
      "text/plain": [
       "[0, 0, 1, 0, 1, 1, 1, 1, 0, 0, 0, 1, 0, 0, 0, 1, 1, 0, 0, 0]"
      ]
     },
     "execution_count": 43,
     "metadata": {},
     "output_type": "execute_result"
    }
   ],
   "source": [
    "CAcombined_features_dummy[:20]"
   ]
  },
  {
   "cell_type": "code",
   "execution_count": 44,
   "metadata": {},
   "outputs": [],
   "source": [
    "CA_results['combined_features_dummy'] = CAcombined_features_dummy"
   ]
  },
  {
   "cell_type": "markdown",
   "metadata": {},
   "source": [
    "Sensationalist feature present in 44.03% of tweets in sample"
   ]
  },
  {
   "cell_type": "code",
   "execution_count": 45,
   "metadata": {},
   "outputs": [
    {
     "data": {
      "text/plain": [
       "0    55.972222\n",
       "1    44.027778\n",
       "Name: combined_features_dummy, dtype: float64"
      ]
     },
     "execution_count": 45,
     "metadata": {},
     "output_type": "execute_result"
    }
   ],
   "source": [
    "CA_results['combined_features_dummy'].value_counts(normalize=True)*100"
   ]
  },
  {
   "cell_type": "markdown",
   "metadata": {},
   "source": [
    "Creating count variable with number of features in each tweet"
   ]
  },
  {
   "cell_type": "code",
   "execution_count": 46,
   "metadata": {},
   "outputs": [],
   "source": [
    "count_variable = np.sum(CA_features_grid ,axis=1).tolist()"
   ]
  },
  {
   "cell_type": "code",
   "execution_count": 47,
   "metadata": {},
   "outputs": [],
   "source": [
    "CA_results['count_variable'] = count_variable"
   ]
  },
  {
   "cell_type": "code",
   "execution_count": 48,
   "metadata": {},
   "outputs": [
    {
     "data": {
      "text/plain": [
       "0    55.972222\n",
       "1    28.611111\n",
       "2    10.902778\n",
       "3     3.611111\n",
       "4     0.694444\n",
       "5     0.208333\n",
       "Name: count_variable, dtype: float64"
      ]
     },
     "execution_count": 48,
     "metadata": {},
     "output_type": "execute_result"
    }
   ],
   "source": [
    "CA_results['count_variable'].value_counts(normalize=True)*100"
   ]
  },
  {
   "cell_type": "markdown",
   "metadata": {},
   "source": [
    "Creating variable for outlet type (1=tweets published by online-native outlets, 0=tweets published by legacy outlets)"
   ]
  },
  {
   "cell_type": "code",
   "execution_count": 49,
   "metadata": {},
   "outputs": [],
   "source": [
    "def news_outlet_classifications(number):\n",
    "    number = str(number)\n",
    "    if re.search(r\"\\b[1-6]\\b\", number):\n",
    "        return 1\n",
    "    else:\n",
    "        return 0"
   ]
  },
  {
   "cell_type": "code",
   "execution_count": 50,
   "metadata": {},
   "outputs": [],
   "source": [
    "CA_results['outlet_type'] = CA_results['[news_outlet]'].apply(news_outlet_classifications) "
   ]
  },
  {
   "cell_type": "code",
   "execution_count": 51,
   "metadata": {},
   "outputs": [
    {
     "data": {
      "text/plain": [
       "0    50.138889\n",
       "1    49.861111\n",
       "Name: outlet_type, dtype: float64"
      ]
     },
     "execution_count": 51,
     "metadata": {},
     "output_type": "execute_result"
    }
   ],
   "source": [
    "CA_results['outlet_type'].value_counts(normalize=True)*100"
   ]
  },
  {
   "cell_type": "markdown",
   "metadata": {},
   "source": [
    "Creating variable for channel type (1=tweets published in soft news sub-channels i.e sports,entertainment/life, 0=tweets published in hard news sub-channels i.e politics)"
   ]
  },
  {
   "cell_type": "code",
   "execution_count": 52,
   "metadata": {},
   "outputs": [],
   "source": [
    "def channel_classification(number):\n",
    "    number = str(number)\n",
    "    if re.search(r\"\\b[147][0]?\\b\", number):\n",
    "        return 0\n",
    "    else:\n",
    "        return 1"
   ]
  },
  {
   "cell_type": "code",
   "execution_count": 53,
   "metadata": {},
   "outputs": [],
   "source": [
    "CA_results['channel_type'] = CA_results['[news_outlet]'].apply(channel_classification) "
   ]
  },
  {
   "cell_type": "code",
   "execution_count": 54,
   "metadata": {},
   "outputs": [
    {
     "data": {
      "text/plain": [
       "1    50.138889\n",
       "0    49.861111\n",
       "Name: channel_type, dtype: float64"
      ]
     },
     "execution_count": 54,
     "metadata": {},
     "output_type": "execute_result"
    }
   ],
   "source": [
    "CA_results['channel_type'].value_counts(normalize=True)*100"
   ]
  },
  {
   "cell_type": "markdown",
   "metadata": {},
   "source": [
    "Creating dummy variable for topic type \n",
    "\n",
    "(1=tweets classified as 'entertainment/celebrity news','lifestyle and society ','sports','crime/law and order','human-interest story', \n",
    "\n",
    "0=tweets classified as 'politics/government affairs/military','international affairs','economy/business','health/education' and 'science/technology')"
   ]
  },
  {
   "cell_type": "code",
   "execution_count": 55,
   "metadata": {},
   "outputs": [],
   "source": [
    "def topic_type(x):\n",
    "    if x in [6,7,8,9,10]:\n",
    "        return 1\n",
    "    else:\n",
    "        return 0"
   ]
  },
  {
   "cell_type": "code",
   "execution_count": 56,
   "metadata": {},
   "outputs": [],
   "source": [
    "CA_results['topic_type'] = CA_results['[tweet_topic]'].apply(topic_type) "
   ]
  },
  {
   "cell_type": "code",
   "execution_count": 57,
   "metadata": {},
   "outputs": [
    {
     "data": {
      "text/plain": [
       "1    54.791667\n",
       "0    45.208333\n",
       "Name: topic_type, dtype: float64"
      ]
     },
     "execution_count": 57,
     "metadata": {},
     "output_type": "execute_result"
    }
   ],
   "source": [
    "CA_results['topic_type'].value_counts(normalize=True)*100"
   ]
  },
  {
   "cell_type": "markdown",
   "metadata": {},
   "source": [
    "Creating dummy variables for indiviudal topic categories"
   ]
  },
  {
   "cell_type": "code",
   "execution_count": 58,
   "metadata": {},
   "outputs": [],
   "source": [
    "topic_dummies = pd.get_dummies(CA_results['[tweet_topic]'])"
   ]
  },
  {
   "cell_type": "code",
   "execution_count": 59,
   "metadata": {},
   "outputs": [],
   "source": [
    "CA_results['politics/government affairs/military'] = topic_dummies[1]\n",
    "CA_results['international affairs'] = topic_dummies[2]\n",
    "CA_results['economy/business'] = topic_dummies[3]\n",
    "CA_results['health/education'] = topic_dummies[4]\n",
    "CA_results['science/technology'] = topic_dummies[5]\n",
    "CA_results['entertainment/celebrity news'] = topic_dummies[6]\n",
    "CA_results['lifestyle and society'] = topic_dummies[7]\n",
    "CA_results['sports'] = topic_dummies[8]\n",
    "CA_results['crime/law and order'] = topic_dummies[9]\n",
    "CA_results['human-interest story'] = topic_dummies[10]\n",
    "CA_results['other'] = topic_dummies[11]"
   ]
  },
  {
   "cell_type": "markdown",
   "metadata": {},
   "source": [
    "Creating variable for length of tweets, after removing urls present in tweet texts"
   ]
  },
  {
   "cell_type": "code",
   "execution_count": 60,
   "metadata": {},
   "outputs": [],
   "source": [
    "def remove_urls(df):\n",
    "    url_removed =[]\n",
    "    for text in df['text']:\n",
    "            text = re.sub(r'(https|http)?:\\/\\/(\\w|\\.|\\/|\\?|\\=|\\&|\\%)*\\b', '', text, flags=re.MULTILINE)\n",
    "            url_removed.append(text)\n",
    "\n",
    "    df['text'] = url_removed"
   ]
  },
  {
   "cell_type": "code",
   "execution_count": 61,
   "metadata": {},
   "outputs": [],
   "source": [
    "remove_urls(manualCA_sample)"
   ]
  },
  {
   "cell_type": "code",
   "execution_count": 62,
   "metadata": {},
   "outputs": [],
   "source": [
    "def length_tweet(x):\n",
    "    return len(x)"
   ]
  },
  {
   "cell_type": "code",
   "execution_count": 63,
   "metadata": {},
   "outputs": [],
   "source": [
    "CA_results['len_tweet'] = manualCA_sample['text'].apply(length_tweet)"
   ]
  },
  {
   "cell_type": "code",
   "execution_count": 64,
   "metadata": {},
   "outputs": [
    {
     "data": {
      "text/plain": [
       "0    129\n",
       "1     86\n",
       "2     66\n",
       "3    140\n",
       "4    127\n",
       "5     65\n",
       "6     90\n",
       "7    120\n",
       "8     60\n",
       "9    191\n",
       "Name: len_tweet, dtype: int64"
      ]
     },
     "execution_count": 64,
     "metadata": {},
     "output_type": "execute_result"
    }
   ],
   "source": [
    "CA_results['len_tweet'].head(10)"
   ]
  },
  {
   "cell_type": "markdown",
   "metadata": {},
   "source": [
    "Creating variables for engagement metrics per hundred thousand account followers"
   ]
  },
  {
   "cell_type": "code",
   "execution_count": 65,
   "metadata": {},
   "outputs": [],
   "source": [
    "BuzzFeedPolitics_followers = int(140881)/int(100000)\n",
    "BuzzFeedSports_followers = int(63060)/int(100000)\n",
    "BuzzFeedEnt_followers = int(81725)/int(100000)\n",
    "HuffPostPolitics_followers = int(1439630)/int(100000)\n",
    "HuffPostSports_followers = int(62587)/int(100000)\n",
    "HuffPostLife_followers = int(125749)/int(100000)\n",
    "USATODAYPolitics_followers = int(215937)/int(100000)\n",
    "USATODAYSports_followers = int(246780)/int(100000)\n",
    "USATODAYLife_followers= int(85285)/int(100000)\n",
    "LATimesPolitics_followers = int(12314)/int(100000)\n",
    "LATimesSports_followers = int(50398)/int(100000)\n",
    "LATEnt_followers = int(168665)/int(100000)"
   ]
  },
  {
   "cell_type": "code",
   "execution_count": 66,
   "metadata": {},
   "outputs": [],
   "source": [
    "CA_results['followers_per100000'] = ''"
   ]
  },
  {
   "cell_type": "code",
   "execution_count": 67,
   "metadata": {},
   "outputs": [],
   "source": [
    "CA_results.loc[(CA_results['twitter_account'] == 'BuzzFeed Politics'), 'followers_per100000'] = BuzzFeedPolitics_followers\n",
    "CA_results.loc[(CA_results['twitter_account'] == 'BuzzFeed Sports'), 'followers_per100000'] = BuzzFeedSports_followers\n",
    "CA_results.loc[(CA_results['twitter_account'] == 'BuzzFeed Arts & Entertainment'), 'followers_per100000'] = BuzzFeedEnt_followers\n",
    "CA_results.loc[(CA_results['twitter_account'] == 'HuffPost Politics'), 'followers_per100000'] = HuffPostPolitics_followers\n",
    "CA_results.loc[(CA_results['twitter_account'] == 'HuffPost Sports'), 'followers_per100000'] = HuffPostSports_followers\n",
    "CA_results.loc[(CA_results['twitter_account'] == 'HuffPost Life'), 'followers_per100000'] = HuffPostLife_followers\n",
    "CA_results.loc[(CA_results['twitter_account'] == 'USA TODAY Politics'), 'followers_per100000'] = USATODAYPolitics_followers\n",
    "CA_results.loc[(CA_results['twitter_account'] == 'USA TODAY Sports'), 'followers_per100000'] = USATODAYSports_followers\n",
    "CA_results.loc[(CA_results['twitter_account'] == 'USA TODAY Life'), 'followers_per100000'] = USATODAYLife_followers\n",
    "CA_results.loc[(CA_results['twitter_account'] == 'L.A. Times Politics'), 'followers_per100000'] = LATimesPolitics_followers\n",
    "CA_results.loc[(CA_results['twitter_account'] == 'L.A. Times Sports'), 'followers_per100000'] = LATimesSports_followers\n",
    "CA_results.loc[(CA_results['twitter_account'] == 'LAT Entertainment'), 'followers_per100000'] = LATEnt_followers"
   ]
  },
  {
   "cell_type": "code",
   "execution_count": 68,
   "metadata": {},
   "outputs": [],
   "source": [
    "CA_results['favorites_per100000'] = CA_results['favorite_count']/CA_results['followers_per100000']"
   ]
  },
  {
   "cell_type": "code",
   "execution_count": 69,
   "metadata": {},
   "outputs": [],
   "source": [
    "CA_results['retweets_per100000'] = CA_results['retweet_count']/CA_results['followers_per100000']"
   ]
  },
  {
   "cell_type": "code",
   "execution_count": 70,
   "metadata": {},
   "outputs": [],
   "source": [
    "CA_results['favorites_per100000'] = list(map(lambda x,y: x/y, CA_results['favorite_count'],CA_results['followers_per100000']))"
   ]
  },
  {
   "cell_type": "code",
   "execution_count": 71,
   "metadata": {},
   "outputs": [],
   "source": [
    "CA_results['retweets_per100000'] = list(map(lambda x,y: x/y, CA_results['retweet_count'],CA_results['followers_per100000']))"
   ]
  },
  {
   "cell_type": "code",
   "execution_count": 72,
   "metadata": {},
   "outputs": [],
   "source": [
    "CA_results['favorites_per100000'] = pd.to_numeric(CA_results['favorites_per100000'])\n",
    "CA_results['retweets_per100000'] = pd.to_numeric(CA_results['retweets_per100000'])"
   ]
  },
  {
   "cell_type": "markdown",
   "metadata": {},
   "source": [
    "Testing H1"
   ]
  },
  {
   "cell_type": "markdown",
   "metadata": {},
   "source": [
    "Running Logistic Regression using dummy variable for presence of sensationalist feature/s in tweets as DV and outlet type(main variable of interest), channel type and tweet length as IVs (Table C1)"
   ]
  },
  {
   "cell_type": "code",
   "execution_count": 73,
   "metadata": {},
   "outputs": [],
   "source": [
    "featuresH1 = ['outlet_type', 'len_tweet', 'channel_type']"
   ]
  },
  {
   "cell_type": "code",
   "execution_count": 75,
   "metadata": {},
   "outputs": [
    {
     "name": "stderr",
     "output_type": "stream",
     "text": [
      "/Applications/anaconda3/lib/python3.7/site-packages/numpy/core/fromnumeric.py:2495: FutureWarning: Method .ptp is deprecated and will be removed in a future version. Use numpy.ptp instead.\n",
      "  return ptp(axis=axis, out=out, **kwargs)\n"
     ]
    }
   ],
   "source": [
    "logit_model = sm.Logit(CA_results['combined_features_dummy'], sm.add_constant(CA_results[featuresH1]))"
   ]
  },
  {
   "cell_type": "code",
   "execution_count": 76,
   "metadata": {},
   "outputs": [
    {
     "name": "stdout",
     "output_type": "stream",
     "text": [
      "Optimization terminated successfully.\n",
      "         Current function value: 0.588847\n",
      "         Iterations 5\n",
      "                              Logit Regression Results                             \n",
      "===================================================================================\n",
      "Dep. Variable:     combined_features_dummy   No. Observations:                 1440\n",
      "Model:                               Logit   Df Residuals:                     1436\n",
      "Method:                                MLE   Df Model:                            3\n",
      "Date:                     Wed, 02 Feb 2022   Pseudo R-squ.:                  0.1416\n",
      "Time:                             15:12:15   Log-Likelihood:                -847.94\n",
      "converged:                            True   LL-Null:                       -987.84\n",
      "Covariance Type:                 nonrobust   LLR p-value:                 2.349e-60\n",
      "================================================================================\n",
      "                   coef    std err          z      P>|z|      [0.025      0.975]\n",
      "--------------------------------------------------------------------------------\n",
      "const           -1.8320      0.187     -9.815      0.000      -2.198      -1.466\n",
      "outlet_type      0.8048      0.122      6.603      0.000       0.566       1.044\n",
      "len_tweet        0.0022      0.001      1.910      0.056   -5.91e-05       0.005\n",
      "channel_type     1.7717      0.120     14.754      0.000       1.536       2.007\n",
      "================================================================================\n"
     ]
    }
   ],
   "source": [
    "reg_model_H1a = logit_model.fit()\n",
    "print(reg_model_H1a.summary())"
   ]
  },
  {
   "cell_type": "markdown",
   "metadata": {},
   "source": [
    "Running OLS Regression using count variable for number of sensationalist features in tweets as DV and outlet type(main variable of interest), channel type and tweet length as IVs (Table C1)"
   ]
  },
  {
   "cell_type": "code",
   "execution_count": 78,
   "metadata": {},
   "outputs": [
    {
     "name": "stdout",
     "output_type": "stream",
     "text": [
      "                            OLS Regression Results                            \n",
      "==============================================================================\n",
      "Dep. Variable:         count_variable   R-squared:                       0.219\n",
      "Model:                            OLS   Adj. R-squared:                  0.218\n",
      "Method:                 Least Squares   F-statistic:                     134.5\n",
      "Date:                Wed, 02 Feb 2022   Prob (F-statistic):           8.45e-77\n",
      "Time:                        15:12:36   Log-Likelihood:                -1692.5\n",
      "No. Observations:                1440   AIC:                             3393.\n",
      "Df Residuals:                    1436   BIC:                             3414.\n",
      "Df Model:                           3                                         \n",
      "Covariance Type:            nonrobust                                         \n",
      "================================================================================\n",
      "                   coef    std err          t      P>|t|      [0.025      0.975]\n",
      "--------------------------------------------------------------------------------\n",
      "const           -0.0545      0.062     -0.879      0.379      -0.176       0.067\n",
      "outlet_type      0.2761      0.042      6.544      0.000       0.193       0.359\n",
      "len_tweet        0.0016      0.000      3.823      0.000       0.001       0.002\n",
      "channel_type     0.7837      0.041     18.931      0.000       0.703       0.865\n",
      "==============================================================================\n",
      "Omnibus:                      267.003   Durbin-Watson:                   2.047\n",
      "Prob(Omnibus):                  0.000   Jarque-Bera (JB):              529.466\n",
      "Skew:                           1.090   Prob(JB):                    1.07e-115\n",
      "Kurtosis:                       5.018   Cond. No.                         399.\n",
      "==============================================================================\n",
      "\n",
      "Warnings:\n",
      "[1] Standard Errors assume that the covariance matrix of the errors is correctly specified.\n"
     ]
    }
   ],
   "source": [
    "OLS_model =  sm.OLS(CA_results['count_variable'], sm.add_constant(CA_results[featuresH1]))\n",
    "reg_model_H1b = OLS_model.fit()\n",
    "print(reg_model_H1b.summary())"
   ]
  },
  {
   "cell_type": "markdown",
   "metadata": {},
   "source": [
    "Testing H2"
   ]
  },
  {
   "cell_type": "markdown",
   "metadata": {},
   "source": [
    "Running Logistic Regression using dummy variable for presence of sensationalist feature/s in tweets as DV and topic type(main variable of interest), channel type and tweet length as IVs (Table C2)"
   ]
  },
  {
   "cell_type": "code",
   "execution_count": 79,
   "metadata": {},
   "outputs": [],
   "source": [
    "featuresH2 = ['topic_type','outlet_type','len_tweet']"
   ]
  },
  {
   "cell_type": "code",
   "execution_count": 80,
   "metadata": {},
   "outputs": [
    {
     "name": "stdout",
     "output_type": "stream",
     "text": [
      "Optimization terminated successfully.\n",
      "         Current function value: 0.601310\n",
      "         Iterations 5\n",
      "                              Logit Regression Results                             \n",
      "===================================================================================\n",
      "Dep. Variable:     combined_features_dummy   No. Observations:                 1440\n",
      "Model:                               Logit   Df Residuals:                     1436\n",
      "Method:                                MLE   Df Model:                            3\n",
      "Date:                     Wed, 02 Feb 2022   Pseudo R-squ.:                  0.1235\n",
      "Time:                             15:12:50   Log-Likelihood:                -865.89\n",
      "converged:                            True   LL-Null:                       -987.84\n",
      "Covariance Type:                 nonrobust   LLR p-value:                 1.367e-52\n",
      "===============================================================================\n",
      "                  coef    std err          z      P>|z|      [0.025      0.975]\n",
      "-------------------------------------------------------------------------------\n",
      "const          -1.7585      0.184     -9.535      0.000      -2.120      -1.397\n",
      "topic_type      1.6385      0.120     13.694      0.000       1.404       1.873\n",
      "outlet_type     0.6819      0.119      5.728      0.000       0.449       0.915\n",
      "len_tweet       0.0020      0.001      1.766      0.077      -0.000       0.004\n",
      "===============================================================================\n"
     ]
    }
   ],
   "source": [
    "logit_model2a = sm.Logit(CA_results['combined_features_dummy'], sm.add_constant(CA_results[featuresH2]))\n",
    "reg_modelH2a = logit_model2a.fit()\n",
    "print(reg_modelH2a.summary())"
   ]
  },
  {
   "cell_type": "markdown",
   "metadata": {},
   "source": [
    "Running OLS Regression using count variable for number of sensationalist features in tweets as DV and topic type(main variable of interest), channel type and tweet length as IVs (Table C2)"
   ]
  },
  {
   "cell_type": "code",
   "execution_count": 81,
   "metadata": {},
   "outputs": [
    {
     "name": "stdout",
     "output_type": "stream",
     "text": [
      "                            OLS Regression Results                            \n",
      "==============================================================================\n",
      "Dep. Variable:         count_variable   R-squared:                       0.187\n",
      "Model:                            OLS   Adj. R-squared:                  0.186\n",
      "Method:                 Least Squares   F-statistic:                     110.4\n",
      "Date:                Wed, 02 Feb 2022   Prob (F-statistic):           2.40e-64\n",
      "Time:                        15:12:57   Log-Likelihood:                -1721.3\n",
      "No. Observations:                1440   AIC:                             3451.\n",
      "Df Residuals:                    1436   BIC:                             3472.\n",
      "Df Model:                           3                                         \n",
      "Covariance Type:            nonrobust                                         \n",
      "===============================================================================\n",
      "                  coef    std err          t      P>|t|      [0.025      0.975]\n",
      "-------------------------------------------------------------------------------\n",
      "const          -0.0300      0.063     -0.473      0.637      -0.155       0.095\n",
      "topic_type      0.7211      0.042     16.969      0.000       0.638       0.804\n",
      "outlet_type     0.2358      0.043      5.472      0.000       0.151       0.320\n",
      "len_tweet       0.0015      0.000      3.607      0.000       0.001       0.002\n",
      "==============================================================================\n",
      "Omnibus:                      277.937   Durbin-Watson:                   2.038\n",
      "Prob(Omnibus):                  0.000   Jarque-Bera (JB):              548.977\n",
      "Skew:                           1.134   Prob(JB):                    6.18e-120\n",
      "Kurtosis:                       5.002   Cond. No.                         399.\n",
      "==============================================================================\n",
      "\n",
      "Warnings:\n",
      "[1] Standard Errors assume that the covariance matrix of the errors is correctly specified.\n"
     ]
    }
   ],
   "source": [
    "OLS_model2b =  sm.OLS(CA_results['count_variable'], sm.add_constant(CA_results[featuresH2]))\n",
    "reg_modelH2b = OLS_model2b.fit()\n",
    "print(reg_modelH2b.summary())"
   ]
  },
  {
   "cell_type": "markdown",
   "metadata": {},
   "source": [
    "Running Logistic Regression using dummy variable for presence of sensationalist feature/s in tweets as DV and individual soft topics and 'other' category as IVs. The reference group is tweets pertaining to hard topic categories.(Table C3)"
   ]
  },
  {
   "cell_type": "code",
   "execution_count": 82,
   "metadata": {},
   "outputs": [],
   "source": [
    "soft_topics = ['entertainment/celebrity news','lifestyle and society','sports','human-interest story', 'crime/law and order','other']"
   ]
  },
  {
   "cell_type": "code",
   "execution_count": 83,
   "metadata": {},
   "outputs": [
    {
     "name": "stdout",
     "output_type": "stream",
     "text": [
      "Optimization terminated successfully.\n",
      "         Current function value: 0.592995\n",
      "         Iterations 19\n",
      "                              Logit Regression Results                             \n",
      "===================================================================================\n",
      "Dep. Variable:     combined_features_dummy   No. Observations:                 1440\n",
      "Model:                               Logit   Df Residuals:                     1433\n",
      "Method:                                MLE   Df Model:                            6\n",
      "Date:                     Wed, 02 Feb 2022   Pseudo R-squ.:                  0.1356\n",
      "Time:                             15:13:10   Log-Likelihood:                -853.91\n",
      "converged:                            True   LL-Null:                       -987.84\n",
      "Covariance Type:                 nonrobust   LLR p-value:                 6.268e-55\n",
      "================================================================================================\n",
      "                                   coef    std err          z      P>|z|      [0.025      0.975]\n",
      "------------------------------------------------------------------------------------------------\n",
      "const                           -1.1660      0.093    -12.593      0.000      -1.347      -0.985\n",
      "entertainment/celebrity news     1.6293      0.152     10.716      0.000       1.331       1.927\n",
      "lifestyle and society            1.1999      0.206      5.822      0.000       0.796       1.604\n",
      "sports                           2.0441      0.153     13.386      0.000       1.745       2.343\n",
      "human-interest story             0.5782      0.565      1.023      0.306      -0.530       1.686\n",
      "crime/law and order             -0.3846      0.426     -0.902      0.367      -1.220       0.451\n",
      "other                         -354.6225   6.85e+76  -5.17e-75      1.000   -1.34e+77    1.34e+77\n",
      "================================================================================================\n"
     ]
    },
    {
     "name": "stderr",
     "output_type": "stream",
     "text": [
      "/Applications/anaconda3/lib/python3.7/site-packages/numpy/core/fromnumeric.py:2495: FutureWarning: Method .ptp is deprecated and will be removed in a future version. Use numpy.ptp instead.\n",
      "  return ptp(axis=axis, out=out, **kwargs)\n",
      "/Applications/anaconda3/lib/python3.7/site-packages/numpy/core/fromnumeric.py:2495: FutureWarning: Method .ptp is deprecated and will be removed in a future version. Use numpy.ptp instead.\n",
      "  return ptp(axis=axis, out=out, **kwargs)\n",
      "/Applications/anaconda3/lib/python3.7/site-packages/numpy/core/fromnumeric.py:2495: FutureWarning: Method .ptp is deprecated and will be removed in a future version. Use numpy.ptp instead.\n",
      "  return ptp(axis=axis, out=out, **kwargs)\n",
      "/Applications/anaconda3/lib/python3.7/site-packages/numpy/core/fromnumeric.py:2495: FutureWarning: Method .ptp is deprecated and will be removed in a future version. Use numpy.ptp instead.\n",
      "  return ptp(axis=axis, out=out, **kwargs)\n",
      "/Applications/anaconda3/lib/python3.7/site-packages/numpy/core/fromnumeric.py:2495: FutureWarning: Method .ptp is deprecated and will be removed in a future version. Use numpy.ptp instead.\n",
      "  return ptp(axis=axis, out=out, **kwargs)\n",
      "/Applications/anaconda3/lib/python3.7/site-packages/numpy/core/fromnumeric.py:2495: FutureWarning: Method .ptp is deprecated and will be removed in a future version. Use numpy.ptp instead.\n",
      "  return ptp(axis=axis, out=out, **kwargs)\n"
     ]
    }
   ],
   "source": [
    "logit_model2c = sm.Logit(CA_results['combined_features_dummy'], sm.add_constant(CA_results[soft_topics]))\n",
    "reg_modelH2c = logit_model2c.fit()\n",
    "print(reg_modelH2c.summary())"
   ]
  },
  {
   "cell_type": "code",
   "execution_count": 84,
   "metadata": {},
   "outputs": [
    {
     "name": "stdout",
     "output_type": "stream",
     "text": [
      "                            OLS Regression Results                            \n",
      "==============================================================================\n",
      "Dep. Variable:         count_variable   R-squared:                       0.212\n",
      "Model:                            OLS   Adj. R-squared:                  0.209\n",
      "Method:                 Least Squares   F-statistic:                     64.21\n",
      "Date:                Wed, 02 Feb 2022   Prob (F-statistic):           9.41e-71\n",
      "Time:                        15:13:20   Log-Likelihood:                -1699.4\n",
      "No. Observations:                1440   AIC:                             3413.\n",
      "Df Residuals:                    1433   BIC:                             3450.\n",
      "Df Model:                           6                                         \n",
      "Covariance Type:            nonrobust                                         \n",
      "================================================================================================\n",
      "                                   coef    std err          t      P>|t|      [0.025      0.975]\n",
      "------------------------------------------------------------------------------------------------\n",
      "const                            0.2547      0.031      8.186      0.000       0.194       0.316\n",
      "entertainment/celebrity news     0.8143      0.056     14.585      0.000       0.705       0.924\n",
      "lifestyle and society            0.4233      0.079      5.355      0.000       0.268       0.578\n",
      "sports                           0.8768      0.054     16.356      0.000       0.772       0.982\n",
      "human-interest story             0.1739      0.213      0.815      0.415      -0.244       0.592\n",
      "crime/law and order             -0.0797      0.129     -0.619      0.536      -0.332       0.173\n",
      "other                           -0.2547      0.300     -0.849      0.396      -0.843       0.334\n",
      "==============================================================================\n",
      "Omnibus:                      272.551   Durbin-Watson:                   2.034\n",
      "Prob(Omnibus):                  0.000   Jarque-Bera (JB):              560.775\n",
      "Skew:                           1.094   Prob(JB):                    1.70e-122\n",
      "Kurtosis:                       5.136   Cond. No.                         15.2\n",
      "==============================================================================\n",
      "\n",
      "Warnings:\n",
      "[1] Standard Errors assume that the covariance matrix of the errors is correctly specified.\n"
     ]
    },
    {
     "name": "stderr",
     "output_type": "stream",
     "text": [
      "/Applications/anaconda3/lib/python3.7/site-packages/numpy/core/fromnumeric.py:2495: FutureWarning: Method .ptp is deprecated and will be removed in a future version. Use numpy.ptp instead.\n",
      "  return ptp(axis=axis, out=out, **kwargs)\n",
      "/Applications/anaconda3/lib/python3.7/site-packages/numpy/core/fromnumeric.py:2495: FutureWarning: Method .ptp is deprecated and will be removed in a future version. Use numpy.ptp instead.\n",
      "  return ptp(axis=axis, out=out, **kwargs)\n",
      "/Applications/anaconda3/lib/python3.7/site-packages/numpy/core/fromnumeric.py:2495: FutureWarning: Method .ptp is deprecated and will be removed in a future version. Use numpy.ptp instead.\n",
      "  return ptp(axis=axis, out=out, **kwargs)\n",
      "/Applications/anaconda3/lib/python3.7/site-packages/numpy/core/fromnumeric.py:2495: FutureWarning: Method .ptp is deprecated and will be removed in a future version. Use numpy.ptp instead.\n",
      "  return ptp(axis=axis, out=out, **kwargs)\n",
      "/Applications/anaconda3/lib/python3.7/site-packages/numpy/core/fromnumeric.py:2495: FutureWarning: Method .ptp is deprecated and will be removed in a future version. Use numpy.ptp instead.\n",
      "  return ptp(axis=axis, out=out, **kwargs)\n",
      "/Applications/anaconda3/lib/python3.7/site-packages/numpy/core/fromnumeric.py:2495: FutureWarning: Method .ptp is deprecated and will be removed in a future version. Use numpy.ptp instead.\n",
      "  return ptp(axis=axis, out=out, **kwargs)\n"
     ]
    }
   ],
   "source": [
    "logit_model2d = sm.OLS(CA_results['count_variable'], sm.add_constant(CA_results[soft_topics]))\n",
    "reg_modelH2d = logit_model2d.fit()\n",
    "print(reg_modelH2d.summary())"
   ]
  },
  {
   "cell_type": "markdown",
   "metadata": {},
   "source": [
    "Testing H3"
   ]
  },
  {
   "cell_type": "markdown",
   "metadata": {},
   "source": [
    "Running OLS Regression using favorite count (per hundred thousand followers) as DV and dummy variable for presence of sensationalist feature/s (main variable of interest) outlet type, channel type and tweet length as IVs (Table C4)"
   ]
  },
  {
   "cell_type": "code",
   "execution_count": 85,
   "metadata": {},
   "outputs": [],
   "source": [
    "featuresh3a = ['combined_features_dummy','channel_type','outlet_type','len_tweet']"
   ]
  },
  {
   "cell_type": "code",
   "execution_count": 86,
   "metadata": {
    "scrolled": true
   },
   "outputs": [
    {
     "name": "stdout",
     "output_type": "stream",
     "text": [
      "                             OLS Regression Results                            \n",
      "===============================================================================\n",
      "Dep. Variable:     favorites_per100000   R-squared:                       0.008\n",
      "Model:                             OLS   Adj. R-squared:                  0.005\n",
      "Method:                  Least Squares   F-statistic:                     2.989\n",
      "Date:                 Wed, 02 Feb 2022   Prob (F-statistic):             0.0180\n",
      "Time:                         15:13:39   Log-Likelihood:                -8285.0\n",
      "No. Observations:                 1440   AIC:                         1.658e+04\n",
      "Df Residuals:                     1435   BIC:                         1.661e+04\n",
      "Df Model:                            4                                         \n",
      "Covariance Type:             nonrobust                                         \n",
      "===========================================================================================\n",
      "                              coef    std err          t      P>|t|      [0.025      0.975]\n",
      "-------------------------------------------------------------------------------------------\n",
      "const                       3.9571      6.054      0.654      0.513      -7.918      15.832\n",
      "combined_features_dummy    10.5334      4.491      2.345      0.019       1.723      19.344\n",
      "channel_type                6.0588      4.406      1.375      0.169      -2.584      14.702\n",
      "outlet_type                -1.4320      4.172     -0.343      0.731      -9.616       6.752\n",
      "len_tweet                  -0.0047      0.041     -0.115      0.908      -0.084       0.075\n",
      "==============================================================================\n",
      "Omnibus:                     3342.113   Durbin-Watson:                   2.012\n",
      "Prob(Omnibus):                  0.000   Jarque-Bera (JB):         20826827.346\n",
      "Skew:                          21.631   Prob(JB):                         0.00\n",
      "Kurtosis:                     590.573   Cond. No.                         400.\n",
      "==============================================================================\n",
      "\n",
      "Warnings:\n",
      "[1] Standard Errors assume that the covariance matrix of the errors is correctly specified.\n"
     ]
    }
   ],
   "source": [
    "OLS_model3a =  sm.OLS(CA_results['favorites_per100000'], sm.add_constant(CA_results[featuresh3a]))\n",
    "reg_modelh3a = OLS_model3a.fit()\n",
    "print(reg_modelh3a.summary())"
   ]
  },
  {
   "cell_type": "markdown",
   "metadata": {},
   "source": [
    "Running OLS Regression using retweet count (per hundred thousand followers) as DV and dummy variable for presence of sensationalist feature/s (main variable of interest) outlet type, channel type and tweet length as IVs (Table C4)"
   ]
  },
  {
   "cell_type": "code",
   "execution_count": 87,
   "metadata": {},
   "outputs": [
    {
     "name": "stdout",
     "output_type": "stream",
     "text": [
      "                            OLS Regression Results                            \n",
      "==============================================================================\n",
      "Dep. Variable:     retweets_per100000   R-squared:                       0.019\n",
      "Model:                            OLS   Adj. R-squared:                  0.017\n",
      "Method:                 Least Squares   F-statistic:                     7.084\n",
      "Date:                Wed, 02 Feb 2022   Prob (F-statistic):           1.20e-05\n",
      "Time:                        15:13:51   Log-Likelihood:                -9573.1\n",
      "No. Observations:                1440   AIC:                         1.916e+04\n",
      "Df Residuals:                    1435   BIC:                         1.918e+04\n",
      "Df Model:                           4                                         \n",
      "Covariance Type:            nonrobust                                         \n",
      "===========================================================================================\n",
      "                              coef    std err          t      P>|t|      [0.025      0.975]\n",
      "-------------------------------------------------------------------------------------------\n",
      "const                      14.5149     14.808      0.980      0.327     -14.533      43.563\n",
      "combined_features_dummy    -3.5021     10.987     -0.319      0.750     -25.054      18.050\n",
      "channel_type               40.7652     10.777      3.782      0.000      19.624      61.906\n",
      "outlet_type                23.7362     10.205      2.326      0.020       3.718      43.754\n",
      "len_tweet                  -0.1975      0.099     -1.985      0.047      -0.393      -0.002\n",
      "==============================================================================\n",
      "Omnibus:                     2866.804   Durbin-Watson:                   2.001\n",
      "Prob(Omnibus):                  0.000   Jarque-Bera (JB):          5305064.714\n",
      "Skew:                          15.473   Prob(JB):                         0.00\n",
      "Kurtosis:                     298.737   Cond. No.                         400.\n",
      "==============================================================================\n",
      "\n",
      "Warnings:\n",
      "[1] Standard Errors assume that the covariance matrix of the errors is correctly specified.\n"
     ]
    }
   ],
   "source": [
    "OLS_model3b =  sm.OLS(CA_results['retweets_per100000'], sm.add_constant(CA_results[featuresh3a]))\n",
    "reg_modelh3b = OLS_model3b.fit()\n",
    "print(reg_modelh3b.summary())"
   ]
  },
  {
   "cell_type": "markdown",
   "metadata": {},
   "source": [
    "Running OLS Regression using favorite count (per hundred thousand followers) as DV and count variable for number of sensationalist feature/s (main variable of interest), outlet type, channel type and tweet length as IVs (Table C5)"
   ]
  },
  {
   "cell_type": "code",
   "execution_count": 88,
   "metadata": {},
   "outputs": [],
   "source": [
    "featuresh3b = ['count_variable','channel_type','outlet_type','len_tweet']"
   ]
  },
  {
   "cell_type": "code",
   "execution_count": 89,
   "metadata": {},
   "outputs": [
    {
     "name": "stdout",
     "output_type": "stream",
     "text": [
      "                             OLS Regression Results                            \n",
      "===============================================================================\n",
      "Dep. Variable:     favorites_per100000   R-squared:                       0.012\n",
      "Model:                             OLS   Adj. R-squared:                  0.009\n",
      "Method:                  Least Squares   F-statistic:                     4.276\n",
      "Date:                 Wed, 02 Feb 2022   Prob (F-statistic):            0.00192\n",
      "Time:                         15:14:05   Log-Likelihood:                -8282.5\n",
      "No. Observations:                 1440   AIC:                         1.657e+04\n",
      "Df Residuals:                     1435   BIC:                         1.660e+04\n",
      "Df Model:                            4                                         \n",
      "Covariance Type:             nonrobust                                         \n",
      "==================================================================================\n",
      "                     coef    std err          t      P>|t|      [0.025      0.975]\n",
      "----------------------------------------------------------------------------------\n",
      "const              5.5934      6.024      0.929      0.353      -6.223      17.410\n",
      "count_variable     8.3597      2.565      3.259      0.001       3.328      13.391\n",
      "channel_type       3.6787      4.498      0.818      0.414      -5.144      12.502\n",
      "outlet_type       -2.0241      4.161     -0.486      0.627     -10.186       6.137\n",
      "len_tweet         -0.0134      0.041     -0.328      0.743      -0.093       0.067\n",
      "==============================================================================\n",
      "Omnibus:                     3331.213   Durbin-Watson:                   2.013\n",
      "Prob(Omnibus):                  0.000   Jarque-Bera (JB):         20313393.604\n",
      "Skew:                          21.466   Prob(JB):                         0.00\n",
      "Kurtosis:                     583.270   Cond. No.                         405.\n",
      "==============================================================================\n",
      "\n",
      "Warnings:\n",
      "[1] Standard Errors assume that the covariance matrix of the errors is correctly specified.\n"
     ]
    }
   ],
   "source": [
    "OLS_model3c =  sm.OLS(CA_results['favorites_per100000'], sm.add_constant(CA_results[featuresh3b]))\n",
    "reg_modelh3c = OLS_model3c.fit()\n",
    "print(reg_modelh3c.summary())"
   ]
  },
  {
   "cell_type": "markdown",
   "metadata": {},
   "source": [
    "Running OLS Regression using favorite count (per hundred thousand followers) as DV and count variable for number of sensationalist feature/s (main variable of interest), outlet type, channel type and tweet length as IVs (Table C5)"
   ]
  },
  {
   "cell_type": "code",
   "execution_count": 90,
   "metadata": {},
   "outputs": [
    {
     "name": "stdout",
     "output_type": "stream",
     "text": [
      "                            OLS Regression Results                            \n",
      "==============================================================================\n",
      "Dep. Variable:     retweets_per100000   R-squared:                       0.019\n",
      "Model:                            OLS   Adj. R-squared:                  0.017\n",
      "Method:                 Least Squares   F-statistic:                     7.107\n",
      "Date:                Wed, 02 Feb 2022   Prob (F-statistic):           1.15e-05\n",
      "Time:                        15:14:13   Log-Likelihood:                -9573.1\n",
      "No. Observations:                1440   AIC:                         1.916e+04\n",
      "Df Residuals:                    1435   BIC:                         1.918e+04\n",
      "Df Model:                           4                                         \n",
      "Covariance Type:            nonrobust                                         \n",
      "==================================================================================\n",
      "                     coef    std err          t      P>|t|      [0.025      0.975]\n",
      "----------------------------------------------------------------------------------\n",
      "const             14.2724     14.760      0.967      0.334     -14.682      43.227\n",
      "count_variable     2.7554      6.285      0.438      0.661      -9.573      15.084\n",
      "channel_type      37.2188     11.022      3.377      0.001      15.599      58.839\n",
      "outlet_type       22.4051     10.195      2.198      0.028       2.406      42.404\n",
      "len_tweet         -0.2034      0.100     -2.037      0.042      -0.399      -0.008\n",
      "==============================================================================\n",
      "Omnibus:                     2869.597   Durbin-Watson:                   1.997\n",
      "Prob(Omnibus):                  0.000   Jarque-Bera (JB):          5344283.971\n",
      "Skew:                          15.504   Prob(JB):                         0.00\n",
      "Kurtosis:                     299.833   Cond. No.                         405.\n",
      "==============================================================================\n",
      "\n",
      "Warnings:\n",
      "[1] Standard Errors assume that the covariance matrix of the errors is correctly specified.\n"
     ]
    }
   ],
   "source": [
    "OLS_model3d =  sm.OLS(CA_results['retweets_per100000'], sm.add_constant(CA_results[featuresh3b]))\n",
    "reg_modelh3d = OLS_model3d.fit()\n",
    "print(reg_modelh3d.summary())"
   ]
  },
  {
   "cell_type": "markdown",
   "metadata": {},
   "source": [
    "Running OLS Regression using favorite count (per hundred thousand followers) as DV and individual sensationalist features as IVs (Table C6)"
   ]
  },
  {
   "cell_type": "code",
   "execution_count": 91,
   "metadata": {},
   "outputs": [],
   "source": [
    "ca_features_indiv = ['[hyperbolic_feature]', '[slang_feature]', '[listicle_feature]', '[emoji_feature]', '[question_feature]', '[hashtag_feature]', '[forw_ref_feature]', '[punct_feature]', '[cap_feature]', '[media_dummy]']"
   ]
  },
  {
   "cell_type": "code",
   "execution_count": 92,
   "metadata": {},
   "outputs": [
    {
     "name": "stdout",
     "output_type": "stream",
     "text": [
      "                             OLS Regression Results                            \n",
      "===============================================================================\n",
      "Dep. Variable:     favorites_per100000   R-squared:                       0.023\n",
      "Model:                             OLS   Adj. R-squared:                  0.016\n",
      "Method:                  Least Squares   F-statistic:                     3.374\n",
      "Date:                 Wed, 02 Feb 2022   Prob (F-statistic):           0.000230\n",
      "Time:                         15:14:24   Log-Likelihood:                -8274.2\n",
      "No. Observations:                 1440   AIC:                         1.657e+04\n",
      "Df Residuals:                     1429   BIC:                         1.663e+04\n",
      "Df Model:                           10                                         \n",
      "Covariance Type:             nonrobust                                         \n",
      "========================================================================================\n",
      "                           coef    std err          t      P>|t|      [0.025      0.975]\n",
      "----------------------------------------------------------------------------------------\n",
      "const                    4.9655      2.524      1.968      0.049       0.015       9.916\n",
      "[hyperbolic_feature]    -0.8889      6.714     -0.132      0.895     -14.059      12.281\n",
      "[slang_feature]         18.2099      8.606      2.116      0.035       1.328      35.092\n",
      "[listicle_feature]      -9.4692     21.428     -0.442      0.659     -51.504      32.565\n",
      "[emoji_feature]         30.9461     10.760      2.876      0.004       9.839      52.053\n",
      "[question_feature]      24.4829      8.829      2.773      0.006       7.164      41.802\n",
      "[hashtag_feature]        8.9918      7.648      1.176      0.240      -6.011      23.994\n",
      "[forw_ref_feature]      -7.7878     10.085     -0.772      0.440     -27.570      11.995\n",
      "[punct_feature]        -17.2827     12.831     -1.347      0.178     -42.452       7.886\n",
      "[cap_feature]            2.2961     11.899      0.193      0.847     -21.045      25.637\n",
      "[media_dummy]            8.9964      5.122      1.756      0.079      -1.051      19.044\n",
      "==============================================================================\n",
      "Omnibus:                     3292.456   Durbin-Watson:                   2.015\n",
      "Prob(Omnibus):                  0.000   Jarque-Bera (JB):         18707424.090\n",
      "Skew:                          20.884   Prob(JB):                         0.00\n",
      "Kurtosis:                     559.818   Cond. No.                         11.1\n",
      "==============================================================================\n",
      "\n",
      "Warnings:\n",
      "[1] Standard Errors assume that the covariance matrix of the errors is correctly specified.\n"
     ]
    }
   ],
   "source": [
    "OLS_modelh3d =  sm.OLS(CA_results['favorites_per100000'], sm.add_constant(CA_results[ca_features_indiv]))\n",
    "reg_modelh3d = OLS_modelh3d.fit()\n",
    "print(reg_modelh3d.summary())"
   ]
  },
  {
   "cell_type": "markdown",
   "metadata": {},
   "source": [
    "Running OLS Regression using retweet count (per hundred thousand followers) as DV and individual sensationalist features as IVs (Table C6)"
   ]
  },
  {
   "cell_type": "code",
   "execution_count": 93,
   "metadata": {},
   "outputs": [
    {
     "name": "stdout",
     "output_type": "stream",
     "text": [
      "                            OLS Regression Results                            \n",
      "==============================================================================\n",
      "Dep. Variable:     retweets_per100000   R-squared:                       0.012\n",
      "Model:                            OLS   Adj. R-squared:                  0.005\n",
      "Method:                 Least Squares   F-statistic:                     1.739\n",
      "Date:                Wed, 02 Feb 2022   Prob (F-statistic):             0.0674\n",
      "Time:                        15:14:30   Log-Likelihood:                -9578.5\n",
      "No. Observations:                1440   AIC:                         1.918e+04\n",
      "Df Residuals:                    1429   BIC:                         1.924e+04\n",
      "Df Model:                          10                                         \n",
      "Covariance Type:            nonrobust                                         \n",
      "========================================================================================\n",
      "                           coef    std err          t      P>|t|      [0.025      0.975]\n",
      "----------------------------------------------------------------------------------------\n",
      "const                   14.9622      6.243      2.397      0.017       2.716      27.208\n",
      "[hyperbolic_feature]    -8.8111     16.609     -0.531      0.596     -41.391      23.769\n",
      "[slang_feature]         27.5796     21.290      1.295      0.195     -14.184      69.343\n",
      "[listicle_feature]     -45.2739     53.010     -0.854      0.393    -149.259      58.711\n",
      "[emoji_feature]        -16.0155     26.618     -0.602      0.547     -68.230      36.198\n",
      "[question_feature]      -3.8825     21.841     -0.178      0.859     -46.726      38.961\n",
      "[hashtag_feature]       19.8865     18.920      1.051      0.293     -17.227      57.000\n",
      "[forw_ref_feature]     -16.0988     24.948     -0.645      0.519     -65.037      32.839\n",
      "[punct_feature]         17.4840     31.741      0.551      0.582     -44.779      79.747\n",
      "[cap_feature]           76.0425     29.435      2.583      0.010      18.301     133.784\n",
      "[media_dummy]           27.0481     12.671      2.135      0.033       2.192      51.904\n",
      "==============================================================================\n",
      "Omnibus:                     2888.807   Durbin-Watson:                   1.991\n",
      "Prob(Omnibus):                  0.000   Jarque-Bera (JB):          5603082.602\n",
      "Skew:                          15.727   Prob(JB):                         0.00\n",
      "Kurtosis:                     306.966   Cond. No.                         11.1\n",
      "==============================================================================\n",
      "\n",
      "Warnings:\n",
      "[1] Standard Errors assume that the covariance matrix of the errors is correctly specified.\n"
     ]
    }
   ],
   "source": [
    "OLS_modelh3d =  sm.OLS(CA_results['retweets_per100000'], sm.add_constant(CA_results[ca_features_indiv]))\n",
    "reg_modelh3d = OLS_modelh3d.fit()\n",
    "print(reg_modelh3d.summary())"
   ]
  },
  {
   "cell_type": "code",
   "execution_count": null,
   "metadata": {},
   "outputs": [],
   "source": []
  }
 ],
 "metadata": {
  "kernelspec": {
   "display_name": "Python 3",
   "language": "python",
   "name": "python3"
  },
  "language_info": {
   "codemirror_mode": {
    "name": "ipython",
    "version": 3
   },
   "file_extension": ".py",
   "mimetype": "text/x-python",
   "name": "python",
   "nbconvert_exporter": "python",
   "pygments_lexer": "ipython3",
   "version": "3.7.4"
  }
 },
 "nbformat": 4,
 "nbformat_minor": 2
}
