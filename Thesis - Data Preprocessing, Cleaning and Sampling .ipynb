{
 "cells": [
  {
   "cell_type": "code",
   "execution_count": 1,
   "metadata": {},
   "outputs": [],
   "source": [
    "import pandas as pd\n",
    "import deepl\n",
    "import csv\n",
    "import numpy as np\n",
    "import re"
   ]
  },
  {
   "cell_type": "markdown",
   "metadata": {},
   "source": [
    "Reading CSV files of extracted data from Twitter API for each Twitter account"
   ]
  },
  {
   "cell_type": "code",
   "execution_count": 2,
   "metadata": {},
   "outputs": [],
   "source": [
    "BuzzFeedPol = pd.read_csv('/Users/salmankhawar/Desktop/Thesis/Data_Collection_Twitter/Data_csv/Data_Collected_Tweepy/BuzzFeedPol_tweets.csv')\n",
    "BuzzFeedSports = pd.read_csv('/Users/salmankhawar/Desktop/Thesis/Data_Collection_Twitter/Data_csv/Data_Collected_Tweepy/BuzzFeedSports_tweets.csv')\n",
    "BuzzFeedEnt = pd.read_csv('/Users/salmankhawar/Desktop/Thesis/Data_Collection_Twitter/Data_csv/Data_Collected_Tweepy/BuzzFeedEnt_tweets.csv')\n",
    "HuffPostPol = pd.read_csv('/Users/salmankhawar/Desktop/Thesis/Data_Collection_Twitter/Data_csv/Data_Collected_Tweepy/HuffPostPol_tweets.csv')\n",
    "HuffPostSports = pd.read_csv('/Users/salmankhawar/Desktop/Thesis/Data_Collection_Twitter/Data_csv/Data_Collected_Tweepy/HuffPostSports_tweets.csv')\n",
    "HuffPostLife = pd.read_csv('/Users/salmankhawar/Desktop/Thesis/Data_Collection_Twitter/Data_csv/Data_Collected_Tweepy/HuffPostLife_tweets.csv')\n",
    "USATodayPol = pd.read_csv('/Users/salmankhawar/Desktop/Thesis/Data_Collection_Twitter/Data_csv/Data_Collected_Tweepy/USATodayDC_tweets.csv')\n",
    "USATodaySports = pd.read_csv('/Users/salmankhawar/Desktop/Thesis/Data_Collection_Twitter/Data_csv/Data_Collected_Tweepy/USATodaySports_tweets.csv')\n",
    "USATodayLife = pd.read_csv('/Users/salmankhawar/Desktop/Thesis/Data_Collection_Twitter/Data_csv/Data_Collected_Tweepy/USATodayLife_tweets.csv')\n",
    "LATimesPol = pd.read_csv('/Users/salmankhawar/Desktop/Thesis/Data_Collection_Twitter/Data_csv/Data_Collected_Tweepy/latimespolitics_tweets.csv')\n",
    "LATimesSports = pd.read_csv('/Users/salmankhawar/Desktop/Thesis/Data_Collection_Twitter/Data_csv/Data_Collected_Tweepy/latimessports_tweets.csv')\n",
    "LATimesEnt = pd.read_csv('/Users/salmankhawar/Desktop/Thesis/Data_Collection_Twitter/Data_csv/Data_Collected_Tweepy/latimesent_tweets.csv')"
   ]
  },
  {
   "cell_type": "code",
   "execution_count": 3,
   "metadata": {},
   "outputs": [],
   "source": [
    "pd.options.display.max_rows\n",
    "pd.set_option('display.max_colwidth', -1)"
   ]
  },
  {
   "cell_type": "code",
   "execution_count": 4,
   "metadata": {},
   "outputs": [
    {
     "data": {
      "text/html": [
       "<div>\n",
       "<style scoped>\n",
       "    .dataframe tbody tr th:only-of-type {\n",
       "        vertical-align: middle;\n",
       "    }\n",
       "\n",
       "    .dataframe tbody tr th {\n",
       "        vertical-align: top;\n",
       "    }\n",
       "\n",
       "    .dataframe thead th {\n",
       "        text-align: right;\n",
       "    }\n",
       "</style>\n",
       "<table border=\"1\" class=\"dataframe\">\n",
       "  <thead>\n",
       "    <tr style=\"text-align: right;\">\n",
       "      <th></th>\n",
       "      <th>id</th>\n",
       "      <th>created_at</th>\n",
       "      <th>text</th>\n",
       "      <th>favorite_count</th>\n",
       "      <th>retweet_count</th>\n",
       "      <th>is_retweet</th>\n",
       "      <th>language</th>\n",
       "      <th>media_type</th>\n",
       "    </tr>\n",
       "  </thead>\n",
       "  <tbody>\n",
       "    <tr>\n",
       "      <td>0</td>\n",
       "      <td>1466468963773206540</td>\n",
       "      <td>2021-12-02 18:07:01+00:00</td>\n",
       "      <td>Corte británica respalda a Meghan en caso sobre privacidad https://t.co/epVhBB9EQ6</td>\n",
       "      <td>0</td>\n",
       "      <td>0</td>\n",
       "      <td>No</td>\n",
       "      <td>es</td>\n",
       "      <td>no media</td>\n",
       "    </tr>\n",
       "    <tr>\n",
       "      <td>1</td>\n",
       "      <td>1466453864459259906</td>\n",
       "      <td>2021-12-02 17:07:01+00:00</td>\n",
       "      <td>The major miscalculation behind 'Succession's' unspectacular season https://t.co/jlWacvhlQm</td>\n",
       "      <td>0</td>\n",
       "      <td>0</td>\n",
       "      <td>No</td>\n",
       "      <td>en</td>\n",
       "      <td>no media</td>\n",
       "    </tr>\n",
       "    <tr>\n",
       "      <td>2</td>\n",
       "      <td>1466446315118862345</td>\n",
       "      <td>2021-12-02 16:37:01+00:00</td>\n",
       "      <td>What's on TV Thursday: 'Ghosts' and 'United States of Al' on CBS; 'Annie Live!' on NBC https://t.co/DbCAy4pa0T</td>\n",
       "      <td>0</td>\n",
       "      <td>0</td>\n",
       "      <td>No</td>\n",
       "      <td>en</td>\n",
       "      <td>no media</td>\n",
       "    </tr>\n",
       "    <tr>\n",
       "      <td>3</td>\n",
       "      <td>1466438764792885259</td>\n",
       "      <td>2021-12-02 16:07:01+00:00</td>\n",
       "      <td>Review: His father's legacy was addiction and neglect. How Obed Silva lived to tell the tale https://t.co/i5vRqt2NMv</td>\n",
       "      <td>1</td>\n",
       "      <td>0</td>\n",
       "      <td>No</td>\n",
       "      <td>en</td>\n",
       "      <td>no media</td>\n",
       "    </tr>\n",
       "    <tr>\n",
       "      <td>4</td>\n",
       "      <td>1466431216018669584</td>\n",
       "      <td>2021-12-02 15:37:01+00:00</td>\n",
       "      <td>Lou Mathews, an L.A. author both legendary and overlooked, has his moment https://t.co/4vE85juE80</td>\n",
       "      <td>2</td>\n",
       "      <td>1</td>\n",
       "      <td>No</td>\n",
       "      <td>en</td>\n",
       "      <td>no media</td>\n",
       "    </tr>\n",
       "    <tr>\n",
       "      <td>5</td>\n",
       "      <td>1466423663671091211</td>\n",
       "      <td>2021-12-02 15:07:00+00:00</td>\n",
       "      <td>Review: 'West Side Story' is Steven Spielberg's most exhilarating movie in years https://t.co/PKgS0pIaxt</td>\n",
       "      <td>3</td>\n",
       "      <td>1</td>\n",
       "      <td>No</td>\n",
       "      <td>en</td>\n",
       "      <td>no media</td>\n",
       "    </tr>\n",
       "    <tr>\n",
       "      <td>6</td>\n",
       "      <td>1466416116037787657</td>\n",
       "      <td>2021-12-02 14:37:01+00:00</td>\n",
       "      <td>Distopía, bailes de TikTok, qué bueno que ya terminó el 2021 https://t.co/OXAnSoGbUW</td>\n",
       "      <td>0</td>\n",
       "      <td>0</td>\n",
       "      <td>No</td>\n",
       "      <td>es</td>\n",
       "      <td>no media</td>\n",
       "    </tr>\n",
       "    <tr>\n",
       "      <td>7</td>\n",
       "      <td>1466408567515369477</td>\n",
       "      <td>2021-12-02 14:07:01+00:00</td>\n",
       "      <td>Juanpa Zurita lanzará documental que sigue la reconstrucción de los daños que ocasionó el terremoto en CDMX https://t.co/y3AUHn5vAb</td>\n",
       "      <td>0</td>\n",
       "      <td>0</td>\n",
       "      <td>No</td>\n",
       "      <td>es</td>\n",
       "      <td>no media</td>\n",
       "    </tr>\n",
       "    <tr>\n",
       "      <td>8</td>\n",
       "      <td>1466310417223979008</td>\n",
       "      <td>2021-12-02 07:37:00+00:00</td>\n",
       "      <td>Films nab wins for for TV, streaming ratings https://t.co/nglnbuHSDw</td>\n",
       "      <td>1</td>\n",
       "      <td>1</td>\n",
       "      <td>No</td>\n",
       "      <td>en</td>\n",
       "      <td>no media</td>\n",
       "    </tr>\n",
       "    <tr>\n",
       "      <td>9</td>\n",
       "      <td>1466307900100517890</td>\n",
       "      <td>2021-12-02 07:27:00+00:00</td>\n",
       "      <td>Marvel’s ‘Hawkeye,’ explained: An episode-by-episode guide https://t.co/C72q2HW4PI</td>\n",
       "      <td>1</td>\n",
       "      <td>1</td>\n",
       "      <td>No</td>\n",
       "      <td>en</td>\n",
       "      <td>no media</td>\n",
       "    </tr>\n",
       "  </tbody>\n",
       "</table>\n",
       "</div>"
      ],
      "text/plain": [
       "                    id                 created_at  \\\n",
       "0  1466468963773206540  2021-12-02 18:07:01+00:00   \n",
       "1  1466453864459259906  2021-12-02 17:07:01+00:00   \n",
       "2  1466446315118862345  2021-12-02 16:37:01+00:00   \n",
       "3  1466438764792885259  2021-12-02 16:07:01+00:00   \n",
       "4  1466431216018669584  2021-12-02 15:37:01+00:00   \n",
       "5  1466423663671091211  2021-12-02 15:07:00+00:00   \n",
       "6  1466416116037787657  2021-12-02 14:37:01+00:00   \n",
       "7  1466408567515369477  2021-12-02 14:07:01+00:00   \n",
       "8  1466310417223979008  2021-12-02 07:37:00+00:00   \n",
       "9  1466307900100517890  2021-12-02 07:27:00+00:00   \n",
       "\n",
       "                                                                                                                                  text  \\\n",
       "0  Corte británica respalda a Meghan en caso sobre privacidad https://t.co/epVhBB9EQ6                                                    \n",
       "1  The major miscalculation behind 'Succession's' unspectacular season https://t.co/jlWacvhlQm                                           \n",
       "2  What's on TV Thursday: 'Ghosts' and 'United States of Al' on CBS; 'Annie Live!' on NBC https://t.co/DbCAy4pa0T                        \n",
       "3  Review: His father's legacy was addiction and neglect. How Obed Silva lived to tell the tale https://t.co/i5vRqt2NMv                  \n",
       "4  Lou Mathews, an L.A. author both legendary and overlooked, has his moment https://t.co/4vE85juE80                                     \n",
       "5  Review: 'West Side Story' is Steven Spielberg's most exhilarating movie in years https://t.co/PKgS0pIaxt                              \n",
       "6  Distopía, bailes de TikTok, qué bueno que ya terminó el 2021 https://t.co/OXAnSoGbUW                                                  \n",
       "7  Juanpa Zurita lanzará documental que sigue la reconstrucción de los daños que ocasionó el terremoto en CDMX https://t.co/y3AUHn5vAb   \n",
       "8  Films nab wins for for TV, streaming ratings https://t.co/nglnbuHSDw                                                                  \n",
       "9  Marvel’s ‘Hawkeye,’ explained: An episode-by-episode guide https://t.co/C72q2HW4PI                                                    \n",
       "\n",
       "   favorite_count  retweet_count is_retweet language media_type  \n",
       "0  0               0              No         es       no media   \n",
       "1  0               0              No         en       no media   \n",
       "2  0               0              No         en       no media   \n",
       "3  1               0              No         en       no media   \n",
       "4  2               1              No         en       no media   \n",
       "5  3               1              No         en       no media   \n",
       "6  0               0              No         es       no media   \n",
       "7  0               0              No         es       no media   \n",
       "8  1               1              No         en       no media   \n",
       "9  1               1              No         en       no media   "
      ]
     },
     "execution_count": 4,
     "metadata": {},
     "output_type": "execute_result"
    }
   ],
   "source": [
    "LATimesEnt.head(10)"
   ]
  },
  {
   "cell_type": "markdown",
   "metadata": {},
   "source": [
    "Checking value counts of tweets labelled by Twitter as being in languages other than English for each sub-channel"
   ]
  },
  {
   "cell_type": "code",
   "execution_count": 5,
   "metadata": {},
   "outputs": [
    {
     "data": {
      "text/plain": [
       "en    3242\n",
       "es    4   \n",
       "da    1   \n",
       "ro    1   \n",
       "it    1   \n",
       "Name: language, dtype: int64"
      ]
     },
     "execution_count": 5,
     "metadata": {},
     "output_type": "execute_result"
    }
   ],
   "source": [
    "BuzzFeedPol['language'].value_counts()"
   ]
  },
  {
   "cell_type": "code",
   "execution_count": 6,
   "metadata": {},
   "outputs": [
    {
     "data": {
      "text/plain": [
       "en     2929\n",
       "und    179 \n",
       "es     11  \n",
       "de     11  \n",
       "tl     10  \n",
       "pt     7   \n",
       "ht     6   \n",
       "fr     6   \n",
       "et     5   \n",
       "sv     4   \n",
       "it     4   \n",
       "da     3   \n",
       "nl     3   \n",
       "ca     2   \n",
       "lt     2   \n",
       "in     2   \n",
       "tr     1   \n",
       "hu     1   \n",
       "fi     1   \n",
       "pl     1   \n",
       "ro     1   \n",
       "hi     1   \n",
       "Name: language, dtype: int64"
      ]
     },
     "execution_count": 6,
     "metadata": {},
     "output_type": "execute_result"
    }
   ],
   "source": [
    "BuzzFeedSports['language'].value_counts()"
   ]
  },
  {
   "cell_type": "code",
   "execution_count": 7,
   "metadata": {},
   "outputs": [
    {
     "data": {
      "text/plain": [
       "en     3185\n",
       "fr     4   \n",
       "ro     2   \n",
       "und    2   \n",
       "da     1   \n",
       "ca     1   \n",
       "sv     1   \n",
       "it     1   \n",
       "pt     1   \n",
       "vi     1   \n",
       "es     1   \n",
       "Name: language, dtype: int64"
      ]
     },
     "execution_count": 7,
     "metadata": {},
     "output_type": "execute_result"
    }
   ],
   "source": [
    "BuzzFeedEnt['language'].value_counts()"
   ]
  },
  {
   "cell_type": "code",
   "execution_count": 8,
   "metadata": {},
   "outputs": [
    {
     "data": {
      "text/plain": [
       "en    3247\n",
       "it    1   \n",
       "es    1   \n",
       "Name: language, dtype: int64"
      ]
     },
     "execution_count": 8,
     "metadata": {},
     "output_type": "execute_result"
    }
   ],
   "source": [
    "HuffPostPol['language'].value_counts()"
   ]
  },
  {
   "cell_type": "code",
   "execution_count": 9,
   "metadata": {},
   "outputs": [
    {
     "data": {
      "text/plain": [
       "en     3142\n",
       "und    34  \n",
       "de     5   \n",
       "fr     3   \n",
       "in     3   \n",
       "da     2   \n",
       "sv     2   \n",
       "et     2   \n",
       "pl     1   \n",
       "ca     1   \n",
       "no     1   \n",
       "ht     1   \n",
       "tl     1   \n",
       "it     1   \n",
       "cy     1   \n",
       "Name: language, dtype: int64"
      ]
     },
     "execution_count": 9,
     "metadata": {},
     "output_type": "execute_result"
    }
   ],
   "source": [
    "HuffPostSports['language'].value_counts()"
   ]
  },
  {
   "cell_type": "code",
   "execution_count": 10,
   "metadata": {},
   "outputs": [
    {
     "data": {
      "text/plain": [
       "en     3244\n",
       "es     2   \n",
       "fr     1   \n",
       "tl     1   \n",
       "und    1   \n",
       "nl     1   \n",
       "Name: language, dtype: int64"
      ]
     },
     "execution_count": 10,
     "metadata": {},
     "output_type": "execute_result"
    }
   ],
   "source": [
    "HuffPostLife['language'].value_counts()"
   ]
  },
  {
   "cell_type": "code",
   "execution_count": 11,
   "metadata": {},
   "outputs": [
    {
     "data": {
      "text/plain": [
       "en     3244\n",
       "und    4   \n",
       "ca     1   \n",
       "fr     1   \n",
       "Name: language, dtype: int64"
      ]
     },
     "execution_count": 11,
     "metadata": {},
     "output_type": "execute_result"
    }
   ],
   "source": [
    "USATodayPol['language'].value_counts()"
   ]
  },
  {
   "cell_type": "code",
   "execution_count": 12,
   "metadata": {},
   "outputs": [
    {
     "data": {
      "text/plain": [
       "en     3235\n",
       "und    8   \n",
       "pl     2   \n",
       "es     2   \n",
       "cs     1   \n",
       "tl     1   \n",
       "et     1   \n",
       "Name: language, dtype: int64"
      ]
     },
     "execution_count": 12,
     "metadata": {},
     "output_type": "execute_result"
    }
   ],
   "source": [
    "USATodaySports['language'].value_counts()"
   ]
  },
  {
   "cell_type": "code",
   "execution_count": 13,
   "metadata": {},
   "outputs": [
    {
     "data": {
      "text/plain": [
       "en     3225\n",
       "und    17  \n",
       "es     3   \n",
       "fr     2   \n",
       "hu     1   \n",
       "ht     1   \n",
       "cy     1   \n",
       "Name: language, dtype: int64"
      ]
     },
     "execution_count": 13,
     "metadata": {},
     "output_type": "execute_result"
    }
   ],
   "source": [
    "USATodayLife['language'].value_counts()"
   ]
  },
  {
   "cell_type": "code",
   "execution_count": 14,
   "metadata": {},
   "outputs": [
    {
     "data": {
      "text/plain": [
       "en    3227\n",
       "ca    9   \n",
       "fr    4   \n",
       "ro    3   \n",
       "es    2   \n",
       "da    1   \n",
       "ht    1   \n",
       "lt    1   \n",
       "in    1   \n",
       "it    1   \n",
       "Name: language, dtype: int64"
      ]
     },
     "execution_count": 14,
     "metadata": {},
     "output_type": "execute_result"
    }
   ],
   "source": [
    "LATimesPol['language'].value_counts()"
   ]
  },
  {
   "cell_type": "code",
   "execution_count": 15,
   "metadata": {},
   "outputs": [
    {
     "data": {
      "text/plain": [
       "en     3195\n",
       "es     13  \n",
       "und    10  \n",
       "it     5   \n",
       "de     4   \n",
       "ca     3   \n",
       "fr     3   \n",
       "ro     3   \n",
       "cy     2   \n",
       "nl     2   \n",
       "in     2   \n",
       "ht     2   \n",
       "no     2   \n",
       "pt     1   \n",
       "sv     1   \n",
       "hi     1   \n",
       "is     1   \n",
       "Name: language, dtype: int64"
      ]
     },
     "execution_count": 15,
     "metadata": {},
     "output_type": "execute_result"
    }
   ],
   "source": [
    "LATimesSports['language'].value_counts()"
   ]
  },
  {
   "cell_type": "code",
   "execution_count": 16,
   "metadata": {},
   "outputs": [
    {
     "data": {
      "text/plain": [
       "en     2032\n",
       "es     1163\n",
       "ca     15  \n",
       "fr     6   \n",
       "de     5   \n",
       "pt     5   \n",
       "und    4   \n",
       "et     4   \n",
       "cy     4   \n",
       "da     2   \n",
       "ro     2   \n",
       "ht     2   \n",
       "in     2   \n",
       "it     2   \n",
       "tl     1   \n",
       "nl     1   \n",
       "Name: language, dtype: int64"
      ]
     },
     "execution_count": 16,
     "metadata": {},
     "output_type": "execute_result"
    }
   ],
   "source": [
    "LATimesEnt['language'].value_counts()"
   ]
  },
  {
   "cell_type": "markdown",
   "metadata": {},
   "source": [
    "Translating non-english tweets into English using DeepL API"
   ]
  },
  {
   "cell_type": "code",
   "execution_count": 17,
   "metadata": {},
   "outputs": [],
   "source": [
    "translator = deepl.Translator(\"6b76116e-e30b-1f76-d275-cb01592ed043\")"
   ]
  },
  {
   "cell_type": "code",
   "execution_count": 18,
   "metadata": {},
   "outputs": [],
   "source": [
    "def translate_tweet(df):\n",
    "    for i in range(len(df)):\n",
    "        if df.language[i] != 'en':\n",
    "            df.text[i] = translator.translate_text(str(df.text[i]),target_lang=\"EN-US\")\n",
    "        \n",
    "        else:\n",
    "            pass"
   ]
  },
  {
   "cell_type": "code",
   "execution_count": 19,
   "metadata": {},
   "outputs": [
    {
     "name": "stderr",
     "output_type": "stream",
     "text": [
      "/Applications/anaconda3/lib/python3.7/site-packages/ipykernel_launcher.py:4: SettingWithCopyWarning: \n",
      "A value is trying to be set on a copy of a slice from a DataFrame\n",
      "\n",
      "See the caveats in the documentation: http://pandas.pydata.org/pandas-docs/stable/user_guide/indexing.html#returning-a-view-versus-a-copy\n",
      "  after removing the cwd from sys.path.\n"
     ]
    }
   ],
   "source": [
    "translate_tweet(BuzzFeedPol)"
   ]
  },
  {
   "cell_type": "code",
   "execution_count": 20,
   "metadata": {},
   "outputs": [
    {
     "name": "stderr",
     "output_type": "stream",
     "text": [
      "/Applications/anaconda3/lib/python3.7/site-packages/ipykernel_launcher.py:4: SettingWithCopyWarning: \n",
      "A value is trying to be set on a copy of a slice from a DataFrame\n",
      "\n",
      "See the caveats in the documentation: http://pandas.pydata.org/pandas-docs/stable/user_guide/indexing.html#returning-a-view-versus-a-copy\n",
      "  after removing the cwd from sys.path.\n"
     ]
    }
   ],
   "source": [
    "translate_tweet(BuzzFeedSports)"
   ]
  },
  {
   "cell_type": "code",
   "execution_count": 21,
   "metadata": {},
   "outputs": [
    {
     "name": "stderr",
     "output_type": "stream",
     "text": [
      "/Applications/anaconda3/lib/python3.7/site-packages/ipykernel_launcher.py:4: SettingWithCopyWarning: \n",
      "A value is trying to be set on a copy of a slice from a DataFrame\n",
      "\n",
      "See the caveats in the documentation: http://pandas.pydata.org/pandas-docs/stable/user_guide/indexing.html#returning-a-view-versus-a-copy\n",
      "  after removing the cwd from sys.path.\n"
     ]
    }
   ],
   "source": [
    "translate_tweet(BuzzFeedEnt)"
   ]
  },
  {
   "cell_type": "code",
   "execution_count": 22,
   "metadata": {},
   "outputs": [
    {
     "name": "stderr",
     "output_type": "stream",
     "text": [
      "/Applications/anaconda3/lib/python3.7/site-packages/ipykernel_launcher.py:4: SettingWithCopyWarning: \n",
      "A value is trying to be set on a copy of a slice from a DataFrame\n",
      "\n",
      "See the caveats in the documentation: http://pandas.pydata.org/pandas-docs/stable/user_guide/indexing.html#returning-a-view-versus-a-copy\n",
      "  after removing the cwd from sys.path.\n"
     ]
    }
   ],
   "source": [
    "translate_tweet(HuffPostPol)"
   ]
  },
  {
   "cell_type": "code",
   "execution_count": 23,
   "metadata": {},
   "outputs": [
    {
     "name": "stderr",
     "output_type": "stream",
     "text": [
      "/Applications/anaconda3/lib/python3.7/site-packages/ipykernel_launcher.py:4: SettingWithCopyWarning: \n",
      "A value is trying to be set on a copy of a slice from a DataFrame\n",
      "\n",
      "See the caveats in the documentation: http://pandas.pydata.org/pandas-docs/stable/user_guide/indexing.html#returning-a-view-versus-a-copy\n",
      "  after removing the cwd from sys.path.\n"
     ]
    }
   ],
   "source": [
    "translate_tweet(HuffPostSports)"
   ]
  },
  {
   "cell_type": "code",
   "execution_count": 24,
   "metadata": {},
   "outputs": [
    {
     "name": "stderr",
     "output_type": "stream",
     "text": [
      "/Applications/anaconda3/lib/python3.7/site-packages/ipykernel_launcher.py:4: SettingWithCopyWarning: \n",
      "A value is trying to be set on a copy of a slice from a DataFrame\n",
      "\n",
      "See the caveats in the documentation: http://pandas.pydata.org/pandas-docs/stable/user_guide/indexing.html#returning-a-view-versus-a-copy\n",
      "  after removing the cwd from sys.path.\n"
     ]
    }
   ],
   "source": [
    "translate_tweet(HuffPostLife)"
   ]
  },
  {
   "cell_type": "code",
   "execution_count": 25,
   "metadata": {},
   "outputs": [
    {
     "name": "stderr",
     "output_type": "stream",
     "text": [
      "/Applications/anaconda3/lib/python3.7/site-packages/ipykernel_launcher.py:4: SettingWithCopyWarning: \n",
      "A value is trying to be set on a copy of a slice from a DataFrame\n",
      "\n",
      "See the caveats in the documentation: http://pandas.pydata.org/pandas-docs/stable/user_guide/indexing.html#returning-a-view-versus-a-copy\n",
      "  after removing the cwd from sys.path.\n"
     ]
    }
   ],
   "source": [
    "translate_tweet(USATodayPol)"
   ]
  },
  {
   "cell_type": "code",
   "execution_count": 26,
   "metadata": {},
   "outputs": [
    {
     "name": "stderr",
     "output_type": "stream",
     "text": [
      "/Applications/anaconda3/lib/python3.7/site-packages/ipykernel_launcher.py:4: SettingWithCopyWarning: \n",
      "A value is trying to be set on a copy of a slice from a DataFrame\n",
      "\n",
      "See the caveats in the documentation: http://pandas.pydata.org/pandas-docs/stable/user_guide/indexing.html#returning-a-view-versus-a-copy\n",
      "  after removing the cwd from sys.path.\n"
     ]
    }
   ],
   "source": [
    "translate_tweet(USATodaySports)"
   ]
  },
  {
   "cell_type": "code",
   "execution_count": 27,
   "metadata": {},
   "outputs": [
    {
     "name": "stderr",
     "output_type": "stream",
     "text": [
      "/Applications/anaconda3/lib/python3.7/site-packages/ipykernel_launcher.py:4: SettingWithCopyWarning: \n",
      "A value is trying to be set on a copy of a slice from a DataFrame\n",
      "\n",
      "See the caveats in the documentation: http://pandas.pydata.org/pandas-docs/stable/user_guide/indexing.html#returning-a-view-versus-a-copy\n",
      "  after removing the cwd from sys.path.\n"
     ]
    }
   ],
   "source": [
    "translate_tweet(USATodayLife)"
   ]
  },
  {
   "cell_type": "code",
   "execution_count": 28,
   "metadata": {},
   "outputs": [
    {
     "name": "stderr",
     "output_type": "stream",
     "text": [
      "/Applications/anaconda3/lib/python3.7/site-packages/ipykernel_launcher.py:4: SettingWithCopyWarning: \n",
      "A value is trying to be set on a copy of a slice from a DataFrame\n",
      "\n",
      "See the caveats in the documentation: http://pandas.pydata.org/pandas-docs/stable/user_guide/indexing.html#returning-a-view-versus-a-copy\n",
      "  after removing the cwd from sys.path.\n"
     ]
    }
   ],
   "source": [
    "translate_tweet(LATimesPol)"
   ]
  },
  {
   "cell_type": "code",
   "execution_count": 29,
   "metadata": {},
   "outputs": [
    {
     "name": "stderr",
     "output_type": "stream",
     "text": [
      "/Applications/anaconda3/lib/python3.7/site-packages/ipykernel_launcher.py:4: SettingWithCopyWarning: \n",
      "A value is trying to be set on a copy of a slice from a DataFrame\n",
      "\n",
      "See the caveats in the documentation: http://pandas.pydata.org/pandas-docs/stable/user_guide/indexing.html#returning-a-view-versus-a-copy\n",
      "  after removing the cwd from sys.path.\n"
     ]
    }
   ],
   "source": [
    "translate_tweet(LATimesSports)"
   ]
  },
  {
   "cell_type": "code",
   "execution_count": 30,
   "metadata": {},
   "outputs": [
    {
     "name": "stderr",
     "output_type": "stream",
     "text": [
      "/Applications/anaconda3/lib/python3.7/site-packages/ipykernel_launcher.py:4: SettingWithCopyWarning: \n",
      "A value is trying to be set on a copy of a slice from a DataFrame\n",
      "\n",
      "See the caveats in the documentation: http://pandas.pydata.org/pandas-docs/stable/user_guide/indexing.html#returning-a-view-versus-a-copy\n",
      "  after removing the cwd from sys.path.\n"
     ]
    }
   ],
   "source": [
    "translate_tweet(LATimesEnt)"
   ]
  },
  {
   "cell_type": "code",
   "execution_count": 31,
   "metadata": {},
   "outputs": [],
   "source": [
    "BuzzFeedPol.to_csv('/Users/salmankhawar/Desktop/Thesis/Final_data_files/data_collected_Tweepy/BuzzFeedPol_tweets.csv')\n",
    "BuzzFeedSports.to_csv('/Users/salmankhawar/Desktop/Thesis/Final_data_files/data_collected_Tweepy/BuzzFeedSports_tweets.csv')\n",
    "BuzzFeedEnt.to_csv('/Users/salmankhawar/Desktop/Thesis/Final_data_files/data_collected_Tweepy/BuzzFeedEnt_tweets.csv')\n",
    "HuffPostPol.to_csv('/Users/salmankhawar/Desktop/Thesis/Final_data_files/data_collected_Tweepy/HuffPostPol_tweets.csv')\n",
    "HuffPostSports.to_csv('/Users/salmankhawar/Desktop/Thesis/Final_data_files/data_collected_Tweepy/HuffPostSports_tweets.csv')\n",
    "HuffPostLife.to_csv('/Users/salmankhawar/Desktop/Thesis/Final_data_files/data_collected_Tweepy/HuffPostLife_tweets.csv')\n",
    "USATodayPol.to_csv('/Users/salmankhawar/Desktop/Thesis/Final_data_files/data_collected_Tweepy/USATodayPol_tweets.csv')\n",
    "USATodaySports.to_csv('/Users/salmankhawar/Desktop/Thesis/Final_data_files/data_collected_Tweepy/USATodaySports_tweets.csv')\n",
    "USATodayLife.to_csv('/Users/salmankhawar/Desktop/Thesis/Final_data_files/data_collected_Tweepy/USATodayLife_tweets.csv')\n",
    "LATimesPol.to_csv('/Users/salmankhawar/Desktop/Thesis/Final_data_files/data_collected_Tweepy/LATimespolitics_tweets.csv')\n",
    "LATimesSports.to_csv('/Users/salmankhawar/Desktop/Thesis/Final_data_files/data_collected_Tweepy/LATimessports_tweets.csv')\n",
    "LATimesEnt.to_csv('/Users/salmankhawar/Desktop/Thesis/Final_data_files/data_collected_Tweepy/LATimesent_tweets.csv')"
   ]
  },
  {
   "cell_type": "markdown",
   "metadata": {},
   "source": [
    "Adding column with Twitter account name to each dataframe"
   ]
  },
  {
   "cell_type": "code",
   "execution_count": 32,
   "metadata": {},
   "outputs": [],
   "source": [
    "BuzzFeedSports = BuzzFeedSports.assign(twitter_account = 'BuzzFeed Sports')\n",
    "BuzzFeedPol = BuzzFeedPol.assign(twitter_account = 'BuzzFeed Politics')\n",
    "BuzzFeedEnt = BuzzFeedEnt.assign(twitter_account = 'BuzzFeed Arts & Entertainment')\n",
    "HuffPostPol = HuffPostPol.assign(twitter_account = 'HuffPost Politics')\n",
    "HuffPostSports = HuffPostSports.assign(twitter_account = 'HuffPost Sports')\n",
    "HuffPostLife = HuffPostLife.assign(twitter_account = 'HuffPost Life')\n",
    "USATodayPol = USATodayPol.assign(twitter_account = 'USA TODAY Politics')\n",
    "USATodaySports = USATodaySports.assign(twitter_account = 'USA TODAY Sports')\n",
    "USATodayLife = USATodayLife.assign(twitter_account = 'USA TODAY Life')\n",
    "LATimesPol = LATimesPol.assign(twitter_account = 'L.A. Times Politics')\n",
    "LATimesSports = LATimesSports.assign(twitter_account = 'L.A. Times Sports')\n",
    "LATimesEnt = LATimesEnt.assign(twitter_account = 'LAT Entertainment')"
   ]
  },
  {
   "cell_type": "markdown",
   "metadata": {},
   "source": [
    "Creating sample for automated content analysis (n=25600)\n",
    "\n",
    "Composition of tweets:\n",
    "\n",
    "Hard News sub-channels - 50% (BuzzFeedPol: 12.5%, HuffPostPol 12.5%, LATimesPol 12.5%, USATodayPol 12.5%)\n",
    "\n",
    "Soft news sub-channels - 50% (BuzzFeedSports: 6.25%, BuzzFeedEnt: 6.25%, HuffPostSports: 6.25%, \n",
    "                              HuffPostLife: 6.25%, USATodaySports: 6.25%, USATodayLife: 6.25%, \n",
    "                              LATimesSports: 6.25%, LATimesEnt 6.25%)"
   ]
  },
  {
   "cell_type": "code",
   "execution_count": 33,
   "metadata": {},
   "outputs": [],
   "source": [
    "AutomatedCA_sample = pd.concat([HuffPostPol.sample(n=3200), HuffPostSports.sample(n=1600), HuffPostLife.sample(n=1600), BuzzFeedPol.sample(n=3200), BuzzFeedSports.sample(n=1600), BuzzFeedEnt.sample(n=1600), LATimesPol.sample(n=3200), LATimesSports.sample(n=1600), LATimesEnt.sample(n=1600), USATodayPol.sample(n=3200), USATodaySports.sample(n=1600), USATodayLife.sample(n=1600)], ignore_index=True).sample(frac=1)"
   ]
  },
  {
   "cell_type": "markdown",
   "metadata": {},
   "source": [
    "Removing urls from text column"
   ]
  },
  {
   "cell_type": "code",
   "execution_count": 34,
   "metadata": {},
   "outputs": [],
   "source": [
    "def remove_urls(df):\n",
    "    url_removed =[]\n",
    "    for text in df['text']:\n",
    "            text = re.sub(r'(https|http)?:\\/\\/(\\w|\\.|\\/|\\?|\\=|\\&|\\%)*\\b', '', text, flags=re.MULTILINE)\n",
    "            url_removed.append(text)\n",
    "\n",
    "    df['text'] = url_removed"
   ]
  },
  {
   "cell_type": "code",
   "execution_count": 35,
   "metadata": {},
   "outputs": [],
   "source": [
    "remove_urls(AutomatedCA_sample)"
   ]
  },
  {
   "cell_type": "code",
   "execution_count": 36,
   "metadata": {},
   "outputs": [],
   "source": [
    "AutomatedCA_sample.to_csv('/Users/salmankhawar/Desktop/Thesis/Content Analysis/AutomatedCA_sample.csv')"
   ]
  },
  {
   "cell_type": "markdown",
   "metadata": {},
   "source": [
    "Creating sample for manual content analysis (n=1440)\n",
    "\n",
    "Composition of tweets:\n",
    "\n",
    "Hard News sub-channels - 50% (BuzzFeedPol: 12.5%, HuffPostPol 12.5%, LATimesPol 12.5%, USATodayPol 12.5%)\n",
    "\n",
    "Soft news sub-channels - 50% (BuzzFeedSports: 6.25%, BuzzFeedEnt: 6.25%, HuffPostSports: 6.25%, \n",
    "                              HuffPostLife: 6.25%, USATodaySports: 6.25%, USATodayLife: 6.25%, \n",
    "                              LATimesSports: 6.25%, LATimesEnt 6.25%)"
   ]
  },
  {
   "cell_type": "code",
   "execution_count": 37,
   "metadata": {
    "scrolled": true
   },
   "outputs": [],
   "source": [
    "manualCA_sample = pd.concat([HuffPostPol.sample(n=180), HuffPostSports.sample(n=90), HuffPostLife.sample(n=90), BuzzFeedPol.sample(n=180), BuzzFeedSports.sample(n=90), BuzzFeedEnt.sample(n=90), LATimesPol.sample(n=180), LATimesSports.sample(n=90), LATimesEnt.sample(n=90), USATodayPol.sample(n=180), USATodaySports.sample(n=90), USATodayLife.sample(n=90)], ignore_index=True)"
   ]
  },
  {
   "cell_type": "code",
   "execution_count": 38,
   "metadata": {},
   "outputs": [],
   "source": [
    "manualCA_sample_final = manualCA_sample.sample(frac=1)"
   ]
  },
  {
   "cell_type": "code",
   "execution_count": 39,
   "metadata": {},
   "outputs": [],
   "source": [
    "manualCA_sample_final.to_csv('/Users/salmankhawar/Desktop/Thesis/Content Analysis/ManualCA_sample.csv')"
   ]
  },
  {
   "cell_type": "markdown",
   "metadata": {},
   "source": [
    "Creating sample for intercoder reliability (n=144)\n",
    "\n",
    "Composition of tweets:\n",
    "\n",
    "Hard News sub-channels - 50% (BuzzFeedPol: 12.5%, HuffPostPol 12.5%, LATimesPol 12.5%, USATodayPol 12.5%)\n",
    "\n",
    "Soft news sub-channels - 50% (BuzzFeedSports: 6.25%, BuzzFeedEnt: 6.25%, HuffPostSports: 6.25%, \n",
    "                              HuffPostLife: 6.25%, USATodaySports: 6.25%, USATodayLife: 6.25%, \n",
    "                              LATimesSports: 6.25%, LATimesEnt 6.25%)"
   ]
  },
  {
   "cell_type": "code",
   "execution_count": 40,
   "metadata": {
    "scrolled": true
   },
   "outputs": [],
   "source": [
    "intercoder_sample = pd.concat([HuffPostPol.sample(n=18), HuffPostSports.sample(n=9), HuffPostLife.sample(n=9), BuzzFeedPol.sample(n=18), BuzzFeedSports.sample(n=9), BuzzFeedEnt.sample(n=9), LATimesPol.sample(n=18), LATimesSports.sample(n=9), LATimesEnt.sample(n=9), USATodayPol.sample(n=18), USATodaySports.sample(n=9), USATodayLife.sample(n=9)], ignore_index=True)"
   ]
  },
  {
   "cell_type": "code",
   "execution_count": 41,
   "metadata": {},
   "outputs": [],
   "source": [
    "intercoder_sample_final = intercoder_sample[[\"id\", \"text\", \"twitter_account\"]].sample(frac=1)"
   ]
  },
  {
   "cell_type": "code",
   "execution_count": 42,
   "metadata": {},
   "outputs": [],
   "source": [
    "intercoder_sample_final.to_csv('/Users/salmankhawar/Desktop/Thesis/Content Analysis/intercoder_sample.csv')"
   ]
  },
  {
   "cell_type": "code",
   "execution_count": null,
   "metadata": {},
   "outputs": [],
   "source": []
  },
  {
   "cell_type": "code",
   "execution_count": null,
   "metadata": {},
   "outputs": [],
   "source": []
  },
  {
   "cell_type": "code",
   "execution_count": null,
   "metadata": {},
   "outputs": [],
   "source": []
  }
 ],
 "metadata": {
  "kernelspec": {
   "display_name": "Python 3",
   "language": "python",
   "name": "python3"
  },
  "language_info": {
   "codemirror_mode": {
    "name": "ipython",
    "version": 3
   },
   "file_extension": ".py",
   "mimetype": "text/x-python",
   "name": "python",
   "nbconvert_exporter": "python",
   "pygments_lexer": "ipython3",
   "version": "3.7.4"
  }
 },
 "nbformat": 4,
 "nbformat_minor": 2
}
