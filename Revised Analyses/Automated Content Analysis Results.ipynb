{
 "cells": [
  {
   "cell_type": "code",
   "execution_count": 1,
   "metadata": {},
   "outputs": [],
   "source": [
    "import pandas as pd\n",
    "import re\n",
    "import csv\n",
    "import numpy as np\n",
    "from collections import Counter\n",
    "import nltk\n",
    "from nltk.corpus import stopwords\n",
    "import emoji\n",
    "import statsmodels.api as sm\n",
    "import statsmodels.formula.api as smf\n",
    "from statsmodels.formula.api import poisson\n",
    "import matplotlib.pyplot as plt\n",
    "import math\n",
    "import scipy.stats as stats\n",
    "import krippendorff\n",
    "import array as arr\n",
    "from sklearn.metrics import confusion_matrix\n",
    "from sklearn.metrics import accuracy_score, f1_score, precision_score, recall_score, classification_report, confusion_matrix"
   ]
  },
  {
   "cell_type": "code",
   "execution_count": 2,
   "metadata": {},
   "outputs": [],
   "source": [
    "pd.options.display.max_rows\n",
    "pd.set_option('display.max_colwidth', -1)"
   ]
  },
  {
   "cell_type": "markdown",
   "metadata": {},
   "source": [
    "Reading file 'AutomatedCA_sample.csv' containing sample for automated content analysis"
   ]
  },
  {
   "cell_type": "code",
   "execution_count": 3,
   "metadata": {},
   "outputs": [],
   "source": [
    "AutomatedCA_sample = pd.read_csv('/Users/salmankhawar/Desktop/UvA Courses/Thesis/Final_data_files/samples_data_files/AutomatedCA_sample.csv')"
   ]
  },
  {
   "cell_type": "code",
   "execution_count": null,
   "metadata": {},
   "outputs": [],
   "source": []
  },
  {
   "cell_type": "markdown",
   "metadata": {},
   "source": [
    "Detecting Sensationalist Features\n",
    "\n",
    "\n",
    "1) Hyperbolic feature\n",
    "\n",
    "\n",
    "getting list of hyperbolic words/phrases from 'Hyperbolic Words.txt' file"
   ]
  },
  {
   "cell_type": "code",
   "execution_count": 4,
   "metadata": {},
   "outputs": [
    {
     "name": "stdout",
     "output_type": "stream",
     "text": [
      "['A Single', 'Absolutely', 'Amazing', 'Awesome', 'Best', 'Breathtaking', 'But what happened next', 'Can change your life', \"Can't Even Handle\", \"Can't Handle\", 'Cannot Even Handle', \"Doesn't want you to see\", 'Epic', 'Everything You Need To Know', 'Gasp-Worthy', 'Go Viral', 'Greatest', 'Incredible', 'Infuriate', 'Literally', 'Mind Blowing', 'Mind BLOWN', 'Mind Blown', 'Need To Visit Before You Die', 'Nothing Could Prepare Me For', 'Of All Time', 'OMG', 'One Weird Trick', 'Perfection', 'Priceless', 'Prove', 'Right Now', 'Scientific Reasons', 'Shocked', 'Shocking', 'Simple Lessons', \"Stop What You're Doing\", 'TERRIFYING', 'Terrifying', 'That Will Make You Rethink', \"The World's Best\", 'This Is What Happens', 'Totally blew my mind', 'Unbelievable', 'Unimaginable', 'WHAT?', 'Whoa', 'WHOA', 'Whoah', 'Will Blow Your Mind', 'Will Change Your Life Forever', 'Won the Internet', 'Wonderful', 'Worst', 'Wow', 'WOW', \"You Didn't Know Exist\", \"You Didn't Know Existed\", \"You Won't Believe\", 'Have To See To Believe']\n"
     ]
    }
   ],
   "source": [
    "hyperbolic_words = open(\"/Users/salmankhawar/Desktop/UvA Courses/Thesis/Content Analysis/Hyperbolic Words.txt\", \"r\")\n",
    "hyperbolic_words_list = hyperbolic_words.readlines()\n",
    "\n",
    "hyperbolic_list=[]\n",
    "for words in hyperbolic_words_list:\n",
    "    hyperbolic_list.append(words.strip())\n",
    "    \n",
    "print(hyperbolic_list)  "
   ]
  },
  {
   "cell_type": "markdown",
   "metadata": {},
   "source": [
    "Detetcting presence of the hyperbolic words/phrases in the sample"
   ]
  },
  {
   "cell_type": "code",
   "execution_count": 5,
   "metadata": {},
   "outputs": [],
   "source": [
    "def hyperbolic_detection1(tweet, query):\n",
    "    tweet = str(tweet).lower()\n",
    "    newquery = []\n",
    "    for word in query:\n",
    "        newquery.append(str(word).lower())\n",
    "    tokens = re.findall(r\"[\\w']+|[.,!?;$@#]\", tweet)\n",
    "    \n",
    "    for word in newquery:\n",
    "        if word in tokens:\n",
    "            return 1\n",
    "    return 0"
   ]
  },
  {
   "cell_type": "code",
   "execution_count": 6,
   "metadata": {},
   "outputs": [],
   "source": [
    "AutomatedCA_sample['hyperbolic_feature_1'] = AutomatedCA_sample['text'].apply(hyperbolic_detection1,\n",
    "                                                      args=(hyperbolic_list,))"
   ]
  },
  {
   "cell_type": "markdown",
   "metadata": {},
   "source": [
    "Detecting tweets with superlatives - POS tags: RBS (superlative adverbs) and JJS (superlative adjectives)"
   ]
  },
  {
   "cell_type": "code",
   "execution_count": 7,
   "metadata": {},
   "outputs": [],
   "source": [
    "def hyperbole_detections2(text):\n",
    "    newquery = []\n",
    "    text = str(text).lower()\n",
    "    wordslist = nltk.word_tokenize(text)\n",
    "    tagged = nltk.pos_tag(wordslist)\n",
    "\n",
    "    for tupl in tagged:\n",
    "        if tupl[1] == \"RBS\" or tupl[1] == \"JJS\":\n",
    "                        newquery.append(tupl[0])\n",
    "    \n",
    "    if len(newquery) == 0:\n",
    "            return 0\n",
    "    return 1"
   ]
  },
  {
   "cell_type": "code",
   "execution_count": 8,
   "metadata": {},
   "outputs": [],
   "source": [
    "AutomatedCA_sample['hyperbolic_feature_2'] = AutomatedCA_sample['text'].apply(hyperbole_detections2)"
   ]
  },
  {
   "cell_type": "markdown",
   "metadata": {},
   "source": [
    "Consolidating results for hyperbole feature"
   ]
  },
  {
   "cell_type": "code",
   "execution_count": 9,
   "metadata": {},
   "outputs": [],
   "source": [
    "hyperbole_grid = AutomatedCA_sample[['hyperbolic_feature_1', 'hyperbolic_feature_2']]"
   ]
  },
  {
   "cell_type": "code",
   "execution_count": 10,
   "metadata": {},
   "outputs": [],
   "source": [
    "hyperbole_grid = np.array(hyperbole_grid)\n",
    "hyperbole_grid = hyperbole_grid.tolist()\n",
    "any_row_1 = [int(any(row)) for row in hyperbole_grid]"
   ]
  },
  {
   "cell_type": "code",
   "execution_count": 11,
   "metadata": {},
   "outputs": [],
   "source": [
    "AutomatedCA_sample['hyperbolic_feature'] = any_row_1"
   ]
  },
  {
   "cell_type": "markdown",
   "metadata": {},
   "source": [
    "Hyperbolic words/phrases were present in 7.05% of the sample"
   ]
  },
  {
   "cell_type": "code",
   "execution_count": 12,
   "metadata": {},
   "outputs": [
    {
     "data": {
      "text/plain": [
       "0    92.945312\n",
       "1    7.054687 \n",
       "Name: hyperbolic_feature, dtype: float64"
      ]
     },
     "execution_count": 12,
     "metadata": {},
     "output_type": "execute_result"
    }
   ],
   "source": [
    "AutomatedCA_sample['hyperbolic_feature'].value_counts(normalize=True)*100"
   ]
  },
  {
   "cell_type": "code",
   "execution_count": 13,
   "metadata": {},
   "outputs": [
    {
     "data": {
      "text/plain": [
       "0      Justice Amy Coney Barrett's decision marks the first time the nation's highest court has weighed in on the legality of such requirements.                                                                                                                       \n",
       "20     31 \"Sex And The City\" Guest Stars You Probably Totally Forgot About                                                                                                                                                                                             \n",
       "21     The German military says a firefight at one of the gates of Kabul’s international airport killed at least one Afghan soldier.                                                                                                                                   \n",
       "25     Phone-Banking Is Democrats’ Best Hope For Organizing In A Pandemic. It's Also Helping Volunteers Feel Less Lonely.                                                                                                                                              \n",
       "45     Proud middle children share the reasons they’re absolutely sure they’re the best (even if their diplomatic parents won’t openly admit it).                                                                                                                      \n",
       "57     21 Absolutely Fucking Perfect Moments In Sporting Caption History\\n\\n                                                                                                                                                                                           \n",
       "82     This $9 Trillion Proposal Is The Most Ambitious Climate Change Policy Yet From A Democratic Presidential Candidate                                                                                                                                              \n",
       "92     Whoa! Megan Fox showed up in a nearly invisible dress for the #VMAs.                                                                                                                                                                                            \n",
       "120    For Donald Trump, \"the biggest potential implication is that this is just the beginning of a larger investigation,\" said a former federal prosecutor.\\n\\n                                                                                                       \n",
       "131    This is the greatest thing on the internet right now.                                                                                                                                                                                                           \n",
       "136    .@ellajaybasco says most of the training she had to do to play Cassandra Cain in #BirdsOfPrey was working with a magician to learn how to convincingly steal and work with cards 🃏                                                                              \n",
       "143    A Confederate monument removed, the Sept. 11 anniversary and flooding in Mexico make up some of this week's most memorable images.                                                                                                                              \n",
       "165    .@RSherman_25 is an absolute baller: He has amassed 30 career INTs despite receiving the fewest targets of any corner in the NFL. #Seahawks                                                                                                                     \n",
       "190    The flight attendant was punched at least twice and had “multiple broken bones in her face,” according to the Association of Professional Flight Attendants.                                                                                                    \n",
       "199    Lorenzen played at Fullerton HS and Cal State Fullerton so would be a homecoming for the RHP, who has spent most of his seven-year MLB career as a reliever.                                                                                                    \n",
       "201    Best Actor in a Motion Picture Drama: Rami Malek for #BohemianRhapsody (Will he thank Bryan Singer???)                                                                                                                                                          \n",
       "213    The CEO of Dallas-based Match said she was “shocked that I now live in a state where women’s reproductive laws are more regressive than most of the world.”                                                                                                     \n",
       "237    As celeb parents welcome babies into the age of social media, they face a decision: Push for anonymity for their kids who didn't choose the spotlight or include them in their own family \"brand.\" What can non-famous parents learn? Latest for @USATODAY: \\n\\n\n",
       "247    Brian Kelly on leaving Notre Dame for LSU: \"I came down here because I wanted to be with the best.\"                                                                                                                                                             \n",
       "280    Hey all you Upper East siders: #GossipGirl is making her return, pinging phones with the latest scoop about the wealthiest teens in Manhattan.  \\n\\n                                                                                                            \n",
       "Name: text, dtype: object"
      ]
     },
     "execution_count": 13,
     "metadata": {},
     "output_type": "execute_result"
    }
   ],
   "source": [
    "AutomatedCA_sample[AutomatedCA_sample['hyperbolic_feature'] == 1]['text'].head(20)"
   ]
  },
  {
   "cell_type": "code",
   "execution_count": null,
   "metadata": {},
   "outputs": [],
   "source": []
  },
  {
   "cell_type": "markdown",
   "metadata": {},
   "source": [
    "2) Forward referencing feature\n",
    "\n",
    "\n",
    "\n",
    "Creating a list of demonstrative pronouns, personal pronouns and adverbs, and a fucntion to detect tweets that start with such words"
   ]
  },
  {
   "cell_type": "code",
   "execution_count": 14,
   "metadata": {},
   "outputs": [],
   "source": [
    "forwardref_list = ['This','That','These','Those','He','She','They','Him','Her','Them','You','Here','There','Meet','Read']"
   ]
  },
  {
   "cell_type": "code",
   "execution_count": 15,
   "metadata": {},
   "outputs": [],
   "source": [
    "def forwardref_detection(text):\n",
    "    text = str(text)\n",
    "    if (text.startswith(tuple(forwardref_list))):\n",
    "            return 1\n",
    "    return 0"
   ]
  },
  {
   "cell_type": "code",
   "execution_count": 16,
   "metadata": {},
   "outputs": [],
   "source": [
    "AutomatedCA_sample['forwardref_feature'] = AutomatedCA_sample['text'].apply(forwardref_detection)"
   ]
  },
  {
   "cell_type": "markdown",
   "metadata": {},
   "source": [
    "The forward referencing feature is detected in 3.84% of the sample"
   ]
  },
  {
   "cell_type": "code",
   "execution_count": 17,
   "metadata": {},
   "outputs": [
    {
     "data": {
      "text/plain": [
       "0    96.15625\n",
       "1    3.84375 \n",
       "Name: forwardref_feature, dtype: float64"
      ]
     },
     "execution_count": 17,
     "metadata": {},
     "output_type": "execute_result"
    }
   ],
   "source": [
    "AutomatedCA_sample['forwardref_feature'].value_counts(normalize=True)*100"
   ]
  },
  {
   "cell_type": "code",
   "execution_count": 18,
   "metadata": {},
   "outputs": [
    {
     "data": {
      "text/plain": [
       "60     Here's What Everyone Wore To This Year's BET Awards                                                                                                 \n",
       "80     This Is What Actual Teenagers Think About Claudia Conway                                                                                            \n",
       "82     This $9 Trillion Proposal Is The Most Ambitious Climate Change Policy Yet From A Democratic Presidential Candidate                                  \n",
       "91     This Is What People Promised They Would Do If Biden Won                                                                                             \n",
       "96     There are new Harry Styles pics on the timeline and fans *Ariel* excited 🧜‍♀️ #TheBuzz                                                              \n",
       "108    There is a petition calling for the @Browns to start Johnny Manziel.                                                                                \n",
       "121    This is the legacy of 'movie monster' Jean-Paul Belmondo                                                                                            \n",
       "131    This is the greatest thing on the internet right now.                                                                                               \n",
       "154    You used to call me on my cell phone\\n\\nLate night when you need injury updates                                                                     \n",
       "155    This 'Jeopardy!' question finally ended Matt Amodio's 38-game winning streak                                                                        \n",
       "170    Here's What Each Cast Member From \"The Office\" Has Said About Their Rumored Reboot                                                                  \n",
       "234    These WFH secrets range from big (a pandemic baby!) to small (working on the toilet).                                                               \n",
       "280    Hey all you Upper East siders: #GossipGirl is making her return, pinging phones with the latest scoop about the wealthiest teens in Manhattan.  \\n\\n\n",
       "295    This kid stopped on his way to second base to tell his baseball coach \"I love you\"                                                                  \n",
       "319    Here Is The Research Facebook Commissioned On George Soros                                                                                          \n",
       "321    Here’s What President Trump Just Got Wrong About Climate Change                                                                                     \n",
       "394    Young, outspoken and diverse, the 2018 House class began with high hopes. Did it deliver?                                                           \n",
       "465    She’s A Biden Supporter. Trump Just Held A Rally Outside Her House.                                                                                 \n",
       "482    This is the \"Glitter\" of basketball games. #nationalchampionship #removethezebras                                                                   \n",
       "484    There's nothing better than this: so fired up it borders on disturbing. Happy football everyone! This is what we've been waiting for! 🏈🏈🏈🏈          \n",
       "Name: text, dtype: object"
      ]
     },
     "execution_count": 18,
     "metadata": {},
     "output_type": "execute_result"
    }
   ],
   "source": [
    "AutomatedCA_sample[AutomatedCA_sample['forwardref_feature'] == 1]['text'].head(20)"
   ]
  },
  {
   "cell_type": "code",
   "execution_count": null,
   "metadata": {},
   "outputs": [],
   "source": []
  },
  {
   "cell_type": "markdown",
   "metadata": {},
   "source": [
    "3) Listicle feature\n",
    "\n",
    "Function to detect tweets starting with a number"
   ]
  },
  {
   "cell_type": "code",
   "execution_count": 19,
   "metadata": {},
   "outputs": [],
   "source": [
    "def listicle_detection(text):\n",
    "    text = str(text)\n",
    "    if re.match(r\"\\d\", text):\n",
    "            return 1\n",
    "    return 0"
   ]
  },
  {
   "cell_type": "code",
   "execution_count": 20,
   "metadata": {},
   "outputs": [],
   "source": [
    "AutomatedCA_sample['listicle_feature'] = AutomatedCA_sample['text'].apply(listicle_detection)"
   ]
  },
  {
   "cell_type": "markdown",
   "metadata": {},
   "source": [
    "Listicles were detected in .95% of the sample"
   ]
  },
  {
   "cell_type": "code",
   "execution_count": 21,
   "metadata": {},
   "outputs": [
    {
     "data": {
      "text/plain": [
       "0    99.054688\n",
       "1    0.945312 \n",
       "Name: listicle_feature, dtype: float64"
      ]
     },
     "execution_count": 21,
     "metadata": {},
     "output_type": "execute_result"
    }
   ],
   "source": [
    "AutomatedCA_sample['listicle_feature'].value_counts(normalize=True)*100"
   ]
  },
  {
   "cell_type": "code",
   "execution_count": 22,
   "metadata": {},
   "outputs": [
    {
     "data": {
      "text/plain": [
       "20      31 \"Sex And The City\" Guest Stars You Probably Totally Forgot About                                                                                              \n",
       "27      86% of NBA GM's say they would sign Anthony Davis first if they were starting a franchise today.                                                                 \n",
       "57      21 Absolutely Fucking Perfect Moments In Sporting Caption History\\n\\n                                                                                            \n",
       "252     21 Quizzes Marvel Fans Should Take Right Now                                                                                                                     \n",
       "271     140 women have accused former USA Gymnastics doctor Larry Nassar of abuse. His victims think we don't care.                                                      \n",
       "457     72 straight pats for miami kicker just snapped. 72! Fsu up 1                                                                                                     \n",
       "587     2028 L.A. Olympics: Agreement outlines key issues but final price tag remains unclear                                                                            \n",
       "635     3 more hours until all is right with the world.                                                                                                                  \n",
       "748     15 Radio Interview Moments That Are Fucking Bonkers                                                                                                              \n",
       "966     25 years ago this week, California passed the nation’s first medical marijuana law.\\n\\nYet today, cannabis remains a federally prohibited, Schedule 1 drug. \\n\\n \n",
       "975     105-year-old man sets cycling world record                                                                                                                       \n",
       "978     21 Fun Facts About Netflix For You To Binge On                                                                                                                   \n",
       "997     5.5 billion coronavirus vaccines have been administered so far, but 80% of those have been to upper- and middle-income countries.                                \n",
       "1499    99 thoughts every swimmer has when they swim one mile.                                                                                                           \n",
       "1601    10 years ago today Amy Winehouse died at the age of 27. In remembrance, we're taking a look at photos of the British soulful singer over the years. \\n\\n📸: Getty \n",
       "1852    11 ways the world has changed since the Cubs last won a World Series                                                                                             \n",
       "2073    6 DAYS UNTIL THE @NBA IS BACK!!!                                                                                                                                 \n",
       "2109    10 Republicans joined Democrats in voting to impeach Trump again. His Senate trial is expected to begin next week.                                               \n",
       "2118    19 Reasons Brazil Is Still The World’s Favourite Team\\n\\n                                                                                                        \n",
       "2281    2020 Olympics will host baseball match in #Fukushima                                                                                                             \n",
       "Name: text, dtype: object"
      ]
     },
     "execution_count": 22,
     "metadata": {},
     "output_type": "execute_result"
    }
   ],
   "source": [
    "AutomatedCA_sample[AutomatedCA_sample['listicle_feature'] == 1]['text'].head(20)"
   ]
  },
  {
   "cell_type": "code",
   "execution_count": null,
   "metadata": {},
   "outputs": [],
   "source": []
  },
  {
   "cell_type": "markdown",
   "metadata": {},
   "source": [
    "4) Question feature\n",
    "\n",
    "\n",
    "creating function to detect interrogative structure in tweets, i.e presence of a question mark"
   ]
  },
  {
   "cell_type": "code",
   "execution_count": 23,
   "metadata": {},
   "outputs": [],
   "source": [
    "def question_detection(text):\n",
    "    text = str(text)\n",
    "    if re.search('\\w[?]\\s', text):\n",
    "        return 1\n",
    "    return 0"
   ]
  },
  {
   "cell_type": "code",
   "execution_count": 24,
   "metadata": {},
   "outputs": [],
   "source": [
    "AutomatedCA_sample['question_feature'] = AutomatedCA_sample['text'].apply(question_detection)"
   ]
  },
  {
   "cell_type": "markdown",
   "metadata": {},
   "source": [
    "The question feature is detected in 4.59% of the sample"
   ]
  },
  {
   "cell_type": "code",
   "execution_count": 25,
   "metadata": {},
   "outputs": [
    {
     "data": {
      "text/plain": [
       "0    95.410156\n",
       "1    4.589844 \n",
       "Name: question_feature, dtype: float64"
      ]
     },
     "execution_count": 25,
     "metadata": {},
     "output_type": "execute_result"
    }
   ],
   "source": [
    "AutomatedCA_sample['question_feature'].value_counts(normalize=True)*100"
   ]
  },
  {
   "cell_type": "code",
   "execution_count": 26,
   "metadata": {},
   "outputs": [
    {
     "data": {
      "text/plain": [
       "37     #What2Watch hosts @scottygb and @DionneGrant face some blowback over their Should You Watch It? Board choices 😅                                                                                                                                                 \n",
       "49     What makes an elite team? @CoachLindsayG\\nhas a powerpoint for that. \\n\\nThe @USCWBB HC makes her Trojan debut tonight as USC tries to climb back to glory  \\n                                                                                                  \n",
       "63     Review: Is Christmas the season of Nintendo or the opiate of the masses? Two new movies chime in                                                                                                                                                                \n",
       "90     hello! have you had trouble finding a good therapist? any tips that worked for you? (or if you're a therapist yourself, what advice do you have?) would love to hear from you for a story. DMs open, or you can email doliver@usatoday.com. thanks much!!       \n",
       "134    Who will be the breakout star of the Super Bowl this year? @kcifeanyi &amp; @rawan weigh in                                                                                                                                                                     \n",
       "163    Missed our conversation today? Catch up on our discussion about what happened on election night and what it means for 2022 here:                                                                                                                                \n",
       "176    Want to lower your risk of cardiovascular disease? Adjust your bedtime.                                                                                                                                                                                         \n",
       "182    What do you think of the \"Justice League\" #SnyderCut? #TheBuzz                                                                                                                                                                                                  \n",
       "183    What Does It Take For Republicans To Bail On A Controversial Judicial Nominee?                                                                                                                                                                                  \n",
       "219    Cowboys QB Dak Prescott is listed as questionable to play vs. Vikings.\\n\\nWhy? How did this happen? What are the Cowboys saying? And what will the decision ultimately hinge on? Here's what we know, via @usatodaysports 👇🏽\\n                                  \n",
       "237    As celeb parents welcome babies into the age of social media, they face a decision: Push for anonymity for their kids who didn't choose the spotlight or include them in their own family \"brand.\" What can non-famous parents learn? Latest for @USATODAY: \\n\\n\n",
       "245    Is the recent surge of COVID cases exhausting/overwhelming you to the point of caring less about being safe? If so, I'd love to talk to you for a story I'm working on. Please DM or email me at smoniuszko@gannett.com if you're open to chatting - Thanks!    \n",
       "282    Are you constantly stressed over contracting the coronavirus? Do you regularly scan your body for symptoms? Read this.                                                                                                                                          \n",
       "289    How did Vice President Kamala Harris’ Central America trip go? Here’s what two experts have to say, in today's Essential Politics:                                                                                                                              \n",
       "364    A revamped PPP coronavirus loan program is in the works. Will it help small businesses left out before?                                                                                                                                                         \n",
       "385    @G_Kontos Are you back in Chicago yet? Gonna be a crazy scene out there either way!                                                                                                                                                                             \n",
       "394    Young, outspoken and diverse, the 2018 House class began with high hopes. Did it deliver?                                                                                                                                                                       \n",
       "408    Will there be a second round of coronavirus stimulus checks? Probably not soon                                                                                                                                                                                  \n",
       "435    The Justice Department uses consent decrees to oversee police departments accused of abuse, but has a cottage industry developed?\\n\\n                                                                                                                           \n",
       "493    Could the next Manning quarterback actually be the best?\\n\\nArch Manning, the five-star prospect out of Isidore Newman School, is already a \"one-of-a-kind\" talent that has college recruiters salivating.                                                      \n",
       "Name: text, dtype: object"
      ]
     },
     "execution_count": 26,
     "metadata": {},
     "output_type": "execute_result"
    }
   ],
   "source": [
    "AutomatedCA_sample[AutomatedCA_sample['question_feature'] == 1]['text'].head(20)"
   ]
  },
  {
   "cell_type": "code",
   "execution_count": null,
   "metadata": {},
   "outputs": [],
   "source": []
  },
  {
   "cell_type": "markdown",
   "metadata": {},
   "source": [
    "5) All caps words\n",
    "\n",
    "\n",
    "Using part of speech tagging to identify capitalized proper nouns/acronyms (POS tag: NNP) in the sample, and excluding them in detection of the all caps feature"
   ]
  },
  {
   "cell_type": "code",
   "execution_count": 27,
   "metadata": {},
   "outputs": [],
   "source": [
    "tag_list = []\n",
    "def pos_tagging(txt):\n",
    "        txt = str(txt)\n",
    "        wordslist = nltk.word_tokenize(txt)\n",
    "        tagged = nltk.pos_tag(wordslist)\n",
    "            \n",
    "        for tupl in tagged:\n",
    "                if tupl[1] == \"NNP\":\n",
    "                        tag_list.append(tupl[0])\n",
    "                  \n",
    "                else:\n",
    "                    pass"
   ]
  },
  {
   "cell_type": "code",
   "execution_count": 28,
   "metadata": {},
   "outputs": [
    {
     "data": {
      "text/plain": [
       "['Justice',\n",
       " 'Amy',\n",
       " 'Coney',\n",
       " 'Barrett',\n",
       " 'Russell',\n",
       " 'Wilson',\n",
       " 'Seahawks',\n",
       " 'Manhattan',\n",
       " '’',\n",
       " 'Trump',\n",
       " '’',\n",
       " 'Jon',\n",
       " 'Stewart',\n",
       " 'SportsCenter',\n",
       " 'Melania',\n",
       " 'Trump',\n",
       " 'Secretary',\n",
       " 'State',\n",
       " 'Pompeo',\n",
       " 'RNC']"
      ]
     },
     "execution_count": 28,
     "metadata": {},
     "output_type": "execute_result"
    }
   ],
   "source": [
    "AutomatedCA_sample['text'].apply(pos_tagging)\n",
    "tag_list[0:20]"
   ]
  },
  {
   "cell_type": "code",
   "execution_count": 29,
   "metadata": {},
   "outputs": [
    {
     "data": {
      "text/plain": [
       "['ZURICH',\n",
       " 'LF',\n",
       " 'TCU',\n",
       " 'DHS',\n",
       " 'CARES',\n",
       " 'BIABIA',\n",
       " 'R-N.Y.',\n",
       " 'XX',\n",
       " 'OLE',\n",
       " 'BREAKING',\n",
       " 'CIA',\n",
       " 'FAN',\n",
       " 'CUP',\n",
       " 'NAJ_TV',\n",
       " 'ACL',\n",
       " 'COP26',\n",
       " 'HONOR',\n",
       " 'MINUTES',\n",
       " 'SPAC',\n",
       " 'CB']"
      ]
     },
     "execution_count": 29,
     "metadata": {},
     "output_type": "execute_result"
    }
   ],
   "source": [
    "tag_list_upper = [w for w in tag_list if w.isupper()]\n",
    "tag_list_upper = list(set(tag_list_upper))\n",
    "tag_list_upper[0:20]"
   ]
  },
  {
   "cell_type": "code",
   "execution_count": 30,
   "metadata": {},
   "outputs": [],
   "source": [
    "def capitalized_detection(text):\n",
    "    text = str(text)\n",
    "    \n",
    "    m = re.findall(r\"\\b[A-Z]{2,}\\b\", text)\n",
    "    if m:\n",
    "        if any(x in m for x in tag_list_upper):\n",
    "                       return 0\n",
    "             \n",
    "        else: \n",
    "                       return 1\n",
    "            \n",
    "    else:\n",
    "        return 0"
   ]
  },
  {
   "cell_type": "code",
   "execution_count": 31,
   "metadata": {},
   "outputs": [],
   "source": [
    "AutomatedCA_sample['capitalized_feature'] = AutomatedCA_sample['text'].apply(capitalized_detection) "
   ]
  },
  {
   "cell_type": "code",
   "execution_count": 32,
   "metadata": {},
   "outputs": [
    {
     "data": {
      "text/plain": [
       "0    99.746094\n",
       "1    0.253906 \n",
       "Name: capitalized_feature, dtype: float64"
      ]
     },
     "execution_count": 32,
     "metadata": {},
     "output_type": "execute_result"
    }
   ],
   "source": [
    "AutomatedCA_sample['capitalized_feature'].value_counts(normalize=True)*100"
   ]
  },
  {
   "cell_type": "code",
   "execution_count": 33,
   "metadata": {},
   "outputs": [
    {
     "data": {
      "text/plain": [
       "177     RILEY!!!                                                                                                                                                                                                                                                                  \n",
       "476     @doliver8 @Josh1Rivera @heyitsanika Hi Dav- I mean Olivia, we would love to get an exclusive on your red carpet look when the time comes. XOXO                                                                                                                            \n",
       "606     Donald Trump's son last week endorsed sending an AR-15 rifle to the acquitted shooter.                                                                                                                                                                                    \n",
       "1095    Under its first woman president, the AFL-CIO is pursuing big legislative goals in Washington while trying to turn around the decline in union membership.                                                                                                                 \n",
       "1148    @joga_newsletter what a LEGEND                                                                                                                                                                                                                                            \n",
       "2003    ‘This Was The XFL’: Examining Television’s Greatest Sports Flop Ever -  @30for30                                                                                                                                                                                          \n",
       "2830    The Florida governor is taking on Ben &amp; Jerry's while his state grapples with record COVD-19 cases.                                                                                                                                                                   \n",
       "3137    Mark Richards also slammed Donald Trump Jr. as \"an idiot\" after he announced a gun organization planned to award Rittenhouse an AR-15.                                                                                                                                    \n",
       "3908    🚨IMPORTANT NOTICE🚨\\nYou can now buy Will &amp; Carlton's Bel-Air Academy basketball jerseys!                                                                                                                                                                              \n",
       "4259    Lakers' big three has 42 points combined. LAL up 51-48                                                                                                                                                                                                                    \n",
       "5027    TLDR: Trump is lying (again).                                                                                                                                                                                                                                             \n",
       "5440    .@mikethemiz was wonderful! magnificent! glorious! and entirely blue as he transformed into Aladdin's Genie. 🪄 \\n\\n\"Bachelor\" star @mattjames919 looked ❄️INCREDIBELE-Y❄️icy on the dance floor as Frozone.  #DancingWiththeStars                                         \n",
       "5486    Other news from Minasian today:\\n\\n-Bruce Hines, Brian Butterfield and José Molina will not be back next year. Rest of coaching staff (including PC Matt Wise and bullpen coach Dom Chiti) remains intact\\n\\n-Angels did scout Justin Verlander's workout today in Florida\n",
       "5603    What a COMEBACK! Cowboys #Touchdown                                                                                                                                                                                                                                       \n",
       "6194    TONIGHT: Get tickets to watch Ron and Clint Howard discuss their memoir, \"The Boys.\" You can watch online or in-person at L.A. Live’s Rooftop Terrace.                                                                                                                    \n",
       "6352    Chrissy Metz Attended The Billboard Music Awards In Flats And I Feel SEEN                                                                                                                                                                                                 \n",
       "6424    In the survey commissioned by the AFL-CIO labor federation, a strong majority said workers were right to walk out for better pay and benefits.                                                                                                                            \n",
       "6555    🚨Cute alert! 🚨These puppies 🐶are so perfect they've earned prizes. PHOTOS:                                                                                                                                                                                                \n",
       "6743    SAG-AFTRA elects Fran Drescher as president                                                                                                                                                                                                                               \n",
       "7871    Sen. Tom Cotton (R-AR) asks Gen. Milley, \"Why haven't you resigned?\" Milley responds by saying resigning is \"a political act.\"                                                                                                                                            \n",
       "Name: text, dtype: object"
      ]
     },
     "execution_count": 33,
     "metadata": {},
     "output_type": "execute_result"
    }
   ],
   "source": [
    "AutomatedCA_sample[AutomatedCA_sample['capitalized_feature'] == 1]['text'].head(20)"
   ]
  },
  {
   "cell_type": "code",
   "execution_count": null,
   "metadata": {},
   "outputs": [],
   "source": []
  },
  {
   "cell_type": "markdown",
   "metadata": {},
   "source": [
    "6) Emoji feature\n",
    "\n",
    "\n",
    "extracting list of emojis from the emoji library and creating function for detection"
   ]
  },
  {
   "cell_type": "code",
   "execution_count": 34,
   "metadata": {},
   "outputs": [
    {
     "data": {
      "text/plain": [
       "4702"
      ]
     },
     "execution_count": 34,
     "metadata": {},
     "output_type": "execute_result"
    }
   ],
   "source": [
    "emoji_list = list(emoji.UNICODE_EMOJI['en'].keys())\n",
    "len(emoji_list)"
   ]
  },
  {
   "cell_type": "code",
   "execution_count": 35,
   "metadata": {},
   "outputs": [],
   "source": [
    "def emoji_detection(text):\n",
    "    text = str(text)\n",
    "    for word in text:\n",
    "        if word in emoji_list:\n",
    "            return 1\n",
    "    return 0"
   ]
  },
  {
   "cell_type": "code",
   "execution_count": 36,
   "metadata": {},
   "outputs": [],
   "source": [
    "AutomatedCA_sample['emoji_feature'] = AutomatedCA_sample['text'].apply(emoji_detection)"
   ]
  },
  {
   "cell_type": "markdown",
   "metadata": {},
   "source": [
    "The emoji feature is detected in 2.89% of the sample"
   ]
  },
  {
   "cell_type": "code",
   "execution_count": 37,
   "metadata": {},
   "outputs": [
    {
     "data": {
      "text/plain": [
       "0    97.109375\n",
       "1    2.890625 \n",
       "Name: emoji_feature, dtype: float64"
      ]
     },
     "execution_count": 37,
     "metadata": {},
     "output_type": "execute_result"
    }
   ],
   "source": [
    "AutomatedCA_sample['emoji_feature'].value_counts(normalize=True)*100"
   ]
  },
  {
   "cell_type": "code",
   "execution_count": 38,
   "metadata": {},
   "outputs": [
    {
     "data": {
      "text/plain": [
       "11     Atlanta ties it at 2-2 on Dansby Swanson’s solo home run! #WorldSeries \\n\\n🎥: @MLB\\n                                                                                                                                          \n",
       "37     #What2Watch hosts @scottygb and @DionneGrant face some blowback over their Should You Watch It? Board choices 😅                                                                                                               \n",
       "56     .@robcorddry says he joined #TheUnicorn because of his pal Walton Goggins: \"First of all, just do whatever Walton says.\" 🦄                                                                                                    \n",
       "88     The on-screen couples we can't get enough of, and the ones we're dreaming of 😍 #TheBuzz                                                                                                                                       \n",
       "96     There are new Harry Styles pics on the timeline and fans *Ariel* excited 🧜‍♀️ #TheBuzz                                                                                                                                        \n",
       "118    👋 We're having another #AskAReporter event this Wednesday at 6pm PST.\\n\\n@BillPlaschke will be talking about his career (as our @latimessports columnist) and the stories behind his book 📚\\n\\nLivestream link 👨‍💻 👩‍💻 👇\\n    \n",
       "136    .@ellajaybasco says most of the training she had to do to play Cassandra Cain in #BirdsOfPrey was working with a magician to learn how to convincingly steal and work with cards 🃏                                            \n",
       "174    Full interview: @SkylarAstin reads some 🔥 tweets and talks #ZoeysPlaylist, \"Pitch Perfect,\" and more                                                                                                                          \n",
       "219    Cowboys QB Dak Prescott is listed as questionable to play vs. Vikings.\\n\\nWhy? How did this happen? What are the Cowboys saying? And what will the decision ultimately hinge on? Here's what we know, via @usatodaysports 👇🏽\\n\n",
       "296    Thunder coach Mark Daigneault on Drake attending tonight's game: \"I don't know Drake and Drake certainly doesn’t know who I am.\" 😂                                                                                            \n",
       "307    Musician, composer and songwriter @toddrundgren is now part of hall of fame glory. 🎸                                                                                                                                          \n",
       "340    Julia Garner's not on Twitter but she says thanks for the #Ozark praise, @ReeseW! 😅❤️                                                                                                                                         \n",
       "375    🐶💪                                                                                                                                                                                                                            \n",
       "438    New: Time’s Up and Rashida Jones have released a PSA about sexual harassment. Check out the video narrated by Donald Glover 🗣                                                                                                 \n",
       "474    The cache of shows features conversations with major stars of the era, including Frank Sinatra, Dean Martin, Mary Tyler Moore, and more 👀                                                                                     \n",
       "484    There's nothing better than this: so fired up it borders on disturbing. Happy football everyone! This is what we've been waiting for! 🏈🏈🏈🏈                                                                                    \n",
       "499    .@helloross says he was all set to spill the \"really scary\" tea his \"Celebrity Big Brother\" costar Omarosa revealed to him until he saw her four security guards and the black helicopter that left with her 👀😅               \n",
       "518    Falcons strike gold hiring Steve Sarkisian as offensive coordinator ➡️  by @Schultz_Report                                                                                                                                    \n",
       "531    Week 1 #NFLSchedule is absolutely stacked: Seahawks-Packers, Cowboys-Giants, Eagles-Skins, Bengals-Ravens! 🔥🔥🔥                                                                                                                \n",
       "628    What do you think of the the 2022 Super Bowl halftime show lineup 👀 \\n                                                                                                                                                        \n",
       "Name: text, dtype: object"
      ]
     },
     "execution_count": 38,
     "metadata": {},
     "output_type": "execute_result"
    }
   ],
   "source": [
    "AutomatedCA_sample[AutomatedCA_sample['emoji_feature'] == 1]['text'].head(20)"
   ]
  },
  {
   "cell_type": "code",
   "execution_count": null,
   "metadata": {},
   "outputs": [],
   "source": []
  },
  {
   "cell_type": "markdown",
   "metadata": {},
   "source": [
    "7) Hashtags"
   ]
  },
  {
   "cell_type": "code",
   "execution_count": 39,
   "metadata": {},
   "outputs": [],
   "source": [
    "def hashtag_detection(text):\n",
    "    text = str(text)\n",
    "    if re.search('#\\w', text):\n",
    "        return 1\n",
    "    return 0"
   ]
  },
  {
   "cell_type": "code",
   "execution_count": 40,
   "metadata": {},
   "outputs": [],
   "source": [
    "AutomatedCA_sample['hashtag_feature'] = AutomatedCA_sample['text'].apply(hashtag_detection)"
   ]
  },
  {
   "cell_type": "markdown",
   "metadata": {},
   "source": [
    "Hashtags are detected in 8.90% of the sample"
   ]
  },
  {
   "cell_type": "code",
   "execution_count": 41,
   "metadata": {},
   "outputs": [
    {
     "data": {
      "text/plain": [
       "0    91.097656\n",
       "1    8.902344 \n",
       "Name: hashtag_feature, dtype: float64"
      ]
     },
     "execution_count": 41,
     "metadata": {},
     "output_type": "execute_result"
    }
   ],
   "source": [
    "AutomatedCA_sample['hashtag_feature'].value_counts(normalize=True)*100"
   ]
  },
  {
   "cell_type": "code",
   "execution_count": 42,
   "metadata": {},
   "outputs": [
    {
     "data": {
      "text/plain": [
       "1      Now that's the Russell Wilson we are used to right there #Seahawks #mnf                                                                                                                                                          \n",
       "10     Full interview: @BradleyWhitford discusses his new series #PerfectHarmony, whether \"The West Wing\" could be made today, what the Emmys are really like, and more                                                                 \n",
       "11     Atlanta ties it at 2-2 on Dansby Swanson’s solo home run! #WorldSeries \\n\\n🎥: @MLB\\n                                                                                                                                             \n",
       "17     Bottom of the ninth. Tie game. Mood. #ComeTogether                                                                                                                                                                               \n",
       "37     #What2Watch hosts @scottygb and @DionneGrant face some blowback over their Should You Watch It? Board choices 😅                                                                                                                  \n",
       "42     #KaceyMusgraves is no longer keeping it to herself.                                                                                                                                                                              \n",
       "56     .@robcorddry says he joined #TheUnicorn because of his pal Walton Goggins: \"First of all, just do whatever Walton says.\" 🦄                                                                                                       \n",
       "62     We're here with your reminder that horror icon @StephenKing is pretty great at writing crime thrillers. #BillySummers                                                                                                            \n",
       "73     \"I'm so tired of guys getting to start out being Scrooge and being crazy and everybody's like, 'Oh, that's great,' but if it's a woman, it's like, 'Oh, she's not likable.'\"\\n\\n@paulfeig shares what drew him to #LastChristmas \n",
       "88     The on-screen couples we can't get enough of, and the ones we're dreaming of 😍 #TheBuzz                                                                                                                                          \n",
       "92     Whoa! Megan Fox showed up in a nearly invisible dress for the #VMAs.                                                                                                                                                             \n",
       "93     Two horrifying crashes mar the men’s ski halfpipe event #Pyeongchang2018                                                                                                                                                         \n",
       "96     There are new Harry Styles pics on the timeline and fans *Ariel* excited 🧜‍♀️ #TheBuzz                                                                                                                                           \n",
       "103    #GarthBrooks pulled the plug Wednesday on five stadium tour dates amid rising COVID-19 cases.                                                                                                                                    \n",
       "115    #TeamUSA's Katie Ledecky just became the first woman ever to win 12 world championship golds                                                                                                                                     \n",
       "118    👋 We're having another #AskAReporter event this Wednesday at 6pm PST.\\n\\n@BillPlaschke will be talking about his career (as our @latimessports columnist) and the stories behind his book 📚\\n\\nLivestream link 👨‍💻 👩‍💻 👇\\n       \n",
       "119    .@MarlonWayans talks about finally getting to make his film #Sextuplets after a cool 7-8 years                                                                                                                                   \n",
       "124    .@netflix co-CEO Ted Sarandos is defending his decision to keep comedian #DaveChappelle's controversial special \"The Closer\" on the streaming service.                                                                           \n",
       "136    .@ellajaybasco says most of the training she had to do to play Cassandra Cain in #BirdsOfPrey was working with a magician to learn how to convincingly steal and work with cards 🃏                                               \n",
       "141    #AStarIsBorn May Not Get Pop Music Right, But It Gets That It Matters  via @alisonwillmore                                                                                                                                       \n",
       "Name: text, dtype: object"
      ]
     },
     "execution_count": 42,
     "metadata": {},
     "output_type": "execute_result"
    }
   ],
   "source": [
    "AutomatedCA_sample[AutomatedCA_sample['hashtag_feature'] == 1]['text'].head(20)"
   ]
  },
  {
   "cell_type": "code",
   "execution_count": null,
   "metadata": {},
   "outputs": [],
   "source": []
  },
  {
   "cell_type": "markdown",
   "metadata": {},
   "source": [
    "8) Informal punctuation feature\n",
    "\n",
    "\n",
    "Using regular expressions to detect informal punctuation patterns"
   ]
  },
  {
   "cell_type": "code",
   "execution_count": 43,
   "metadata": {},
   "outputs": [],
   "source": [
    "def informalpunct_detection(text):\n",
    "    text = str(text)\n",
    "    pattern = '[!?*.]{2,}|\\*\\w+\\*'\n",
    "    if re.search(pattern, text):\n",
    "            return 1\n",
    "    else:\n",
    "            return 0"
   ]
  },
  {
   "cell_type": "code",
   "execution_count": 44,
   "metadata": {},
   "outputs": [],
   "source": [
    "AutomatedCA_sample['informalpunct_feature'] = AutomatedCA_sample['text'].apply(informalpunct_detection) "
   ]
  },
  {
   "cell_type": "markdown",
   "metadata": {},
   "source": [
    "Informal punctuation feature is present in 1.76% of the sample"
   ]
  },
  {
   "cell_type": "code",
   "execution_count": 45,
   "metadata": {},
   "outputs": [
    {
     "data": {
      "text/plain": [
       "0    98.242188\n",
       "1    1.757812 \n",
       "Name: informalpunct_feature, dtype: float64"
      ]
     },
     "execution_count": 45,
     "metadata": {},
     "output_type": "execute_result"
    }
   ],
   "source": [
    "AutomatedCA_sample['informalpunct_feature'].value_counts(normalize=True)*100"
   ]
  },
  {
   "cell_type": "code",
   "execution_count": 46,
   "metadata": {},
   "outputs": [
    {
     "data": {
      "text/plain": [
       "77      Yep...                                                                                                                                                                                                                                                             \n",
       "90      hello! have you had trouble finding a good therapist? any tips that worked for you? (or if you're a therapist yourself, what advice do you have?) would love to hear from you for a story. DMs open, or you can email doliver@usatoday.com. thanks much!!          \n",
       "96      There are new Harry Styles pics on the timeline and fans *Ariel* excited 🧜‍♀️ #TheBuzz                                                                                                                                                                             \n",
       "177     RILEY!!!                                                                                                                                                                                                                                                           \n",
       "201     Best Actor in a Motion Picture Drama: Rami Malek for #BohemianRhapsody (Will he thank Bryan Singer???)                                                                                                                                                             \n",
       "241     \"These threats include those posed by domestic terrorists, individuals and groups engaged in grievance-based violence...'\\n\\n                                                                                                                                      \n",
       "305     Is it not just a tad bit strange that Steph Curry was a DISTANT third in the player voting for guards in the west?! #NBAAllStar                                                                                                                                    \n",
       "346     ICYMI…..@USMNT settles for 1-1 draw with Jamaica in World Cup qualifier                                                                                                                                                                                            \n",
       "357     Rams have fourth and 1 at the 3 and .... pass. Incomplete.                                                                                                                                                                                                         \n",
       "372     I love ghost stories — especially *real* ones — but what I love the most about this beautiful new @HuffPost Personal piece by Salina Jivani is what she learned while her family was being haunted in a brand new country they were struggling to make home\\n\\n    \n",
       "479     I mean, this is NUTS. But whatever. People have been thinking that #BohemianRhapsody will be nominated for a Best Picture Oscar despite... well, despite that it's bad! But this win is pretty funny.                                                              \n",
       "632     \"I spent 70 days in two different hospitals ... But it wasn’t until after I returned home that I truly discovered how being hit by a subway was going to change my life.\"                                                                                          \n",
       "670     When you're in charge of social but Instagram and Facebook are down...                                                                                                                                                                                             \n",
       "721     You can now buy Will &amp; Carlton's Bel-Air Academy basketball jerseys!!!                                                                                                                                                                                         \n",
       "722     \"Let me say this loudly and clearly,\" Biden says. \"If you're one of the millions of Americans who said that they will not get the shot... until has full and final approval of the FDA, It has now happened.\"                                                      \n",
       "751     \"I saw a police officer standing next to my car.... [He] mentioned someone called the police when they saw me get out of my car with my family.\"                                                                                                                   \n",
       "824     Close that damn roof!!!! 🌧🌧🌧 #USOpen #rafa                                                                                                                                                                                                                         \n",
       "893     #FCB now up 4-0 on #RealMadrid...AT the Santiago Bernabéu                                                                                                                                                                                                          \n",
       "995     Listening to #Adele25 like...                                                                                                                                                                                                                                      \n",
       "1015    How will Von Miller fit in with the Rams defense?\\n\\nIs a short-term rental worth giving up second- and third-round picks next season?\\n\\nWhy are Justin Herbert and the Chargers offense suddenly struggling?\\n\\nOur NFL experts discuss all this and more ...\\n\\n\n",
       "Name: text, dtype: object"
      ]
     },
     "execution_count": 46,
     "metadata": {},
     "output_type": "execute_result"
    }
   ],
   "source": [
    "AutomatedCA_sample[AutomatedCA_sample['informalpunct_feature'] == 1]['text'].head(20)"
   ]
  },
  {
   "cell_type": "code",
   "execution_count": null,
   "metadata": {},
   "outputs": [],
   "source": []
  },
  {
   "cell_type": "markdown",
   "metadata": {},
   "source": [
    "9) Slang feature\n",
    "\n",
    "Two dictionaries for slang words and abbrevations commonly appearing in tweets were used to detect this feature.\n",
    "\n",
    "\n",
    "The first list was taken from https://www.kaggle.com/code/nmaguette/up-to-date-list-of-slangs-for-text-preprocessing :"
   ]
  },
  {
   "cell_type": "code",
   "execution_count": 47,
   "metadata": {},
   "outputs": [],
   "source": [
    "dict1 = {\n",
    "    \"$\" : \" dollar \",\n",
    "    \"€\" : \" euro \",\n",
    "    \"4ao\" : \"for adults only\",\n",
    "    \"a.m\" : \"before midday\",\n",
    "    \"a3\" : \"anytime anywhere anyplace\",\n",
    "    \"aamof\" : \"as a matter of fact\",\n",
    "    \"acct\" : \"account\",\n",
    "    \"adih\" : \"another day in hell\",\n",
    "    \"afaic\" : \"as far as i am concerned\",\n",
    "    \"afaict\" : \"as far as i can tell\",\n",
    "    \"afaik\" : \"as far as i know\",\n",
    "    \"afair\" : \"as far as i remember\",\n",
    "    \"afk\" : \"away from keyboard\",\n",
    "    \"app\" : \"application\",\n",
    "    \"approx\" : \"approximately\",\n",
    "    \"apps\" : \"applications\",\n",
    "    \"asap\" : \"as soon as possible\",\n",
    "    \"asl\" : \"age, sex, location\",\n",
    "    \"atk\" : \"at the keyboard\",\n",
    "    \"ave.\" : \"avenue\",\n",
    "    \"aymm\" : \"are you my mother\",\n",
    "    \"ayor\" : \"at your own risk\", \n",
    "    \"b&b\" : \"bed and breakfast\",\n",
    "    \"b+b\" : \"bed and breakfast\",\n",
    "    \"b.c\" : \"before christ\",\n",
    "    \"b2b\" : \"business to business\",\n",
    "    \"b2c\" : \"business to customer\",\n",
    "    \"b4\" : \"before\",\n",
    "    \"b4n\" : \"bye for now\",\n",
    "    \"b@u\" : \"back at you\",\n",
    "    \"bae\" : \"before anyone else\",\n",
    "    \"bak\" : \"back at keyboard\",\n",
    "    \"bbbg\" : \"bye bye be good\",\n",
    "    \"bbc\" : \"british broadcasting corporation\",\n",
    "    \"bbias\" : \"be back in a second\",\n",
    "    \"bbl\" : \"be back later\",\n",
    "    \"bbs\" : \"be back soon\",\n",
    "    \"be4\" : \"before\",\n",
    "    \"bfn\" : \"bye for now\",\n",
    "    \"blvd\" : \"boulevard\",\n",
    "    \"bout\" : \"about\",\n",
    "    \"brb\" : \"be right back\",\n",
    "    \"bros\" : \"brothers\",\n",
    "    \"brt\" : \"be right there\",\n",
    "    \"bsaaw\" : \"big smile and a wink\",\n",
    "    \"btw\" : \"by the way\",\n",
    "    \"bwl\" : \"bursting with laughter\",\n",
    "    \"c/o\" : \"care of\",\n",
    "    \"cet\" : \"central european time\",\n",
    "    \"cf\" : \"compare\",\n",
    "    \"cia\" : \"central intelligence agency\",\n",
    "    \"csl\" : \"can not stop laughing\",\n",
    "    \"cu\" : \"see you\",\n",
    "    \"cul8r\" : \"see you later\",\n",
    "    \"cv\" : \"curriculum vitae\",\n",
    "    \"cwot\" : \"complete waste of time\",\n",
    "    \"cya\" : \"see you\",\n",
    "    \"cyt\" : \"see you tomorrow\",\n",
    "    \"dae\" : \"does anyone else\",\n",
    "    \"dbmib\" : \"do not bother me i am busy\",\n",
    "    \"diy\" : \"do it yourself\",\n",
    "    \"dm\" : \"direct message\",\n",
    "    \"dwh\" : \"during work hours\",\n",
    "    \"e123\" : \"easy as one two three\",\n",
    "    \"eet\" : \"eastern european time\",\n",
    "    \"eg\" : \"example\",\n",
    "    \"embm\" : \"early morning business meeting\",\n",
    "    \"encl\" : \"enclosed\",\n",
    "    \"encl.\" : \"enclosed\",\n",
    "    \"etc\" : \"and so on\",\n",
    "    \"faq\" : \"frequently asked questions\",\n",
    "    \"fawc\" : \"for anyone who cares\",\n",
    "    \"fb\" : \"facebook\",\n",
    "    \"fc\" : \"fingers crossed\",\n",
    "    \"fig\" : \"figure\",\n",
    "    \"fimh\" : \"forever in my heart\", \n",
    "    \"ft.\" : \"feet\",\n",
    "    \"ft\" : \"featuring\",\n",
    "    \"ftl\" : \"for the loss\",\n",
    "    \"ftw\" : \"for the win\",\n",
    "    \"fwiw\" : \"for what it is worth\",\n",
    "    \"fyi\" : \"for your information\",\n",
    "    \"g9\" : \"genius\",\n",
    "    \"gahoy\" : \"get a hold of yourself\",\n",
    "    \"gal\" : \"get a life\",\n",
    "    \"gcse\" : \"general certificate of secondary education\",\n",
    "    \"gfn\" : \"gone for now\",\n",
    "    \"gg\" : \"good game\",\n",
    "    \"gl\" : \"good luck\",\n",
    "    \"glhf\" : \"good luck have fun\",\n",
    "    \"gmt\" : \"greenwich mean time\",\n",
    "    \"gmta\" : \"great minds think alike\",\n",
    "    \"gn\" : \"good night\",\n",
    "    \"g.o.a.t\" : \"greatest of all time\",\n",
    "    \"goat\" : \"greatest of all time\",\n",
    "    \"goi\" : \"get over it\",\n",
    "    \"gps\" : \"global positioning system\",\n",
    "    \"gr8\" : \"great\",\n",
    "    \"gratz\" : \"congratulations\",\n",
    "    \"gyal\" : \"girl\",\n",
    "    \"h&c\" : \"hot and cold\",\n",
    "    \"hp\" : \"horsepower\",\n",
    "    \"hr\" : \"hour\",\n",
    "    \"hrh\" : \"his royal highness\",\n",
    "    \"ht\" : \"height\",\n",
    "    \"ibrb\" : \"i will be right back\",\n",
    "    \"ic\" : \"i see\",\n",
    "    \"icq\" : \"i seek you\",\n",
    "    \"icymi\" : \"in case you missed it\",\n",
    "    \"idc\" : \"i do not care\",\n",
    "    \"idgadf\" : \"i do not give a damn fuck\",\n",
    "    \"idgaf\" : \"i do not give a fuck\",\n",
    "    \"idk\" : \"i do not know\",\n",
    "    \"ie\" : \"that is\",\n",
    "    \"i.e\" : \"that is\",\n",
    "    \"ifyp\" : \"i feel your pain\",\n",
    "    \"IG\" : \"instagram\",\n",
    "    \"iirc\" : \"if i remember correctly\",\n",
    "    \"ilu\" : \"i love you\",\n",
    "    \"ily\" : \"i love you\",\n",
    "    \"imho\" : \"in my humble opinion\",\n",
    "    \"imo\" : \"in my opinion\",\n",
    "    \"imu\" : \"i miss you\",\n",
    "    \"iow\" : \"in other words\",\n",
    "    \"irl\" : \"in real life\",\n",
    "    \"j4f\" : \"just for fun\",\n",
    "    \"jic\" : \"just in case\",\n",
    "    \"jk\" : \"just kidding\",\n",
    "    \"jsyk\" : \"just so you know\",\n",
    "    \"l8r\" : \"later\",\n",
    "    \"lb\" : \"pound\",\n",
    "    \"lbs\" : \"pounds\",\n",
    "    \"ldr\" : \"long distance relationship\",\n",
    "    \"lmao\" : \"laugh my ass off\",\n",
    "    \"lmfao\" : \"laugh my fucking ass off\",\n",
    "    \"lol\" : \"laughing out loud\",\n",
    "    \"ltd\" : \"limited\",\n",
    "    \"ltns\" : \"long time no see\",\n",
    "    \"m8\" : \"mate\",\n",
    "    \"mf\" : \"motherfucker\",\n",
    "    \"mfs\" : \"motherfuckers\",\n",
    "    \"mfw\" : \"my face when\",\n",
    "    \"mofo\" : \"motherfucker\",\n",
    "    \"mph\" : \"miles per hour\",\n",
    "    \"mr\" : \"mister\",\n",
    "    \"mrw\" : \"my reaction when\",\n",
    "    \"ms\" : \"miss\",\n",
    "    \"mte\" : \"my thoughts exactly\",\n",
    "    \"nagi\" : \"not a good idea\",\n",
    "    \"nbc\" : \"national broadcasting company\",\n",
    "    \"nbd\" : \"not big deal\",\n",
    "    \"nfs\" : \"not for sale\",\n",
    "    \"ngl\" : \"not going to lie\",\n",
    "    \"nhs\" : \"national health service\",\n",
    "    \"nrn\" : \"no reply necessary\",\n",
    "    \"nsfl\" : \"not safe for life\",\n",
    "    \"nsfw\" : \"not safe for work\",\n",
    "    \"nth\" : \"nice to have\",\n",
    "    \"nvr\" : \"never\",\n",
    "    \"nyc\" : \"new york city\",\n",
    "    \"oc\" : \"original content\",\n",
    "    \"og\" : \"original\",\n",
    "    \"ohp\" : \"overhead projector\",\n",
    "    \"oic\" : \"oh i see\",\n",
    "    \"omdb\" : \"over my dead body\",\n",
    "    \"omg\" : \"oh my god\",\n",
    "    \"omw\" : \"on my way\",\n",
    "    \"p.a\" : \"per annum\",\n",
    "    \"p.m\" : \"after midday\",\n",
    "    \"pm\" : \"prime minister\",\n",
    "    \"poc\" : \"people of color\",\n",
    "    \"pov\" : \"point of view\",\n",
    "    \"pp\" : \"pages\",\n",
    "    \"ppl\" : \"people\",\n",
    "    \"prw\" : \"parents are watching\",\n",
    "    \"ps\" : \"postscript\",\n",
    "    \"pt\" : \"point\",\n",
    "    \"ptb\" : \"please text back\",\n",
    "    \"pto\" : \"please turn over\",\n",
    "    \"qpsa\" : \"what happens\", #\"que pasa\",\n",
    "    \"ratchet\" : \"rude\",\n",
    "    \"rbtl\" : \"read between the lines\",\n",
    "    \"rlrt\" : \"real life retweet\", \n",
    "    \"rofl\" : \"rolling on the floor laughing\",\n",
    "    \"roflol\" : \"rolling on the floor laughing out loud\",\n",
    "    \"rotflmao\" : \"rolling on the floor laughing my ass off\",\n",
    "    \"rt\" : \"retweet\",\n",
    "    \"ruok\" : \"are you ok\",\n",
    "    \"sfw\" : \"safe for work\",\n",
    "    \"sk8\" : \"skate\",\n",
    "    \"smh\" : \"shake my head\",\n",
    "    \"sq\" : \"square\",\n",
    "    \"srsly\" : \"seriously\", \n",
    "    \"ssdd\" : \"same stuff different day\",\n",
    "    \"tbh\" : \"to be honest\",\n",
    "    \"tbs\" : \"tablespooful\",\n",
    "    \"tbsp\" : \"tablespooful\",\n",
    "    \"tfw\" : \"that feeling when\",\n",
    "    \"thks\" : \"thank you\",\n",
    "    \"tho\" : \"though\",\n",
    "    \"thx\" : \"thank you\",\n",
    "    \"tia\" : \"thanks in advance\",\n",
    "    \"til\" : \"today i learned\",\n",
    "    \"tl;dr\" : \"too long i did not read\",\n",
    "    \"tldr\" : \"too long i did not read\",\n",
    "    \"tmb\" : \"tweet me back\",\n",
    "    \"tntl\" : \"trying not to laugh\",\n",
    "    \"ttyl\" : \"talk to you later\",\n",
    "    \"u\" : \"you\",\n",
    "    \"u2\" : \"you too\",\n",
    "    \"u4e\" : \"yours for ever\",\n",
    "    \"utc\" : \"coordinated universal time\",\n",
    "    \"w/\" : \"with\",\n",
    "    \"w/o\" : \"without\",\n",
    "    \"w8\" : \"wait\",\n",
    "    \"wassup\" : \"what is up\",\n",
    "    \"wb\" : \"welcome back\",\n",
    "    \"wtf\" : \"what the fuck\",\n",
    "    \"wtg\" : \"way to go\",\n",
    "    \"wtpa\" : \"where the party at\",\n",
    "    \"wuf\" : \"where are you from\",\n",
    "    \"wuzup\" : \"what is up\",\n",
    "    \"wywh\" : \"wish you were here\",\n",
    "    \"yd\" : \"yard\",\n",
    "    \"ygtr\" : \"you got that right\",\n",
    "    \"ynk\" : \"you never know\",\n",
    "    \"zzz\" : \"sleeping bored and tired\"\n",
    "}"
   ]
  },
  {
   "cell_type": "code",
   "execution_count": 48,
   "metadata": {},
   "outputs": [],
   "source": [
    "resultList = list(dict1.items())"
   ]
  },
  {
   "cell_type": "code",
   "execution_count": 49,
   "metadata": {},
   "outputs": [],
   "source": [
    "df_dict1 = pd.DataFrame(resultList, columns=['slang', 'formal_translation'])"
   ]
  },
  {
   "cell_type": "markdown",
   "metadata": {},
   "source": [
    "The second list was taken from: https://www.kaggle.com/datasets/gogylogy/twitterslang"
   ]
  },
  {
   "cell_type": "code",
   "execution_count": 50,
   "metadata": {},
   "outputs": [],
   "source": [
    "dict2 = pd.read_csv('/Users/salmankhawar/Desktop/Thesis Publication/Paper Revisions/twitterSlang.csv')"
   ]
  },
  {
   "cell_type": "code",
   "execution_count": 51,
   "metadata": {},
   "outputs": [],
   "source": [
    "df_slang = pd.concat([df_dict1, dict2])\n",
    "slang_list = df_slang['slang'].tolist()"
   ]
  },
  {
   "cell_type": "code",
   "execution_count": 52,
   "metadata": {},
   "outputs": [
    {
     "data": {
      "text/plain": [
       "331"
      ]
     },
     "execution_count": 52,
     "metadata": {},
     "output_type": "execute_result"
    }
   ],
   "source": [
    "slang_list\n",
    "len(slang_list)"
   ]
  },
  {
   "cell_type": "code",
   "execution_count": 53,
   "metadata": {},
   "outputs": [],
   "source": [
    "def slang_detection(txt, query):\n",
    "    newquery = []\n",
    "    txt = str(txt).lower()\n",
    "\n",
    "    for word in query:\n",
    "        newquery.append(str(word).lower())\n",
    "    tokens = re.findall(r\"[\\w']+\", txt)\n",
    "    \n",
    "    for word in newquery:\n",
    "        if word in tokens:\n",
    "            return 1\n",
    "    return 0"
   ]
  },
  {
   "cell_type": "code",
   "execution_count": 54,
   "metadata": {},
   "outputs": [],
   "source": [
    "AutomatedCA_sample['slang_feature'] = AutomatedCA_sample['text'].apply(slang_detection,\n",
    "                                                      args=(slang_list,))"
   ]
  },
  {
   "cell_type": "markdown",
   "metadata": {},
   "source": [
    "Slang feature was detected in 5.12% of the sample"
   ]
  },
  {
   "cell_type": "code",
   "execution_count": 55,
   "metadata": {},
   "outputs": [
    {
     "data": {
      "text/plain": [
       "0    94.882812\n",
       "1    5.117188 \n",
       "Name: slang_feature, dtype: float64"
      ]
     },
     "execution_count": 55,
     "metadata": {},
     "output_type": "execute_result"
    }
   ],
   "source": [
    "AutomatedCA_sample['slang_feature'].value_counts(normalize=True)*100"
   ]
  },
  {
   "cell_type": "code",
   "execution_count": 56,
   "metadata": {},
   "outputs": [
    {
     "data": {
      "text/plain": [
       "18     Supreme Court casts doubt on Trump's bid to exclude from census immigrants in U.S. illegally                                                                                                                                                                                 \n",
       "36     Prince Harry and Duchess Meghan said they asked the queen in advance to pass her childhood nickname, Lilibet, down to their new baby daughter after a BBC report said they didn't.                                                                                           \n",
       "78     Judge Royce Lamberth denied release from custody for Phoenix QAnon believer Jake Angeli, who was caught on video storming the U.S. Capitol on Jan. 6.\\n\\n                                                                                                                    \n",
       "86     Afghan women living in the U.S. share the recipes and the memories that keep them going.                                                                                                                                                                                     \n",
       "96     There are new Harry Styles pics on the timeline and fans *Ariel* excited 🧜‍♀️ #TheBuzz                                                                                                                                                                                       \n",
       "110    U.S. resumes funding to U.N. agency for Palestinian refugees                                                                                                                                                                                                                 \n",
       "146    Authority over Afghanistan will transfer to Marine Gen. Frank McKenzie, the head of U.S. Central Command, who will operate from Florida.                                                                                                                                     \n",
       "150    J.D. Vance officially kicked off his bid for U.S. Senate Thursday, joining a crowded GOP field after months of hinting at a run for office.\\n                                                                                                                                \n",
       "185    Senate parliamentarian rejects Democrats' Plan B for Dreamers and other immigrants                                                                                                                                                                                           \n",
       "192    The athlete was called out by USA Today for failing to wear a face covering in the mixed interview zone. All other U.S. swimmers reportedly have followed the rules.                                                                                                         \n",
       "230    The Democratic Senate majority leader urged President Joe Biden to cease the expulsion of Haitian migrants who have been massing at the U.S.-Mexico border.                                                                                                                  \n",
       "245    Is the recent surge of COVID cases exhausting/overwhelming you to the point of caring less about being safe? If so, I'd love to talk to you for a story I'm working on. Please DM or email me at smoniuszko@gannett.com if you're open to chatting - Thanks!                 \n",
       "265    U.S. intelligence remains divided over the origins of COVID-19. Some analysts say it was likely caused by an animal, others a lab incident.\\n\\n                                                                                                                              \n",
       "286    U.S. Capitol Police said they were responding to \"an active bomb threat investigation,\" which forced the Capitol and Supreme Court to be evacuated.\\n\\n                                                                                                                      \n",
       "316    ICYMI….⁦@LAGalaxy’s ⁩ @MLS playoff path is straightforward; @LAFC’s is a bit more complicated                                                                                                                                                                                \n",
       "346    ICYMI…..@USMNT settles for 1-1 draw with Jamaica in World Cup qualifier                                                                                                                                                                                                      \n",
       "381    U.S. troops were evacuating all diplomatic staff from the embassy to the airport as the Taliban entered the Afghanistan capital, Kabul.\\n\\n                                                                                                                                  \n",
       "382    Many of the social and economic gains cities like Kabul saw over the past 20 years have eroded in weeks. A U.N. report found that Afghanistan, where already nearly two-thirds of people live in poverty, is on the verge of universal impoverishment and economic collapse. \n",
       "388    The First Trailer For \"The Hate U Give\" Is Finally Here And It Looks Incredible                                                                                                                                                                                              \n",
       "446    About 3,000 U.S. troops are setting up barriers to separate the military portion of the airport in Kabul, Afghanistan, from the civilian terminal.\\n\\n                                                                                                                       \n",
       "Name: text, dtype: object"
      ]
     },
     "execution_count": 56,
     "metadata": {},
     "output_type": "execute_result"
    }
   ],
   "source": [
    "AutomatedCA_sample[AutomatedCA_sample['slang_feature'] == 1]['text'].head(20)"
   ]
  },
  {
   "cell_type": "code",
   "execution_count": null,
   "metadata": {},
   "outputs": [],
   "source": []
  },
  {
   "cell_type": "markdown",
   "metadata": {},
   "source": [
    "10) Media Feature\n",
    "\n",
    "\n",
    "extracting information on media accompanying tweets using metadata"
   ]
  },
  {
   "cell_type": "code",
   "execution_count": 57,
   "metadata": {},
   "outputs": [
    {
     "data": {
      "text/plain": [
       "no media        81.898438\n",
       "photo           13.746094\n",
       "video           2.734375 \n",
       "animated_gif    1.621094 \n",
       "Name: media_type, dtype: float64"
      ]
     },
     "execution_count": 57,
     "metadata": {},
     "output_type": "execute_result"
    }
   ],
   "source": [
    "AutomatedCA_sample['media_type'].value_counts(normalize=True)*100"
   ]
  },
  {
   "cell_type": "code",
   "execution_count": 58,
   "metadata": {},
   "outputs": [],
   "source": [
    "def media_feature(x):\n",
    "        if x == 'no media':\n",
    "            return 0\n",
    "        else:\n",
    "            return 1"
   ]
  },
  {
   "cell_type": "code",
   "execution_count": 59,
   "metadata": {},
   "outputs": [],
   "source": [
    "AutomatedCA_sample['media_dummy'] = AutomatedCA_sample['media_type'].apply(media_feature) "
   ]
  },
  {
   "cell_type": "markdown",
   "metadata": {},
   "source": [
    "The media feature is present in 18.10% of the sample"
   ]
  },
  {
   "cell_type": "code",
   "execution_count": 60,
   "metadata": {},
   "outputs": [
    {
     "data": {
      "text/plain": [
       "0    81.898438\n",
       "1    18.101562\n",
       "Name: media_dummy, dtype: float64"
      ]
     },
     "execution_count": 60,
     "metadata": {},
     "output_type": "execute_result"
    }
   ],
   "source": [
    "AutomatedCA_sample['media_dummy'].value_counts(normalize=True)*100"
   ]
  },
  {
   "cell_type": "code",
   "execution_count": null,
   "metadata": {},
   "outputs": [],
   "source": []
  },
  {
   "cell_type": "markdown",
   "metadata": {},
   "source": [
    "Validating automated methods against the manually coded sample (n=1440) - Table 3"
   ]
  },
  {
   "cell_type": "code",
   "execution_count": 61,
   "metadata": {},
   "outputs": [],
   "source": [
    "Validation_sample = pd.read_csv('/Users/salmankhawar/Desktop/UvA Courses/Thesis/Data_Collection_Twitter/Data_csv/Data_Collected_Tweepy/ManualCA_sample.csv')"
   ]
  },
  {
   "cell_type": "code",
   "execution_count": 62,
   "metadata": {},
   "outputs": [],
   "source": [
    "CA_results = pd.read_csv('/Users/salmankhawar/Desktop/UvA Courses/Thesis/Content Analysis/Results_CA.csv')"
   ]
  },
  {
   "cell_type": "markdown",
   "metadata": {},
   "source": [
    "1) Hyperbole feature"
   ]
  },
  {
   "cell_type": "code",
   "execution_count": 63,
   "metadata": {},
   "outputs": [],
   "source": [
    "Validation_sample['hyperbolic_feature_aca_1'] = Validation_sample['text'].apply(hyperbolic_detection1, args=(hyperbolic_list,))"
   ]
  },
  {
   "cell_type": "code",
   "execution_count": 64,
   "metadata": {},
   "outputs": [],
   "source": [
    "Validation_sample['hyperbolic_feature_aca_2'] = Validation_sample['text'].apply(hyperbole_detections2)"
   ]
  },
  {
   "cell_type": "code",
   "execution_count": 65,
   "metadata": {},
   "outputs": [],
   "source": [
    "hyperbole_grid_val = Validation_sample[['hyperbolic_feature_aca_1', 'hyperbolic_feature_aca_2']]"
   ]
  },
  {
   "cell_type": "code",
   "execution_count": 66,
   "metadata": {},
   "outputs": [],
   "source": [
    "hyperbole_grid_val = np.array(hyperbole_grid_val)\n",
    "hyperbole_grid_val = hyperbole_grid_val.tolist()\n",
    "any_row_2 = [int(any(row)) for row in hyperbole_grid_val]\n",
    "Validation_sample['hyperbolic_feature_aca'] = any_row_2"
   ]
  },
  {
   "cell_type": "code",
   "execution_count": 67,
   "metadata": {},
   "outputs": [
    {
     "data": {
      "text/plain": [
       "array([[1231,   64],\n",
       "       [  93,   52]])"
      ]
     },
     "execution_count": 67,
     "metadata": {},
     "output_type": "execute_result"
    }
   ],
   "source": [
    "y_test_hyp = CA_results[\"[hyperbolic_feature]\"]\n",
    "y_pred_hyp = Validation_sample[\"hyperbolic_feature_aca\"]\n",
    "confusion_matrix(y_test_hyp, y_pred_hyp)"
   ]
  },
  {
   "cell_type": "code",
   "execution_count": 72,
   "metadata": {},
   "outputs": [
    {
     "name": "stdout",
     "output_type": "stream",
     "text": [
      "F1-score: 0.6692604442337823\n",
      "Precision: 0.6890170851130326\n",
      "Recall: 0.6545999201171615\n"
     ]
    }
   ],
   "source": [
    "print(\"F1-score:\", f1_score(y_test_hyp, y_pred_hyp, average=\"macro\"))\n",
    "print(\"Precision:\", precision_score(y_test_hyp, y_pred_hyp, average=\"macro\"))\n",
    "print(\"Recall:\", recall_score(y_test_hyp, y_pred_hyp, average=\"macro\"))"
   ]
  },
  {
   "cell_type": "code",
   "execution_count": 69,
   "metadata": {},
   "outputs": [
    {
     "name": "stdout",
     "output_type": "stream",
     "text": [
      "              precision    recall  f1-score   support\n",
      "\n",
      "           0       0.93      0.95      0.94      1295\n",
      "           1       0.45      0.36      0.40       145\n",
      "\n",
      "    accuracy                           0.89      1440\n",
      "   macro avg       0.69      0.65      0.67      1440\n",
      "weighted avg       0.88      0.89      0.89      1440\n",
      "\n"
     ]
    }
   ],
   "source": [
    "print(classification_report(y_test_hyp, y_pred_hyp))"
   ]
  },
  {
   "cell_type": "code",
   "execution_count": 70,
   "metadata": {},
   "outputs": [
    {
     "name": "stdout",
     "output_type": "stream",
     "text": [
      "Spearman rank correlation: 0.3418890244465509\n"
     ]
    }
   ],
   "source": [
    "rho, p_value = stats.spearmanr(CA_results[\"[hyperbolic_feature]\"], Validation_sample[\"hyperbolic_feature_aca\"])\n",
    " \n",
    "print(\"Spearman rank correlation:\", rho)"
   ]
  },
  {
   "cell_type": "code",
   "execution_count": 73,
   "metadata": {},
   "outputs": [],
   "source": [
    "array_hyperbole = [CA_results[\"[hyperbolic_feature]\"], Validation_sample[\"hyperbolic_feature_aca\"]]"
   ]
  },
  {
   "cell_type": "code",
   "execution_count": 75,
   "metadata": {},
   "outputs": [
    {
     "name": "stdout",
     "output_type": "stream",
     "text": [
      "Krippendorff's alpha: 0.3387505687146245\n"
     ]
    }
   ],
   "source": [
    "print(\"Krippendorff's alpha:\", krippendorff.alpha(array_hyperbole))"
   ]
  },
  {
   "cell_type": "code",
   "execution_count": null,
   "metadata": {},
   "outputs": [],
   "source": []
  },
  {
   "cell_type": "markdown",
   "metadata": {},
   "source": [
    "2) Forward referencing feature"
   ]
  },
  {
   "cell_type": "code",
   "execution_count": 76,
   "metadata": {},
   "outputs": [],
   "source": [
    "Validation_sample['forwardref_feature_aca'] = Validation_sample['text'].apply(forwardref_detection)"
   ]
  },
  {
   "cell_type": "code",
   "execution_count": 77,
   "metadata": {},
   "outputs": [
    {
     "data": {
      "text/plain": [
       "array([[1347,   33],\n",
       "       [  35,   25]])"
      ]
     },
     "execution_count": 77,
     "metadata": {},
     "output_type": "execute_result"
    }
   ],
   "source": [
    "y_test_fr = CA_results[\"[forw_ref_feature]\"]\n",
    "y_pred_fr = Validation_sample[\"forwardref_feature_aca\"]\n",
    "confusion_matrix(y_test_fr, y_pred_fr)"
   ]
  },
  {
   "cell_type": "code",
   "execution_count": 78,
   "metadata": {},
   "outputs": [
    {
     "name": "stdout",
     "output_type": "stream",
     "text": [
      "F1-score: 0.6995544864320868\n",
      "Precision: 0.7028544338539847\n",
      "Recall: 0.696376811594203\n"
     ]
    }
   ],
   "source": [
    "print(\"F1-score:\", f1_score(y_test_fr, y_pred_fr, average=\"macro\"))\n",
    "print(\"Precision:\", precision_score(y_test_fr, y_pred_fr, average=\"macro\"))\n",
    "print(\"Recall:\", recall_score(y_test_fr, y_pred_fr, average=\"macro\"))"
   ]
  },
  {
   "cell_type": "code",
   "execution_count": 79,
   "metadata": {},
   "outputs": [
    {
     "name": "stdout",
     "output_type": "stream",
     "text": [
      "              precision    recall  f1-score   support\n",
      "\n",
      "           0       0.97      0.98      0.98      1380\n",
      "           1       0.43      0.42      0.42        60\n",
      "\n",
      "    accuracy                           0.95      1440\n",
      "   macro avg       0.70      0.70      0.70      1440\n",
      "weighted avg       0.95      0.95      0.95      1440\n",
      "\n"
     ]
    }
   ],
   "source": [
    "print(classification_report(y_test_fr, y_pred_fr))"
   ]
  },
  {
   "cell_type": "code",
   "execution_count": 80,
   "metadata": {},
   "outputs": [
    {
     "name": "stdout",
     "output_type": "stream",
     "text": [
      "Spearman rank correlation: 0.3991786915054091\n"
     ]
    }
   ],
   "source": [
    "rho, p_value = stats.spearmanr(CA_results[\"[forw_ref_feature]\"], Validation_sample[\"forwardref_feature_aca\"])\n",
    " \n",
    "print(\"Spearman rank correlation:\", rho)"
   ]
  },
  {
   "cell_type": "code",
   "execution_count": 93,
   "metadata": {},
   "outputs": [],
   "source": [
    "array_forwref = [CA_results[\"[forw_ref_feature]\"], Validation_sample[\"forwardref_feature_aca\"]]"
   ]
  },
  {
   "cell_type": "code",
   "execution_count": 94,
   "metadata": {},
   "outputs": [
    {
     "name": "stdout",
     "output_type": "stream",
     "text": [
      "Krippendorff's alpha: 0.399317615581929\n"
     ]
    }
   ],
   "source": [
    "print(\"Krippendorff's alpha:\", krippendorff.alpha(array_forwref))"
   ]
  },
  {
   "cell_type": "code",
   "execution_count": null,
   "metadata": {},
   "outputs": [],
   "source": []
  },
  {
   "cell_type": "markdown",
   "metadata": {},
   "source": [
    "3) Listicle feature"
   ]
  },
  {
   "cell_type": "code",
   "execution_count": 81,
   "metadata": {},
   "outputs": [],
   "source": [
    "Validation_sample['listicle_feature_aca'] = Validation_sample['text'].apply(listicle_detection)"
   ]
  },
  {
   "cell_type": "code",
   "execution_count": 82,
   "metadata": {},
   "outputs": [
    {
     "data": {
      "text/plain": [
       "array([[1424,    3],\n",
       "       [   4,    9]])"
      ]
     },
     "execution_count": 82,
     "metadata": {},
     "output_type": "execute_result"
    }
   ],
   "source": [
    "y_test_lst = CA_results[\"[listicle_feature]\"]\n",
    "y_pred_lst = Validation_sample[\"listicle_feature_aca\"]\n",
    "confusion_matrix(y_test_lst, y_pred_lst)"
   ]
  },
  {
   "cell_type": "code",
   "execution_count": 83,
   "metadata": {},
   "outputs": [
    {
     "name": "stdout",
     "output_type": "stream",
     "text": [
      "F1-score: 0.8587740805604203\n",
      "Precision: 0.8735994397759104\n",
      "Recall: 0.845102689881947\n"
     ]
    }
   ],
   "source": [
    "print(\"F1-score:\", f1_score(y_test_lst, y_pred_lst, average=\"macro\"))\n",
    "print(\"Precision:\", precision_score(y_test_lst, y_pred_lst, average=\"macro\"))\n",
    "print(\"Recall:\", recall_score(y_test_lst, y_pred_lst, average=\"macro\"))"
   ]
  },
  {
   "cell_type": "code",
   "execution_count": 84,
   "metadata": {},
   "outputs": [
    {
     "name": "stdout",
     "output_type": "stream",
     "text": [
      "              precision    recall  f1-score   support\n",
      "\n",
      "           0       1.00      1.00      1.00      1427\n",
      "           1       0.75      0.69      0.72        13\n",
      "\n",
      "    accuracy                           1.00      1440\n",
      "   macro avg       0.87      0.85      0.86      1440\n",
      "weighted avg       0.99      1.00      1.00      1440\n",
      "\n"
     ]
    }
   ],
   "source": [
    "print(classification_report(y_test_lst, y_pred_lst))"
   ]
  },
  {
   "cell_type": "code",
   "execution_count": 85,
   "metadata": {},
   "outputs": [
    {
     "name": "stdout",
     "output_type": "stream",
     "text": [
      "Spearman rank correlation: 0.7181369551974195\n"
     ]
    }
   ],
   "source": [
    "rho, p_value = stats.spearmanr(CA_results[\"[listicle_feature]\"], Validation_sample[\"listicle_feature_aca\"])\n",
    " \n",
    "print(\"Spearman rank correlation:\", rho)"
   ]
  },
  {
   "cell_type": "code",
   "execution_count": 95,
   "metadata": {},
   "outputs": [],
   "source": [
    "array_listicle = [CA_results[\"[listicle_feature]\"], Validation_sample[\"listicle_feature_aca\"]]"
   ]
  },
  {
   "cell_type": "code",
   "execution_count": 96,
   "metadata": {},
   "outputs": [
    {
     "name": "stdout",
     "output_type": "stream",
     "text": [
      "Krippendorff's alpha: 0.7176462346760071\n"
     ]
    }
   ],
   "source": [
    " print(\"Krippendorff's alpha:\", krippendorff.alpha(array_listicle))"
   ]
  },
  {
   "cell_type": "code",
   "execution_count": null,
   "metadata": {},
   "outputs": [],
   "source": []
  },
  {
   "cell_type": "markdown",
   "metadata": {},
   "source": [
    "4) Question feature"
   ]
  },
  {
   "cell_type": "code",
   "execution_count": 86,
   "metadata": {},
   "outputs": [],
   "source": [
    "Validation_sample['question_feature_aca'] = Validation_sample['text'].apply(question_detection)"
   ]
  },
  {
   "cell_type": "code",
   "execution_count": 87,
   "metadata": {},
   "outputs": [
    {
     "data": {
      "text/plain": [
       "array([[1358,    2],\n",
       "       [  11,   69]])"
      ]
     },
     "execution_count": 87,
     "metadata": {},
     "output_type": "execute_result"
    }
   ],
   "source": [
    "y_test_q = CA_results[\"[question_feature]\"]\n",
    "y_pred_q = Validation_sample[\"question_feature_aca\"]\n",
    "confusion_matrix(y_test_q, y_pred_q)"
   ]
  },
  {
   "cell_type": "code",
   "execution_count": 88,
   "metadata": {},
   "outputs": [
    {
     "name": "stdout",
     "output_type": "stream",
     "text": [
      "F1-score: 0.9545718175398406\n",
      "Precision: 0.9818979619131885\n",
      "Recall: 0.930514705882353\n"
     ]
    }
   ],
   "source": [
    "print(\"F1-score:\", f1_score(y_test_q, y_pred_q, average=\"macro\"))\n",
    "print(\"Precision:\", precision_score(y_test_q, y_pred_q, average=\"macro\"))\n",
    "print(\"Recall:\", recall_score(y_test_q, y_pred_q, average=\"macro\"))"
   ]
  },
  {
   "cell_type": "code",
   "execution_count": 89,
   "metadata": {},
   "outputs": [
    {
     "name": "stdout",
     "output_type": "stream",
     "text": [
      "              precision    recall  f1-score   support\n",
      "\n",
      "           0       0.99      1.00      1.00      1360\n",
      "           1       0.97      0.86      0.91        80\n",
      "\n",
      "    accuracy                           0.99      1440\n",
      "   macro avg       0.98      0.93      0.95      1440\n",
      "weighted avg       0.99      0.99      0.99      1440\n",
      "\n"
     ]
    }
   ],
   "source": [
    "print(classification_report(y_test_q, y_pred_q))"
   ]
  },
  {
   "cell_type": "code",
   "execution_count": 90,
   "metadata": {},
   "outputs": [
    {
     "name": "stdout",
     "output_type": "stream",
     "text": [
      "Spearman rank correlation: 0.9109646740425484\n"
     ]
    }
   ],
   "source": [
    "rho, p_value = stats.spearmanr(CA_results[\"[question_feature]\"], Validation_sample[\"question_feature_aca\"])\n",
    " \n",
    "print(\"Spearman rank correlation:\", rho)"
   ]
  },
  {
   "cell_type": "code",
   "execution_count": 91,
   "metadata": {},
   "outputs": [],
   "source": [
    "array_question = [CA_results[\"[question_feature]\"], Validation_sample[\"question_feature_aca\"]]"
   ]
  },
  {
   "cell_type": "code",
   "execution_count": 97,
   "metadata": {},
   "outputs": [
    {
     "name": "stdout",
     "output_type": "stream",
     "text": [
      "Krippendorff's alpha: 0.909175182428612\n"
     ]
    }
   ],
   "source": [
    "print(\"Krippendorff's alpha:\", krippendorff.alpha(array_question))  "
   ]
  },
  {
   "cell_type": "code",
   "execution_count": null,
   "metadata": {},
   "outputs": [],
   "source": []
  },
  {
   "cell_type": "markdown",
   "metadata": {},
   "source": [
    "5) All caps feature"
   ]
  },
  {
   "cell_type": "code",
   "execution_count": 98,
   "metadata": {},
   "outputs": [],
   "source": [
    "Validation_sample['capitalized_feature_aca'] = Validation_sample['text'].apply(capitalized_detection) "
   ]
  },
  {
   "cell_type": "code",
   "execution_count": 99,
   "metadata": {},
   "outputs": [
    {
     "data": {
      "text/plain": [
       "array([[1391,    5],\n",
       "       [  39,    5]])"
      ]
     },
     "execution_count": 99,
     "metadata": {},
     "output_type": "execute_result"
    }
   ],
   "source": [
    "y_test_cap = CA_results[\"[cap_feature]\"]\n",
    "y_pred_cap = Validation_sample[\"capitalized_feature_aca\"]\n",
    "confusion_matrix(y_test_cap, y_pred_cap)"
   ]
  },
  {
   "cell_type": "code",
   "execution_count": 100,
   "metadata": {},
   "outputs": [
    {
     "name": "stdout",
     "output_type": "stream",
     "text": [
      "F1-score: 0.5848077376739798\n",
      "Precision: 0.7363636363636363\n",
      "Recall: 0.555027350872623\n"
     ]
    }
   ],
   "source": [
    "print(\"F1-score:\", f1_score(y_test_cap, y_pred_cap, average=\"macro\"))\n",
    "print(\"Precision:\", precision_score(y_test_cap, y_pred_cap, average=\"macro\"))\n",
    "print(\"Recall:\", recall_score(y_test_cap, y_pred_cap, average=\"macro\"))"
   ]
  },
  {
   "cell_type": "code",
   "execution_count": 101,
   "metadata": {},
   "outputs": [
    {
     "name": "stdout",
     "output_type": "stream",
     "text": [
      "              precision    recall  f1-score   support\n",
      "\n",
      "           0       0.97      1.00      0.98      1396\n",
      "           1       0.50      0.11      0.19        44\n",
      "\n",
      "    accuracy                           0.97      1440\n",
      "   macro avg       0.74      0.56      0.58      1440\n",
      "weighted avg       0.96      0.97      0.96      1440\n",
      "\n"
     ]
    }
   ],
   "source": [
    "print(classification_report(y_test_cap, y_pred_cap))"
   ]
  },
  {
   "cell_type": "code",
   "execution_count": 103,
   "metadata": {},
   "outputs": [],
   "source": [
    "array_caps = [CA_results[\"[cap_feature]\"], Validation_sample[\"capitalized_feature_aca\"]]"
   ]
  },
  {
   "cell_type": "code",
   "execution_count": 104,
   "metadata": {},
   "outputs": [
    {
     "name": "stdout",
     "output_type": "stream",
     "text": [
      "Krippendorff's alpha: 0.169903803307908\n"
     ]
    }
   ],
   "source": [
    "print(\"Krippendorff's alpha:\", krippendorff.alpha(array_caps))"
   ]
  },
  {
   "cell_type": "code",
   "execution_count": null,
   "metadata": {},
   "outputs": [],
   "source": []
  },
  {
   "cell_type": "markdown",
   "metadata": {},
   "source": [
    "6) Emoji feature"
   ]
  },
  {
   "cell_type": "code",
   "execution_count": 105,
   "metadata": {},
   "outputs": [],
   "source": [
    "Validation_sample['emoji_feature_aca'] = Validation_sample['text'].apply(emoji_detection) "
   ]
  },
  {
   "cell_type": "code",
   "execution_count": 106,
   "metadata": {},
   "outputs": [
    {
     "data": {
      "text/plain": [
       "array([[1378,    1],\n",
       "       [  16,   45]])"
      ]
     },
     "execution_count": 106,
     "metadata": {},
     "output_type": "execute_result"
    }
   ],
   "source": [
    "y_test_emoji = CA_results[\"[emoji_feature]\"]\n",
    "y_pred_emoji = Validation_sample[\"emoji_feature_aca\"]\n",
    "confusion_matrix(y_test_emoji, y_pred_emoji)"
   ]
  },
  {
   "cell_type": "code",
   "execution_count": 107,
   "metadata": {},
   "outputs": [
    {
     "name": "stdout",
     "output_type": "stream",
     "text": [
      "F1-score: 0.91749547539525\n",
      "Precision: 0.9833915538643878\n",
      "Recall: 0.8684898774355378\n"
     ]
    }
   ],
   "source": [
    "print(\"F1-score:\", f1_score(y_test_emoji, y_pred_emoji, average=\"macro\"))\n",
    "print(\"Precision:\", precision_score(y_test_emoji, y_pred_emoji, average=\"macro\"))\n",
    "print(\"Recall:\", recall_score(y_test_emoji, y_pred_emoji, average=\"macro\"))"
   ]
  },
  {
   "cell_type": "code",
   "execution_count": 108,
   "metadata": {},
   "outputs": [
    {
     "name": "stdout",
     "output_type": "stream",
     "text": [
      "              precision    recall  f1-score   support\n",
      "\n",
      "           0       0.99      1.00      0.99      1379\n",
      "           1       0.98      0.74      0.84        61\n",
      "\n",
      "    accuracy                           0.99      1440\n",
      "   macro avg       0.98      0.87      0.92      1440\n",
      "weighted avg       0.99      0.99      0.99      1440\n",
      "\n"
     ]
    }
   ],
   "source": [
    "print(classification_report(y_test_emoji, y_pred_emoji))"
   ]
  },
  {
   "cell_type": "code",
   "execution_count": 109,
   "metadata": {},
   "outputs": [
    {
     "name": "stdout",
     "output_type": "stream",
     "text": [
      "Spearman rank correlation: 0.8440969006858452\n"
     ]
    }
   ],
   "source": [
    "rho, p_value = stats.spearmanr(CA_results[\"[emoji_feature]\"], Validation_sample[\"emoji_feature_aca\"])\n",
    " \n",
    "print(\"Spearman rank correlation:\", rho)"
   ]
  },
  {
   "cell_type": "code",
   "execution_count": 110,
   "metadata": {},
   "outputs": [],
   "source": [
    "array_emoji = [CA_results[\"[emoji_feature]\"], Validation_sample[\"emoji_feature_aca\"]]"
   ]
  },
  {
   "cell_type": "code",
   "execution_count": 111,
   "metadata": {},
   "outputs": [
    {
     "name": "stdout",
     "output_type": "stream",
     "text": [
      "Krippendorff's alpha: 0.8350482455992532\n"
     ]
    }
   ],
   "source": [
    "print(\"Krippendorff's alpha:\", krippendorff.alpha(array_emoji))"
   ]
  },
  {
   "cell_type": "code",
   "execution_count": null,
   "metadata": {},
   "outputs": [],
   "source": []
  },
  {
   "cell_type": "markdown",
   "metadata": {},
   "source": [
    "7) Hashtag feature"
   ]
  },
  {
   "cell_type": "code",
   "execution_count": 112,
   "metadata": {},
   "outputs": [],
   "source": [
    "Validation_sample['hashtag_feature_aca'] = Validation_sample['text'].apply(hashtag_detection)"
   ]
  },
  {
   "cell_type": "code",
   "execution_count": 113,
   "metadata": {},
   "outputs": [
    {
     "data": {
      "text/plain": [
       "array([[1315,    3],\n",
       "       [   0,  122]])"
      ]
     },
     "execution_count": 113,
     "metadata": {},
     "output_type": "execute_result"
    }
   ],
   "source": [
    "y_test_hash = CA_results[\"[hashtag_feature]\"]\n",
    "y_pred_hash = Validation_sample[\"hashtag_feature_aca\"]\n",
    "confusion_matrix(y_test_hash, y_pred_hash)"
   ]
  },
  {
   "cell_type": "code",
   "execution_count": 114,
   "metadata": {},
   "outputs": [
    {
     "name": "stdout",
     "output_type": "stream",
     "text": [
      "F1-score: 0.9933574331399506\n",
      "Precision: 0.988\n",
      "Recall: 0.9988619119878603\n"
     ]
    }
   ],
   "source": [
    "print(\"F1-score:\", f1_score(y_test_hash, y_pred_hash, average=\"macro\"))\n",
    "print(\"Precision:\", precision_score(y_test_hash, y_pred_hash, average=\"macro\"))\n",
    "print(\"Recall:\", recall_score(y_test_hash, y_pred_hash, average=\"macro\"))"
   ]
  },
  {
   "cell_type": "code",
   "execution_count": 115,
   "metadata": {},
   "outputs": [
    {
     "name": "stdout",
     "output_type": "stream",
     "text": [
      "              precision    recall  f1-score   support\n",
      "\n",
      "           0       1.00      1.00      1.00      1318\n",
      "           1       0.98      1.00      0.99       122\n",
      "\n",
      "    accuracy                           1.00      1440\n",
      "   macro avg       0.99      1.00      0.99      1440\n",
      "weighted avg       1.00      1.00      1.00      1440\n",
      "\n"
     ]
    }
   ],
   "source": [
    "print(classification_report(y_test_hash, y_pred_hash))"
   ]
  },
  {
   "cell_type": "code",
   "execution_count": 116,
   "metadata": {},
   "outputs": [
    {
     "name": "stdout",
     "output_type": "stream",
     "text": [
      "Spearman rank correlation: 0.9868021342702413\n"
     ]
    }
   ],
   "source": [
    "rho, p_value = stats.spearmanr(CA_results[\"[hashtag_feature]\"], Validation_sample[\"hashtag_feature_aca\"])\n",
    " \n",
    "print(\"Spearman rank correlation:\", rho)"
   ]
  },
  {
   "cell_type": "code",
   "execution_count": 117,
   "metadata": {},
   "outputs": [],
   "source": [
    "array_hashtag = [CA_results[\"[hashtag_feature]\"], Validation_sample[\"hashtag_feature_aca\"]]"
   ]
  },
  {
   "cell_type": "code",
   "execution_count": 118,
   "metadata": {},
   "outputs": [
    {
     "name": "stdout",
     "output_type": "stream",
     "text": [
      "Krippendorff's alpha: 0.986719479173554\n"
     ]
    }
   ],
   "source": [
    "print(\"Krippendorff's alpha:\", krippendorff.alpha(array_hashtag))"
   ]
  },
  {
   "cell_type": "code",
   "execution_count": null,
   "metadata": {},
   "outputs": [],
   "source": []
  },
  {
   "cell_type": "markdown",
   "metadata": {},
   "source": [
    "8) Informal punctuation feature"
   ]
  },
  {
   "cell_type": "code",
   "execution_count": 119,
   "metadata": {},
   "outputs": [],
   "source": [
    "Validation_sample['informalpunct_feature_aca'] = Validation_sample['text'].apply(informalpunct_detection)"
   ]
  },
  {
   "cell_type": "code",
   "execution_count": 120,
   "metadata": {},
   "outputs": [
    {
     "data": {
      "text/plain": [
       "array([[1402,    1],\n",
       "       [  22,   15]])"
      ]
     },
     "execution_count": 120,
     "metadata": {},
     "output_type": "execute_result"
    }
   ],
   "source": [
    "y_test_punct = CA_results[\"[punct_feature]\"]\n",
    "y_pred_punct = Validation_sample[\"informalpunct_feature_aca\"]\n",
    "confusion_matrix(y_test_punct, y_pred_punct)"
   ]
  },
  {
   "cell_type": "code",
   "execution_count": 121,
   "metadata": {},
   "outputs": [
    {
     "name": "stdout",
     "output_type": "stream",
     "text": [
      "F1-score: 0.77895095140525\n",
      "Precision: 0.9610252808988764\n",
      "Recall: 0.7023463235152473\n"
     ]
    }
   ],
   "source": [
    "print(\"F1-score:\", f1_score(y_test_punct, y_pred_punct, average=\"macro\"))\n",
    "print(\"Precision:\", precision_score(y_test_punct, y_pred_punct, average=\"macro\"))\n",
    "print(\"Recall:\", recall_score(y_test_punct, y_pred_punct, average=\"macro\"))"
   ]
  },
  {
   "cell_type": "code",
   "execution_count": 122,
   "metadata": {},
   "outputs": [
    {
     "name": "stdout",
     "output_type": "stream",
     "text": [
      "              precision    recall  f1-score   support\n",
      "\n",
      "           0       0.98      1.00      0.99      1403\n",
      "           1       0.94      0.41      0.57        37\n",
      "\n",
      "    accuracy                           0.98      1440\n",
      "   macro avg       0.96      0.70      0.78      1440\n",
      "weighted avg       0.98      0.98      0.98      1440\n",
      "\n"
     ]
    }
   ],
   "source": [
    "print(classification_report(y_test_punct, y_pred_punct))"
   ]
  },
  {
   "cell_type": "code",
   "execution_count": 123,
   "metadata": {},
   "outputs": [
    {
     "name": "stdout",
     "output_type": "stream",
     "text": [
      "Spearman rank correlation: 0.6108576614481374\n"
     ]
    }
   ],
   "source": [
    "rho, p_value = stats.spearmanr(CA_results[\"[punct_feature]\"], Validation_sample[\"informalpunct_feature_aca\"])\n",
    " \n",
    "print(\"Spearman rank correlation:\", rho)"
   ]
  },
  {
   "cell_type": "code",
   "execution_count": 124,
   "metadata": {},
   "outputs": [],
   "source": [
    "array_punct = [CA_results[\"[punct_feature]\"], Validation_sample[\"informalpunct_feature_aca\"]]"
   ]
  },
  {
   "cell_type": "code",
   "execution_count": 125,
   "metadata": {},
   "outputs": [
    {
     "name": "stdout",
     "output_type": "stream",
     "text": [
      "Krippendorff's alpha: 0.5580554090942462\n"
     ]
    }
   ],
   "source": [
    "print(\"Krippendorff's alpha:\", krippendorff.alpha(array_punct))"
   ]
  },
  {
   "cell_type": "code",
   "execution_count": null,
   "metadata": {},
   "outputs": [],
   "source": []
  },
  {
   "cell_type": "markdown",
   "metadata": {},
   "source": [
    "9) Slang feature"
   ]
  },
  {
   "cell_type": "code",
   "execution_count": 126,
   "metadata": {},
   "outputs": [],
   "source": [
    "Validation_sample['slang_feature_aca'] = Validation_sample['text'].apply(slang_detection,args=(slang_list,))"
   ]
  },
  {
   "cell_type": "code",
   "execution_count": 127,
   "metadata": {},
   "outputs": [
    {
     "data": {
      "text/plain": [
       "array([[1291,   65],\n",
       "       [  68,   16]])"
      ]
     },
     "execution_count": 127,
     "metadata": {},
     "output_type": "execute_result"
    }
   ],
   "source": [
    "y_test_slang = CA_results[\"[slang_feature]\"]\n",
    "y_pred_slang = Validation_sample[\"slang_feature_aca\"]\n",
    "confusion_matrix(y_test_slang, y_pred_slang)"
   ]
  },
  {
   "cell_type": "code",
   "execution_count": 128,
   "metadata": {},
   "outputs": [
    {
     "name": "stdout",
     "output_type": "stream",
     "text": [
      "F1-score: 0.5724761426418885\n",
      "Precision: 0.5737470362194423\n",
      "Recall: 0.5712705436156764\n"
     ]
    }
   ],
   "source": [
    "print(\"F1-score:\", f1_score(y_test_slang, y_pred_slang, average=\"macro\"))\n",
    "print(\"Precision:\", precision_score(y_test_slang, y_pred_slang, average=\"macro\"))\n",
    "print(\"Recall:\", recall_score(y_test_slang, y_pred_slang, average=\"macro\"))"
   ]
  },
  {
   "cell_type": "code",
   "execution_count": 129,
   "metadata": {},
   "outputs": [
    {
     "name": "stdout",
     "output_type": "stream",
     "text": [
      "              precision    recall  f1-score   support\n",
      "\n",
      "           0       0.95      0.95      0.95      1356\n",
      "           1       0.20      0.19      0.19        84\n",
      "\n",
      "    accuracy                           0.91      1440\n",
      "   macro avg       0.57      0.57      0.57      1440\n",
      "weighted avg       0.91      0.91      0.91      1440\n",
      "\n"
     ]
    }
   ],
   "source": [
    "print(classification_report(y_test_slang, y_pred_slang))"
   ]
  },
  {
   "cell_type": "code",
   "execution_count": 130,
   "metadata": {},
   "outputs": [
    {
     "name": "stdout",
     "output_type": "stream",
     "text": [
      "Spearman rank correlation: 0.14499643252721264\n"
     ]
    }
   ],
   "source": [
    "rho, p_value = stats.spearmanr(CA_results[\"[slang_feature]\"], Validation_sample[\"slang_feature_aca\"])\n",
    " \n",
    "print(\"Spearman rank correlation:\", rho)"
   ]
  },
  {
   "cell_type": "code",
   "execution_count": 131,
   "metadata": {},
   "outputs": [],
   "source": [
    "array_slang = [CA_results[\"[slang_feature]\"], Validation_sample[\"slang_feature_aca\"]]"
   ]
  },
  {
   "cell_type": "code",
   "execution_count": 132,
   "metadata": {},
   "outputs": [
    {
     "name": "stdout",
     "output_type": "stream",
     "text": [
      "Krippendorff's alpha: 0.14524917685138683\n"
     ]
    }
   ],
   "source": [
    "print(\"Krippendorff's alpha:\", krippendorff.alpha(array_slang))"
   ]
  },
  {
   "cell_type": "code",
   "execution_count": null,
   "metadata": {},
   "outputs": [],
   "source": []
  },
  {
   "cell_type": "markdown",
   "metadata": {},
   "source": [
    "Hypothesis Testing\n",
    "\n",
    "\n",
    "Creating dummy variable for outlet type (1=tweets published by online-native outlets, 0=tweets published by legacy outlets)"
   ]
  },
  {
   "cell_type": "code",
   "execution_count": 133,
   "metadata": {},
   "outputs": [],
   "source": [
    "legacy_outlets = ['USA TODAY Politics', 'USA TODAY Sports', 'USA TODAY Life', 'L.A. Times Politics', 'L.A. Times Sports', 'LAT Entertainment']\n",
    "regex_legacy_outlets = re.compile(\"(?=(\" + \"|\".join(map(re.escape, legacy_outlets)) + \"))\")"
   ]
  },
  {
   "cell_type": "code",
   "execution_count": 134,
   "metadata": {},
   "outputs": [],
   "source": [
    "def news_outlet_classification(noc):\n",
    "    noc = str(noc)\n",
    "    m=re.search(regex_legacy_outlets, noc)\n",
    "    if m:\n",
    "        return 0\n",
    "    else:\n",
    "        return 1"
   ]
  },
  {
   "cell_type": "code",
   "execution_count": 135,
   "metadata": {},
   "outputs": [],
   "source": [
    "AutomatedCA_sample['outlet_type'] = AutomatedCA_sample['twitter_account'].apply(news_outlet_classification) "
   ]
  },
  {
   "cell_type": "code",
   "execution_count": 136,
   "metadata": {},
   "outputs": [
    {
     "data": {
      "text/plain": [
       "1    12800\n",
       "0    12800\n",
       "Name: outlet_type, dtype: int64"
      ]
     },
     "execution_count": 136,
     "metadata": {},
     "output_type": "execute_result"
    }
   ],
   "source": [
    "AutomatedCA_sample['outlet_type'].value_counts()"
   ]
  },
  {
   "cell_type": "markdown",
   "metadata": {},
   "source": [
    "Creating dummy variable for presence of sensationalism in tweets (1=sensationalist feature present, 0=sensationalist feature not present)"
   ]
  },
  {
   "cell_type": "code",
   "execution_count": 137,
   "metadata": {},
   "outputs": [],
   "source": [
    "features_grid = AutomatedCA_sample[['hyperbolic_feature', 'slang_feature', 'listicle_feature', 'emoji_feature', 'question_feature', 'hashtag_feature', 'forwardref_feature', 'informalpunct_feature', 'capitalized_feature', 'media_dummy']]"
   ]
  },
  {
   "cell_type": "code",
   "execution_count": 138,
   "metadata": {},
   "outputs": [],
   "source": [
    "features_grid = np.array(features_grid)\n",
    "features_grid = features_grid.tolist()\n",
    "any_row = [int(any(row)) for row in features_grid]\n",
    "AutomatedCA_sample['combined_features_dummy'] = any_row"
   ]
  },
  {
   "cell_type": "markdown",
   "metadata": {},
   "source": [
    "Sensationalist feature/s present in 40.14% of tweets in sample"
   ]
  },
  {
   "cell_type": "code",
   "execution_count": 139,
   "metadata": {},
   "outputs": [
    {
     "data": {
      "text/plain": [
       "0    59.855469\n",
       "1    40.144531\n",
       "Name: combined_features_dummy, dtype: float64"
      ]
     },
     "execution_count": 139,
     "metadata": {},
     "output_type": "execute_result"
    }
   ],
   "source": [
    "AutomatedCA_sample['combined_features_dummy'].value_counts(normalize=True)*100"
   ]
  },
  {
   "cell_type": "markdown",
   "metadata": {},
   "source": [
    "Creating count variable with number of features in each tweet"
   ]
  },
  {
   "cell_type": "code",
   "execution_count": 140,
   "metadata": {},
   "outputs": [],
   "source": [
    "count_variable = np.sum(features_grid ,axis=1).tolist()"
   ]
  },
  {
   "cell_type": "code",
   "execution_count": 141,
   "metadata": {},
   "outputs": [
    {
     "data": {
      "text/plain": [
       "0    59.855469\n",
       "1    29.488281\n",
       "2    8.406250 \n",
       "3    1.902344 \n",
       "4    0.292969 \n",
       "5    0.050781 \n",
       "6    0.003906 \n",
       "Name: count_variable, dtype: float64"
      ]
     },
     "execution_count": 141,
     "metadata": {},
     "output_type": "execute_result"
    }
   ],
   "source": [
    "AutomatedCA_sample['count_variable'] = count_variable\n",
    "AutomatedCA_sample['count_variable'].value_counts(normalize=True)*100"
   ]
  },
  {
   "cell_type": "markdown",
   "metadata": {},
   "source": [
    "Creating variable for channel type (1=tweets published in entertainment-oriented news sub-channels i.e sports,entertainment/life, 0=tweets published in politics-oriented news sub-channels)"
   ]
  },
  {
   "cell_type": "code",
   "execution_count": 142,
   "metadata": {},
   "outputs": [],
   "source": [
    "def pol_ent_classification(x):\n",
    "    x = str(x)\n",
    "    if re.search('(Politics)', x):\n",
    "        return 0\n",
    "    else:\n",
    "        return 1"
   ]
  },
  {
   "cell_type": "code",
   "execution_count": 143,
   "metadata": {},
   "outputs": [],
   "source": [
    "AutomatedCA_sample['channel_type'] = AutomatedCA_sample['twitter_account'].apply(pol_ent_classification) "
   ]
  },
  {
   "cell_type": "code",
   "execution_count": 144,
   "metadata": {},
   "outputs": [
    {
     "data": {
      "text/plain": [
       "1    12800\n",
       "0    12800\n",
       "Name: channel_type, dtype: int64"
      ]
     },
     "execution_count": 144,
     "metadata": {},
     "output_type": "execute_result"
    }
   ],
   "source": [
    "AutomatedCA_sample['channel_type'].value_counts()"
   ]
  },
  {
   "cell_type": "markdown",
   "metadata": {},
   "source": [
    "Creating dummy variable for tweet length"
   ]
  },
  {
   "cell_type": "code",
   "execution_count": 145,
   "metadata": {},
   "outputs": [],
   "source": [
    "def length_tweet(x):\n",
    "    x = str(x)\n",
    "    return len(x)"
   ]
  },
  {
   "cell_type": "code",
   "execution_count": 146,
   "metadata": {},
   "outputs": [],
   "source": [
    "AutomatedCA_sample['len_tweet'] = AutomatedCA_sample['text'].apply(length_tweet) "
   ]
  },
  {
   "cell_type": "code",
   "execution_count": null,
   "metadata": {},
   "outputs": [],
   "source": []
  },
  {
   "cell_type": "markdown",
   "metadata": {},
   "source": [
    "Testing H1: Running Logistic Regression using dummy variable for presence of sensationalist feature/s in tweets as DV and outlet type (main variable of interest), channel type and tweet length as IVs (Table B1)"
   ]
  },
  {
   "cell_type": "code",
   "execution_count": 147,
   "metadata": {},
   "outputs": [],
   "source": [
    "features_h1 = ['outlet_type','channel_type','len_tweet']"
   ]
  },
  {
   "cell_type": "code",
   "execution_count": 148,
   "metadata": {},
   "outputs": [
    {
     "name": "stdout",
     "output_type": "stream",
     "text": [
      "Optimization terminated successfully.\n",
      "         Current function value: 0.618043\n",
      "         Iterations 5\n",
      "                              Logit Regression Results                             \n",
      "===================================================================================\n",
      "Dep. Variable:     combined_features_dummy   No. Observations:                25600\n",
      "Model:                               Logit   Df Residuals:                    25596\n",
      "Method:                                MLE   Df Model:                            3\n",
      "Date:                     Tue, 19 Dec 2023   Pseudo R-squ.:                 0.08247\n",
      "Time:                             02:18:18   Log-Likelihood:                -15822.\n",
      "converged:                            True   LL-Null:                       -17244.\n",
      "Covariance Type:                 nonrobust   LLR p-value:                     0.000\n",
      "================================================================================\n",
      "                   coef    std err          z      P>|z|      [0.025      0.975]\n",
      "--------------------------------------------------------------------------------\n",
      "const           -1.6387      0.043    -38.323      0.000      -1.722      -1.555\n",
      "outlet_type      0.8078      0.028     29.172      0.000       0.754       0.862\n",
      "channel_type     1.2111      0.027     44.153      0.000       1.157       1.265\n",
      "len_tweet        0.0017      0.000      5.995      0.000       0.001       0.002\n",
      "================================================================================\n"
     ]
    },
    {
     "name": "stderr",
     "output_type": "stream",
     "text": [
      "/Applications/anaconda3/lib/python3.7/site-packages/numpy/core/fromnumeric.py:2495: FutureWarning: Method .ptp is deprecated and will be removed in a future version. Use numpy.ptp instead.\n",
      "  return ptp(axis=axis, out=out, **kwargs)\n"
     ]
    }
   ],
   "source": [
    "logit_model = sm.Logit(AutomatedCA_sample['combined_features_dummy'], sm.add_constant(AutomatedCA_sample[features_h1]))\n",
    "ACAreg_modelH1a = logit_model.fit()\n",
    "print(ACAreg_modelH1a.summary())"
   ]
  },
  {
   "cell_type": "code",
   "execution_count": null,
   "metadata": {},
   "outputs": [],
   "source": []
  },
  {
   "cell_type": "markdown",
   "metadata": {},
   "source": [
    "Poisson regression using count variable (aggregate of sensationalist features present in each tweet) (Table B1)"
   ]
  },
  {
   "cell_type": "code",
   "execution_count": 149,
   "metadata": {},
   "outputs": [
    {
     "name": "stdout",
     "output_type": "stream",
     "text": [
      "Optimization terminated successfully.\n",
      "         Current function value: 0.904451\n",
      "         Iterations 6\n",
      "                          Poisson Regression Results                          \n",
      "==============================================================================\n",
      "Dep. Variable:         count_variable   No. Observations:                25600\n",
      "Model:                        Poisson   Df Residuals:                    25596\n",
      "Method:                           MLE   Df Model:                            3\n",
      "Date:                Tue, 19 Dec 2023   Pseudo R-squ.:                 0.07114\n",
      "Time:                        02:18:45   Log-Likelihood:                -23154.\n",
      "converged:                       True   LL-Null:                       -24927.\n",
      "Covariance Type:            nonrobust   LLR p-value:                     0.000\n",
      "================================================================================\n",
      "                   coef    std err          z      P>|z|      [0.025      0.975]\n",
      "--------------------------------------------------------------------------------\n",
      "const           -1.6358      0.029    -56.404      0.000      -1.693      -1.579\n",
      "outlet_type      0.4883      0.018     27.172      0.000       0.453       0.524\n",
      "channel_type     0.9620      0.019     50.359      0.000       0.925       0.999\n",
      "len_tweet        0.0014      0.000      7.969      0.000       0.001       0.002\n",
      "================================================================================\n"
     ]
    }
   ],
   "source": [
    "Poisson_Regression_H1 = sm.Poisson(AutomatedCA_sample['count_variable'], sm.add_constant(AutomatedCA_sample[features_h1]))\n",
    "ACApoiss_modelH1 = Poisson_Regression_H1.fit()\n",
    "print(ACApoiss_modelH1.summary())"
   ]
  },
  {
   "cell_type": "markdown",
   "metadata": {},
   "source": [
    "H2: Sensationalism and User Engagement\n",
    "\n",
    "\n",
    "Running Poisson Regression using favorite count as DV and the number of sensationalist features (count variable - main variable of interest), outlet type, channel type and tweet length as IVs (Table C1)"
   ]
  },
  {
   "cell_type": "code",
   "execution_count": 150,
   "metadata": {},
   "outputs": [],
   "source": [
    "features_h2a = ['count_variable','outlet_type','channel_type','len_tweet']"
   ]
  },
  {
   "cell_type": "code",
   "execution_count": 152,
   "metadata": {},
   "outputs": [
    {
     "name": "stdout",
     "output_type": "stream",
     "text": [
      "Optimization terminated successfully.\n",
      "         Current function value: 31.761551\n",
      "         Iterations 6\n",
      "                          Poisson Regression Results                          \n",
      "==============================================================================\n",
      "Dep. Variable:         favorite_count   No. Observations:                25600\n",
      "Model:                        Poisson   Df Residuals:                    25595\n",
      "Method:                           MLE   Df Model:                            4\n",
      "Date:                Tue, 19 Dec 2023   Pseudo R-squ.:                 0.05044\n",
      "Time:                        02:22:53   Log-Likelihood:            -8.1310e+05\n",
      "converged:                       True   LL-Null:                   -8.5628e+05\n",
      "Covariance Type:            nonrobust   LLR p-value:                     0.000\n",
      "==================================================================================\n",
      "                     coef    std err          z      P>|z|      [0.025      0.975]\n",
      "----------------------------------------------------------------------------------\n",
      "const              2.0859      0.006    350.020      0.000       2.074       2.098\n",
      "count_variable     0.1637      0.002     74.401      0.000       0.159       0.168\n",
      "outlet_type        0.9644      0.004    244.438      0.000       0.957       0.972\n",
      "channel_type      -0.1171      0.004    -31.703      0.000      -0.124      -0.110\n",
      "len_tweet         -0.0012   3.94e-05    -30.596      0.000      -0.001      -0.001\n",
      "==================================================================================\n"
     ]
    }
   ],
   "source": [
    "Poisson_Regression_H2a = sm.Poisson(AutomatedCA_sample['favorite_count'], sm.add_constant(AutomatedCA_sample[features_h2a]))\n",
    "ACApoiss_modelH2a = Poisson_Regression_H2a.fit()\n",
    "print (ACApoiss_modelH2a.summary())"
   ]
  },
  {
   "cell_type": "markdown",
   "metadata": {},
   "source": [
    "Running Poisson Regression using retweet count as DV and the number of sensationalist features (count variable - main variable of interest), outlet type, channel type and tweet length as IVs (Table C1)"
   ]
  },
  {
   "cell_type": "code",
   "execution_count": 153,
   "metadata": {},
   "outputs": [
    {
     "name": "stdout",
     "output_type": "stream",
     "text": [
      "Optimization terminated successfully.\n",
      "         Current function value: 110.559087\n",
      "         Iterations 7\n",
      "                          Poisson Regression Results                          \n",
      "==============================================================================\n",
      "Dep. Variable:          retweet_count   No. Observations:                25600\n",
      "Model:                        Poisson   Df Residuals:                    25595\n",
      "Method:                           MLE   Df Model:                            4\n",
      "Date:                Tue, 19 Dec 2023   Pseudo R-squ.:                  0.1761\n",
      "Time:                        02:26:14   Log-Likelihood:            -2.8303e+06\n",
      "converged:                       True   LL-Null:                   -3.4351e+06\n",
      "Covariance Type:            nonrobust   LLR p-value:                     0.000\n",
      "==================================================================================\n",
      "                     coef    std err          z      P>|z|      [0.025      0.975]\n",
      "----------------------------------------------------------------------------------\n",
      "const              1.9103      0.005    364.268      0.000       1.900       1.921\n",
      "count_variable     0.2476      0.001    206.443      0.000       0.245       0.250\n",
      "outlet_type        1.3567      0.003    437.909      0.000       1.351       1.363\n",
      "channel_type       1.8762      0.004    491.632      0.000       1.869       1.884\n",
      "len_tweet         -0.0102   2.88e-05   -356.163      0.000      -0.010      -0.010\n",
      "==================================================================================\n"
     ]
    }
   ],
   "source": [
    "Poisson_Regression_H2b = sm.Poisson(AutomatedCA_sample['retweet_count'], sm.add_constant(AutomatedCA_sample[features_h2a]))\n",
    "ACApoiss_modelH2b = Poisson_Regression_H2b.fit()\n",
    "print (ACApoiss_modelH2b.summary())"
   ]
  },
  {
   "cell_type": "code",
   "execution_count": null,
   "metadata": {},
   "outputs": [],
   "source": []
  },
  {
   "cell_type": "markdown",
   "metadata": {},
   "source": [
    "Running Poisson Regression using favorite count as DV and dummy variable for presence of sensationalist feature/s (main variable of interest), outlet type, channel type and tweet length as IVs (Table C2)"
   ]
  },
  {
   "cell_type": "code",
   "execution_count": 155,
   "metadata": {},
   "outputs": [],
   "source": [
    "features_h2b = ['combined_features_dummy','outlet_type','channel_type','len_tweet']"
   ]
  },
  {
   "cell_type": "code",
   "execution_count": 156,
   "metadata": {},
   "outputs": [
    {
     "name": "stdout",
     "output_type": "stream",
     "text": [
      "Optimization terminated successfully.\n",
      "         Current function value: 31.831094\n",
      "         Iterations 6\n",
      "                          Poisson Regression Results                          \n",
      "==============================================================================\n",
      "Dep. Variable:         favorite_count   No. Observations:                25600\n",
      "Model:                        Poisson   Df Residuals:                    25595\n",
      "Method:                           MLE   Df Model:                            4\n",
      "Date:                Tue, 19 Dec 2023   Pseudo R-squ.:                 0.04836\n",
      "Time:                        02:32:55   Log-Likelihood:            -8.1488e+05\n",
      "converged:                       True   LL-Null:                   -8.5628e+05\n",
      "Covariance Type:            nonrobust   LLR p-value:                     0.000\n",
      "===========================================================================================\n",
      "                              coef    std err          z      P>|z|      [0.025      0.975]\n",
      "-------------------------------------------------------------------------------------------\n",
      "const                       2.0884      0.006    348.217      0.000       2.077       2.100\n",
      "combined_features_dummy     0.1519      0.004     41.685      0.000       0.145       0.159\n",
      "outlet_type                 0.9793      0.004    247.938      0.000       0.972       0.987\n",
      "channel_type               -0.0693      0.004    -19.193      0.000      -0.076      -0.062\n",
      "len_tweet                  -0.0012   3.95e-05    -31.195      0.000      -0.001      -0.001\n",
      "===========================================================================================\n"
     ]
    }
   ],
   "source": [
    "Poisson_Regression_H2c = sm.Poisson(AutomatedCA_sample['favorite_count'], sm.add_constant(AutomatedCA_sample[features_h2b]))\n",
    "ACApoiss_modelH2c = Poisson_Regression_H2c.fit()\n",
    "print(ACApoiss_modelH2c.summary())"
   ]
  },
  {
   "cell_type": "markdown",
   "metadata": {},
   "source": [
    "Running Poisson Regression using retweet count as DV and dummy variable for presence of sensationalist feature/s (main variable of interest), outlet type, channel type and tweet length as IVs (Table C2)"
   ]
  },
  {
   "cell_type": "code",
   "execution_count": 158,
   "metadata": {},
   "outputs": [
    {
     "name": "stdout",
     "output_type": "stream",
     "text": [
      "Optimization terminated successfully.\n",
      "         Current function value: 110.597840\n",
      "         Iterations 7\n",
      "                          Poisson Regression Results                          \n",
      "==============================================================================\n",
      "Dep. Variable:          retweet_count   No. Observations:                25600\n",
      "Model:                        Poisson   Df Residuals:                    25595\n",
      "Method:                           MLE   Df Model:                            4\n",
      "Date:                Tue, 19 Dec 2023   Pseudo R-squ.:                  0.1758\n",
      "Time:                        02:34:35   Log-Likelihood:            -2.8313e+06\n",
      "converged:                       True   LL-Null:                   -3.4351e+06\n",
      "Covariance Type:            nonrobust   LLR p-value:                     0.000\n",
      "===========================================================================================\n",
      "                              coef    std err          z      P>|z|      [0.025      0.975]\n",
      "-------------------------------------------------------------------------------------------\n",
      "const                       1.8353      0.005    348.088      0.000       1.825       1.846\n",
      "combined_features_dummy     0.4844      0.003    190.045      0.000       0.479       0.489\n",
      "outlet_type                 1.3347      0.003    427.387      0.000       1.329       1.341\n",
      "channel_type                1.8800      0.004    494.215      0.000       1.873       1.888\n",
      "len_tweet                  -0.0101   2.86e-05   -353.735      0.000      -0.010      -0.010\n",
      "===========================================================================================\n"
     ]
    }
   ],
   "source": [
    "Poisson_Regression_H2d = sm.Poisson(AutomatedCA_sample['retweet_count'], sm.add_constant(AutomatedCA_sample[features_h2b]))\n",
    "ACApoiss_modelH2d = Poisson_Regression_H2d.fit()\n",
    "print(ACApoiss_modelH2d.summary())"
   ]
  },
  {
   "cell_type": "markdown",
   "metadata": {},
   "source": [
    "Running Poisson Regression using favorite count as DV and individual sensationalist features as IVs controlling for outlet type, channel type, and tweet length (Table C3)"
   ]
  },
  {
   "cell_type": "code",
   "execution_count": 159,
   "metadata": {},
   "outputs": [],
   "source": [
    "aca_features_indiv = ['hyperbolic_feature','slang_feature','listicle_feature','emoji_feature','question_feature','hashtag_feature','informalpunct_feature','forwardref_feature','media_dummy','capitalized_feature', 'channel_type','outlet_type','len_tweet']"
   ]
  },
  {
   "cell_type": "code",
   "execution_count": 160,
   "metadata": {},
   "outputs": [
    {
     "name": "stdout",
     "output_type": "stream",
     "text": [
      "Optimization terminated successfully.\n",
      "         Current function value: 31.326948\n",
      "         Iterations 6\n",
      "                          Poisson Regression Results                          \n",
      "==============================================================================\n",
      "Dep. Variable:         favorite_count   No. Observations:                25600\n",
      "Model:                        Poisson   Df Residuals:                    25586\n",
      "Method:                           MLE   Df Model:                           13\n",
      "Date:                Tue, 19 Dec 2023   Pseudo R-squ.:                 0.06343\n",
      "Time:                        02:37:09   Log-Likelihood:            -8.0197e+05\n",
      "converged:                       True   LL-Null:                   -8.5628e+05\n",
      "Covariance Type:            nonrobust   LLR p-value:                     0.000\n",
      "=========================================================================================\n",
      "                            coef    std err          z      P>|z|      [0.025      0.975]\n",
      "-----------------------------------------------------------------------------------------\n",
      "const                     2.0539      0.006    333.445      0.000       2.042       2.066\n",
      "hyperbolic_feature        0.2014      0.006     32.453      0.000       0.189       0.214\n",
      "slang_feature            -0.1656      0.009    -18.794      0.000      -0.183      -0.148\n",
      "listicle_feature         -0.2551      0.016    -15.825      0.000      -0.287      -0.223\n",
      "emoji_feature             0.2001      0.009     21.591      0.000       0.182       0.218\n",
      "question_feature         -0.7652      0.012    -62.755      0.000      -0.789      -0.741\n",
      "hashtag_feature           0.0263      0.006      4.146      0.000       0.014       0.039\n",
      "informalpunct_feature     0.4901      0.010     50.176      0.000       0.471       0.509\n",
      "forwardref_feature       -0.3232      0.009    -34.733      0.000      -0.341      -0.305\n",
      "media_dummy               0.5436      0.004    135.900      0.000       0.536       0.551\n",
      "capitalized_feature       0.2134      0.029      7.249      0.000       0.156       0.271\n",
      "channel_type             -0.1379      0.004    -36.434      0.000      -0.145      -0.130\n",
      "outlet_type               0.8615      0.004    211.698      0.000       0.854       0.869\n",
      "len_tweet                -0.0005   4.07e-05    -11.100      0.000      -0.001      -0.000\n",
      "=========================================================================================\n"
     ]
    }
   ],
   "source": [
    "Poisson_Regression_H2e = sm.Poisson(AutomatedCA_sample['favorite_count'], sm.add_constant(AutomatedCA_sample[aca_features_indiv]))\n",
    "ACApoiss_modelH2e = Poisson_Regression_H2e.fit()\n",
    "print (ACApoiss_modelH2e.summary())"
   ]
  },
  {
   "cell_type": "markdown",
   "metadata": {},
   "source": [
    "Running Poisson Regression using retweet count as DV and individual sensationalist features as IVs controlling for outlet type, channel type, and tweet length (Table C3)"
   ]
  },
  {
   "cell_type": "code",
   "execution_count": 161,
   "metadata": {},
   "outputs": [
    {
     "name": "stdout",
     "output_type": "stream",
     "text": [
      "Optimization terminated successfully.\n",
      "         Current function value: 108.068670\n",
      "         Iterations 8\n",
      "                          Poisson Regression Results                          \n",
      "==============================================================================\n",
      "Dep. Variable:          retweet_count   No. Observations:                25600\n",
      "Model:                        Poisson   Df Residuals:                    25586\n",
      "Method:                           MLE   Df Model:                           13\n",
      "Date:                Tue, 19 Dec 2023   Pseudo R-squ.:                  0.1946\n",
      "Time:                        02:40:36   Log-Likelihood:            -2.7666e+06\n",
      "converged:                       True   LL-Null:                   -3.4351e+06\n",
      "Covariance Type:            nonrobust   LLR p-value:                     0.000\n",
      "=========================================================================================\n",
      "                            coef    std err          z      P>|z|      [0.025      0.975]\n",
      "-----------------------------------------------------------------------------------------\n",
      "const                     1.8523      0.005    349.588      0.000       1.842       1.863\n",
      "hyperbolic_feature       -0.2906      0.005    -60.909      0.000      -0.300      -0.281\n",
      "slang_feature             0.9380      0.004    257.326      0.000       0.931       0.945\n",
      "listicle_feature         -0.7139      0.010    -72.807      0.000      -0.733      -0.695\n",
      "emoji_feature             0.6684      0.004    179.675      0.000       0.661       0.676\n",
      "question_feature         -1.0469      0.008   -129.217      0.000      -1.063      -1.031\n",
      "hashtag_feature           0.1562      0.003     50.333      0.000       0.150       0.162\n",
      "informalpunct_feature     0.3869      0.005     77.674      0.000       0.377       0.397\n",
      "forwardref_feature       -0.2341      0.005    -46.376      0.000      -0.244      -0.224\n",
      "media_dummy               0.4586      0.002    189.372      0.000       0.454       0.463\n",
      "capitalized_feature       0.7322      0.012     60.617      0.000       0.709       0.756\n",
      "channel_type              1.8722      0.004    487.573      0.000       1.865       1.880\n",
      "outlet_type               1.2950      0.003    408.169      0.000       1.289       1.301\n",
      "len_tweet                -0.0093   2.95e-05   -316.222      0.000      -0.009      -0.009\n",
      "=========================================================================================\n"
     ]
    }
   ],
   "source": [
    "Poisson_Regression_H2f = sm.Poisson(AutomatedCA_sample['retweet_count'], sm.add_constant(AutomatedCA_sample[aca_features_indiv]))\n",
    "ACApoiss_modelH2f = Poisson_Regression_H2f.fit()\n",
    "print (ACApoiss_modelH2f.summary())"
   ]
  },
  {
   "cell_type": "code",
   "execution_count": null,
   "metadata": {},
   "outputs": [],
   "source": []
  }
 ],
 "metadata": {
  "kernelspec": {
   "display_name": "Python 3",
   "language": "python",
   "name": "python3"
  },
  "language_info": {
   "codemirror_mode": {
    "name": "ipython",
    "version": 3
   },
   "file_extension": ".py",
   "mimetype": "text/x-python",
   "name": "python",
   "nbconvert_exporter": "python",
   "pygments_lexer": "ipython3",
   "version": "3.7.4"
  }
 },
 "nbformat": 4,
 "nbformat_minor": 2
}
