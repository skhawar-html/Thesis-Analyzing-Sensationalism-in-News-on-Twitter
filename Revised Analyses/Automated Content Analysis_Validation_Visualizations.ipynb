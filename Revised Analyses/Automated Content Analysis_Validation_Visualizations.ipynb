{
 "cells": [
  {
   "cell_type": "code",
   "execution_count": 1,
   "id": "df5b2d63-e740-4269-a4f9-ab0ce27414b5",
   "metadata": {},
   "outputs": [
    {
     "name": "stderr",
     "output_type": "stream",
     "text": [
      "/Applications/anaconda3/envs/notebook/lib/python3.11/site-packages/tqdm/auto.py:21: TqdmWarning: IProgress not found. Please update jupyter and ipywidgets. See https://ipywidgets.readthedocs.io/en/stable/user_install.html\n",
      "  from .autonotebook import tqdm as notebook_tqdm\n"
     ]
    }
   ],
   "source": [
    "import pandas as pd\n",
    "import flair\n",
    "import re\n",
    "import csv\n",
    "import numpy as np\n",
    "from collections import Counter\n",
    "import nltk\n",
    "from nltk.corpus import stopwords\n",
    "import statsmodels.api as sm\n",
    "import statsmodels.formula.api as smf\n",
    "from statsmodels.formula.api import poisson\n",
    "import math\n",
    "import scipy.stats as stats\n",
    "import krippendorff\n",
    "import array as arr\n",
    "from sklearn.metrics import accuracy_score, f1_score, precision_score, recall_score, classification_report, confusion_matrix\n",
    "from flair.data import Sentence\n",
    "from flair.models import SequenceTagger \n",
    "from nltk.tokenize import sent_tokenize, word_tokenize\n",
    "import matplotlib.pyplot as plt"
   ]
  },
  {
   "cell_type": "code",
   "execution_count": 2,
   "id": "35c4535e-7c72-45bb-9408-016ab098dba2",
   "metadata": {},
   "outputs": [],
   "source": [
    "Validation_sample = pd.read_csv('/Users/salmankhawar/Desktop/UvA Courses/Thesis/Data_Collection_Twitter/Data_csv/Data_Collected_Tweepy/ManualCA_sample.csv')"
   ]
  },
  {
   "cell_type": "code",
   "execution_count": 4,
   "id": "60b59881-4253-48e2-a42b-2af4c48bdd5b",
   "metadata": {},
   "outputs": [],
   "source": [
    "CA_results = pd.read_csv('/Users/salmankhawar/Desktop/UvA Courses/Thesis/Content Analysis/Results_CA.csv')"
   ]
  },
  {
   "cell_type": "markdown",
   "id": "2f439558-52f1-44b5-93d1-5e1ca9791e02",
   "metadata": {},
   "source": [
    "Reading file 'AutomatedCA_sample.csv' containing sample for automated content analysis and removing urls from tweet text"
   ]
  },
  {
   "cell_type": "code",
   "execution_count": 5,
   "id": "a87ae653-0a65-41b1-b7b7-6e78167b9a9b",
   "metadata": {},
   "outputs": [],
   "source": [
    "AutomatedCA_sample = pd.read_csv('/Users/salmankhawar/Desktop/UvA Courses/Thesis/Final_data_files/samples_data_files/AutomatedCA_sample.csv')"
   ]
  },
  {
   "cell_type": "code",
   "execution_count": 3,
   "id": "403e389b-fa33-4709-adb7-df1b63c2632e",
   "metadata": {},
   "outputs": [],
   "source": [
    "def remove_URL(text):\n",
    "    url = re.compile(r'https?://\\S+|www\\.\\S+')\n",
    "    return url.sub(r'', text)\n",
    "\n",
    "Validation_sample['text'] = Validation_sample['text'].apply(lambda x: remove_URL(x))"
   ]
  },
  {
   "cell_type": "code",
   "execution_count": 6,
   "id": "dba73f86-b933-407a-b5bd-0f2d748ca05f",
   "metadata": {},
   "outputs": [],
   "source": [
    "pd.options.display.max_rows\n",
    "pd.set_option('display.max_colwidth', 0)"
   ]
  },
  {
   "cell_type": "code",
   "execution_count": null,
   "id": "cb119ec9-1af6-4d76-85ab-2995d7fe1d47",
   "metadata": {},
   "outputs": [],
   "source": []
  },
  {
   "cell_type": "markdown",
   "id": "8dca3fbc-84e3-4f81-b72e-dd9473d62b87",
   "metadata": {},
   "source": [
    "## Detecting Sensationalist Features"
   ]
  },
  {
   "cell_type": "code",
   "execution_count": null,
   "id": "12571f8b-aa2e-4ad5-9fd5-752155d8893a",
   "metadata": {},
   "outputs": [],
   "source": []
  },
  {
   "cell_type": "markdown",
   "id": "82fd5716-6198-4a7a-9be4-72cd9af96469",
   "metadata": {},
   "source": [
    "## Hyperbole Feature"
   ]
  },
  {
   "cell_type": "markdown",
   "id": "000fd0d9-e72b-4d9a-8db0-97c49200c794",
   "metadata": {},
   "source": [
    "Getting list of hyperbolic words/phrases from Downworthy corpus - Gianotto, A. (2016)"
   ]
  },
  {
   "cell_type": "code",
   "execution_count": 90,
   "id": "90e1b6e9-947d-4351-8867-e933a1278d61",
   "metadata": {},
   "outputs": [
    {
     "name": "stdout",
     "output_type": "stream",
     "text": [
      "['A Single', 'Absolutely', 'Amazing', 'Awesome', 'Best', 'Breathtaking', 'But what happened next', 'Can change your life', \"Can't Even Handle\", \"Can't Handle\", 'Cannot Even Handle', \"Doesn't want you to see\", 'Epic', 'Everything You Need To Know', 'Gasp-Worthy', 'Go Viral', 'Greatest', 'Incredible', 'Infuriate', 'Literally', 'Mind Blowing', 'Mind BLOWN', 'Mind Blown', 'Need To Visit Before You Die', 'Nothing Could Prepare Me For', 'Of All Time', 'OMG', 'One Weird Trick', 'Perfection', 'Priceless', 'Prove', 'Right Now', 'Scientific Reasons', 'Shocked', 'Shocking', 'Simple Lessons', \"Stop What You're Doing\", 'TERRIFYING', 'Terrifying', 'That Will Make You Rethink', \"The World's Best\", 'This Is What Happens', 'Totally blew my mind', 'Unbelievable', 'Unimaginable', 'WHAT?', 'Whoa', 'WHOA', 'Whoah', 'Will Blow Your Mind', 'Will Change Your Life Forever', 'Won the Internet', 'Wonderful', 'Worst', 'Wow', 'WOW', \"You Didn't Know Exist\", \"You Didn't Know Existed\", \"You Won't Believe\", 'Have To See To Believe']\n"
     ]
    }
   ],
   "source": [
    "hyperbolic_words = open(\"/Users/salmankhawar/Desktop/UvA Courses/Thesis/Content Analysis/Hyperbolic Words.txt\", \"r\")\n",
    "hyperbolic_words_list = hyperbolic_words.readlines()\n",
    "\n",
    "hyperbolic_list=[]\n",
    "for words in hyperbolic_words_list:\n",
    "    hyperbolic_list.append(words.strip())\n",
    "    \n",
    "print(hyperbolic_list) "
   ]
  },
  {
   "cell_type": "code",
   "execution_count": 91,
   "id": "cb9f7065-fdd0-47ee-828c-7aab253bd8c2",
   "metadata": {},
   "outputs": [],
   "source": [
    "def hyperbole_detection1(tweet, query):\n",
    "    tweet = str(tweet).lower()\n",
    "    newquery = []\n",
    "    for word in query:\n",
    "        newquery.append(str(word).lower())\n",
    "    tokens = re.findall(r\"[\\w']+|[.,!?;$@#]\", tweet)\n",
    "    \n",
    "    for word in newquery:\n",
    "        if word in tokens:\n",
    "            return 1\n",
    "    return 0"
   ]
  },
  {
   "cell_type": "markdown",
   "id": "f5479d70-17cc-4457-9e9e-254519f70784",
   "metadata": {},
   "source": [
    "Detecting tweets with superlatives - POS tags: RBS (superlative adverbs) and JJS (superlative adjectives)"
   ]
  },
  {
   "cell_type": "code",
   "execution_count": 98,
   "id": "00cf523b-46a3-47d3-b6f8-25d6d9d53313",
   "metadata": {},
   "outputs": [
    {
     "name": "stdout",
     "output_type": "stream",
     "text": [
      "2024-05-17 02:02:44,201 SequenceTagger predicts: Dictionary with 53 tags: <unk>, O, UH, ,, VBD, PRP, VB, PRP$, NN, RB, ., DT, JJ, VBP, VBG, IN, CD, NNS, NNP, WRB, VBZ, WDT, CC, TO, MD, VBN, WP, :, RP, EX, JJR, FW, XX, HYPH, POS, RBR, JJS, PDT, NNPS, RBS, AFX, WP$, -LRB-, -RRB-, ``, '', LS, $, SYM, ADD\n"
     ]
    }
   ],
   "source": [
    "tagger = SequenceTagger.load(\"flair/pos-english\")\n",
    "#tagger = SequenceTagger.load(\"flair/pos-english-fast\")\n",
    "\n",
    "def hyperbole_detections2(txt):\n",
    "    sentence = Sentence(txt)\n",
    "    tagger.predict(sentence)\n",
    "    text = str(txt).lower()\n",
    "    \n",
    "    for label in sentence.get_labels('pos'):\n",
    "        if label.value == \"RBS\" or label.value == \"JJS\":\n",
    "           return 1\n",
    "        \n",
    "        else:\n",
    "           return 0\n"
   ]
  },
  {
   "cell_type": "code",
   "execution_count": 94,
   "id": "709ee3bb-cbf2-4b9c-af61-fde3975bf4cf",
   "metadata": {},
   "outputs": [],
   "source": [
    "AutomatedCA_sample['hyperbolic_feature_1'] = AutomatedCA_sample['text'].apply(hyperbole_detection1, args=(hyperbolic_list,))"
   ]
  },
  {
   "cell_type": "code",
   "execution_count": 95,
   "id": "545a88c0-1580-4c44-95cb-7abd2cb44851",
   "metadata": {},
   "outputs": [],
   "source": [
    "AutomatedCA_sample['hyperbolic_feature_2'] = AutomatedCA_sample['text'].apply(hyperbole_detections2)"
   ]
  },
  {
   "cell_type": "markdown",
   "id": "5b9ad734-f9ed-4366-957a-cfa2fbbab00a",
   "metadata": {},
   "source": [
    "Consolidating results for the approaches"
   ]
  },
  {
   "cell_type": "code",
   "execution_count": 96,
   "id": "037237c9-9cd6-470d-a010-6f205ffb6e48",
   "metadata": {},
   "outputs": [],
   "source": [
    "hyperbole_grid = AutomatedCA_sample[['hyperbolic_feature_1', 'hyperbolic_feature_2']]\n",
    "hyperbole_grid = np.array(hyperbole_grid)\n",
    "hyperbole_grid = hyperbole_grid.tolist()\n",
    "any_row_1 = [int(any(row)) for row in hyperbole_grid]\n",
    "AutomatedCA_sample['hyperbolic_feature'] = any_row_1"
   ]
  },
  {
   "cell_type": "markdown",
   "id": "99524721-5325-4c4c-9e20-b558edc8385c",
   "metadata": {},
   "source": [
    "Detection Rate = 2.66%"
   ]
  },
  {
   "cell_type": "code",
   "execution_count": 97,
   "id": "4fb6e237-04fc-45f8-8ef0-d66e004a6157",
   "metadata": {},
   "outputs": [
    {
     "data": {
      "text/plain": [
       "hyperbolic_feature\n",
       "0    97.34375\n",
       "1    2.65625 \n",
       "Name: proportion, dtype: float64"
      ]
     },
     "execution_count": 97,
     "metadata": {},
     "output_type": "execute_result"
    }
   ],
   "source": [
    "AutomatedCA_sample['hyperbolic_feature'].value_counts(normalize=True)*100\n"
   ]
  },
  {
   "cell_type": "code",
   "execution_count": 99,
   "id": "ac1023af-80d8-4cda-8efc-787a4d19ed28",
   "metadata": {},
   "outputs": [],
   "source": [
    "Validation_sample['hyperbolic_feature_aca_1'] = Validation_sample['text'].apply(hyperbole_detection1, args=(hyperbolic_list,))"
   ]
  },
  {
   "cell_type": "code",
   "execution_count": 100,
   "id": "2d9dc3ba-e380-4dcd-88fe-0fa82fe9952d",
   "metadata": {},
   "outputs": [],
   "source": [
    "Validation_sample['hyperbolic_feature_aca_2'] = Validation_sample['text'].apply(hyperbole_detections2)"
   ]
  },
  {
   "cell_type": "code",
   "execution_count": 101,
   "id": "78cdeadb-204d-4836-9fc7-1e1e09f2c30e",
   "metadata": {},
   "outputs": [],
   "source": [
    "hyperbole_grid_val = Validation_sample[['hyperbolic_feature_aca_1', 'hyperbolic_feature_aca_2']]\n",
    "hyperbole_grid_val = np.array(hyperbole_grid_val)\n",
    "hyperbole_grid_val = hyperbole_grid_val.tolist()\n",
    "any_row_2 = [int(any(row)) for row in hyperbole_grid_val]\n",
    "Validation_sample['hyperbolic_feature_aca'] = any_row_2"
   ]
  },
  {
   "cell_type": "markdown",
   "id": "fc1269b1-7015-4a48-bb16-608cda42d8ef",
   "metadata": {},
   "source": [
    "Validation Metrics"
   ]
  },
  {
   "cell_type": "code",
   "execution_count": 102,
   "id": "6ac4a811-f614-4d99-810a-9118258bf327",
   "metadata": {},
   "outputs": [
    {
     "data": {
      "text/plain": [
       "array([[1287,    8],\n",
       "       [ 111,   34]])"
      ]
     },
     "execution_count": 102,
     "metadata": {},
     "output_type": "execute_result"
    }
   ],
   "source": [
    "y_test_hyp = CA_results[\"[hyperbolic_feature]\"]\n",
    "y_pred_hyp = Validation_sample[\"hyperbolic_feature_aca\"]\n",
    "confusion_matrix(y_test_hyp, y_pred_hyp)"
   ]
  },
  {
   "cell_type": "code",
   "execution_count": 103,
   "id": "6b8b676c-b1b7-48f1-999f-755d97b9b42a",
   "metadata": {},
   "outputs": [
    {
     "name": "stdout",
     "output_type": "stream",
     "text": [
      "F1-score: 0.6597238632143942\n",
      "Precision: 0.865062333946454\n",
      "Recall: 0.6141525762215417\n"
     ]
    }
   ],
   "source": [
    "print(\"F1-score:\", f1_score(y_test_hyp, y_pred_hyp, average=\"macro\"))\n",
    "print(\"Precision:\", precision_score(y_test_hyp, y_pred_hyp, average=\"macro\"))\n",
    "print(\"Recall:\", recall_score(y_test_hyp, y_pred_hyp, average=\"macro\"))"
   ]
  },
  {
   "cell_type": "code",
   "execution_count": 104,
   "id": "658977d2-b1f2-4a9a-905f-a8c71bdaa68b",
   "metadata": {},
   "outputs": [
    {
     "name": "stdout",
     "output_type": "stream",
     "text": [
      "              precision    recall  f1-score   support\n",
      "\n",
      "           0       0.92      0.99      0.96      1295\n",
      "           1       0.81      0.23      0.36       145\n",
      "\n",
      "    accuracy                           0.92      1440\n",
      "   macro avg       0.87      0.61      0.66      1440\n",
      "weighted avg       0.91      0.92      0.90      1440\n",
      "\n"
     ]
    }
   ],
   "source": [
    "print(classification_report(y_test_hyp, y_pred_hyp))"
   ]
  },
  {
   "cell_type": "code",
   "execution_count": 105,
   "id": "9160cc35-6a29-48b4-9a02-932a1bfe5ed0",
   "metadata": {},
   "outputs": [
    {
     "name": "stdout",
     "output_type": "stream",
     "text": [
      "Spearman rank correlation: 0.4082783653412781\n"
     ]
    }
   ],
   "source": [
    "rho, p_value = stats.spearmanr(CA_results[\"[hyperbolic_feature]\"], Validation_sample[\"hyperbolic_feature_aca\"])\n",
    " \n",
    "print(\"Spearman rank correlation:\", rho)"
   ]
  },
  {
   "cell_type": "code",
   "execution_count": 106,
   "id": "1b744dfe-5f42-442c-9e99-248f6f9c8eb4",
   "metadata": {},
   "outputs": [
    {
     "name": "stdout",
     "output_type": "stream",
     "text": [
      "Krippendorff's alpha: 0.31968402930155626\n"
     ]
    }
   ],
   "source": [
    "array_hyperbole = [CA_results[\"[hyperbolic_feature]\"], Validation_sample[\"hyperbolic_feature_aca\"]]\n",
    "print(\"Krippendorff's alpha:\", krippendorff.alpha(array_hyperbole))"
   ]
  },
  {
   "cell_type": "code",
   "execution_count": 107,
   "id": "a327c73a-6a7a-4791-8258-546662dae4e0",
   "metadata": {
    "scrolled": true
   },
   "outputs": [
    {
     "data": {
      "text/plain": [
       "27     FYI: Andy Cohen Was Actually The Best Part About The Billboard Music Awards And Here Are The Receipts                                                                                                                                                \n",
       "40     The Dodgers win 2-1, outlasting the #SFGiants in an epic game                                                                                                                                                                                        \n",
       "48     The only thing more terrifying than #Candyman, a half-dead boogeyman, covered in bees with a hook for a hand, brutally murdering people who say his name five times, is the reason he came to be that way: racism.                                   \n",
       "158    With guards Kiki Rice and Londynn Jones, forward Gabriela Jaquez and centers Christeen Iwuala and Lina Sontag submitting their national letters of intent last week, the Bruins have what might be their best class ever under coach Cori Close. \\n\\n\n",
       "184    If you thought @TomBrady's leadership was limited to his play on the field, think again.\\n\\n@joshlpeter11 tells the amazing story of Noah Reeb and his triumphant battle that came with a major assist from the @Buccaneers' legendary quarterback.  \n",
       "265    Aretha Franklin's 'Respect' named best song ever in new list                                                                                                                                                                                         \n",
       "280    Canada's Penny Oleksiak slammed an educator who \"constantly dragged me down\" as the worst of all time.                                                                                                                                               \n",
       "352    .@JasonBiggs on his former \"American Pie\" costar @Realeugenelevy: \"He's the best. I love Eugene.\"                                                                                                                                                    \n",
       "359    Inside the shocking and captivating new documentary about sex and Hollywood  via @adambvary                                                                                                                                                          \n",
       "366    Wow. That was too easy. Murray with the 14-yard TD run up the middle. Chargers hardly got a hand on him. Ravens up 7-0 after that 12-play, 90-yard scoring drive.                                                                                    \n",
       "Name: text, dtype: object"
      ]
     },
     "execution_count": 107,
     "metadata": {},
     "output_type": "execute_result"
    }
   ],
   "source": [
    "Validation_sample[Validation_sample['hyperbolic_feature_aca'] == 1]['text'].head(10)"
   ]
  },
  {
   "cell_type": "code",
   "execution_count": null,
   "id": "d41764a5-02f6-44d8-9d1a-8547e7175b94",
   "metadata": {},
   "outputs": [],
   "source": []
  },
  {
   "cell_type": "markdown",
   "id": "4b445468-de2d-4c18-9374-6df532929d14",
   "metadata": {},
   "source": [
    "## Forward Referencing Feature"
   ]
  },
  {
   "cell_type": "markdown",
   "id": "20e9e0be-c019-4246-8f7f-96685309635f",
   "metadata": {},
   "source": [
    "Detecting tweets starting with commonly used forward referencing phrases, e.g demonstrative pronouns or adjectives"
   ]
  },
  {
   "cell_type": "code",
   "execution_count": 28,
   "id": "32ec334e-4553-446f-b49d-15c1bccee74a",
   "metadata": {},
   "outputs": [],
   "source": [
    "forwardref_list = ['This','That','These','Those','Here','Meet','Read']"
   ]
  },
  {
   "cell_type": "code",
   "execution_count": 29,
   "id": "dadc63a0-cd16-415c-ab02-d61b71bcfac6",
   "metadata": {},
   "outputs": [],
   "source": [
    "def forwardref_detection(text):\n",
    "    texts = sent_tokenize(text)\n",
    "    for i in texts:\n",
    "        if i.startswith(tuple(forwardref_list)):\n",
    "            return 1\n",
    "    return 0"
   ]
  },
  {
   "cell_type": "code",
   "execution_count": 30,
   "id": "f1ca8c5e-4ef0-4d27-b5f8-45d8d7be2cba",
   "metadata": {},
   "outputs": [],
   "source": [
    "AutomatedCA_sample['text'] = AutomatedCA_sample['text'].apply(str)"
   ]
  },
  {
   "cell_type": "code",
   "execution_count": 31,
   "id": "925976b7-ee48-429e-b9dc-ff2c3ae447c7",
   "metadata": {},
   "outputs": [],
   "source": [
    "AutomatedCA_sample['forwardref_feature'] = AutomatedCA_sample['text'].apply(forwardref_detection)"
   ]
  },
  {
   "cell_type": "markdown",
   "id": "0467d2b9-9903-4736-876c-1a0c4ef8a113",
   "metadata": {},
   "source": [
    "Detection Rate = 4.43%"
   ]
  },
  {
   "cell_type": "code",
   "execution_count": 32,
   "id": "0cdeb41c-d238-4ce2-9ee9-132b545ef27a",
   "metadata": {},
   "outputs": [
    {
     "data": {
      "text/plain": [
       "forwardref_feature\n",
       "0    95.566406\n",
       "1    4.433594 \n",
       "Name: proportion, dtype: float64"
      ]
     },
     "execution_count": 32,
     "metadata": {},
     "output_type": "execute_result"
    }
   ],
   "source": [
    "AutomatedCA_sample['forwardref_feature'].value_counts(normalize=True)*100"
   ]
  },
  {
   "cell_type": "code",
   "execution_count": 33,
   "id": "9c215866-610b-4ce0-b440-fc9d4e22ea0e",
   "metadata": {},
   "outputs": [],
   "source": [
    "Validation_sample['forwardref_feature_aca'] = Validation_sample['text'].apply(forwardref_detection)"
   ]
  },
  {
   "cell_type": "markdown",
   "id": "8bc7e260-ebd8-4223-ae9f-9b9f2a52ad14",
   "metadata": {},
   "source": [
    "Validation Metrics"
   ]
  },
  {
   "cell_type": "code",
   "execution_count": 34,
   "id": "999776c7-8810-4458-96ae-2a40da7ca43e",
   "metadata": {},
   "outputs": [
    {
     "data": {
      "text/plain": [
       "array([[1352,   28],\n",
       "       [  16,   44]])"
      ]
     },
     "execution_count": 34,
     "metadata": {},
     "output_type": "execute_result"
    }
   ],
   "source": [
    "y_test_lst = CA_results[\"[forw_ref_feature]\"]\n",
    "y_pred_lst = Validation_sample[\"forwardref_feature_aca\"]\n",
    "confusion_matrix(y_test_lst, y_pred_lst)"
   ]
  },
  {
   "cell_type": "code",
   "execution_count": 35,
   "id": "42525908-1000-436c-87b4-6ce359317e08",
   "metadata": {},
   "outputs": [
    {
     "name": "stdout",
     "output_type": "stream",
     "text": [
      "F1-score: 0.8253275109170306\n",
      "Precision: 0.7997076023391814\n",
      "Recall: 0.8565217391304347\n"
     ]
    }
   ],
   "source": [
    "print(\"F1-score:\", f1_score(y_test_lst, y_pred_lst, average=\"macro\"))\n",
    "print(\"Precision:\", precision_score(y_test_lst, y_pred_lst, average=\"macro\"))\n",
    "print(\"Recall:\", recall_score(y_test_lst, y_pred_lst, average=\"macro\"))"
   ]
  },
  {
   "cell_type": "code",
   "execution_count": 36,
   "id": "0723f775-a4b8-4951-a217-4ea93ed7f069",
   "metadata": {},
   "outputs": [
    {
     "name": "stdout",
     "output_type": "stream",
     "text": [
      "              precision    recall  f1-score   support\n",
      "\n",
      "           0       0.99      0.98      0.98      1380\n",
      "           1       0.61      0.73      0.67        60\n",
      "\n",
      "    accuracy                           0.97      1440\n",
      "   macro avg       0.80      0.86      0.83      1440\n",
      "weighted avg       0.97      0.97      0.97      1440\n",
      "\n"
     ]
    }
   ],
   "source": [
    "print(classification_report(y_test_lst, y_pred_lst))"
   ]
  },
  {
   "cell_type": "code",
   "execution_count": 37,
   "id": "9da01154-0c4e-4004-bca4-80d6af7a1d9e",
   "metadata": {},
   "outputs": [
    {
     "name": "stdout",
     "output_type": "stream",
     "text": [
      "Spearman rank correlation: 0.6537653267544177\n"
     ]
    }
   ],
   "source": [
    "rho, p_value = stats.spearmanr(CA_results[\"[forw_ref_feature]\"], Validation_sample[\"forwardref_feature_aca\"])\n",
    " \n",
    "print(\"Spearman rank correlation:\", rho)"
   ]
  },
  {
   "cell_type": "code",
   "execution_count": 38,
   "id": "66c5dd17-ccf9-4c1c-9ea5-1ca4acba023b",
   "metadata": {},
   "outputs": [
    {
     "name": "stdout",
     "output_type": "stream",
     "text": [
      "Krippendorff's alpha: 0.6507763221737022\n"
     ]
    }
   ],
   "source": [
    "array_listicle = [CA_results[\"[forw_ref_feature]\"], Validation_sample[\"forwardref_feature_aca\"]]\n",
    "print(\"Krippendorff's alpha:\", krippendorff.alpha(array_listicle))"
   ]
  },
  {
   "cell_type": "code",
   "execution_count": 39,
   "id": "0885f08d-6871-49e6-8e76-eeb480843d5c",
   "metadata": {},
   "outputs": [
    {
     "data": {
      "text/plain": [
       "7      This is the second setback Democrats have faced in trying to include immigration in the reconciliation package.\\n\\n                                                          \n",
       "15     Meet The Young Influencers Making Socialism Cool On TikTok                                                                                                                   \n",
       "16     The Times asked four staffers who’ve been watching the Tokyo Games on TV to answer a simple question: How would you fix the Olympics?\\n\\nHere are their answers.             \n",
       "41     There's Growing Panic That Trump Will Rush A Vaccine To Save His Presidency. That's Unlikely.                                                                                \n",
       "53     Here’s Trump Allies’ Plan To Meddle In The 2020 Democratic Primary                                                                                                           \n",
       "60     The sunshine state is now leading the nation in per capita hospitalizations. This follows Florida on Saturday recording the most new daily cases since the pandemic's start. \n",
       "92     This guy HAD to be trolling, right? (Via @seth_rosenthal)                                                                                                                    \n",
       "93     Sometimes people do change their minds. Here's why these individuals eventually got their COVID-19 shots.                                                                    \n",
       "98     Do you have to do your job in excessive heat? Here's what federal law says.                                                                                                  \n",
       "107    It's been 20 years (!) since #LegallyBlonde premiered. Here's how @ReeseW's Elle Woods inspired an entire generation of law students... \"What, like it's hard?\"\\n            \n",
       "Name: text, dtype: object"
      ]
     },
     "execution_count": 39,
     "metadata": {},
     "output_type": "execute_result"
    }
   ],
   "source": [
    "Validation_sample[Validation_sample['forwardref_feature_aca'] == 1]['text'].head(10)"
   ]
  },
  {
   "cell_type": "code",
   "execution_count": null,
   "id": "d72675bf-3cb5-4338-a39d-6346209dc711",
   "metadata": {},
   "outputs": [],
   "source": []
  },
  {
   "cell_type": "markdown",
   "id": "54c87e7a-ccf1-489b-9b32-20b92965eb26",
   "metadata": {},
   "source": [
    "## Listicle Feature"
   ]
  },
  {
   "cell_type": "markdown",
   "id": "9fc30c70-1cc5-4e34-b4a2-2b926fab6dbe",
   "metadata": {},
   "source": [
    "Detecting tweets with digits"
   ]
  },
  {
   "cell_type": "code",
   "execution_count": 17,
   "id": "28ac489b-670d-471f-901e-e338b1c68089",
   "metadata": {},
   "outputs": [],
   "source": [
    "def listicle_detection(text):\n",
    "    text = str(text)\n",
    "    if re.findall(r\"^\\d{1,3}\\s\", text):\n",
    "            return 1\n",
    "    return 0"
   ]
  },
  {
   "cell_type": "code",
   "execution_count": 18,
   "id": "e4cb0662-6629-422e-b79f-8702ca7e89c3",
   "metadata": {},
   "outputs": [],
   "source": [
    "AutomatedCA_sample['listicle_feature'] = AutomatedCA_sample['text'].apply(listicle_detection)"
   ]
  },
  {
   "cell_type": "markdown",
   "id": "c3e8e4d9-41e6-425c-99ce-9693beb82bbf",
   "metadata": {},
   "source": [
    "Detection Rate = .77%"
   ]
  },
  {
   "cell_type": "code",
   "execution_count": 129,
   "id": "d97a9bf0-5523-453a-a9f0-c89492fc93c5",
   "metadata": {},
   "outputs": [
    {
     "data": {
      "text/plain": [
       "listicle_feature\n",
       "0    99.226562\n",
       "1    0.773438 \n",
       "Name: proportion, dtype: float64"
      ]
     },
     "execution_count": 129,
     "metadata": {},
     "output_type": "execute_result"
    }
   ],
   "source": [
    "AutomatedCA_sample['listicle_feature'].value_counts(normalize=True)*100"
   ]
  },
  {
   "cell_type": "code",
   "execution_count": 20,
   "id": "a5b98729-010f-43d6-808d-32c568cc75cd",
   "metadata": {},
   "outputs": [],
   "source": [
    "Validation_sample['listicle_feature_aca'] = Validation_sample['text'].apply(listicle_detection)"
   ]
  },
  {
   "cell_type": "markdown",
   "id": "a4a2e4c3-dabd-4521-b8a7-1f952c98c183",
   "metadata": {},
   "source": [
    "Validation Metrics"
   ]
  },
  {
   "cell_type": "code",
   "execution_count": 21,
   "id": "b7e27c98-4848-4f37-bdfd-238749e3c943",
   "metadata": {},
   "outputs": [
    {
     "data": {
      "text/plain": [
       "array([[1426,    1],\n",
       "       [   4,    9]])"
      ]
     },
     "execution_count": 21,
     "metadata": {},
     "output_type": "execute_result"
    }
   ],
   "source": [
    "y_test_lst = CA_results[\"[listicle_feature]\"]\n",
    "y_pred_lst = Validation_sample[\"listicle_feature_aca\"]\n",
    "confusion_matrix(y_test_lst, y_pred_lst)"
   ]
  },
  {
   "cell_type": "code",
   "execution_count": 22,
   "id": "a6e41e2b-5d49-4e8c-aa6c-9c9efa3c0bd5",
   "metadata": {},
   "outputs": [
    {
     "name": "stdout",
     "output_type": "stream",
     "text": [
      "F1-score: 0.8904293040738993\n",
      "Precision: 0.9486013986013986\n",
      "Recall: 0.8458034607298798\n"
     ]
    }
   ],
   "source": [
    "print(\"F1-score:\", f1_score(y_test_lst, y_pred_lst, average=\"macro\"))\n",
    "print(\"Precision:\", precision_score(y_test_lst, y_pred_lst, average=\"macro\"))\n",
    "print(\"Recall:\", recall_score(y_test_lst, y_pred_lst, average=\"macro\"))"
   ]
  },
  {
   "cell_type": "code",
   "execution_count": 23,
   "id": "974d3fed-af6a-4b57-99fe-f26ba9c80517",
   "metadata": {},
   "outputs": [
    {
     "name": "stdout",
     "output_type": "stream",
     "text": [
      "              precision    recall  f1-score   support\n",
      "\n",
      "           0       1.00      1.00      1.00      1427\n",
      "           1       0.90      0.69      0.78        13\n",
      "\n",
      "    accuracy                           1.00      1440\n",
      "   macro avg       0.95      0.85      0.89      1440\n",
      "weighted avg       1.00      1.00      1.00      1440\n",
      "\n"
     ]
    }
   ],
   "source": [
    "print(classification_report(y_test_lst, y_pred_lst))"
   ]
  },
  {
   "cell_type": "code",
   "execution_count": 24,
   "id": "2df81591-63fe-4664-b576-a6eceb832fc2",
   "metadata": {},
   "outputs": [
    {
     "name": "stdout",
     "output_type": "stream",
     "text": [
      "Spearman rank correlation: 0.7877256276766114\n"
     ]
    }
   ],
   "source": [
    "rho, p_value = stats.spearmanr(CA_results[\"[listicle_feature]\"], Validation_sample[\"listicle_feature_aca\"])\n",
    " \n",
    "print(\"Spearman rank correlation:\", rho)"
   ]
  },
  {
   "cell_type": "code",
   "execution_count": 25,
   "id": "25dee034-b989-45c3-843b-59add9b5d937",
   "metadata": {},
   "outputs": [
    {
     "name": "stdout",
     "output_type": "stream",
     "text": [
      "Krippendorff's alpha: 0.7809346989088585\n"
     ]
    }
   ],
   "source": [
    "array_listicle = [CA_results[\"[listicle_feature]\"], Validation_sample[\"listicle_feature_aca\"]]\n",
    "print(\"Krippendorff's alpha:\", krippendorff.alpha(array_listicle))"
   ]
  },
  {
   "cell_type": "code",
   "execution_count": 26,
   "id": "a3a523db-ab3e-4bf0-82b1-ad2271f8e638",
   "metadata": {
    "scrolled": true
   },
   "outputs": [
    {
     "data": {
      "text/plain": [
       "58      26 Emo And Pop-Punk Songs You Need On Your Workout Playlist                                                                                \n",
       "80      28 Shows Premiering On Netflix, Amazon, Hulu, And HBO This Summer                                                                          \n",
       "83      15 Celebrity Tweets You Missed This Week                                                                                                   \n",
       "119     35 Facts That Every \"Golden Girls\" Fanatic Should Know                                                                                     \n",
       "223     13 Serious Questions I Have About \"13 Going On 30\" As An Adult                                                                             \n",
       "472     22 Pop Culture Moments That You Might Have Forgotten Happened In July 2008                                                                 \n",
       "593     100 Hilarious Posts That Prove Tumblr Is The Best When It Comes To Disney                                                                  \n",
       "597     25 Celebrities You Had NO IDEA Drink Iced Coffee                                                                                           \n",
       "691     32 Movie Facts That'll Make Every '00s Girl Say \"Wait, I Never Knew That\"                                                                  \n",
       "1240    2 things #Jazz can take solace in: They lost by 8 (granted guys were pulled) w/Hayward, Joe and Hill combining for 30. Held Dubs to 24% 3s.\n",
       "Name: text, dtype: object"
      ]
     },
     "execution_count": 26,
     "metadata": {},
     "output_type": "execute_result"
    }
   ],
   "source": [
    "Validation_sample[Validation_sample['listicle_feature_aca'] == 1]['text']"
   ]
  },
  {
   "cell_type": "code",
   "execution_count": null,
   "id": "14fee6a8-308f-4122-872b-b63eadcb877c",
   "metadata": {},
   "outputs": [],
   "source": []
  },
  {
   "cell_type": "markdown",
   "id": "238b1861-7c67-42a4-b892-7cf72a138ac5",
   "metadata": {},
   "source": [
    "## Question Feature"
   ]
  },
  {
   "cell_type": "markdown",
   "id": "899ddd17-fcc0-40e8-9cdd-38ffba6a4a0c",
   "metadata": {},
   "source": [
    "Detecting interrogative structure in tweets, i.e presence of a question mark"
   ]
  },
  {
   "cell_type": "code",
   "execution_count": 40,
   "id": "b0932718-a419-4e4d-8216-135140adaf89",
   "metadata": {},
   "outputs": [],
   "source": [
    "def question_detection(text):\n",
    "    text = str(text)\n",
    "    if re.search('\\w{1,}[?][,\";@#]?', text):\n",
    "        return 1\n",
    "    return 0"
   ]
  },
  {
   "cell_type": "code",
   "execution_count": 41,
   "id": "6030f927-7513-4837-80c1-54d171ae9629",
   "metadata": {},
   "outputs": [],
   "source": [
    "AutomatedCA_sample['question_feature'] = AutomatedCA_sample['text'].apply(question_detection)"
   ]
  },
  {
   "cell_type": "markdown",
   "id": "a0e38f01-10da-4a88-882a-22fd111d7069",
   "metadata": {},
   "source": [
    "Detection Rate= 5.34%"
   ]
  },
  {
   "cell_type": "code",
   "execution_count": 42,
   "id": "d9190f6f-e7d3-4ae8-b373-c775c0d676ba",
   "metadata": {},
   "outputs": [
    {
     "data": {
      "text/plain": [
       "question_feature\n",
       "0    94.660156\n",
       "1    5.339844 \n",
       "Name: proportion, dtype: float64"
      ]
     },
     "execution_count": 42,
     "metadata": {},
     "output_type": "execute_result"
    }
   ],
   "source": [
    "AutomatedCA_sample['question_feature'].value_counts(normalize=True)*100"
   ]
  },
  {
   "cell_type": "code",
   "execution_count": 43,
   "id": "0f981184-ddb5-43fa-8870-5147d9546308",
   "metadata": {},
   "outputs": [],
   "source": [
    "Validation_sample['question_feature_aca'] = Validation_sample['text'].apply(question_detection)"
   ]
  },
  {
   "cell_type": "markdown",
   "id": "14939e6c-970d-4313-9bcb-13a3aac9186b",
   "metadata": {},
   "source": [
    "Validation Metrics"
   ]
  },
  {
   "cell_type": "code",
   "execution_count": 44,
   "id": "4164c4a5-4f2e-4ee0-8076-2cf613c051fd",
   "metadata": {},
   "outputs": [
    {
     "data": {
      "text/plain": [
       "array([[1357,    3],\n",
       "       [   2,   78]])"
      ]
     },
     "execution_count": 44,
     "metadata": {},
     "output_type": "execute_result"
    }
   ],
   "source": [
    "y_test_q = CA_results[\"[question_feature]\"]\n",
    "y_pred_q = Validation_sample[\"question_feature_aca\"]\n",
    "confusion_matrix(y_test_q, y_pred_q)"
   ]
  },
  {
   "cell_type": "code",
   "execution_count": 45,
   "id": "590d90a4-535f-4432-907f-a4265e337ac3",
   "metadata": {},
   "outputs": [
    {
     "name": "stdout",
     "output_type": "stream",
     "text": [
      "F1-score: 0.983552594007205\n",
      "Precision: 0.9807456463085602\n",
      "Recall: 0.9863970588235293\n"
     ]
    }
   ],
   "source": [
    "print(\"F1-score:\", f1_score(y_test_q, y_pred_q, average=\"macro\"))\n",
    "print(\"Precision:\", precision_score(y_test_q, y_pred_q, average=\"macro\"))\n",
    "print(\"Recall:\", recall_score(y_test_q, y_pred_q, average=\"macro\"))"
   ]
  },
  {
   "cell_type": "code",
   "execution_count": 46,
   "id": "e30ed053-3d62-45ce-9703-90e6f67379c9",
   "metadata": {},
   "outputs": [
    {
     "name": "stdout",
     "output_type": "stream",
     "text": [
      "              precision    recall  f1-score   support\n",
      "\n",
      "           0       1.00      1.00      1.00      1360\n",
      "           1       0.96      0.97      0.97        80\n",
      "\n",
      "    accuracy                           1.00      1440\n",
      "   macro avg       0.98      0.99      0.98      1440\n",
      "weighted avg       1.00      1.00      1.00      1440\n",
      "\n"
     ]
    }
   ],
   "source": [
    "print(classification_report(y_test_q, y_pred_q))"
   ]
  },
  {
   "cell_type": "code",
   "execution_count": 47,
   "id": "433252d2-e8b2-494d-bef9-fbdec6099f03",
   "metadata": {},
   "outputs": [
    {
     "name": "stdout",
     "output_type": "stream",
     "text": [
      "Spearman rank correlation: 0.9671261932275446\n"
     ]
    }
   ],
   "source": [
    "rho, p_value = stats.spearmanr(CA_results[\"[question_feature]\"], Validation_sample[\"question_feature_aca\"])\n",
    " \n",
    "print(\"Spearman rank correlation:\", rho)"
   ]
  },
  {
   "cell_type": "code",
   "execution_count": 48,
   "id": "e534d71e-ecd8-42c4-adae-129f54b12109",
   "metadata": {},
   "outputs": [
    {
     "name": "stdout",
     "output_type": "stream",
     "text": [
      "Krippendorff's alpha: 0.967116609824127\n"
     ]
    }
   ],
   "source": [
    "array_question = [CA_results[\"[question_feature]\"], Validation_sample[\"question_feature_aca\"]]\n",
    "print(\"Krippendorff's alpha:\", krippendorff.alpha(array_question))  "
   ]
  },
  {
   "cell_type": "markdown",
   "id": "19ecb972-2e1f-47c1-b58b-86d0fd6730c4",
   "metadata": {},
   "source": [
    "## All-Caps Feature"
   ]
  },
  {
   "cell_type": "markdown",
   "id": "07d36f4f-0af1-4a0c-8279-907d644fd1db",
   "metadata": {},
   "source": [
    "Using part of speech tagging to identify capitalized proper nouns/acronyms (POS tag: NNP) in the sample, and excluding them in detection of the all-caps feature"
   ]
  },
  {
   "cell_type": "code",
   "execution_count": 115,
   "id": "4d6e60db-b239-41ee-9db1-dcadee573b5e",
   "metadata": {},
   "outputs": [
    {
     "name": "stdout",
     "output_type": "stream",
     "text": [
      "2024-05-17 03:15:50,567 SequenceTagger predicts: Dictionary with 53 tags: <unk>, O, UH, ,, VBD, PRP, VB, PRP$, NN, RB, ., DT, JJ, VBP, VBG, IN, CD, NNS, NNP, WRB, VBZ, WDT, CC, TO, MD, VBN, WP, :, RP, EX, JJR, FW, XX, HYPH, POS, RBR, JJS, PDT, NNPS, RBS, AFX, WP$, -LRB-, -RRB-, ``, '', LS, $, SYM, ADD\n"
     ]
    }
   ],
   "source": [
    "tagger = SequenceTagger.load(\"flair/pos-english\")\n",
    "#tagger = SequenceTagger.load(\"flair/pos-english-fast\")\n",
    "\n",
    "tag_list = []\n",
    "def pos_tagg_ex(txt):\n",
    "    sentence = Sentence(txt)\n",
    "    tagger.predict(sentence)\n",
    "\n",
    "    for label in sentence.get_labels('pos'):\n",
    "        if label.value == \"NNP\":\n",
    "            if label.data_point.text.isupper():\n",
    "                tag_list.append(label.data_point.text)\n",
    "        else:\n",
    "          pass\n",
    "            \n"
   ]
  },
  {
   "cell_type": "code",
   "execution_count": 109,
   "id": "e0cd1f57-0843-4207-9409-d3cb4f77f080",
   "metadata": {},
   "outputs": [],
   "source": [
    "AutomatedCA_sample['text'].apply(pos_tagg_ex);"
   ]
  },
  {
   "cell_type": "code",
   "execution_count": 110,
   "id": "38351af3-a31b-4447-a27a-d780c5aee67c",
   "metadata": {},
   "outputs": [
    {
     "name": "stdout",
     "output_type": "stream",
     "text": [
      "1030\n"
     ]
    },
    {
     "data": {
      "text/plain": [
       "['AG',\n",
       " 'INIESTA',\n",
       " 'TBT',\n",
       " 'PARIS',\n",
       " 'KANSAS',\n",
       " 'CAIR-OK',\n",
       " 'MMA',\n",
       " 'AUSTIN',\n",
       " 'COVID',\n",
       " 'VI',\n",
       " 'U.S.A',\n",
       " 'BD',\n",
       " 'AFCA',\n",
       " 'IRL',\n",
       " 'ALS',\n",
       " 'VIDEO',\n",
       " 'RIP',\n",
       " 'PSA',\n",
       " 'KILLINGEVE',\n",
       " 'S1',\n",
       " 'USPS',\n",
       " 'NEW',\n",
       " 'F',\n",
       " 'KCMO',\n",
       " 'GDP',\n",
       " 'HARRIET',\n",
       " 'RS',\n",
       " 'TO',\n",
       " 'LMA',\n",
       " 'STILL',\n",
       " 'IBS',\n",
       " 'M.J',\n",
       " 'L',\n",
       " 'IRA',\n",
       " 'KUWTK',\n",
       " 'HTGAWM',\n",
       " 'ODNI',\n",
       " 'WH',\n",
       " 'PG13',\n",
       " 'NBATV']"
      ]
     },
     "execution_count": 110,
     "metadata": {},
     "output_type": "execute_result"
    }
   ],
   "source": [
    "tag_list_upper = list(set(tag_list))\n",
    "print(len(tag_list_upper))\n",
    "tag_list_upper[:20]"
   ]
  },
  {
   "cell_type": "code",
   "execution_count": 112,
   "id": "8acea3ec-d67b-4c65-9c67-5213642b572d",
   "metadata": {},
   "outputs": [],
   "source": [
    "def capitalized_detection(text):\n",
    "    text = str(text)\n",
    "    \n",
    "    m = re.findall(r\"\\b[A-Z]{2,}\\b\", text)\n",
    "    if m:\n",
    "        if any(x in m for x in tag_list_upper):\n",
    "                       return 0\n",
    "             \n",
    "        else: \n",
    "                       return 1\n",
    "            \n",
    "    else:\n",
    "        return 0"
   ]
  },
  {
   "cell_type": "code",
   "execution_count": 113,
   "id": "8f77be0a-6444-44cc-a91a-03c9c8e9329e",
   "metadata": {},
   "outputs": [],
   "source": [
    "AutomatedCA_sample['capitalized_feature_aca'] = AutomatedCA_sample['text'].apply(capitalized_detection) "
   ]
  },
  {
   "cell_type": "markdown",
   "id": "6a3173b8-1154-4aa3-93f6-e4b36bcbc5f0",
   "metadata": {},
   "source": [
    "Detection Rate = 0.88%"
   ]
  },
  {
   "cell_type": "code",
   "execution_count": 114,
   "id": "75aa7c70-d64d-45a7-9482-230cef2cbae1",
   "metadata": {},
   "outputs": [
    {
     "data": {
      "text/plain": [
       "capitalized_feature_aca\n",
       "0    99.125\n",
       "1    0.875 \n",
       "Name: proportion, dtype: float64"
      ]
     },
     "execution_count": 114,
     "metadata": {},
     "output_type": "execute_result"
    }
   ],
   "source": [
    "AutomatedCA_sample['capitalized_feature_aca'].value_counts(normalize=True)*100"
   ]
  },
  {
   "cell_type": "code",
   "execution_count": 116,
   "id": "6d99aec3-f0f1-479b-85ff-5adcef770463",
   "metadata": {},
   "outputs": [],
   "source": [
    "Validation_sample['text'].apply(pos_tagg_ex);"
   ]
  },
  {
   "cell_type": "code",
   "execution_count": 117,
   "id": "21d02d42-8bd8-4a8e-a7e3-358fede61673",
   "metadata": {},
   "outputs": [
    {
     "name": "stdout",
     "output_type": "stream",
     "text": [
      "195\n"
     ]
    },
    {
     "data": {
      "text/plain": [
       "['AAA',\n",
       " 'BTS',\n",
       " 'CEO',\n",
       " 'CIA',\n",
       " 'KANSAS',\n",
       " 'D.C.',\n",
       " 'TIFF18',\n",
       " 'DGA',\n",
       " 'COVID',\n",
       " 'MIB',\n",
       " 'A',\n",
       " 'VIDEO',\n",
       " 'NEW',\n",
       " 'PSA',\n",
       " 'PAW',\n",
       " 'FRANCE',\n",
       " 'NICKIMINAJ',\n",
       " 'K2TR',\n",
       " 'M.J',\n",
       " 'OC']"
      ]
     },
     "execution_count": 117,
     "metadata": {},
     "output_type": "execute_result"
    }
   ],
   "source": [
    "tag_list_upper = list(set(tag_list))\n",
    "print(len(tag_list_upper))\n",
    "tag_list_upper[:20]"
   ]
  },
  {
   "cell_type": "code",
   "execution_count": 118,
   "id": "72424ffa-d36f-4828-98af-c407a3a3c849",
   "metadata": {},
   "outputs": [],
   "source": [
    "Validation_sample['capitalized_feature_aca'] = Validation_sample['text'].apply(capitalized_detection) "
   ]
  },
  {
   "cell_type": "markdown",
   "id": "baad9c3b-2c26-4f58-8e2a-10ad58938e94",
   "metadata": {},
   "source": [
    "Validation Metrics"
   ]
  },
  {
   "cell_type": "code",
   "execution_count": 119,
   "id": "593d66bb-c50c-42e4-9acd-5a8f6afebb3f",
   "metadata": {},
   "outputs": [
    {
     "data": {
      "text/plain": [
       "array([[1388,    8],\n",
       "       [  24,   20]])"
      ]
     },
     "execution_count": 119,
     "metadata": {},
     "output_type": "execute_result"
    }
   ],
   "source": [
    "y_test_cap = CA_results[\"[cap_feature]\"]\n",
    "y_pred_cap = Validation_sample[\"capitalized_feature_aca\"]\n",
    "confusion_matrix(y_test_cap, y_pred_cap)"
   ]
  },
  {
   "cell_type": "code",
   "execution_count": 120,
   "id": "7cef77a7-ae4c-42d4-8bf5-b1778170e4a6",
   "metadata": {},
   "outputs": [
    {
     "name": "stdout",
     "output_type": "stream",
     "text": [
      "F1-score: 0.7720797720797721\n",
      "Precision: 0.8486442735734521\n",
      "Recall: 0.7244073977598333\n"
     ]
    }
   ],
   "source": [
    "print(\"F1-score:\", f1_score(y_test_cap, y_pred_cap, average=\"macro\"))\n",
    "print(\"Precision:\", precision_score(y_test_cap, y_pred_cap, average=\"macro\"))\n",
    "print(\"Recall:\", recall_score(y_test_cap, y_pred_cap, average=\"macro\"))"
   ]
  },
  {
   "cell_type": "code",
   "execution_count": 121,
   "id": "35859088-b5fd-4048-8c62-48ebc1b60ecd",
   "metadata": {},
   "outputs": [
    {
     "name": "stdout",
     "output_type": "stream",
     "text": [
      "              precision    recall  f1-score   support\n",
      "\n",
      "           0       0.98      0.99      0.99      1396\n",
      "           1       0.71      0.45      0.56        44\n",
      "\n",
      "    accuracy                           0.98      1440\n",
      "   macro avg       0.85      0.72      0.77      1440\n",
      "weighted avg       0.97      0.98      0.98      1440\n",
      "\n"
     ]
    }
   ],
   "source": [
    "print(classification_report(y_test_cap, y_pred_cap))"
   ]
  },
  {
   "cell_type": "code",
   "execution_count": 122,
   "id": "b8bc7b30-9497-4f9f-9d8b-3004fd5a68b4",
   "metadata": {},
   "outputs": [
    {
     "name": "stdout",
     "output_type": "stream",
     "text": [
      "Spearman rank correlation: 0.5594223956063461\n"
     ]
    }
   ],
   "source": [
    "rho, p_value = stats.spearmanr(CA_results[\"[cap_feature]\"], Validation_sample[\"capitalized_feature_aca\"])\n",
    " \n",
    "print(\"Spearman rank correlation:\", rho)"
   ]
  },
  {
   "cell_type": "code",
   "execution_count": 123,
   "id": "cfb5d564-03f8-42f1-9d17-fd3823959c61",
   "metadata": {},
   "outputs": [
    {
     "name": "stdout",
     "output_type": "stream",
     "text": [
      "Krippendorff's alpha: 0.5443178220955999\n"
     ]
    }
   ],
   "source": [
    "array_caps = [CA_results[\"[cap_feature]\"], Validation_sample[\"capitalized_feature_aca\"]]\n",
    "print(\"Krippendorff's alpha:\", krippendorff.alpha(array_caps))"
   ]
  },
  {
   "cell_type": "code",
   "execution_count": 124,
   "id": "91ae5580-b378-4130-9b57-d89a11c6ca91",
   "metadata": {
    "scrolled": true
   },
   "outputs": [
    {
     "data": {
      "text/plain": [
       "76     FINALLY!                                                                                                                                                 \n",
       "92     This guy HAD to be trolling, right? (Via @seth_rosenthal)                                                                                                \n",
       "155    Spent a fair amount of time around Roger #Federer last summer. The sense was clear that he NEEDED to be locked in for #AusOpen. But this?!               \n",
       "203    The Trump Cards are for the former president's \"STRONGEST supporters\" and folks had thoughts.                                                            \n",
       "287    SPECIAL DELIVERY: Adidas' Top Ten sneaker is getting some well-deserved love with this new collab and it's about time                                    \n",
       "319    Chris Taylor loves these elimination games. He hits a 2-run HR over the center-field wall, and the #Dodgers now up 6-2.                                  \n",
       "325    LIVE: @DionneGrant and @scottygb dish the dirt on the #LoveIsland reunion, Netflix's #AnotherLife👽, the #FreeMeek and #JadeGoody documentaries, and more \n",
       "410    Kevin Love RIGHT NOW                                                                                                                                     \n",
       "429    A STAR IS BORN: Reader, I cried, and they were big fat movie tears that rolled down my cheeks with perfect timing. That was a full meal. #TIFF18         \n",
       "554    Ben Carson Says He Doesn't Know Why DACA Recipients Are Being Denied Housing Loans His Department Oversees                                               \n",
       "Name: text, dtype: object"
      ]
     },
     "execution_count": 124,
     "metadata": {},
     "output_type": "execute_result"
    }
   ],
   "source": [
    "Validation_sample[Validation_sample['capitalized_feature_aca'] == 1]['text'].head(10)"
   ]
  },
  {
   "cell_type": "code",
   "execution_count": null,
   "id": "219e0c44-deeb-42b7-909f-f60e25e595dd",
   "metadata": {},
   "outputs": [],
   "source": []
  },
  {
   "cell_type": "markdown",
   "id": "2cf9b046-0bd0-44a7-bdb1-caef4b6bad57",
   "metadata": {},
   "source": [
    "## Emojis Feature"
   ]
  },
  {
   "cell_type": "markdown",
   "id": "5b93398c-86f5-455e-9e0d-61b72a7725f3",
   "metadata": {},
   "source": [
    "Extracting list of emojis from the emoji library and creating function for detection"
   ]
  },
  {
   "cell_type": "code",
   "execution_count": 49,
   "id": "b2c3d15b-2e01-4a35-b2d2-6471b40bca74",
   "metadata": {},
   "outputs": [
    {
     "data": {
      "text/plain": [
       "5034"
      ]
     },
     "execution_count": 49,
     "metadata": {},
     "output_type": "execute_result"
    }
   ],
   "source": [
    "import emoji\n",
    "emoji_list = list(emoji.EMOJI_DATA.keys())\n",
    "len(emoji_list)"
   ]
  },
  {
   "cell_type": "code",
   "execution_count": 50,
   "id": "b6c4ffb1-ef32-4beb-b4f5-f693dbd148f2",
   "metadata": {},
   "outputs": [],
   "source": [
    "def emoji_detection(text):\n",
    "    text = str(text)\n",
    "    for word in text:\n",
    "        if word in emoji_list:\n",
    "            return 1\n",
    "    return 0"
   ]
  },
  {
   "cell_type": "code",
   "execution_count": 51,
   "id": "73dce1c4-db46-465e-b41d-1f6b02389086",
   "metadata": {},
   "outputs": [],
   "source": [
    "AutomatedCA_sample['emoji_feature'] = AutomatedCA_sample['text'].apply(emoji_detection)"
   ]
  },
  {
   "cell_type": "markdown",
   "id": "be3cd4e3-595f-4a21-8c62-9c037cc29a24",
   "metadata": {},
   "source": [
    "Detection Rate = 2.89%"
   ]
  },
  {
   "cell_type": "code",
   "execution_count": 52,
   "id": "6ad3ba38-7301-4cad-8f21-6f12815851e5",
   "metadata": {},
   "outputs": [
    {
     "data": {
      "text/plain": [
       "emoji_feature\n",
       "0    97.109375\n",
       "1    2.890625 \n",
       "Name: proportion, dtype: float64"
      ]
     },
     "execution_count": 52,
     "metadata": {},
     "output_type": "execute_result"
    }
   ],
   "source": [
    "AutomatedCA_sample['emoji_feature'].value_counts(normalize=True)*100"
   ]
  },
  {
   "cell_type": "code",
   "execution_count": 53,
   "id": "fbfaa337-3bc1-4104-bc74-49e545424592",
   "metadata": {},
   "outputs": [],
   "source": [
    "Validation_sample['emoji_feature_aca'] = Validation_sample['text'].apply(emoji_detection) \n"
   ]
  },
  {
   "cell_type": "markdown",
   "id": "56d0f4db-780c-42c1-b95d-bab83a90e9f7",
   "metadata": {},
   "source": [
    "Validation Metrics"
   ]
  },
  {
   "cell_type": "code",
   "execution_count": 54,
   "id": "2c78da0f-da0c-484d-a546-bf95d420befe",
   "metadata": {},
   "outputs": [
    {
     "data": {
      "text/plain": [
       "array([[1378,    1],\n",
       "       [  16,   45]])"
      ]
     },
     "execution_count": 54,
     "metadata": {},
     "output_type": "execute_result"
    }
   ],
   "source": [
    "y_test_emoji = CA_results[\"[emoji_feature]\"]\n",
    "y_pred_emoji = Validation_sample[\"emoji_feature_aca\"]\n",
    "confusion_matrix(y_test_emoji, y_pred_emoji)"
   ]
  },
  {
   "cell_type": "code",
   "execution_count": 55,
   "id": "312fa17f-68db-4a07-8d9c-bd7f3f802b96",
   "metadata": {},
   "outputs": [
    {
     "name": "stdout",
     "output_type": "stream",
     "text": [
      "F1-score: 0.9174954753952499\n",
      "Precision: 0.9833915538643878\n",
      "Recall: 0.8684898774355378\n"
     ]
    }
   ],
   "source": [
    "print(\"F1-score:\", f1_score(y_test_emoji, y_pred_emoji, average=\"macro\"))\n",
    "print(\"Precision:\", precision_score(y_test_emoji, y_pred_emoji, average=\"macro\"))\n",
    "print(\"Recall:\", recall_score(y_test_emoji, y_pred_emoji, average=\"macro\"))"
   ]
  },
  {
   "cell_type": "code",
   "execution_count": 56,
   "id": "7e523e5d-a8ca-486e-8162-28ed77008668",
   "metadata": {},
   "outputs": [
    {
     "name": "stdout",
     "output_type": "stream",
     "text": [
      "              precision    recall  f1-score   support\n",
      "\n",
      "           0       0.99      1.00      0.99      1379\n",
      "           1       0.98      0.74      0.84        61\n",
      "\n",
      "    accuracy                           0.99      1440\n",
      "   macro avg       0.98      0.87      0.92      1440\n",
      "weighted avg       0.99      0.99      0.99      1440\n",
      "\n"
     ]
    }
   ],
   "source": [
    "print(classification_report(y_test_emoji, y_pred_emoji))"
   ]
  },
  {
   "cell_type": "code",
   "execution_count": 57,
   "id": "604e9d40-51ef-4f2e-8081-7fdb3718585e",
   "metadata": {},
   "outputs": [
    {
     "name": "stdout",
     "output_type": "stream",
     "text": [
      "Spearman rank correlation: 0.8440969006858452\n"
     ]
    }
   ],
   "source": [
    "rho, p_value = stats.spearmanr(CA_results[\"[emoji_feature]\"], Validation_sample[\"emoji_feature_aca\"])\n",
    " \n",
    "print(\"Spearman rank correlation:\", rho)"
   ]
  },
  {
   "cell_type": "code",
   "execution_count": 58,
   "id": "33effc8a-1395-42e0-ab15-0472f33c73b5",
   "metadata": {},
   "outputs": [
    {
     "name": "stdout",
     "output_type": "stream",
     "text": [
      "Krippendorff's alpha: 0.8350482455992532\n"
     ]
    }
   ],
   "source": [
    "array_emoji = [CA_results[\"[emoji_feature]\"], Validation_sample[\"emoji_feature_aca\"]]\n",
    "print(\"Krippendorff's alpha:\", krippendorff.alpha(array_emoji))"
   ]
  },
  {
   "cell_type": "code",
   "execution_count": 59,
   "id": "880640fe-4e4a-4119-a44e-000cc1ff7c4c",
   "metadata": {
    "scrolled": true
   },
   "outputs": [
    {
     "data": {
      "text/plain": [
       "121    ⚡️ “Is it time for the Dodgers to hit the reset button on their roster?” by @latimessports                                                                                         \n",
       "131    Listener @frankadirector has joined our Spaces chat to share his experience as a SAG and DGA member. \\n\\nShare your story with us &amp; join the chat 📽️                           \n",
       "132    🙏ONE DAY UNTIL @NBA IS BACK🙏                                                                                                                                                       \n",
       "136    🏀🏀🏀🏀🏀🏀                                                                                                                                                                             \n",
       "146    Lucy Liu in Versace at the 2000 #Emmys. That's it. That's the tweet. \\n📸: ImageDirect                                                                                              \n",
       "192    🚨Cardinals are on the scoreboard🚨                                                                                                                                                  \n",
       "211    .@ellajaybasco says most of the training she had to do to play Cassandra Cain in #BirdsOfPrey was working with a magician to learn how to convincingly steal and work with cards 🃏 \n",
       "213    Yara Shahidi in green at the #Emmys is just *chef's kiss* \\n\\n📸: USA TODAY                                                                                                         \n",
       "232    \"Bridgerton\" fan Kim Kardashian is ready for a \"Keeping Up With the Featheringtons\" spinoff 😂 #TheBuzz                                                                             \n",
       "259    \"All That\" premiered 27 years ago today 💛 Which was your favorite sketch? #TheBuzz                                                                                                 \n",
       "Name: text, dtype: object"
      ]
     },
     "execution_count": 59,
     "metadata": {},
     "output_type": "execute_result"
    }
   ],
   "source": [
    "Validation_sample[Validation_sample[\"emoji_feature_aca\"] == 1]['text'].head(10)"
   ]
  },
  {
   "cell_type": "code",
   "execution_count": null,
   "id": "19fa1219-bfb3-4c22-8bce-e125dd843d18",
   "metadata": {},
   "outputs": [],
   "source": []
  },
  {
   "cell_type": "markdown",
   "id": "f3058a48-d9cc-4245-8498-8d05b534ee84",
   "metadata": {},
   "source": [
    "## Hashtag Feature"
   ]
  },
  {
   "cell_type": "markdown",
   "id": "caa7722c-1f5c-43b2-9f76-ad89aff45dca",
   "metadata": {},
   "source": [
    "Using regular expressions to detect hashtags"
   ]
  },
  {
   "cell_type": "code",
   "execution_count": 60,
   "id": "55947581-ba8b-4598-8eab-dc39b1cacb4d",
   "metadata": {},
   "outputs": [],
   "source": [
    "def hashtag_detection(text):\n",
    "    text = str(text)\n",
    "    if re.search('#\\w', text):\n",
    "        return 1\n",
    "    return 0"
   ]
  },
  {
   "cell_type": "code",
   "execution_count": 61,
   "id": "e3079936-6caa-4e41-a591-73d369fb4a91",
   "metadata": {},
   "outputs": [],
   "source": [
    "AutomatedCA_sample['hashtag_feature'] = AutomatedCA_sample['text'].apply(hashtag_detection)"
   ]
  },
  {
   "cell_type": "markdown",
   "id": "04e1b44a-0078-4954-9ee5-2797fca86000",
   "metadata": {},
   "source": [
    "Detection Rate = 8.90%"
   ]
  },
  {
   "cell_type": "code",
   "execution_count": 62,
   "id": "97145893-b15a-4287-98ae-102886728e12",
   "metadata": {},
   "outputs": [
    {
     "data": {
      "text/plain": [
       "hashtag_feature\n",
       "0    91.097656\n",
       "1    8.902344 \n",
       "Name: proportion, dtype: float64"
      ]
     },
     "execution_count": 62,
     "metadata": {},
     "output_type": "execute_result"
    }
   ],
   "source": [
    "AutomatedCA_sample['hashtag_feature'].value_counts(normalize=True)*100"
   ]
  },
  {
   "cell_type": "code",
   "execution_count": 63,
   "id": "ffbdd5b4-cb08-4bb1-af73-2e1d6939faf1",
   "metadata": {},
   "outputs": [],
   "source": [
    "Validation_sample['hashtag_feature_aca'] = Validation_sample['text'].apply(hashtag_detection)"
   ]
  },
  {
   "cell_type": "markdown",
   "id": "c70dd45d-6d40-42ab-8e5f-4d211e581fd4",
   "metadata": {},
   "source": [
    "Validation Metrics"
   ]
  },
  {
   "cell_type": "code",
   "execution_count": 64,
   "id": "8fd61666-cc80-4386-a12b-550438fcc0b4",
   "metadata": {},
   "outputs": [
    {
     "data": {
      "text/plain": [
       "array([[1315,    3],\n",
       "       [   0,  122]])"
      ]
     },
     "execution_count": 64,
     "metadata": {},
     "output_type": "execute_result"
    }
   ],
   "source": [
    "y_test_hash = CA_results[\"[hashtag_feature]\"]\n",
    "y_pred_hash = Validation_sample[\"hashtag_feature_aca\"]\n",
    "confusion_matrix(y_test_hash, y_pred_hash)"
   ]
  },
  {
   "cell_type": "code",
   "execution_count": 65,
   "id": "4a16f2e7-64ba-4b25-8de7-89423da2ea84",
   "metadata": {},
   "outputs": [
    {
     "name": "stdout",
     "output_type": "stream",
     "text": [
      "F1-score: 0.9933574331399506\n",
      "Precision: 0.988\n",
      "Recall: 0.9988619119878603\n"
     ]
    }
   ],
   "source": [
    "print(\"F1-score:\", f1_score(y_test_hash, y_pred_hash, average=\"macro\"))\n",
    "print(\"Precision:\", precision_score(y_test_hash, y_pred_hash, average=\"macro\"))\n",
    "print(\"Recall:\", recall_score(y_test_hash, y_pred_hash, average=\"macro\"))"
   ]
  },
  {
   "cell_type": "code",
   "execution_count": 66,
   "id": "3485daaa-239a-4fe9-bd19-eed9de903fe5",
   "metadata": {},
   "outputs": [
    {
     "name": "stdout",
     "output_type": "stream",
     "text": [
      "              precision    recall  f1-score   support\n",
      "\n",
      "           0       1.00      1.00      1.00      1318\n",
      "           1       0.98      1.00      0.99       122\n",
      "\n",
      "    accuracy                           1.00      1440\n",
      "   macro avg       0.99      1.00      0.99      1440\n",
      "weighted avg       1.00      1.00      1.00      1440\n",
      "\n"
     ]
    }
   ],
   "source": [
    "print(classification_report(y_test_hash, y_pred_hash))"
   ]
  },
  {
   "cell_type": "code",
   "execution_count": 67,
   "id": "086ee8cb-0478-4b9c-8baa-518104a282e0",
   "metadata": {},
   "outputs": [
    {
     "name": "stdout",
     "output_type": "stream",
     "text": [
      "Spearman rank correlation: 0.9868021342702413\n"
     ]
    }
   ],
   "source": [
    "rho, p_value = stats.spearmanr(CA_results[\"[hashtag_feature]\"], Validation_sample[\"hashtag_feature_aca\"])\n",
    " \n",
    "print(\"Spearman rank correlation:\", rho)"
   ]
  },
  {
   "cell_type": "code",
   "execution_count": 68,
   "id": "2bd2820d-02e0-4d74-9ce8-093c53b33f84",
   "metadata": {},
   "outputs": [
    {
     "name": "stdout",
     "output_type": "stream",
     "text": [
      "Krippendorff's alpha: 0.986719479173554\n"
     ]
    }
   ],
   "source": [
    "array_hashtag = [CA_results[\"[hashtag_feature]\"], Validation_sample[\"hashtag_feature_aca\"]]\n",
    "print(\"Krippendorff's alpha:\", krippendorff.alpha(array_hashtag))"
   ]
  },
  {
   "cell_type": "code",
   "execution_count": null,
   "id": "fd1035b4-6c20-407e-9dd9-834c63fc45ef",
   "metadata": {},
   "outputs": [],
   "source": []
  },
  {
   "cell_type": "markdown",
   "id": "7c5d2e9d-4c69-4a12-ad8c-aea32272299e",
   "metadata": {},
   "source": [
    "## Informal Punctuation Feature"
   ]
  },
  {
   "cell_type": "markdown",
   "id": "64f23142-3c07-4504-98e1-bc26349cf2eb",
   "metadata": {},
   "source": [
    "Using regular expressions to detect unusual punctuation"
   ]
  },
  {
   "cell_type": "code",
   "execution_count": 7,
   "id": "8f9874d3-1650-4c0a-b43d-1df2e53c6af4",
   "metadata": {},
   "outputs": [],
   "source": [
    "def informalpunct_detection(text):\n",
    "    text = str(text)\n",
    "    pattern = '[!?*.-]{2,}|[\\+]+|\\*\\w+\\*'\n",
    "    if re.search(pattern, text):\n",
    "            return 1\n",
    "    else:\n",
    "            return 0"
   ]
  },
  {
   "cell_type": "code",
   "execution_count": 8,
   "id": "b38d2248-4ea6-4bba-89a0-052e4296599f",
   "metadata": {},
   "outputs": [],
   "source": [
    "AutomatedCA_sample['informalpunct_feature'] = AutomatedCA_sample['text'].apply(informalpunct_detection) "
   ]
  },
  {
   "cell_type": "markdown",
   "id": "9fe4d72f-e236-4fbe-a61b-fd13212a6292",
   "metadata": {},
   "source": [
    "Detection Rate = 2.55%"
   ]
  },
  {
   "cell_type": "code",
   "execution_count": 9,
   "id": "be745baa-7465-48c8-8cfb-fdd92c27cbeb",
   "metadata": {},
   "outputs": [
    {
     "data": {
      "text/plain": [
       "informalpunct_feature\n",
       "0    97.445312\n",
       "1    2.554688 \n",
       "Name: proportion, dtype: float64"
      ]
     },
     "execution_count": 9,
     "metadata": {},
     "output_type": "execute_result"
    }
   ],
   "source": [
    "AutomatedCA_sample['informalpunct_feature'].value_counts(normalize=True)*100"
   ]
  },
  {
   "cell_type": "code",
   "execution_count": 10,
   "id": "baf57887-fa6a-41a9-8d26-3f8f29c3afaf",
   "metadata": {},
   "outputs": [],
   "source": [
    "Validation_sample['informalpunct_feature_aca'] = Validation_sample['text'].apply(informalpunct_detection)"
   ]
  },
  {
   "cell_type": "markdown",
   "id": "70e70e0f-1592-4271-871f-b69a5ed5a770",
   "metadata": {},
   "source": [
    "Validation Metrics"
   ]
  },
  {
   "cell_type": "code",
   "execution_count": 11,
   "id": "be29cd9b-3bda-4736-8169-273465101905",
   "metadata": {},
   "outputs": [
    {
     "data": {
      "text/plain": [
       "array([[1399,    4],\n",
       "       [  12,   25]])"
      ]
     },
     "execution_count": 11,
     "metadata": {},
     "output_type": "execute_result"
    }
   ],
   "source": [
    "y_test_punct = CA_results[\"[punct_feature]\"]\n",
    "y_pred_punct = Validation_sample[\"informalpunct_feature_aca\"]\n",
    "confusion_matrix(y_test_punct, y_pred_punct)"
   ]
  },
  {
   "cell_type": "code",
   "execution_count": 12,
   "id": "6650cf23-8882-4705-98de-3c0b18cd229c",
   "metadata": {},
   "outputs": [
    {
     "name": "stdout",
     "output_type": "stream",
     "text": [
      "F1-score: 0.8759449505718162\n",
      "Precision: 0.9267821794276497\n",
      "Recall: 0.836412321088016\n"
     ]
    }
   ],
   "source": [
    "print(\"F1-score:\", f1_score(y_test_punct, y_pred_punct, average=\"macro\"))\n",
    "print(\"Precision:\", precision_score(y_test_punct, y_pred_punct, average=\"macro\"))\n",
    "print(\"Recall:\", recall_score(y_test_punct, y_pred_punct, average=\"macro\"))"
   ]
  },
  {
   "cell_type": "code",
   "execution_count": 13,
   "id": "971d8f90-2b64-46a7-b108-97478bb83207",
   "metadata": {},
   "outputs": [
    {
     "name": "stdout",
     "output_type": "stream",
     "text": [
      "              precision    recall  f1-score   support\n",
      "\n",
      "           0       0.99      1.00      0.99      1403\n",
      "           1       0.86      0.68      0.76        37\n",
      "\n",
      "    accuracy                           0.99      1440\n",
      "   macro avg       0.93      0.84      0.88      1440\n",
      "weighted avg       0.99      0.99      0.99      1440\n",
      "\n"
     ]
    }
   ],
   "source": [
    "print(classification_report(y_test_punct, y_pred_punct))"
   ]
  },
  {
   "cell_type": "code",
   "execution_count": 14,
   "id": "28db5e05-c79b-41f1-8d73-cee329a2e8cd",
   "metadata": {},
   "outputs": [
    {
     "name": "stdout",
     "output_type": "stream",
     "text": [
      "Spearman rank correlation: 0.7578252663517041\n"
     ]
    }
   ],
   "source": [
    "rho, p_value = stats.spearmanr(CA_results[\"[punct_feature]\"], Validation_sample[\"informalpunct_feature_aca\"])\n",
    " \n",
    "print(\"Spearman rank correlation:\", rho)"
   ]
  },
  {
   "cell_type": "code",
   "execution_count": 15,
   "id": "e4ab2611-c047-4dc4-8a50-12e1ba6f8f7d",
   "metadata": {},
   "outputs": [
    {
     "name": "stdout",
     "output_type": "stream",
     "text": [
      "Krippendorff's alpha: 0.7519760504835131\n"
     ]
    }
   ],
   "source": [
    "array_punct = [CA_results[\"[punct_feature]\"], Validation_sample[\"informalpunct_feature_aca\"]]\n",
    "print(\"Krippendorff's alpha:\", krippendorff.alpha(array_punct))"
   ]
  },
  {
   "cell_type": "code",
   "execution_count": 16,
   "id": "bcbb75f6-5a6e-4f43-9c77-453d7f5212fc",
   "metadata": {},
   "outputs": [
    {
     "data": {
      "text/plain": [
       "31     He's just the 17th pitcher -- and 3rd lefty -- to reach the milestone in MLB history.                                                                                                                                                                              \n",
       "66     Daily new case numbers are already climbing sharply in countries like the United Kingdom and Portugal -- triggering alarm across the continent.                                                                                                                    \n",
       "105    Update: Seahawks beat the #Patriots, Rams beat the Seahawks, 49ers beat the Rams twice -- 49ers are #SuperBowl champs! #alternativefacts                                                                                                                           \n",
       "107    It's been 20 years (!) since #LegallyBlonde premiered. Here's how @ReeseW's Elle Woods inspired an entire generation of law students... \"What, like it's hard?\"\\n                                                                                                  \n",
       "155    Spent a fair amount of time around Roger #Federer last summer. The sense was clear that he NEEDED to be locked in for #AusOpen. But this?!                                                                                                                         \n",
       "224    How will Von Miller fit in with the Rams defense?\\n\\nIs a short-term rental worth giving up second- and third-round picks next season?\\n\\nWhy are Justin Herbert and the Chargers offense suddenly struggling?\\n\\nOur NFL experts discuss all this and more ...\\n\\n\n",
       "286    It's not always only about *our* own mental health and it's important to be aware of how venting about our problems and frustrations can lead to the deterioration of someone else's mental health. #WorldMentalHealthDay \\n\\n                                     \n",
       "370    College basketball -- but played by (honest) professionals. Just like the olden days.                                                                                                                                                                              \n",
       "436    Joe Biden's New Hampshire Party Was... Well, Look For Yourself                                                                                                                                                                                                     \n",
       "443    The Hardest Refereeing Quiz You'll Ever, Ever Take...\\n\\n                                                                                                                                                                                                          \n",
       "Name: text, dtype: object"
      ]
     },
     "execution_count": 16,
     "metadata": {},
     "output_type": "execute_result"
    }
   ],
   "source": [
    "Validation_sample[Validation_sample['informalpunct_feature_aca'] == 1]['text'].head(10)"
   ]
  },
  {
   "cell_type": "code",
   "execution_count": null,
   "id": "e46f02be-900d-4d00-b6a7-2f212287cca2",
   "metadata": {},
   "outputs": [],
   "source": []
  },
  {
   "cell_type": "markdown",
   "id": "7e701362-8494-4e76-961e-1ca05d4d709a",
   "metadata": {},
   "source": [
    "## Slang Feature"
   ]
  },
  {
   "cell_type": "markdown",
   "id": "30ab098d-06d1-4302-a98f-e8e2a389c338",
   "metadata": {},
   "source": [
    "Two dictionaries for slang words and abbrevations commonly appearing in tweets were used to detect this feature.\n",
    "\n",
    "The first list was taken from https://www.kaggle.com/code/nmaguette/up-to-date-list-of-slangs-for-text-preprocessing :"
   ]
  },
  {
   "cell_type": "code",
   "execution_count": 73,
   "id": "45276ef4-fec5-46e3-9062-dd32a56a08cc",
   "metadata": {},
   "outputs": [],
   "source": [
    "def slang_present(txt, query):\n",
    "    newquery = []\n",
    "    txt = str(txt).lower()\n",
    "\n",
    "    for word in query:\n",
    "        newquery.append(str(word).lower())\n",
    "    tokens = re.findall(r\"[\\w']+|[.,!?;$@#]\", txt)\n",
    "    \n",
    "    for word in newquery:\n",
    "        if word in tokens:\n",
    "            return 1\n",
    "    return 0"
   ]
  },
  {
   "cell_type": "code",
   "execution_count": 74,
   "id": "2252e1d0-6b91-4ff9-b071-b48714bfe713",
   "metadata": {},
   "outputs": [],
   "source": [
    "dict1 = {\n",
    "    \"$\" : \" dollar \",\n",
    "    \"€\" : \" euro \",\n",
    "    \"4ao\" : \"for adults only\",\n",
    "    \"a.m\" : \"before midday\",\n",
    "    \"a3\" : \"anytime anywhere anyplace\",\n",
    "    \"aamof\" : \"as a matter of fact\",\n",
    "    \"acct\" : \"account\",\n",
    "    \"adih\" : \"another day in hell\",\n",
    "    \"afaic\" : \"as far as i am concerned\",\n",
    "    \"afaict\" : \"as far as i can tell\",\n",
    "    \"afaik\" : \"as far as i know\",\n",
    "    \"afair\" : \"as far as i remember\",\n",
    "    \"afk\" : \"away from keyboard\",\n",
    "    \"app\" : \"application\",\n",
    "    \"approx\" : \"approximately\",\n",
    "    \"apps\" : \"applications\",\n",
    "    \"asap\" : \"as soon as possible\",\n",
    "    \"asl\" : \"age, sex, location\",\n",
    "    \"atk\" : \"at the keyboard\",\n",
    "    \"ave.\" : \"avenue\",\n",
    "    \"aymm\" : \"are you my mother\",\n",
    "    \"ayor\" : \"at your own risk\", \n",
    "    \"b&b\" : \"bed and breakfast\",\n",
    "    \"b+b\" : \"bed and breakfast\",\n",
    "    \"b.c\" : \"before christ\",\n",
    "    \"b2b\" : \"business to business\",\n",
    "    \"b2c\" : \"business to customer\",\n",
    "    \"b4\" : \"before\",\n",
    "    \"b4n\" : \"bye for now\",\n",
    "    \"b@u\" : \"back at you\",\n",
    "    \"bae\" : \"before anyone else\",\n",
    "    \"bak\" : \"back at keyboard\",\n",
    "    \"bbbg\" : \"bye bye be good\",\n",
    "    \"bbc\" : \"british broadcasting corporation\",\n",
    "    \"bbias\" : \"be back in a second\",\n",
    "    \"bbl\" : \"be back later\",\n",
    "    \"bbs\" : \"be back soon\",\n",
    "    \"be4\" : \"before\",\n",
    "    \"bfn\" : \"bye for now\",\n",
    "    \"blvd\" : \"boulevard\",\n",
    "    \"bout\" : \"about\",\n",
    "    \"brb\" : \"be right back\",\n",
    "    \"bros\" : \"brothers\",\n",
    "    \"brt\" : \"be right there\",\n",
    "    \"bsaaw\" : \"big smile and a wink\",\n",
    "    \"btw\" : \"by the way\",\n",
    "    \"bwl\" : \"bursting with laughter\",\n",
    "    \"c/o\" : \"care of\",\n",
    "    \"cet\" : \"central european time\",\n",
    "    \"cf\" : \"compare\",\n",
    "    \"cia\" : \"central intelligence agency\",\n",
    "    \"csl\" : \"can not stop laughing\",\n",
    "    \"cu\" : \"see you\",\n",
    "    \"cul8r\" : \"see you later\",\n",
    "    \"cv\" : \"curriculum vitae\",\n",
    "    \"cwot\" : \"complete waste of time\",\n",
    "    \"cya\" : \"see you\",\n",
    "    \"cyt\" : \"see you tomorrow\",\n",
    "    \"dae\" : \"does anyone else\",\n",
    "    \"dbmib\" : \"do not bother me i am busy\",\n",
    "    \"diy\" : \"do it yourself\",\n",
    "    \"dm\" : \"direct message\",\n",
    "    \"dwh\" : \"during work hours\",\n",
    "    \"e123\" : \"easy as one two three\",\n",
    "    \"eet\" : \"eastern european time\",\n",
    "    \"eg\" : \"example\",\n",
    "    \"embm\" : \"early morning business meeting\",\n",
    "    \"encl\" : \"enclosed\",\n",
    "    \"encl.\" : \"enclosed\",\n",
    "    \"etc\" : \"and so on\",\n",
    "    \"faq\" : \"frequently asked questions\",\n",
    "    \"fawc\" : \"for anyone who cares\",\n",
    "    \"fb\" : \"facebook\",\n",
    "    \"fc\" : \"fingers crossed\",\n",
    "    \"fig\" : \"figure\",\n",
    "    \"fimh\" : \"forever in my heart\", \n",
    "    \"ft.\" : \"feet\",\n",
    "    \"ft\" : \"featuring\",\n",
    "    \"ftl\" : \"for the loss\",\n",
    "    \"ftw\" : \"for the win\",\n",
    "    \"fwiw\" : \"for what it is worth\",\n",
    "    \"fyi\" : \"for your information\",\n",
    "    \"g9\" : \"genius\",\n",
    "    \"gahoy\" : \"get a hold of yourself\",\n",
    "    \"gal\" : \"get a life\",\n",
    "    \"gcse\" : \"general certificate of secondary education\",\n",
    "    \"gfn\" : \"gone for now\",\n",
    "    \"gg\" : \"good game\",\n",
    "    \"gl\" : \"good luck\",\n",
    "    \"glhf\" : \"good luck have fun\",\n",
    "    \"gmt\" : \"greenwich mean time\",\n",
    "    \"gmta\" : \"great minds think alike\",\n",
    "    \"gn\" : \"good night\",\n",
    "    \"g.o.a.t\" : \"greatest of all time\",\n",
    "    \"goat\" : \"greatest of all time\",\n",
    "    \"goi\" : \"get over it\",\n",
    "    \"gps\" : \"global positioning system\",\n",
    "    \"gr8\" : \"great\",\n",
    "    \"gratz\" : \"congratulations\",\n",
    "    \"gyal\" : \"girl\",\n",
    "    \"h&c\" : \"hot and cold\",\n",
    "    \"hp\" : \"horsepower\",\n",
    "    \"hr\" : \"hour\",\n",
    "    \"hrh\" : \"his royal highness\",\n",
    "    \"ht\" : \"height\",\n",
    "    \"ibrb\" : \"i will be right back\",\n",
    "    \"ic\" : \"i see\",\n",
    "    \"icq\" : \"i seek you\",\n",
    "    \"icymi\" : \"in case you missed it\",\n",
    "    \"idc\" : \"i do not care\",\n",
    "    \"idgadf\" : \"i do not give a damn fuck\",\n",
    "    \"idgaf\" : \"i do not give a fuck\",\n",
    "    \"idk\" : \"i do not know\",\n",
    "    \"ie\" : \"that is\",\n",
    "    \"i.e\" : \"that is\",\n",
    "    \"ifyp\" : \"i feel your pain\",\n",
    "    \"IG\" : \"instagram\",\n",
    "    \"iirc\" : \"if i remember correctly\",\n",
    "    \"ilu\" : \"i love you\",\n",
    "    \"ily\" : \"i love you\",\n",
    "    \"imho\" : \"in my humble opinion\",\n",
    "    \"imo\" : \"in my opinion\",\n",
    "    \"imu\" : \"i miss you\",\n",
    "    \"iow\" : \"in other words\",\n",
    "    \"irl\" : \"in real life\",\n",
    "    \"j4f\" : \"just for fun\",\n",
    "    \"jic\" : \"just in case\",\n",
    "    \"jk\" : \"just kidding\",\n",
    "    \"jsyk\" : \"just so you know\",\n",
    "    \"l8r\" : \"later\",\n",
    "    \"lb\" : \"pound\",\n",
    "    \"lbs\" : \"pounds\",\n",
    "    \"ldr\" : \"long distance relationship\",\n",
    "    \"lmao\" : \"laugh my ass off\",\n",
    "    \"lmfao\" : \"laugh my fucking ass off\",\n",
    "    \"lol\" : \"laughing out loud\",\n",
    "    \"ltd\" : \"limited\",\n",
    "    \"ltns\" : \"long time no see\",\n",
    "    \"m8\" : \"mate\",\n",
    "    \"mf\" : \"motherfucker\",\n",
    "    \"mfs\" : \"motherfuckers\",\n",
    "    \"mfw\" : \"my face when\",\n",
    "    \"mofo\" : \"motherfucker\",\n",
    "    \"mph\" : \"miles per hour\",\n",
    "    \"mr\" : \"mister\",\n",
    "    \"mrw\" : \"my reaction when\",\n",
    "    \"ms\" : \"miss\",\n",
    "    \"mte\" : \"my thoughts exactly\",\n",
    "    \"nagi\" : \"not a good idea\",\n",
    "    \"nbc\" : \"national broadcasting company\",\n",
    "    \"nbd\" : \"not big deal\",\n",
    "    \"nfs\" : \"not for sale\",\n",
    "    \"ngl\" : \"not going to lie\",\n",
    "    \"nhs\" : \"national health service\",\n",
    "    \"nrn\" : \"no reply necessary\",\n",
    "    \"nsfl\" : \"not safe for life\",\n",
    "    \"nsfw\" : \"not safe for work\",\n",
    "    \"nth\" : \"nice to have\",\n",
    "    \"nvr\" : \"never\",\n",
    "    \"nyc\" : \"new york city\",\n",
    "    \"oc\" : \"original content\",\n",
    "    \"og\" : \"original\",\n",
    "    \"ohp\" : \"overhead projector\",\n",
    "    \"oic\" : \"oh i see\",\n",
    "    \"omdb\" : \"over my dead body\",\n",
    "    \"omg\" : \"oh my god\",\n",
    "    \"omw\" : \"on my way\",\n",
    "    \"p.a\" : \"per annum\",\n",
    "    \"p.m\" : \"after midday\",\n",
    "    \"pm\" : \"prime minister\",\n",
    "    \"poc\" : \"people of color\",\n",
    "    \"pov\" : \"point of view\",\n",
    "    \"pp\" : \"pages\",\n",
    "    \"ppl\" : \"people\",\n",
    "    \"prw\" : \"parents are watching\",\n",
    "    \"ps\" : \"postscript\",\n",
    "    \"pt\" : \"point\",\n",
    "    \"ptb\" : \"please text back\",\n",
    "    \"pto\" : \"please turn over\",\n",
    "    \"qpsa\" : \"what happens\", #\"que pasa\",\n",
    "    \"ratchet\" : \"rude\",\n",
    "    \"rbtl\" : \"read between the lines\",\n",
    "    \"rlrt\" : \"real life retweet\", \n",
    "    \"rofl\" : \"rolling on the floor laughing\",\n",
    "    \"roflol\" : \"rolling on the floor laughing out loud\",\n",
    "    \"rotflmao\" : \"rolling on the floor laughing my ass off\",\n",
    "    \"rt\" : \"retweet\",\n",
    "    \"ruok\" : \"are you ok\",\n",
    "    \"sfw\" : \"safe for work\",\n",
    "    \"sk8\" : \"skate\",\n",
    "    \"smh\" : \"shake my head\",\n",
    "    \"sq\" : \"square\",\n",
    "    \"srsly\" : \"seriously\", \n",
    "    \"ssdd\" : \"same stuff different day\",\n",
    "    \"tbh\" : \"to be honest\",\n",
    "    \"tbs\" : \"tablespooful\",\n",
    "    \"tbsp\" : \"tablespooful\",\n",
    "    \"tfw\" : \"that feeling when\",\n",
    "    \"thks\" : \"thank you\",\n",
    "    \"tho\" : \"though\",\n",
    "    \"thx\" : \"thank you\",\n",
    "    \"tia\" : \"thanks in advance\",\n",
    "    \"til\" : \"today i learned\",\n",
    "    \"tl;dr\" : \"too long i did not read\",\n",
    "    \"tldr\" : \"too long i did not read\",\n",
    "    \"tmb\" : \"tweet me back\",\n",
    "    \"tntl\" : \"trying not to laugh\",\n",
    "    \"ttyl\" : \"talk to you later\",\n",
    "    \"u\" : \"you\",\n",
    "    \"u2\" : \"you too\",\n",
    "    \"u4e\" : \"yours for ever\",\n",
    "    \"utc\" : \"coordinated universal time\",\n",
    "    \"w/\" : \"with\",\n",
    "    \"w/o\" : \"without\",\n",
    "    \"w8\" : \"wait\",\n",
    "    \"wassup\" : \"what is up\",\n",
    "    \"wb\" : \"welcome back\",\n",
    "    \"wtf\" : \"what the fuck\",\n",
    "    \"wtg\" : \"way to go\",\n",
    "    \"wtpa\" : \"where the party at\",\n",
    "    \"wuf\" : \"where are you from\",\n",
    "    \"wuzup\" : \"what is up\",\n",
    "    \"wywh\" : \"wish you were here\",\n",
    "    \"yd\" : \"yard\",\n",
    "    \"ygtr\" : \"you got that right\",\n",
    "    \"ynk\" : \"you never know\",\n",
    "    \"zzz\" : \"sleeping bored and tired\"\n",
    "}"
   ]
  },
  {
   "cell_type": "code",
   "execution_count": 75,
   "id": "ab288969-e762-404a-a537-f8812d2cdc2c",
   "metadata": {},
   "outputs": [
    {
     "data": {
      "text/plain": [
       "224"
      ]
     },
     "execution_count": 75,
     "metadata": {},
     "output_type": "execute_result"
    }
   ],
   "source": [
    "slang_dict1 = dict1.keys()\n",
    "slang_dict1 = [x for x in dict1 if len(x) > 1]\n",
    "len(slang_dict1)"
   ]
  },
  {
   "cell_type": "markdown",
   "id": "3899ec5a-610e-485e-a7c4-8fc80d93bb48",
   "metadata": {},
   "source": [
    "The second list was taken from: https://www.kaggle.com/datasets/gogylogy/twitterslang"
   ]
  },
  {
   "cell_type": "code",
   "execution_count": 76,
   "id": "9f5c9a0b-be82-4b7d-a02f-e808a80c5107",
   "metadata": {},
   "outputs": [
    {
     "data": {
      "text/html": [
       "<div>\n",
       "<style scoped>\n",
       "    .dataframe tbody tr th:only-of-type {\n",
       "        vertical-align: middle;\n",
       "    }\n",
       "\n",
       "    .dataframe tbody tr th {\n",
       "        vertical-align: top;\n",
       "    }\n",
       "\n",
       "    .dataframe thead th {\n",
       "        text-align: right;\n",
       "    }\n",
       "</style>\n",
       "<table border=\"1\" class=\"dataframe\">\n",
       "  <thead>\n",
       "    <tr style=\"text-align: right;\">\n",
       "      <th></th>\n",
       "      <th>slang</th>\n",
       "      <th>formal_translation</th>\n",
       "    </tr>\n",
       "  </thead>\n",
       "  <tbody>\n",
       "    <tr>\n",
       "      <th>0</th>\n",
       "      <td>ab</td>\n",
       "      <td>about</td>\n",
       "    </tr>\n",
       "    <tr>\n",
       "      <th>1</th>\n",
       "      <td>abt</td>\n",
       "      <td>about</td>\n",
       "    </tr>\n",
       "    <tr>\n",
       "      <th>2</th>\n",
       "      <td>b/c</td>\n",
       "      <td>because</td>\n",
       "    </tr>\n",
       "    <tr>\n",
       "      <th>3</th>\n",
       "      <td>b</td>\n",
       "      <td>be</td>\n",
       "    </tr>\n",
       "    <tr>\n",
       "      <th>4</th>\n",
       "      <td>b4</td>\n",
       "      <td>before</td>\n",
       "    </tr>\n",
       "    <tr>\n",
       "      <th>...</th>\n",
       "      <td>...</td>\n",
       "      <td>...</td>\n",
       "    </tr>\n",
       "    <tr>\n",
       "      <th>99</th>\n",
       "      <td>afaik</td>\n",
       "      <td>as far as i know</td>\n",
       "    </tr>\n",
       "    <tr>\n",
       "      <th>100</th>\n",
       "      <td>dyk</td>\n",
       "      <td>did you know</td>\n",
       "    </tr>\n",
       "    <tr>\n",
       "      <th>101</th>\n",
       "      <td>fbf</td>\n",
       "      <td>flashback Friday</td>\n",
       "    </tr>\n",
       "    <tr>\n",
       "      <th>102</th>\n",
       "      <td>ff</td>\n",
       "      <td>follow Friday</td>\n",
       "    </tr>\n",
       "    <tr>\n",
       "      <th>103</th>\n",
       "      <td>tgif</td>\n",
       "      <td>thank god it is friday</td>\n",
       "    </tr>\n",
       "  </tbody>\n",
       "</table>\n",
       "<p>104 rows × 2 columns</p>\n",
       "</div>"
      ],
      "text/plain": [
       "      slang      formal_translation\n",
       "0    ab      about                 \n",
       "1    abt     about                 \n",
       "2    b/c     because               \n",
       "3    b       be                    \n",
       "4    b4      before                \n",
       "..   ..         ...                \n",
       "99   afaik   as far as i know      \n",
       "100  dyk     did you know          \n",
       "101  fbf     flashback Friday      \n",
       "102  ff      follow Friday         \n",
       "103  tgif    thank god it is friday\n",
       "\n",
       "[104 rows x 2 columns]"
      ]
     },
     "execution_count": 76,
     "metadata": {},
     "output_type": "execute_result"
    }
   ],
   "source": [
    "dict2 = pd.read_csv('/Users/salmankhawar/Desktop/Thesis Publication/Paper Revisions/twitterSlang.csv')\n",
    "dict2"
   ]
  },
  {
   "cell_type": "code",
   "execution_count": 77,
   "id": "f4a06dc7-e967-4599-ae44-8f9f59be860c",
   "metadata": {
    "scrolled": true
   },
   "outputs": [
    {
     "data": {
      "text/plain": [
       "0      ab    \n",
       "1      abt   \n",
       "2      b/c   \n",
       "3      b     \n",
       "4      b4    \n",
       "       ..    \n",
       "99     afaik \n",
       "100    dyk   \n",
       "101    fbf   \n",
       "102    ff    \n",
       "103    tgif  \n",
       "Name: slang, Length: 104, dtype: object"
      ]
     },
     "execution_count": 77,
     "metadata": {},
     "output_type": "execute_result"
    }
   ],
   "source": [
    "slang_dict2 = dict2['slang']\n",
    "slang_dict2"
   ]
  },
  {
   "cell_type": "code",
   "execution_count": 78,
   "id": "8981b426-2d50-4332-83e6-84c4f953ee96",
   "metadata": {},
   "outputs": [],
   "source": [
    "def remove_space(string):\n",
    "    return string.replace(\" \", \"\")"
   ]
  },
  {
   "cell_type": "code",
   "execution_count": 79,
   "id": "c46b254c-ced2-4670-90a0-495adc4c8bdc",
   "metadata": {},
   "outputs": [],
   "source": [
    "slang_dict2 = list(map(remove_space, slang_dict2))"
   ]
  },
  {
   "cell_type": "code",
   "execution_count": 80,
   "id": "06faf5db-5be7-4720-a693-8d1347e6c5ec",
   "metadata": {},
   "outputs": [
    {
     "data": {
      "text/plain": [
       "100"
      ]
     },
     "execution_count": 80,
     "metadata": {},
     "output_type": "execute_result"
    }
   ],
   "source": [
    "slang_dict2 = [x for x in slang_dict2 if len(x) > 1]\n",
    "len(slang_dict2)"
   ]
  },
  {
   "cell_type": "code",
   "execution_count": 81,
   "id": "47568293-e925-4f4d-8445-5618e4b34421",
   "metadata": {},
   "outputs": [
    {
     "data": {
      "text/plain": [
       "324"
      ]
     },
     "execution_count": 81,
     "metadata": {},
     "output_type": "execute_result"
    }
   ],
   "source": [
    "slang_list = slang_dict1 + slang_dict2\n",
    "len(slang_list)"
   ]
  },
  {
   "cell_type": "markdown",
   "id": "6b9cebb4-3aa1-476d-bfac-8ef4beafcbc3",
   "metadata": {},
   "source": [
    "Detection Rate = 1.79%"
   ]
  },
  {
   "cell_type": "code",
   "execution_count": 88,
   "id": "01a49f97-8e24-4fad-aa29-43a96e140e32",
   "metadata": {},
   "outputs": [],
   "source": [
    "AutomatedCA_sample['slang_feature'] = AutomatedCA_sample['text'].apply(slang_present, args=(slang_list,))"
   ]
  },
  {
   "cell_type": "code",
   "execution_count": 89,
   "id": "fee4181d-93d5-4d78-b6a3-8cfab94446cb",
   "metadata": {},
   "outputs": [
    {
     "data": {
      "text/plain": [
       "slang_feature\n",
       "0    98.207031\n",
       "1    1.792969 \n",
       "Name: proportion, dtype: float64"
      ]
     },
     "execution_count": 89,
     "metadata": {},
     "output_type": "execute_result"
    }
   ],
   "source": [
    "AutomatedCA_sample['slang_feature'].value_counts(normalize=True)*100"
   ]
  },
  {
   "cell_type": "code",
   "execution_count": 82,
   "id": "c66bd30a-3b6e-42c3-825d-ae984069938e",
   "metadata": {},
   "outputs": [],
   "source": [
    "Validation_sample['slang_feature_aca'] = Validation_sample['text'].apply(slang_present,args=(slang_list,))"
   ]
  },
  {
   "cell_type": "markdown",
   "id": "c908a3ea-ca6c-419c-b4db-5a6e469672c8",
   "metadata": {},
   "source": [
    "Validation Metrics"
   ]
  },
  {
   "cell_type": "code",
   "execution_count": 83,
   "id": "406610a4-1e5f-4137-af34-230b49628441",
   "metadata": {},
   "outputs": [
    {
     "data": {
      "text/plain": [
       "array([[1342,   14],\n",
       "       [  67,   17]])"
      ]
     },
     "execution_count": 83,
     "metadata": {},
     "output_type": "execute_result"
    }
   ],
   "source": [
    "y_test_slang = CA_results[\"[slang_feature]\"]\n",
    "y_pred_slang = Validation_sample[\"slang_feature_aca\"]\n",
    "confusion_matrix(y_test_slang, y_pred_slang)"
   ]
  },
  {
   "cell_type": "code",
   "execution_count": 84,
   "id": "d1e494ff-4368-407e-a2f4-fa6e8d4b1719",
   "metadata": {},
   "outputs": [
    {
     "name": "stdout",
     "output_type": "stream",
     "text": [
      "F1-score: 0.6331787090180045\n",
      "Precision: 0.7504178209208086\n",
      "Recall: 0.5960282343025706\n"
     ]
    }
   ],
   "source": [
    "print(\"F1-score:\", f1_score(y_test_slang, y_pred_slang, average=\"macro\"))\n",
    "print(\"Precision:\", precision_score(y_test_slang, y_pred_slang, average=\"macro\"))\n",
    "print(\"Recall:\", recall_score(y_test_slang, y_pred_slang, average=\"macro\"))"
   ]
  },
  {
   "cell_type": "code",
   "execution_count": 85,
   "id": "c6a6aece-b032-4b9b-bc4f-4eab6733b47c",
   "metadata": {},
   "outputs": [
    {
     "name": "stdout",
     "output_type": "stream",
     "text": [
      "              precision    recall  f1-score   support\n",
      "\n",
      "           0       0.95      0.99      0.97      1356\n",
      "           1       0.55      0.20      0.30        84\n",
      "\n",
      "    accuracy                           0.94      1440\n",
      "   macro avg       0.75      0.60      0.63      1440\n",
      "weighted avg       0.93      0.94      0.93      1440\n",
      "\n"
     ]
    }
   ],
   "source": [
    "print(classification_report(y_test_slang, y_pred_slang))\n"
   ]
  },
  {
   "cell_type": "code",
   "execution_count": 86,
   "id": "2ec26070-6667-45c2-8c85-2380303276e1",
   "metadata": {},
   "outputs": [
    {
     "name": "stdout",
     "output_type": "stream",
     "text": [
      "Spearman rank correlation: 0.3101430713778567\n"
     ]
    }
   ],
   "source": [
    "rho, p_value = stats.spearmanr(CA_results[\"[slang_feature]\"], Validation_sample[\"slang_feature_aca\"])\n",
    " \n",
    "print(\"Spearman rank correlation:\", rho)"
   ]
  },
  {
   "cell_type": "code",
   "execution_count": 87,
   "id": "0984c10b-c7e5-42ff-a9c8-ec5f7e0938fe",
   "metadata": {},
   "outputs": [
    {
     "name": "stdout",
     "output_type": "stream",
     "text": [
      "Krippendorff's alpha: 0.26661215504363545\n"
     ]
    }
   ],
   "source": [
    "array_slang = [CA_results[\"[slang_feature]\"], Validation_sample[\"slang_feature_aca\"]]\n",
    "print(\"Krippendorff's alpha:\", krippendorff.alpha(array_slang))\n"
   ]
  },
  {
   "cell_type": "code",
   "execution_count": null,
   "id": "11ff0a5f-4ff0-4a44-9a70-24187ea0942d",
   "metadata": {},
   "outputs": [],
   "source": []
  },
  {
   "cell_type": "markdown",
   "id": "fc2067c4-b774-45fa-94ca-10c532f37a88",
   "metadata": {},
   "source": [
    "## Media"
   ]
  },
  {
   "cell_type": "code",
   "execution_count": 69,
   "id": "7b5b5a69-a039-42bd-ad16-b397ad599961",
   "metadata": {},
   "outputs": [
    {
     "data": {
      "text/plain": [
       "media_type\n",
       "no media        81.898438\n",
       "photo           13.746094\n",
       "video           2.734375 \n",
       "animated_gif    1.621094 \n",
       "Name: proportion, dtype: float64"
      ]
     },
     "execution_count": 69,
     "metadata": {},
     "output_type": "execute_result"
    }
   ],
   "source": [
    "AutomatedCA_sample['media_type'].value_counts(normalize=True)*100"
   ]
  },
  {
   "cell_type": "code",
   "execution_count": 70,
   "id": "1e3b1546-638f-4139-a351-f4ef0bd3c566",
   "metadata": {},
   "outputs": [],
   "source": [
    "def media_feature(x):\n",
    "        if x == 'no media':\n",
    "            return 0\n",
    "        else:\n",
    "            return 1"
   ]
  },
  {
   "cell_type": "code",
   "execution_count": 71,
   "id": "50e22217-650e-4651-b8ec-20d257242651",
   "metadata": {},
   "outputs": [],
   "source": [
    "AutomatedCA_sample['media_dummy'] = AutomatedCA_sample['media_type'].apply(media_feature) "
   ]
  },
  {
   "cell_type": "markdown",
   "id": "8be870ac-b531-475f-8ff3-95da690a5519",
   "metadata": {},
   "source": [
    "Detection Rate = 18.10%"
   ]
  },
  {
   "cell_type": "code",
   "execution_count": 72,
   "id": "5464fcb1-bf0d-4289-97d2-eeeb8c100d54",
   "metadata": {},
   "outputs": [
    {
     "data": {
      "text/plain": [
       "media_dummy\n",
       "0    81.898438\n",
       "1    18.101562\n",
       "Name: proportion, dtype: float64"
      ]
     },
     "execution_count": 72,
     "metadata": {},
     "output_type": "execute_result"
    }
   ],
   "source": [
    "AutomatedCA_sample['media_dummy'].value_counts(normalize=True)*100"
   ]
  },
  {
   "cell_type": "markdown",
   "id": "c92c2019-aab8-4dcd-8ac9-605a9536f5c9",
   "metadata": {},
   "source": [
    "## Hypotheses Testing"
   ]
  },
  {
   "cell_type": "markdown",
   "id": "3f716964-2602-47c2-990f-cad7c98f42a9",
   "metadata": {},
   "source": [
    "## H1: News Outlet Type (Legacy vs. Online-Native) and the Use of Sensationalist Features "
   ]
  },
  {
   "cell_type": "code",
   "execution_count": 125,
   "id": "18e52a8a-5bef-483e-891c-5893e0ef9632",
   "metadata": {},
   "outputs": [],
   "source": [
    "legacy_outlets = ['USA TODAY Politics', 'USA TODAY Sports', 'USA TODAY Life', 'L.A. Times Politics', 'L.A. Times Sports', 'LAT Entertainment']\n",
    "regex_legacy_outlets = re.compile(\"(?=(\" + \"|\".join(map(re.escape, legacy_outlets)) + \"))\")"
   ]
  },
  {
   "cell_type": "code",
   "execution_count": 126,
   "id": "8a87d85d-8579-430e-b37b-1b3092ba5771",
   "metadata": {},
   "outputs": [],
   "source": [
    "def news_outlet_classification(noc):\n",
    "    noc = str(noc)\n",
    "    m=re.search(regex_legacy_outlets, noc)\n",
    "    if m:\n",
    "        return 0\n",
    "    else:\n",
    "        return 1"
   ]
  },
  {
   "cell_type": "code",
   "execution_count": 127,
   "id": "28699836-52ef-42d4-a3b2-8bee4bbaa2e3",
   "metadata": {},
   "outputs": [],
   "source": [
    "AutomatedCA_sample['outlet_type'] = AutomatedCA_sample['twitter_account'].apply(news_outlet_classification) "
   ]
  },
  {
   "cell_type": "code",
   "execution_count": 128,
   "id": "14e02dc7-5362-4628-9693-42c598694369",
   "metadata": {},
   "outputs": [
    {
     "data": {
      "text/plain": [
       "outlet_type\n",
       "1    12800\n",
       "0    12800\n",
       "Name: count, dtype: int64"
      ]
     },
     "execution_count": 128,
     "metadata": {},
     "output_type": "execute_result"
    }
   ],
   "source": [
    "AutomatedCA_sample['outlet_type'].value_counts()"
   ]
  },
  {
   "cell_type": "code",
   "execution_count": 130,
   "id": "99e981bb-ce6a-486c-b206-23e63d680dbe",
   "metadata": {},
   "outputs": [],
   "source": [
    "features_grid = AutomatedCA_sample[['hyperbolic_feature', 'slang_feature', 'listicle_feature', 'emoji_feature', 'question_feature', 'hashtag_feature', 'forwardref_feature', 'informalpunct_feature', 'capitalized_feature_aca', 'media_dummy']]\n"
   ]
  },
  {
   "cell_type": "code",
   "execution_count": 131,
   "id": "b77dbab8-eb41-453b-8ab9-039e36139dbc",
   "metadata": {},
   "outputs": [],
   "source": [
    "features_grid = np.array(features_grid)\n",
    "features_grid = features_grid.tolist()\n",
    "any_row = [int(any(row)) for row in features_grid]\n",
    "AutomatedCA_sample['combined_features_dummy'] = any_row"
   ]
  },
  {
   "cell_type": "markdown",
   "id": "631833bc-0d72-4f34-ad25-70f626d6d915",
   "metadata": {},
   "source": [
    "At least one sensationalist feature present in 36.05% of tweets"
   ]
  },
  {
   "cell_type": "code",
   "execution_count": 132,
   "id": "b4a6b87a-24bb-42f7-80b3-6a399deb9559",
   "metadata": {},
   "outputs": [
    {
     "data": {
      "text/plain": [
       "combined_features_dummy\n",
       "0    63.949219\n",
       "1    36.050781\n",
       "Name: proportion, dtype: float64"
      ]
     },
     "execution_count": 132,
     "metadata": {},
     "output_type": "execute_result"
    }
   ],
   "source": [
    "AutomatedCA_sample['combined_features_dummy'].value_counts(normalize=True)*100"
   ]
  },
  {
   "cell_type": "code",
   "execution_count": 133,
   "id": "32c35cce-6624-4831-897f-3dca54d2521b",
   "metadata": {},
   "outputs": [],
   "source": [
    "count_variable = np.sum(features_grid ,axis=1).tolist()"
   ]
  },
  {
   "cell_type": "code",
   "execution_count": 134,
   "id": "921b85f9-0fcc-4fb7-be25-a13c380e968a",
   "metadata": {},
   "outputs": [
    {
     "data": {
      "text/plain": [
       "count_variable\n",
       "0    63.949219\n",
       "1    26.492187\n",
       "2    7.363281 \n",
       "3    1.757812 \n",
       "4    0.367188 \n",
       "5    0.062500 \n",
       "6    0.007812 \n",
       "Name: proportion, dtype: float64"
      ]
     },
     "execution_count": 134,
     "metadata": {},
     "output_type": "execute_result"
    }
   ],
   "source": [
    "AutomatedCA_sample['count_variable'] = count_variable\n",
    "AutomatedCA_sample['count_variable'].value_counts(normalize=True)*100"
   ]
  },
  {
   "cell_type": "code",
   "execution_count": 135,
   "id": "64fd4b30-3915-4bb9-99c3-ad9c985f4710",
   "metadata": {},
   "outputs": [],
   "source": [
    "def pol_ent_classification(x):\n",
    "    x = str(x)\n",
    "    if re.search('(Politics)', x):\n",
    "        return 0\n",
    "    else:\n",
    "        return 1"
   ]
  },
  {
   "cell_type": "code",
   "execution_count": 136,
   "id": "c4cfd346-2199-4f44-87a9-6538082c3bb4",
   "metadata": {},
   "outputs": [
    {
     "data": {
      "text/plain": [
       "channel_type\n",
       "0    12800\n",
       "1    12800\n",
       "Name: count, dtype: int64"
      ]
     },
     "execution_count": 136,
     "metadata": {},
     "output_type": "execute_result"
    }
   ],
   "source": [
    "AutomatedCA_sample['channel_type'] = AutomatedCA_sample['twitter_account'].apply(pol_ent_classification) \n",
    "AutomatedCA_sample['channel_type'].value_counts()"
   ]
  },
  {
   "cell_type": "code",
   "execution_count": 137,
   "id": "14aea071-8af7-4392-892e-ada8dd4f641e",
   "metadata": {},
   "outputs": [],
   "source": [
    "def length_tweet(x):\n",
    "    x = str(x)\n",
    "    return len(x)"
   ]
  },
  {
   "cell_type": "code",
   "execution_count": 138,
   "id": "34c621c1-e24a-40a2-899a-0ca90d0ab359",
   "metadata": {},
   "outputs": [],
   "source": [
    "AutomatedCA_sample['len_tweet'] = AutomatedCA_sample['text'].apply(length_tweet) "
   ]
  },
  {
   "cell_type": "code",
   "execution_count": null,
   "id": "9be4337a-a67f-4dbd-8bb3-ae04574ad93c",
   "metadata": {},
   "outputs": [],
   "source": []
  },
  {
   "cell_type": "code",
   "execution_count": 139,
   "id": "d5896efa-7e84-43b1-af10-1bb749ccd164",
   "metadata": {},
   "outputs": [],
   "source": [
    "features_h1 = ['outlet_type','channel_type','len_tweet']"
   ]
  },
  {
   "cell_type": "code",
   "execution_count": 140,
   "id": "93ac40d1-a1b7-4bc2-a131-8098526963b5",
   "metadata": {},
   "outputs": [
    {
     "name": "stdout",
     "output_type": "stream",
     "text": [
      "Optimization terminated successfully.\n",
      "         Current function value: 0.566736\n",
      "         Iterations 6\n",
      "                              Logit Regression Results                             \n",
      "===================================================================================\n",
      "Dep. Variable:     combined_features_dummy   No. Observations:                25600\n",
      "Model:                               Logit   Df Residuals:                    25596\n",
      "Method:                                MLE   Df Model:                            3\n",
      "Date:                     Fri, 17 May 2024   Pseudo R-squ.:                  0.1330\n",
      "Time:                             03:47:37   Log-Likelihood:                -14508.\n",
      "converged:                            True   LL-Null:                       -16735.\n",
      "Covariance Type:                 nonrobust   LLR p-value:                     0.000\n",
      "================================================================================\n",
      "                   coef    std err          z      P>|z|      [0.025      0.975]\n",
      "--------------------------------------------------------------------------------\n",
      "const           -2.1317      0.047    -45.727      0.000      -2.223      -2.040\n",
      "outlet_type      1.0187      0.030     34.394      0.000       0.961       1.077\n",
      "channel_type     1.6334      0.030     54.925      0.000       1.575       1.692\n",
      "len_tweet        0.0010      0.000      3.531      0.000       0.000       0.002\n",
      "================================================================================\n"
     ]
    }
   ],
   "source": [
    "logit_model = sm.Logit(AutomatedCA_sample['combined_features_dummy'], sm.add_constant(AutomatedCA_sample[features_h1]))\n",
    "ACAreg_modelH1a = logit_model.fit()\n",
    "print(ACAreg_modelH1a.summary())"
   ]
  },
  {
   "cell_type": "code",
   "execution_count": 141,
   "id": "ba8c3353-e025-4f17-a465-cd79fb6c8e68",
   "metadata": {},
   "outputs": [
    {
     "name": "stdout",
     "output_type": "stream",
     "text": [
      "Optimization terminated successfully.\n",
      "         Current function value: 0.832426\n",
      "         Iterations 6\n",
      "                          Poisson Regression Results                          \n",
      "==============================================================================\n",
      "Dep. Variable:         count_variable   No. Observations:                25600\n",
      "Model:                        Poisson   Df Residuals:                    25596\n",
      "Method:                           MLE   Df Model:                            3\n",
      "Date:                Fri, 17 May 2024   Pseudo R-squ.:                  0.1072\n",
      "Time:                        03:54:06   Log-Likelihood:                -21310.\n",
      "converged:                       True   LL-Null:                       -23868.\n",
      "Covariance Type:            nonrobust   LLR p-value:                     0.000\n",
      "================================================================================\n",
      "                   coef    std err          z      P>|z|      [0.025      0.975]\n",
      "--------------------------------------------------------------------------------\n",
      "const           -2.0058      0.032    -62.555      0.000      -2.069      -1.943\n",
      "outlet_type      0.5887      0.019     30.694      0.000       0.551       0.626\n",
      "channel_type     1.2783      0.022     58.713      0.000       1.236       1.321\n",
      "len_tweet        0.0011      0.000      5.918      0.000       0.001       0.001\n",
      "================================================================================\n"
     ]
    }
   ],
   "source": [
    "Poisson_Regression_H1 = sm.Poisson(AutomatedCA_sample['count_variable'], sm.add_constant(AutomatedCA_sample[features_h1]))\n",
    "ACApoiss_modelH1 = Poisson_Regression_H1.fit()\n",
    "print(ACApoiss_modelH1.summary())"
   ]
  },
  {
   "cell_type": "code",
   "execution_count": null,
   "id": "be33127e-8718-456b-87fa-fbce9d31c37d",
   "metadata": {},
   "outputs": [],
   "source": []
  },
  {
   "cell_type": "markdown",
   "id": "378edcf0-9cb5-4f0b-8e56-214e256e3716",
   "metadata": {},
   "source": [
    "## H2: Sensationalist Features and Engagement Metrics "
   ]
  },
  {
   "cell_type": "code",
   "execution_count": 142,
   "id": "0db6db44-2c51-450f-af34-53bfe56b697c",
   "metadata": {},
   "outputs": [],
   "source": [
    "features_h2a = ['count_variable','outlet_type','channel_type','len_tweet']"
   ]
  },
  {
   "cell_type": "code",
   "execution_count": 143,
   "id": "774d90f9-5fc5-4bbc-a110-f8f0339f2da3",
   "metadata": {},
   "outputs": [
    {
     "name": "stdout",
     "output_type": "stream",
     "text": [
      "Optimization terminated successfully.\n",
      "         Current function value: 31.774077\n",
      "         Iterations 6\n",
      "                          Poisson Regression Results                          \n",
      "==============================================================================\n",
      "Dep. Variable:         favorite_count   No. Observations:                25600\n",
      "Model:                        Poisson   Df Residuals:                    25595\n",
      "Method:                           MLE   Df Model:                            4\n",
      "Date:                Fri, 17 May 2024   Pseudo R-squ.:                 0.05006\n",
      "Time:                        03:54:47   Log-Likelihood:            -8.1342e+05\n",
      "converged:                       True   LL-Null:                   -8.5628e+05\n",
      "Covariance Type:            nonrobust   LLR p-value:                     0.000\n",
      "==================================================================================\n",
      "                     coef    std err          z      P>|z|      [0.025      0.975]\n",
      "----------------------------------------------------------------------------------\n",
      "const              2.0974      0.006    353.091      0.000       2.086       2.109\n",
      "count_variable     0.1581      0.002     69.869      0.000       0.154       0.163\n",
      "outlet_type        0.9625      0.004    243.395      0.000       0.955       0.970\n",
      "channel_type      -0.1237      0.004    -32.846      0.000      -0.131      -0.116\n",
      "len_tweet         -0.0012   3.94e-05    -29.473      0.000      -0.001      -0.001\n",
      "==================================================================================\n"
     ]
    }
   ],
   "source": [
    "Poisson_Regression_H2a = sm.Poisson(AutomatedCA_sample['favorite_count'], sm.add_constant(AutomatedCA_sample[features_h2a]))\n",
    "ACApoiss_modelH2a = Poisson_Regression_H2a.fit()\n",
    "print (ACApoiss_modelH2a.summary())"
   ]
  },
  {
   "cell_type": "code",
   "execution_count": 144,
   "id": "e3464d45-9e10-4e39-9674-b46ceffb7ed4",
   "metadata": {},
   "outputs": [
    {
     "name": "stdout",
     "output_type": "stream",
     "text": [
      "Optimization terminated successfully.\n",
      "         Current function value: 109.956074\n",
      "         Iterations 7\n",
      "                          Poisson Regression Results                          \n",
      "==============================================================================\n",
      "Dep. Variable:          retweet_count   No. Observations:                25600\n",
      "Model:                        Poisson   Df Residuals:                    25595\n",
      "Method:                           MLE   Df Model:                            4\n",
      "Date:                Fri, 17 May 2024   Pseudo R-squ.:                  0.1806\n",
      "Time:                        03:55:40   Log-Likelihood:            -2.8149e+06\n",
      "converged:                       True   LL-Null:                   -3.4351e+06\n",
      "Covariance Type:            nonrobust   LLR p-value:                     0.000\n",
      "==================================================================================\n",
      "                     coef    std err          z      P>|z|      [0.025      0.975]\n",
      "----------------------------------------------------------------------------------\n",
      "const              1.9211      0.005    366.638      0.000       1.911       1.931\n",
      "count_variable     0.3227      0.001    278.824      0.000       0.320       0.325\n",
      "outlet_type        1.3162      0.003    424.647      0.000       1.310       1.322\n",
      "channel_type       1.8060      0.004    470.620      0.000       1.798       1.814\n",
      "len_tweet         -0.0101   2.87e-05   -352.430      0.000      -0.010      -0.010\n",
      "==================================================================================\n"
     ]
    }
   ],
   "source": [
    "Poisson_Regression_H2b = sm.Poisson(AutomatedCA_sample['retweet_count'], sm.add_constant(AutomatedCA_sample[features_h2a]))\n",
    "ACApoiss_modelH2b = Poisson_Regression_H2b.fit()\n",
    "print (ACApoiss_modelH2b.summary())"
   ]
  },
  {
   "cell_type": "code",
   "execution_count": 145,
   "id": "54189c08-5498-4990-9056-bb874d5ed759",
   "metadata": {},
   "outputs": [],
   "source": [
    "features_h2b = ['combined_features_dummy','outlet_type','channel_type','len_tweet']"
   ]
  },
  {
   "cell_type": "code",
   "execution_count": 146,
   "id": "f10a7bf9-9ef1-4c96-afdb-62d36a170e3a",
   "metadata": {},
   "outputs": [
    {
     "name": "stdout",
     "output_type": "stream",
     "text": [
      "Optimization terminated successfully.\n",
      "         Current function value: 31.849503\n",
      "         Iterations 6\n",
      "                          Poisson Regression Results                          \n",
      "==============================================================================\n",
      "Dep. Variable:         favorite_count   No. Observations:                25600\n",
      "Model:                        Poisson   Df Residuals:                    25595\n",
      "Method:                           MLE   Df Model:                            4\n",
      "Date:                Fri, 17 May 2024   Pseudo R-squ.:                 0.04781\n",
      "Time:                        03:56:19   Log-Likelihood:            -8.1535e+05\n",
      "converged:                       True   LL-Null:                   -8.5628e+05\n",
      "Covariance Type:            nonrobust   LLR p-value:                     0.000\n",
      "===========================================================================================\n",
      "                              coef    std err          z      P>|z|      [0.025      0.975]\n",
      "-------------------------------------------------------------------------------------------\n",
      "const                       2.1050      0.006    352.874      0.000       2.093       2.117\n",
      "combined_features_dummy     0.1071      0.004     28.155      0.000       0.100       0.115\n",
      "outlet_type                 0.9844      0.004    248.007      0.000       0.977       0.992\n",
      "channel_type               -0.0618      0.004    -16.677      0.000      -0.069      -0.055\n",
      "len_tweet                  -0.0012   3.96e-05    -30.968      0.000      -0.001      -0.001\n",
      "===========================================================================================\n"
     ]
    }
   ],
   "source": [
    "Poisson_Regression_H2c = sm.Poisson(AutomatedCA_sample['favorite_count'], sm.add_constant(AutomatedCA_sample[features_h2b]))\n",
    "ACApoiss_modelH2c = Poisson_Regression_H2c.fit()\n",
    "print(ACApoiss_modelH2c.summary())"
   ]
  },
  {
   "cell_type": "code",
   "execution_count": 147,
   "id": "6461ecde-e1c1-4d25-81fe-99609e3b51bf",
   "metadata": {},
   "outputs": [
    {
     "name": "stdout",
     "output_type": "stream",
     "text": [
      "Optimization terminated successfully.\n",
      "         Current function value: 110.658446\n",
      "         Iterations 7\n",
      "                          Poisson Regression Results                          \n",
      "==============================================================================\n",
      "Dep. Variable:          retweet_count   No. Observations:                25600\n",
      "Model:                        Poisson   Df Residuals:                    25595\n",
      "Method:                           MLE   Df Model:                            4\n",
      "Date:                Fri, 17 May 2024   Pseudo R-squ.:                  0.1753\n",
      "Time:                        03:56:33   Log-Likelihood:            -2.8329e+06\n",
      "converged:                       True   LL-Null:                   -3.4351e+06\n",
      "Covariance Type:            nonrobust   LLR p-value:                     0.000\n",
      "===========================================================================================\n",
      "                              coef    std err          z      P>|z|      [0.025      0.975]\n",
      "-------------------------------------------------------------------------------------------\n",
      "const                       1.8680      0.005    355.895      0.000       1.858       1.878\n",
      "combined_features_dummy     0.4676      0.003    182.526      0.000       0.463       0.473\n",
      "outlet_type                 1.3291      0.003    423.401      0.000       1.323       1.335\n",
      "channel_type                1.8603      0.004    485.014      0.000       1.853       1.868\n",
      "len_tweet                  -0.0100   2.86e-05   -351.780      0.000      -0.010      -0.010\n",
      "===========================================================================================\n"
     ]
    }
   ],
   "source": [
    "Poisson_Regression_H2d = sm.Poisson(AutomatedCA_sample['retweet_count'], sm.add_constant(AutomatedCA_sample[features_h2b]))\n",
    "ACApoiss_modelH2d = Poisson_Regression_H2d.fit()\n",
    "print(ACApoiss_modelH2d.summary())"
   ]
  },
  {
   "cell_type": "code",
   "execution_count": 148,
   "id": "76577358-9f52-4e7d-bd4d-13c680cc84be",
   "metadata": {},
   "outputs": [],
   "source": [
    "aca_features_indiv = ['hyperbolic_feature','slang_feature','listicle_feature','emoji_feature','question_feature','hashtag_feature','informalpunct_feature','forwardref_feature','media_dummy','capitalized_feature_aca', 'channel_type','outlet_type','len_tweet']\n"
   ]
  },
  {
   "cell_type": "code",
   "execution_count": 149,
   "id": "15fa1c68-d526-4e1d-8b44-c950ec245683",
   "metadata": {},
   "outputs": [
    {
     "name": "stdout",
     "output_type": "stream",
     "text": [
      "Optimization terminated successfully.\n",
      "         Current function value: 31.332194\n",
      "         Iterations 6\n",
      "                          Poisson Regression Results                          \n",
      "==============================================================================\n",
      "Dep. Variable:         favorite_count   No. Observations:                25600\n",
      "Model:                        Poisson   Df Residuals:                    25586\n",
      "Method:                           MLE   Df Model:                           13\n",
      "Date:                Fri, 17 May 2024   Pseudo R-squ.:                 0.06327\n",
      "Time:                        03:58:18   Log-Likelihood:            -8.0210e+05\n",
      "converged:                       True   LL-Null:                   -8.5628e+05\n",
      "Covariance Type:            nonrobust   LLR p-value:                     0.000\n",
      "===========================================================================================\n",
      "                              coef    std err          z      P>|z|      [0.025      0.975]\n",
      "-------------------------------------------------------------------------------------------\n",
      "const                       2.0398      0.006    331.624      0.000       2.028       2.052\n",
      "hyperbolic_feature          0.3333      0.009     37.448      0.000       0.316       0.351\n",
      "slang_feature              -0.4325      0.015    -28.317      0.000      -0.462      -0.403\n",
      "listicle_feature           -0.2518      0.017    -14.532      0.000      -0.286      -0.218\n",
      "emoji_feature               0.2136      0.009     23.062      0.000       0.195       0.232\n",
      "question_feature           -0.6373      0.011    -60.669      0.000      -0.658      -0.617\n",
      "hashtag_feature             0.0341      0.006      5.367      0.000       0.022       0.047\n",
      "informalpunct_feature       0.3241      0.009     34.540      0.000       0.306       0.342\n",
      "forwardref_feature         -0.3628      0.009    -38.649      0.000      -0.381      -0.344\n",
      "media_dummy                 0.5384      0.004    134.500      0.000       0.531       0.546\n",
      "capitalized_feature_aca     0.2908      0.015     19.537      0.000       0.262       0.320\n",
      "channel_type               -0.1289      0.004    -33.802      0.000      -0.136      -0.121\n",
      "outlet_type                 0.8700      0.004    214.040      0.000       0.862       0.878\n",
      "len_tweet                  -0.0003   4.05e-05     -8.598      0.000      -0.000      -0.000\n",
      "===========================================================================================\n"
     ]
    }
   ],
   "source": [
    "Poisson_Regression_H2e = sm.Poisson(AutomatedCA_sample['favorite_count'], sm.add_constant(AutomatedCA_sample[aca_features_indiv]))\n",
    "ACApoiss_modelH2e = Poisson_Regression_H2e.fit()\n",
    "print (ACApoiss_modelH2e.summary())"
   ]
  },
  {
   "cell_type": "code",
   "execution_count": 150,
   "id": "4238b670-d533-446a-a5a0-ee9da2c95c87",
   "metadata": {},
   "outputs": [
    {
     "name": "stdout",
     "output_type": "stream",
     "text": [
      "Optimization terminated successfully.\n",
      "         Current function value: 105.561857\n",
      "         Iterations 13\n",
      "                          Poisson Regression Results                          \n",
      "==============================================================================\n",
      "Dep. Variable:          retweet_count   No. Observations:                25600\n",
      "Model:                        Poisson   Df Residuals:                    25586\n",
      "Method:                           MLE   Df Model:                           13\n",
      "Date:                Fri, 17 May 2024   Pseudo R-squ.:                  0.2133\n",
      "Time:                        03:58:21   Log-Likelihood:            -2.7024e+06\n",
      "converged:                       True   LL-Null:                   -3.4351e+06\n",
      "Covariance Type:            nonrobust   LLR p-value:                     0.000\n",
      "===========================================================================================\n",
      "                              coef    std err          z      P>|z|      [0.025      0.975]\n",
      "-------------------------------------------------------------------------------------------\n",
      "const                       1.8677      0.005    352.896      0.000       1.857       1.878\n",
      "hyperbolic_feature         -0.1317      0.006    -23.146      0.000      -0.143      -0.121\n",
      "slang_feature               1.2770      0.004    336.183      0.000       1.270       1.284\n",
      "listicle_feature           -1.2195      0.014    -90.322      0.000      -1.246      -1.193\n",
      "emoji_feature               0.6374      0.004    170.941      0.000       0.630       0.645\n",
      "question_feature           -0.9833      0.007   -142.905      0.000      -0.997      -0.970\n",
      "hashtag_feature             0.1190      0.003     38.229      0.000       0.113       0.125\n",
      "informalpunct_feature       0.3677      0.005     76.851      0.000       0.358       0.377\n",
      "forwardref_feature         -0.1830      0.005    -35.685      0.000      -0.193      -0.173\n",
      "media_dummy                 0.4667      0.002    193.183      0.000       0.462       0.471\n",
      "capitalized_feature_aca     1.6271      0.004    391.551      0.000       1.619       1.635\n",
      "channel_type                1.7845      0.004    462.345      0.000       1.777       1.792\n",
      "outlet_type                 1.2628      0.003    397.905      0.000       1.257       1.269\n",
      "len_tweet                  -0.0091    2.9e-05   -313.671      0.000      -0.009      -0.009\n",
      "===========================================================================================\n"
     ]
    }
   ],
   "source": [
    "Poisson_Regression_H2f = sm.Poisson(AutomatedCA_sample['retweet_count'], sm.add_constant(AutomatedCA_sample[aca_features_indiv]))\n",
    "ACApoiss_modelH2f = Poisson_Regression_H2f.fit()\n",
    "print (ACApoiss_modelH2f.summary())"
   ]
  },
  {
   "cell_type": "code",
   "execution_count": null,
   "id": "6140a1a8-7bf7-4fce-bf6a-1e4330b5fd46",
   "metadata": {},
   "outputs": [],
   "source": []
  },
  {
   "cell_type": "markdown",
   "id": "4d7757e0-8f6f-4860-b777-c2f85a43f865",
   "metadata": {},
   "source": [
    "## Visualizations"
   ]
  },
  {
   "cell_type": "code",
   "execution_count": 151,
   "id": "411eae57-d5b5-400e-a0e1-b0560afcffe3",
   "metadata": {},
   "outputs": [
    {
     "data": {
      "text/plain": [
       "count_variable\n",
       "0    63.949219\n",
       "1    26.492187\n",
       "2    7.363281 \n",
       "3    1.757812 \n",
       "4    0.367188 \n",
       "5    0.062500 \n",
       "6    0.007812 \n",
       "Name: proportion, dtype: float64"
      ]
     },
     "execution_count": 151,
     "metadata": {},
     "output_type": "execute_result"
    }
   ],
   "source": [
    "AutomatedCA_sample['count_variable'].value_counts(normalize=True)*100"
   ]
  },
  {
   "cell_type": "code",
   "execution_count": 185,
   "id": "63a2dbc3-7208-4c10-842c-5803a937f7dc",
   "metadata": {},
   "outputs": [
    {
     "data": {
      "text/plain": [
       "<Figure size 640x480 with 0 Axes>"
      ]
     },
     "metadata": {},
     "output_type": "display_data"
    },
    {
     "data": {
      "image/png": "[encoded data removed]",
      "text/plain": [
       "<Figure size 800x600 with 1 Axes>"
      ]
     },
     "metadata": {},
     "output_type": "display_data"
    }
   ],
   "source": [
    "#x-axis\n",
    "features = [0,1,2,3,4,5,6]\n",
    "\n",
    "#y-axis\n",
    "frequency = [63.95,26.49,7.36,1.76,0.37,0.06,0.01]\n",
    "\n",
    "frequency_series = pd.Series(frequency)\n",
    "\n",
    "x_labels = [0,1,2,3,4,5,6]\n",
    "\n",
    "\n",
    "fig = plt.figure()\n",
    "\n",
    "# Plotting the bar chart\n",
    "\n",
    "plt.figure(figsize=(8, 6))\n",
    "plt.xlabel(\"Number of Sensationalist Features\",fontsize=12)\n",
    "plt.ylabel(\"Percentage of Tweets\",fontsize=12)\n",
    "plt.title(\"Frequency of Sensationalist Features\", fontsize=13)\n",
    "fig = frequency_series.plot(kind='bar', color='#7F7F7F')\n",
    "fig.set_xticklabels(x_labels,rotation=0)\n",
    "fig.bar_label(fig.containers[0], label_type='edge',fontsize=11)\n",
    "\n",
    "\n",
    "plt.savefig(\"/Users/salmankhawar/Desktop/Thesis Publication/Paper Revisions/Paper Revisions 2/Frequency_Sensationalist.jpg\", dpi = 300)\n",
    "#plt.show()"
   ]
  },
  {
   "cell_type": "code",
   "execution_count": 160,
   "id": "93d6fb8d-b898-4257-828b-2f25cb795333",
   "metadata": {},
   "outputs": [
    {
     "data": {
      "text/plain": [
       "45.875"
      ]
     },
     "execution_count": 160,
     "metadata": {},
     "output_type": "execute_result"
    }
   ],
   "source": [
    "len(AutomatedCA_sample.loc[(AutomatedCA_sample['outlet_type'] == 1) & (AutomatedCA_sample['combined_features_dummy'] == 1)])/(len(AutomatedCA_sample.loc[(AutomatedCA_sample['outlet_type'] == 1)])) * 100\n"
   ]
  },
  {
   "cell_type": "code",
   "execution_count": 161,
   "id": "e419eb6b-9f94-4f8a-b5c1-041d03c45405",
   "metadata": {},
   "outputs": [
    {
     "data": {
      "text/plain": [
       "26.2265625"
      ]
     },
     "execution_count": 161,
     "metadata": {},
     "output_type": "execute_result"
    }
   ],
   "source": [
    "len(AutomatedCA_sample.loc[(AutomatedCA_sample['outlet_type'] == 0) & (AutomatedCA_sample['combined_features_dummy'] == 1)])/(len(AutomatedCA_sample.loc[(AutomatedCA_sample['outlet_type'] == 0)])) * 100\n"
   ]
  },
  {
   "cell_type": "code",
   "execution_count": 183,
   "id": "ee1f3493-da99-4c16-b7bc-5436ccaf8c2b",
   "metadata": {},
   "outputs": [
    {
     "data": {
      "image/png": "[encoded data removed]",
      "text/plain": [
       "<Figure size 800x600 with 1 Axes>"
      ]
     },
     "metadata": {},
     "output_type": "display_data"
    }
   ],
   "source": [
    "x = np.array([\"Legacy\", \"Online-native\"])\n",
    "y = np.array([26.23,45.88])\n",
    "\n",
    "def addlabels(x,y):\n",
    "    for i in range(len(x)):\n",
    "        plt.text(i, y[i], y[i], ha = 'center',fontsize=12)\n",
    "        \n",
    "plt.figure(figsize=(8,6)) \n",
    "        \n",
    "plt.bar(x,y,color='#7F7F7F', width=0.6)\n",
    "\n",
    "addlabels(x, y)\n",
    "     \n",
    "plt.title(\"Sensationalism by News Outlet Type\", fontsize=12)\n",
    "     \n",
    "plt.ylabel(\"Percentage of Tweets\",fontsize=12)\n",
    "\n",
    "\n",
    "\n",
    "\n",
    "plt.savefig(\"/Users/salmankhawar/Desktop/Thesis Publication/Paper Revisions/Paper Revisions 2/Sensationalism_Outlet_Type.jpg\", dpi = 300)"
   ]
  },
  {
   "cell_type": "code",
   "execution_count": null,
   "id": "3dc89066-7648-44d5-8624-469cc6ba56a4",
   "metadata": {},
   "outputs": [],
   "source": []
  }
 ],
 "metadata": {
  "kernelspec": {
   "display_name": "Python 3 (ipykernel)",
   "language": "python",
   "name": "python3"
  },
  "language_info": {
   "codemirror_mode": {
    "name": "ipython",
    "version": 3
   },
   "file_extension": ".py",
   "mimetype": "text/x-python",
   "name": "python",
   "nbconvert_exporter": "python",
   "pygments_lexer": "ipython3",
   "version": "3.12.3"
  }
 },
 "nbformat": 4,
 "nbformat_minor": 5
}
