{
 "cells": [
  {
   "cell_type": "code",
   "execution_count": 1,
   "metadata": {},
   "outputs": [],
   "source": [
    "import pandas as pd\n",
    "from patsy import dmatrices\n",
    "import numpy as np\n",
    "import statsmodels.api as sm\n",
    "from statsmodels.formula.api import poisson\n",
    "import matplotlib\n",
    "import matplotlib.pyplot as plt\n",
    "import re\n",
    "import math\n",
    "%matplotlib inline\n",
    "from matplotlib.axes import Axes\n",
    "import seaborn as sns\n",
    "import array as arr\n",
    "from scipy import stats\n",
    "import krippendorff"
   ]
  },
  {
   "cell_type": "markdown",
   "metadata": {},
   "source": [
    "Intercoder Reliability (ICR)\n",
    "\n",
    "Retrieving data from 'ICR_Data.csv' file with coded responses of Coders 1 and 2 and creating a function to calculate ICR scores (Krippendorff's alpha)"
   ]
  },
  {
   "cell_type": "code",
   "execution_count": 2,
   "metadata": {},
   "outputs": [],
   "source": [
    "intercoder_data = pd.read_csv('/Users/salmankhawar/Desktop/UvA Courses/Thesis/Content Analysis/ICR_Data.csv')"
   ]
  },
  {
   "cell_type": "code",
   "execution_count": 3,
   "metadata": {},
   "outputs": [],
   "source": [
    "intercoder_data_cleaned = intercoder_data[2:][['[coder]','[tweet_ID]','[news_outlet]','[tweet_topic] ','[hyperbolic_feature]','[slang_feature]','[listicle_feature]','[emoji_feature]','[hashtag_feature]','[cap_feature]','[punct_feature]','[forw_ref_feature]','[question_feature]','[media_feature]']]"
   ]
  },
  {
   "cell_type": "code",
   "execution_count": 4,
   "metadata": {},
   "outputs": [],
   "source": [
    "cols = intercoder_data_cleaned.columns\n",
    "intercoder_data_cleaned[cols] = intercoder_data_cleaned[cols].apply(pd.to_numeric, errors='coerce')"
   ]
  },
  {
   "cell_type": "code",
   "execution_count": 5,
   "metadata": {},
   "outputs": [],
   "source": [
    "def ICR_score(column):\n",
    "    coder1 = intercoder_data_cleaned.loc[(intercoder_data_cleaned[\"[coder]\"] == 1), column]\n",
    "    coder2 = intercoder_data_cleaned.loc[(intercoder_data_cleaned[\"[coder]\"] == 2), column]\n",
    "    array = [coder1, coder2]\n",
    "    return krippendorff.alpha(array)"
   ]
  },
  {
   "cell_type": "markdown",
   "metadata": {},
   "source": [
    "Calcuating ICR scores for individual variables"
   ]
  },
  {
   "cell_type": "code",
   "execution_count": 6,
   "metadata": {},
   "outputs": [
    {
     "data": {
      "text/plain": [
       "0.9513953882218716"
      ]
     },
     "execution_count": 6,
     "metadata": {},
     "output_type": "execute_result"
    }
   ],
   "source": [
    "ICR_score('[news_outlet]')"
   ]
  },
  {
   "cell_type": "code",
   "execution_count": 7,
   "metadata": {},
   "outputs": [
    {
     "data": {
      "text/plain": [
       "0.7240888102957068"
      ]
     },
     "execution_count": 7,
     "metadata": {},
     "output_type": "execute_result"
    }
   ],
   "source": [
    "ICR_score('[tweet_topic] ')"
   ]
  },
  {
   "cell_type": "code",
   "execution_count": 8,
   "metadata": {},
   "outputs": [
    {
     "data": {
      "text/plain": [
       "0.6927775781530723"
      ]
     },
     "execution_count": 8,
     "metadata": {},
     "output_type": "execute_result"
    }
   ],
   "source": [
    "ICR_score('[hyperbolic_feature]')"
   ]
  },
  {
   "cell_type": "code",
   "execution_count": 9,
   "metadata": {},
   "outputs": [
    {
     "data": {
      "text/plain": [
       "0.7437499999999999"
      ]
     },
     "execution_count": 9,
     "metadata": {},
     "output_type": "execute_result"
    }
   ],
   "source": [
    "ICR_score('[slang_feature]')"
   ]
  },
  {
   "cell_type": "code",
   "execution_count": 10,
   "metadata": {},
   "outputs": [
    {
     "data": {
      "text/plain": [
       "1.0"
      ]
     },
     "execution_count": 10,
     "metadata": {},
     "output_type": "execute_result"
    }
   ],
   "source": [
    "ICR_score('[listicle_feature]')"
   ]
  },
  {
   "cell_type": "code",
   "execution_count": 11,
   "metadata": {},
   "outputs": [
    {
     "data": {
      "text/plain": [
       "1.0"
      ]
     },
     "execution_count": 11,
     "metadata": {},
     "output_type": "execute_result"
    }
   ],
   "source": [
    "ICR_score('[emoji_feature]')"
   ]
  },
  {
   "cell_type": "code",
   "execution_count": 12,
   "metadata": {},
   "outputs": [
    {
     "data": {
      "text/plain": [
       "0.9487870619946092"
      ]
     },
     "execution_count": 12,
     "metadata": {},
     "output_type": "execute_result"
    }
   ],
   "source": [
    "ICR_score('[hashtag_feature]')"
   ]
  },
  {
   "cell_type": "code",
   "execution_count": 13,
   "metadata": {},
   "outputs": [
    {
     "data": {
      "text/plain": [
       "1.0"
      ]
     },
     "execution_count": 13,
     "metadata": {},
     "output_type": "execute_result"
    }
   ],
   "source": [
    "ICR_score('[cap_feature]')"
   ]
  },
  {
   "cell_type": "code",
   "execution_count": 14,
   "metadata": {},
   "outputs": [
    {
     "data": {
      "text/plain": [
       "0.9058089924515917"
      ]
     },
     "execution_count": 14,
     "metadata": {},
     "output_type": "execute_result"
    }
   ],
   "source": [
    "ICR_score('[punct_feature]')"
   ]
  },
  {
   "cell_type": "code",
   "execution_count": 15,
   "metadata": {},
   "outputs": [
    {
     "data": {
      "text/plain": [
       "0.7612596553773024"
      ]
     },
     "execution_count": 15,
     "metadata": {},
     "output_type": "execute_result"
    }
   ],
   "source": [
    "ICR_score('[forw_ref_feature]')"
   ]
  },
  {
   "cell_type": "code",
   "execution_count": 16,
   "metadata": {},
   "outputs": [
    {
     "data": {
      "text/plain": [
       "0.846441947565543"
      ]
     },
     "execution_count": 16,
     "metadata": {},
     "output_type": "execute_result"
    }
   ],
   "source": [
    "ICR_score('[question_feature]')"
   ]
  },
  {
   "cell_type": "code",
   "execution_count": 17,
   "metadata": {},
   "outputs": [
    {
     "data": {
      "text/plain": [
       "0.9057670920934173"
      ]
     },
     "execution_count": 17,
     "metadata": {},
     "output_type": "execute_result"
    }
   ],
   "source": [
    "ICR_score('[media_feature]')"
   ]
  },
  {
   "cell_type": "code",
   "execution_count": null,
   "metadata": {},
   "outputs": [],
   "source": []
  },
  {
   "cell_type": "markdown",
   "metadata": {},
   "source": [
    "Analyzing Manual Content Analysis Results.\n",
    "\n",
    "Reading CSV file with manual content analysis results,retreiving engagement metrics from the sample file and joining them with the results dataframe."
   ]
  },
  {
   "cell_type": "code",
   "execution_count": 18,
   "metadata": {},
   "outputs": [],
   "source": [
    "CA_results = pd.read_csv('/Users/salmankhawar/Desktop/UvA Courses/Thesis/Content Analysis/Results_CA.csv')"
   ]
  },
  {
   "cell_type": "code",
   "execution_count": 19,
   "metadata": {},
   "outputs": [],
   "source": [
    "manualCA_sample = pd.read_csv('/Users/salmankhawar/Desktop/UvA Courses/Thesis/Data_Collection_Twitter/Data_csv/Data_Collected_Tweepy/ManualCA_sample.csv')"
   ]
  },
  {
   "cell_type": "code",
   "execution_count": 20,
   "metadata": {},
   "outputs": [],
   "source": [
    "engagement_metrics = manualCA_sample[['favorite_count','retweet_count','is_retweet','twitter_account']]"
   ]
  },
  {
   "cell_type": "code",
   "execution_count": 21,
   "metadata": {},
   "outputs": [],
   "source": [
    "CA_results = CA_results.join(engagement_metrics)"
   ]
  },
  {
   "cell_type": "code",
   "execution_count": 29,
   "metadata": {},
   "outputs": [
    {
     "data": {
      "text/html": [
       "<div>\n",
       "<style scoped>\n",
       "    .dataframe tbody tr th:only-of-type {\n",
       "        vertical-align: middle;\n",
       "    }\n",
       "\n",
       "    .dataframe tbody tr th {\n",
       "        vertical-align: top;\n",
       "    }\n",
       "\n",
       "    .dataframe thead th {\n",
       "        text-align: right;\n",
       "    }\n",
       "</style>\n",
       "<table border=\"1\" class=\"dataframe\">\n",
       "  <thead>\n",
       "    <tr style=\"text-align: right;\">\n",
       "      <th></th>\n",
       "      <th>Unnamed: 0.1.1</th>\n",
       "      <th>[tweet_ID]</th>\n",
       "      <th>StartDate</th>\n",
       "      <th>EndDate</th>\n",
       "      <th>Status</th>\n",
       "      <th>IPAddress</th>\n",
       "      <th>Progress</th>\n",
       "      <th>Duration (in seconds)</th>\n",
       "      <th>Finished</th>\n",
       "      <th>RecordedDate</th>\n",
       "      <th>...</th>\n",
       "      <th>[hashtag_feature]</th>\n",
       "      <th>[cap_feature]</th>\n",
       "      <th>[punct_feature]</th>\n",
       "      <th>[forw_ref_feature]</th>\n",
       "      <th>[question_feature]</th>\n",
       "      <th>[media_feature]</th>\n",
       "      <th>favorite_count</th>\n",
       "      <th>retweet_count</th>\n",
       "      <th>is_retweet</th>\n",
       "      <th>twitter_account</th>\n",
       "    </tr>\n",
       "  </thead>\n",
       "  <tbody>\n",
       "    <tr>\n",
       "      <td>0</td>\n",
       "      <td>0.0</td>\n",
       "      <td>1351933244179152904</td>\n",
       "      <td>2021-12-10 11:39:07</td>\n",
       "      <td>2021-12-10 11:42:07</td>\n",
       "      <td>0</td>\n",
       "      <td>84.84.82.135</td>\n",
       "      <td>100</td>\n",
       "      <td>179</td>\n",
       "      <td>1</td>\n",
       "      <td>2021-12-10 11:42:07</td>\n",
       "      <td>...</td>\n",
       "      <td>0</td>\n",
       "      <td>0</td>\n",
       "      <td>0</td>\n",
       "      <td>0</td>\n",
       "      <td>0</td>\n",
       "      <td>0</td>\n",
       "      <td>12</td>\n",
       "      <td>3</td>\n",
       "      <td>No</td>\n",
       "      <td>BuzzFeed Politics</td>\n",
       "    </tr>\n",
       "    <tr>\n",
       "      <td>1</td>\n",
       "      <td>1.0</td>\n",
       "      <td>1309828834691350529</td>\n",
       "      <td>2021-12-10 11:42:39</td>\n",
       "      <td>2021-12-10 11:44:07</td>\n",
       "      <td>0</td>\n",
       "      <td>84.84.82.135</td>\n",
       "      <td>100</td>\n",
       "      <td>87</td>\n",
       "      <td>1</td>\n",
       "      <td>2021-12-10 11:44:07</td>\n",
       "      <td>...</td>\n",
       "      <td>0</td>\n",
       "      <td>0</td>\n",
       "      <td>0</td>\n",
       "      <td>0</td>\n",
       "      <td>0</td>\n",
       "      <td>0</td>\n",
       "      <td>0</td>\n",
       "      <td>1</td>\n",
       "      <td>No</td>\n",
       "      <td>L.A. Times Politics</td>\n",
       "    </tr>\n",
       "    <tr>\n",
       "      <td>2</td>\n",
       "      <td>2.0</td>\n",
       "      <td>1006560210029305856</td>\n",
       "      <td>2021-12-10 11:46:35</td>\n",
       "      <td>2021-12-10 11:48:15</td>\n",
       "      <td>0</td>\n",
       "      <td>84.84.82.135</td>\n",
       "      <td>100</td>\n",
       "      <td>99</td>\n",
       "      <td>1</td>\n",
       "      <td>2021-12-10 11:48:15</td>\n",
       "      <td>...</td>\n",
       "      <td>0</td>\n",
       "      <td>0</td>\n",
       "      <td>0</td>\n",
       "      <td>0</td>\n",
       "      <td>1</td>\n",
       "      <td>1</td>\n",
       "      <td>0</td>\n",
       "      <td>1</td>\n",
       "      <td>No</td>\n",
       "      <td>HuffPost Sports</td>\n",
       "    </tr>\n",
       "    <tr>\n",
       "      <td>3</td>\n",
       "      <td>3.0</td>\n",
       "      <td>1422561643213426692</td>\n",
       "      <td>2021-12-10 11:48:55</td>\n",
       "      <td>2021-12-10 11:52:04</td>\n",
       "      <td>0</td>\n",
       "      <td>84.84.82.135</td>\n",
       "      <td>100</td>\n",
       "      <td>188</td>\n",
       "      <td>1</td>\n",
       "      <td>2021-12-10 11:52:04</td>\n",
       "      <td>...</td>\n",
       "      <td>0</td>\n",
       "      <td>0</td>\n",
       "      <td>0</td>\n",
       "      <td>0</td>\n",
       "      <td>0</td>\n",
       "      <td>0</td>\n",
       "      <td>1</td>\n",
       "      <td>3</td>\n",
       "      <td>No</td>\n",
       "      <td>USA TODAY Politics</td>\n",
       "    </tr>\n",
       "    <tr>\n",
       "      <td>4</td>\n",
       "      <td>4.0</td>\n",
       "      <td>1465819596162678787</td>\n",
       "      <td>2021-12-10 11:52:10</td>\n",
       "      <td>2021-12-10 11:57:00</td>\n",
       "      <td>0</td>\n",
       "      <td>84.84.82.135</td>\n",
       "      <td>100</td>\n",
       "      <td>289</td>\n",
       "      <td>1</td>\n",
       "      <td>2021-12-10 11:57:00</td>\n",
       "      <td>...</td>\n",
       "      <td>0</td>\n",
       "      <td>0</td>\n",
       "      <td>0</td>\n",
       "      <td>0</td>\n",
       "      <td>0</td>\n",
       "      <td>1</td>\n",
       "      <td>0</td>\n",
       "      <td>32</td>\n",
       "      <td>Yes</td>\n",
       "      <td>L.A. Times Sports</td>\n",
       "    </tr>\n",
       "  </tbody>\n",
       "</table>\n",
       "<p>5 rows × 36 columns</p>\n",
       "</div>"
      ],
      "text/plain": [
       "   Unnamed: 0.1.1           [tweet_ID]            StartDate  \\\n",
       "0             0.0  1351933244179152904  2021-12-10 11:39:07   \n",
       "1             1.0  1309828834691350529  2021-12-10 11:42:39   \n",
       "2             2.0  1006560210029305856  2021-12-10 11:46:35   \n",
       "3             3.0  1422561643213426692  2021-12-10 11:48:55   \n",
       "4             4.0  1465819596162678787  2021-12-10 11:52:10   \n",
       "\n",
       "               EndDate  Status     IPAddress  Progress  Duration (in seconds)  \\\n",
       "0  2021-12-10 11:42:07       0  84.84.82.135       100                    179   \n",
       "1  2021-12-10 11:44:07       0  84.84.82.135       100                     87   \n",
       "2  2021-12-10 11:48:15       0  84.84.82.135       100                     99   \n",
       "3  2021-12-10 11:52:04       0  84.84.82.135       100                    188   \n",
       "4  2021-12-10 11:57:00       0  84.84.82.135       100                    289   \n",
       "\n",
       "   Finished         RecordedDate  ... [hashtag_feature]  [cap_feature]  \\\n",
       "0         1  2021-12-10 11:42:07  ...                 0              0   \n",
       "1         1  2021-12-10 11:44:07  ...                 0              0   \n",
       "2         1  2021-12-10 11:48:15  ...                 0              0   \n",
       "3         1  2021-12-10 11:52:04  ...                 0              0   \n",
       "4         1  2021-12-10 11:57:00  ...                 0              0   \n",
       "\n",
       "   [punct_feature]  [forw_ref_feature]  [question_feature]  [media_feature]  \\\n",
       "0                0                   0                   0                0   \n",
       "1                0                   0                   0                0   \n",
       "2                0                   0                   1                1   \n",
       "3                0                   0                   0                0   \n",
       "4                0                   0                   0                1   \n",
       "\n",
       "   favorite_count retweet_count is_retweet      twitter_account  \n",
       "0              12             3         No    BuzzFeed Politics  \n",
       "1               0             1         No  L.A. Times Politics  \n",
       "2               0             1         No      HuffPost Sports  \n",
       "3               1             3         No   USA TODAY Politics  \n",
       "4               0            32        Yes    L.A. Times Sports  \n",
       "\n",
       "[5 rows x 36 columns]"
      ]
     },
     "execution_count": 29,
     "metadata": {},
     "output_type": "execute_result"
    }
   ],
   "source": [
    "CA_results.head()"
   ]
  },
  {
   "cell_type": "code",
   "execution_count": null,
   "metadata": {},
   "outputs": [],
   "source": []
  },
  {
   "cell_type": "markdown",
   "metadata": {},
   "source": [
    "Calculating detection rates for each sensationalist feature (1=feature present, 0=feature not present)"
   ]
  },
  {
   "cell_type": "code",
   "execution_count": 30,
   "metadata": {},
   "outputs": [
    {
     "data": {
      "text/plain": [
       "0    89.930556\n",
       "1    10.069444\n",
       "Name: [hyperbolic_feature], dtype: float64"
      ]
     },
     "execution_count": 30,
     "metadata": {},
     "output_type": "execute_result"
    }
   ],
   "source": [
    "CA_results['[hyperbolic_feature]'].value_counts(normalize=True)*100"
   ]
  },
  {
   "cell_type": "code",
   "execution_count": 31,
   "metadata": {},
   "outputs": [
    {
     "data": {
      "text/plain": [
       "0    94.166667\n",
       "1     5.833333\n",
       "Name: [slang_feature], dtype: float64"
      ]
     },
     "execution_count": 31,
     "metadata": {},
     "output_type": "execute_result"
    }
   ],
   "source": [
    "CA_results['[slang_feature]'].value_counts(normalize=True)*100"
   ]
  },
  {
   "cell_type": "code",
   "execution_count": 32,
   "metadata": {},
   "outputs": [
    {
     "data": {
      "text/plain": [
       "0    99.097222\n",
       "1     0.902778\n",
       "Name: [listicle_feature], dtype: float64"
      ]
     },
     "execution_count": 32,
     "metadata": {},
     "output_type": "execute_result"
    }
   ],
   "source": [
    "CA_results['[listicle_feature]'].value_counts(normalize=True)*100"
   ]
  },
  {
   "cell_type": "code",
   "execution_count": 33,
   "metadata": {},
   "outputs": [
    {
     "data": {
      "text/plain": [
       "0    95.763889\n",
       "1     4.236111\n",
       "Name: [emoji_feature], dtype: float64"
      ]
     },
     "execution_count": 33,
     "metadata": {},
     "output_type": "execute_result"
    }
   ],
   "source": [
    "CA_results['[emoji_feature]'].value_counts(normalize=True)*100"
   ]
  },
  {
   "cell_type": "code",
   "execution_count": 34,
   "metadata": {},
   "outputs": [
    {
     "data": {
      "text/plain": [
       "0    91.527778\n",
       "1     8.472222\n",
       "Name: [hashtag_feature], dtype: float64"
      ]
     },
     "execution_count": 34,
     "metadata": {},
     "output_type": "execute_result"
    }
   ],
   "source": [
    "CA_results['[hashtag_feature]'].value_counts(normalize=True)*100"
   ]
  },
  {
   "cell_type": "code",
   "execution_count": 35,
   "metadata": {},
   "outputs": [
    {
     "data": {
      "text/plain": [
       "0    96.944444\n",
       "1     3.055556\n",
       "Name: [cap_feature], dtype: float64"
      ]
     },
     "execution_count": 35,
     "metadata": {},
     "output_type": "execute_result"
    }
   ],
   "source": [
    "CA_results['[cap_feature]'].value_counts(normalize=True)*100"
   ]
  },
  {
   "cell_type": "code",
   "execution_count": 36,
   "metadata": {},
   "outputs": [
    {
     "data": {
      "text/plain": [
       "0    97.430556\n",
       "1     2.569444\n",
       "Name: [punct_feature], dtype: float64"
      ]
     },
     "execution_count": 36,
     "metadata": {},
     "output_type": "execute_result"
    }
   ],
   "source": [
    "CA_results['[punct_feature]'].value_counts(normalize=True)*100"
   ]
  },
  {
   "cell_type": "code",
   "execution_count": 37,
   "metadata": {},
   "outputs": [
    {
     "data": {
      "text/plain": [
       "0    95.833333\n",
       "1     4.166667\n",
       "Name: [forw_ref_feature], dtype: float64"
      ]
     },
     "execution_count": 37,
     "metadata": {},
     "output_type": "execute_result"
    }
   ],
   "source": [
    "CA_results['[forw_ref_feature]'].value_counts(normalize=True)*100"
   ]
  },
  {
   "cell_type": "code",
   "execution_count": 38,
   "metadata": {},
   "outputs": [
    {
     "data": {
      "text/plain": [
       "0    94.444444\n",
       "1     5.555556\n",
       "Name: [question_feature], dtype: float64"
      ]
     },
     "execution_count": 38,
     "metadata": {},
     "output_type": "execute_result"
    }
   ],
   "source": [
    "CA_results['[question_feature]'].value_counts(normalize=True)*100"
   ]
  },
  {
   "cell_type": "code",
   "execution_count": 39,
   "metadata": {},
   "outputs": [
    {
     "data": {
      "text/plain": [
       "0    79.791667\n",
       "1    13.680556\n",
       "2     5.208333\n",
       "3     1.319444\n",
       "Name: [media_feature], dtype: float64"
      ]
     },
     "execution_count": 39,
     "metadata": {},
     "output_type": "execute_result"
    }
   ],
   "source": [
    "CA_results['[media_feature]'].value_counts(normalize=True)*100"
   ]
  },
  {
   "cell_type": "code",
   "execution_count": 40,
   "metadata": {},
   "outputs": [],
   "source": [
    "def media_feature(x):\n",
    "               if x == 0:\n",
    "                        return 0\n",
    "               else:\n",
    "                        return 1"
   ]
  },
  {
   "cell_type": "code",
   "execution_count": 41,
   "metadata": {},
   "outputs": [],
   "source": [
    "CA_results['[media_dummy]'] = CA_results['[media_feature]'].apply(media_feature) "
   ]
  },
  {
   "cell_type": "code",
   "execution_count": 42,
   "metadata": {},
   "outputs": [
    {
     "data": {
      "text/plain": [
       "0    79.791667\n",
       "1    20.208333\n",
       "Name: [media_dummy], dtype: float64"
      ]
     },
     "execution_count": 42,
     "metadata": {},
     "output_type": "execute_result"
    }
   ],
   "source": [
    "CA_results['[media_dummy]'].value_counts(normalize=True)*100"
   ]
  },
  {
   "cell_type": "markdown",
   "metadata": {},
   "source": [
    "Creating dummy variable for presence of sensationalism in tweets (1=sensationalist feature present, 0=sensationalist feature not present)"
   ]
  },
  {
   "cell_type": "code",
   "execution_count": 43,
   "metadata": {},
   "outputs": [],
   "source": [
    "CA_features_grid = CA_results[['[hyperbolic_feature]', '[slang_feature]', '[listicle_feature]', '[emoji_feature]', '[question_feature]', '[hashtag_feature]', '[forw_ref_feature]', '[punct_feature]', '[cap_feature]', '[media_dummy]']].apply(pd.to_numeric)"
   ]
  },
  {
   "cell_type": "code",
   "execution_count": 44,
   "metadata": {},
   "outputs": [],
   "source": [
    "CA_features_grid = np.array(CA_features_grid)"
   ]
  },
  {
   "cell_type": "code",
   "execution_count": 45,
   "metadata": {},
   "outputs": [],
   "source": [
    "CA_features_grid = CA_features_grid.tolist()"
   ]
  },
  {
   "cell_type": "code",
   "execution_count": 46,
   "metadata": {},
   "outputs": [],
   "source": [
    "CAcombined_features_dummy = [int(any(row)) for row in CA_features_grid]"
   ]
  },
  {
   "cell_type": "code",
   "execution_count": 47,
   "metadata": {},
   "outputs": [
    {
     "data": {
      "text/plain": [
       "[0, 0, 1, 0, 1, 1, 1, 1, 0, 0, 0, 1, 0, 0, 0, 1, 1, 0, 0, 0]"
      ]
     },
     "execution_count": 47,
     "metadata": {},
     "output_type": "execute_result"
    }
   ],
   "source": [
    "CAcombined_features_dummy[:20]"
   ]
  },
  {
   "cell_type": "code",
   "execution_count": 48,
   "metadata": {},
   "outputs": [],
   "source": [
    "CA_results['combined_features_dummy'] = CAcombined_features_dummy"
   ]
  },
  {
   "cell_type": "markdown",
   "metadata": {},
   "source": [
    "Sensationalist feature present in 44.03% of tweets in sample"
   ]
  },
  {
   "cell_type": "code",
   "execution_count": 49,
   "metadata": {},
   "outputs": [
    {
     "data": {
      "text/plain": [
       "0    55.972222\n",
       "1    44.027778\n",
       "Name: combined_features_dummy, dtype: float64"
      ]
     },
     "execution_count": 49,
     "metadata": {},
     "output_type": "execute_result"
    }
   ],
   "source": [
    "CA_results['combined_features_dummy'].value_counts(normalize=True)*100"
   ]
  },
  {
   "cell_type": "markdown",
   "metadata": {},
   "source": [
    "Creating count variable with number of features in each tweet"
   ]
  },
  {
   "cell_type": "code",
   "execution_count": 50,
   "metadata": {},
   "outputs": [],
   "source": [
    "count_variable = np.sum(CA_features_grid ,axis=1).tolist()"
   ]
  },
  {
   "cell_type": "code",
   "execution_count": 51,
   "metadata": {},
   "outputs": [],
   "source": [
    "CA_results['count_variable'] = count_variable"
   ]
  },
  {
   "cell_type": "markdown",
   "metadata": {},
   "source": [
    "Creating variable for outlet type (1=tweets published by online-native outlets, 0=tweets published by legacy outlets)"
   ]
  },
  {
   "cell_type": "code",
   "execution_count": 52,
   "metadata": {},
   "outputs": [],
   "source": [
    "def news_outlet_classifications(number):\n",
    "    number = str(number)\n",
    "    if re.search(r\"\\b[1-6]\\b\", number):\n",
    "        return 1\n",
    "    else:\n",
    "        return 0"
   ]
  },
  {
   "cell_type": "code",
   "execution_count": 53,
   "metadata": {},
   "outputs": [],
   "source": [
    "CA_results['outlet_type'] = CA_results['[news_outlet]'].apply(news_outlet_classifications) "
   ]
  },
  {
   "cell_type": "code",
   "execution_count": 54,
   "metadata": {},
   "outputs": [
    {
     "data": {
      "text/plain": [
       "1    50.0\n",
       "0    50.0\n",
       "Name: outlet_type, dtype: float64"
      ]
     },
     "execution_count": 54,
     "metadata": {},
     "output_type": "execute_result"
    }
   ],
   "source": [
    "CA_results['outlet_type'].value_counts(normalize=True)*100"
   ]
  },
  {
   "cell_type": "markdown",
   "metadata": {},
   "source": [
    "Creating variable for channel type (1=tweets published in soft news sub-channels i.e sports,entertainment/life, 0=tweets published in hard news sub-channels i.e politics)"
   ]
  },
  {
   "cell_type": "code",
   "execution_count": 56,
   "metadata": {},
   "outputs": [],
   "source": [
    "def channel_classification(number):\n",
    "    number = str(number)\n",
    "    if re.search(r\"\\b[147][0]?\\b\", number):\n",
    "        return 0\n",
    "    else:\n",
    "        return 1"
   ]
  },
  {
   "cell_type": "code",
   "execution_count": 57,
   "metadata": {},
   "outputs": [],
   "source": [
    "CA_results['channel_type'] = CA_results['[news_outlet]'].apply(channel_classification) "
   ]
  },
  {
   "cell_type": "code",
   "execution_count": 58,
   "metadata": {},
   "outputs": [
    {
     "data": {
      "text/plain": [
       "1    50.069444\n",
       "0    49.930556\n",
       "Name: channel_type, dtype: float64"
      ]
     },
     "execution_count": 58,
     "metadata": {},
     "output_type": "execute_result"
    }
   ],
   "source": [
    "CA_results['channel_type'].value_counts(normalize=True)*100"
   ]
  },
  {
   "cell_type": "markdown",
   "metadata": {},
   "source": [
    "Creating dummy variable for topic type\n",
    "\n",
    "(1=tweets classified as 'entertainment/celebrity news','lifestyle and society ','sports','crime/law and order','human-interest story',\n",
    "\n",
    "0=tweets classified as 'politics/government affairs/military','international affairs','economy/business','health/education' and 'science/technology')"
   ]
  },
  {
   "cell_type": "code",
   "execution_count": 59,
   "metadata": {},
   "outputs": [],
   "source": [
    "def topic_type(x):\n",
    "    if x in [6,7,8,9,10]:\n",
    "        return 1\n",
    "    else:\n",
    "        return 0"
   ]
  },
  {
   "cell_type": "code",
   "execution_count": 60,
   "metadata": {},
   "outputs": [],
   "source": [
    "CA_results['topic_type'] = CA_results['[tweet_topic]'].apply(topic_type) "
   ]
  },
  {
   "cell_type": "code",
   "execution_count": 61,
   "metadata": {},
   "outputs": [
    {
     "data": {
      "text/plain": [
       "1    54.791667\n",
       "0    45.208333\n",
       "Name: topic_type, dtype: float64"
      ]
     },
     "execution_count": 61,
     "metadata": {},
     "output_type": "execute_result"
    }
   ],
   "source": [
    "CA_results['topic_type'].value_counts(normalize=True)*100"
   ]
  },
  {
   "cell_type": "markdown",
   "metadata": {},
   "source": [
    "Creating dummy variables for indiviudal topic categories"
   ]
  },
  {
   "cell_type": "code",
   "execution_count": 63,
   "metadata": {},
   "outputs": [],
   "source": [
    "topic_dummies = pd.get_dummies(CA_results['[tweet_topic]'])"
   ]
  },
  {
   "cell_type": "code",
   "execution_count": 64,
   "metadata": {},
   "outputs": [],
   "source": [
    "CA_results['politics/government affairs/military'] = topic_dummies[1]\n",
    "CA_results['international affairs'] = topic_dummies[2]\n",
    "CA_results['economy/business'] = topic_dummies[3]\n",
    "CA_results['health/education'] = topic_dummies[4]\n",
    "CA_results['science/technology'] = topic_dummies[5]\n",
    "CA_results['entertainment/celebrity news'] = topic_dummies[6]\n",
    "CA_results['lifestyle and society'] = topic_dummies[7]\n",
    "CA_results['sports'] = topic_dummies[8]\n",
    "CA_results['crime/law and order'] = topic_dummies[9]\n",
    "CA_results['human-interest story'] = topic_dummies[10]\n",
    "CA_results['other'] = topic_dummies[11]"
   ]
  },
  {
   "cell_type": "markdown",
   "metadata": {},
   "source": [
    "Creating variable for length of tweets, after removing urls present in tweet texts"
   ]
  },
  {
   "cell_type": "code",
   "execution_count": 65,
   "metadata": {},
   "outputs": [],
   "source": [
    "def remove_urls(df):\n",
    "    url_removed =[]\n",
    "    for text in df['text']:\n",
    "            text = re.sub(r'(https|http)?:\\/\\/(\\w|\\.|\\/|\\?|\\=|\\&|\\%)*\\b', '', text, flags=re.MULTILINE)\n",
    "            url_removed.append(text)\n",
    "\n",
    "    df['text'] = url_removed"
   ]
  },
  {
   "cell_type": "code",
   "execution_count": 66,
   "metadata": {},
   "outputs": [],
   "source": [
    "remove_urls(manualCA_sample)"
   ]
  },
  {
   "cell_type": "code",
   "execution_count": 67,
   "metadata": {},
   "outputs": [],
   "source": [
    "def length_tweet(x):\n",
    "    return len(x)"
   ]
  },
  {
   "cell_type": "code",
   "execution_count": 68,
   "metadata": {},
   "outputs": [],
   "source": [
    "CA_results['len_tweet'] = manualCA_sample['text'].apply(length_tweet)"
   ]
  },
  {
   "cell_type": "code",
   "execution_count": null,
   "metadata": {},
   "outputs": [],
   "source": []
  },
  {
   "cell_type": "code",
   "execution_count": null,
   "metadata": {},
   "outputs": [],
   "source": []
  },
  {
   "cell_type": "markdown",
   "metadata": {},
   "source": [
    "Testing H1\n",
    "\n",
    "Running Logistic Regression using dummy variable for presence of sensationalist feature/s in tweets as DV and outlet type(main variable of interest), channel type, topic type, and tweet length as IVs (Table B1)"
   ]
  },
  {
   "cell_type": "code",
   "execution_count": 69,
   "metadata": {},
   "outputs": [],
   "source": [
    "featuresH1 = ['outlet_type','channel_type', 'topic_type', 'len_tweet']"
   ]
  },
  {
   "cell_type": "code",
   "execution_count": 70,
   "metadata": {},
   "outputs": [
    {
     "name": "stdout",
     "output_type": "stream",
     "text": [
      "Optimization terminated successfully.\n",
      "         Current function value: 0.586266\n",
      "         Iterations 5\n",
      "                              Logit Regression Results                             \n",
      "===================================================================================\n",
      "Dep. Variable:     combined_features_dummy   No. Observations:                 1440\n",
      "Model:                               Logit   Df Residuals:                     1435\n",
      "Method:                                MLE   Df Model:                            4\n",
      "Date:                     Mon, 18 Dec 2023   Pseudo R-squ.:                  0.1454\n",
      "Time:                             22:26:49   Log-Likelihood:                -844.22\n",
      "converged:                            True   LL-Null:                       -987.84\n",
      "Covariance Type:                 nonrobust   LLR p-value:                 6.170e-61\n",
      "================================================================================\n",
      "                   coef    std err          z      P>|z|      [0.025      0.975]\n",
      "--------------------------------------------------------------------------------\n",
      "const           -1.9217      0.191    -10.053      0.000      -2.296      -1.547\n",
      "outlet_type      0.7946      0.123      6.480      0.000       0.554       1.035\n",
      "channel_type     1.2912      0.201      6.415      0.000       0.897       1.686\n",
      "topic_type       0.5856      0.204      2.876      0.004       0.187       0.985\n",
      "len_tweet        0.0023      0.001      1.949      0.051   -1.26e-05       0.005\n",
      "================================================================================\n"
     ]
    },
    {
     "name": "stderr",
     "output_type": "stream",
     "text": [
      "/Applications/anaconda3/lib/python3.7/site-packages/numpy/core/fromnumeric.py:2495: FutureWarning: Method .ptp is deprecated and will be removed in a future version. Use numpy.ptp instead.\n",
      "  return ptp(axis=axis, out=out, **kwargs)\n"
     ]
    }
   ],
   "source": [
    "logit_model = sm.Logit(CA_results['combined_features_dummy'], sm.add_constant(CA_results[featuresH1]))\n",
    "reg_model_H1a = logit_model.fit()\n",
    "print(reg_model_H1a.summary())"
   ]
  },
  {
   "cell_type": "markdown",
   "metadata": {},
   "source": [
    "Running Poisson Regression using count variable for number of sensationalist features in tweets as DV and outlet type(main variable of interest), channel type, topic type, and tweet length as IVs (Table B1)"
   ]
  },
  {
   "cell_type": "code",
   "execution_count": 73,
   "metadata": {},
   "outputs": [
    {
     "name": "stdout",
     "output_type": "stream",
     "text": [
      "Optimization terminated successfully.\n",
      "         Current function value: 0.955935\n",
      "         Iterations 6\n",
      "                          Poisson Regression Results                          \n",
      "==============================================================================\n",
      "Dep. Variable:         count_variable   No. Observations:                 1440\n",
      "Model:                        Poisson   Df Residuals:                     1435\n",
      "Method:                           MLE   Df Model:                            4\n",
      "Date:                Mon, 18 Dec 2023   Pseudo R-squ.:                  0.1330\n",
      "Time:                        22:30:44   Log-Likelihood:                -1376.5\n",
      "converged:                       True   LL-Null:                       -1587.8\n",
      "Covariance Type:            nonrobust   LLR p-value:                 3.876e-90\n",
      "================================================================================\n",
      "                   coef    std err          z      P>|z|      [0.025      0.975]\n",
      "--------------------------------------------------------------------------------\n",
      "const           -1.9802      0.123    -16.155      0.000      -2.220      -1.740\n",
      "outlet_type      0.4551      0.070      6.537      0.000       0.319       0.592\n",
      "channel_type     0.9680      0.131      7.367      0.000       0.710       1.226\n",
      "topic_type       0.5412      0.138      3.910      0.000       0.270       0.813\n",
      "len_tweet        0.0025      0.001      4.105      0.000       0.001       0.004\n",
      "================================================================================\n"
     ]
    }
   ],
   "source": [
    "poisson_model = sm.Poisson(CA_results['count_variable'], sm.add_constant(CA_results[featuresH1]))\n",
    "poiss_model_H1b = poisson_model.fit()                        \n",
    "print (poiss_model_H1b.summary())"
   ]
  },
  {
   "cell_type": "code",
   "execution_count": null,
   "metadata": {},
   "outputs": [],
   "source": []
  },
  {
   "cell_type": "markdown",
   "metadata": {},
   "source": [
    "Testing H2\n",
    "\n",
    "Running Poisson Regression using favorite count as DV and number of sensationalist feature/s (main variable of interest), outlet type, channel type, topic type, and tweet length as IVs (Table C1)"
   ]
  },
  {
   "cell_type": "code",
   "execution_count": 74,
   "metadata": {},
   "outputs": [],
   "source": [
    "featuresH2a = ['count_variable','channel_type','topic_type','outlet_type','len_tweet']"
   ]
  },
  {
   "cell_type": "code",
   "execution_count": 75,
   "metadata": {},
   "outputs": [
    {
     "name": "stdout",
     "output_type": "stream",
     "text": [
      "Optimization terminated successfully.\n",
      "         Current function value: 26.661863\n",
      "         Iterations 6\n",
      "                          Poisson Regression Results                          \n",
      "==============================================================================\n",
      "Dep. Variable:         favorite_count   No. Observations:                 1440\n",
      "Model:                        Poisson   Df Residuals:                     1434\n",
      "Method:                           MLE   Df Model:                            5\n",
      "Date:                Mon, 18 Dec 2023   Pseudo R-squ.:                 0.07437\n",
      "Time:                        22:37:37   Log-Likelihood:                -38393.\n",
      "converged:                       True   LL-Null:                       -41478.\n",
      "Covariance Type:            nonrobust   LLR p-value:                     0.000\n",
      "==================================================================================\n",
      "                     coef    std err          z      P>|z|      [0.025      0.975]\n",
      "----------------------------------------------------------------------------------\n",
      "const              1.2442      0.026     47.923      0.000       1.193       1.295\n",
      "count_variable     0.3062      0.008     37.026      0.000       0.290       0.322\n",
      "channel_type      -1.0124      0.023    -43.404      0.000      -1.058      -0.967\n",
      "topic_type         0.9440      0.023     41.812      0.000       0.900       0.988\n",
      "outlet_type        0.5521      0.017     32.503      0.000       0.519       0.585\n",
      "len_tweet          0.0056      0.000     39.180      0.000       0.005       0.006\n",
      "==================================================================================\n"
     ]
    }
   ],
   "source": [
    "poisson_model2a = sm.Poisson(CA_results['favorite_count'], sm.add_constant(CA_results[featuresH2a]))\n",
    "poiss_model_H2a = poisson_model2a.fit()                        \n",
    "print (poiss_model_H2a.summary())"
   ]
  },
  {
   "cell_type": "markdown",
   "metadata": {},
   "source": [
    "Running Poisson Regression using retweet count as DV and number of sensationalist feature/s (main variable of interest), outlet type, channel type, topic type, and tweet length as IVs (Table C1)"
   ]
  },
  {
   "cell_type": "code",
   "execution_count": 76,
   "metadata": {},
   "outputs": [
    {
     "name": "stdout",
     "output_type": "stream",
     "text": [
      "Optimization terminated successfully.\n",
      "         Current function value: 42.095041\n",
      "         Iterations 6\n",
      "                          Poisson Regression Results                          \n",
      "==============================================================================\n",
      "Dep. Variable:          retweet_count   No. Observations:                 1440\n",
      "Model:                        Poisson   Df Residuals:                     1434\n",
      "Method:                           MLE   Df Model:                            5\n",
      "Date:                Mon, 18 Dec 2023   Pseudo R-squ.:                  0.1468\n",
      "Time:                        22:39:19   Log-Likelihood:                -60617.\n",
      "converged:                       True   LL-Null:                       -71046.\n",
      "Covariance Type:            nonrobust   LLR p-value:                     0.000\n",
      "==================================================================================\n",
      "                     coef    std err          z      P>|z|      [0.025      0.975]\n",
      "----------------------------------------------------------------------------------\n",
      "const              1.3926      0.027     52.525      0.000       1.341       1.445\n",
      "count_variable     0.0020      0.007      0.289      0.773      -0.012       0.016\n",
      "channel_type       1.2737      0.025     50.182      0.000       1.224       1.323\n",
      "topic_type         0.3176      0.026     12.224      0.000       0.267       0.369\n",
      "outlet_type        1.1649      0.016     74.170      0.000       1.134       1.196\n",
      "len_tweet         -0.0036      0.000    -25.467      0.000      -0.004      -0.003\n",
      "==================================================================================\n"
     ]
    }
   ],
   "source": [
    "poisson_model2b = sm.Poisson(CA_results['retweet_count'], sm.add_constant(CA_results[featuresH2a]))\n",
    "poiss_model_H2b = poisson_model2b.fit()                        \n",
    "print (poiss_model_H2b.summary())"
   ]
  },
  {
   "cell_type": "markdown",
   "metadata": {},
   "source": [
    "Running Poisson Regression using favorite count as DV and presence of sensationalist feature/s (main variable of interest), outlet type, channel type, topic type, and tweet length as IVs (Table C2)"
   ]
  },
  {
   "cell_type": "code",
   "execution_count": 77,
   "metadata": {},
   "outputs": [],
   "source": [
    "featuresH2b = ['combined_features_dummy','channel_type','topic_type','outlet_type','len_tweet']"
   ]
  },
  {
   "cell_type": "code",
   "execution_count": 79,
   "metadata": {},
   "outputs": [
    {
     "name": "stdout",
     "output_type": "stream",
     "text": [
      "Optimization terminated successfully.\n",
      "         Current function value: 26.940053\n",
      "         Iterations 6\n",
      "                          Poisson Regression Results                          \n",
      "==============================================================================\n",
      "Dep. Variable:         favorite_count   No. Observations:                 1440\n",
      "Model:                        Poisson   Df Residuals:                     1434\n",
      "Method:                           MLE   Df Model:                            5\n",
      "Date:                Mon, 18 Dec 2023   Pseudo R-squ.:                 0.06471\n",
      "Time:                        22:49:04   Log-Likelihood:                -38794.\n",
      "converged:                       True   LL-Null:                       -41478.\n",
      "Covariance Type:            nonrobust   LLR p-value:                     0.000\n",
      "===========================================================================================\n",
      "                              coef    std err          z      P>|z|      [0.025      0.975]\n",
      "-------------------------------------------------------------------------------------------\n",
      "const                       1.1494      0.026     43.635      0.000       1.098       1.201\n",
      "combined_features_dummy     0.3653      0.017     21.747      0.000       0.332       0.398\n",
      "channel_type               -0.8624      0.022    -38.577      0.000      -0.906      -0.819\n",
      "topic_type                  0.9508      0.022     42.419      0.000       0.907       0.995\n",
      "outlet_type                 0.5830      0.017     34.294      0.000       0.550       0.616\n",
      "len_tweet                   0.0062      0.000     43.096      0.000       0.006       0.006\n",
      "===========================================================================================\n"
     ]
    }
   ],
   "source": [
    "poisson_model2c = sm.Poisson(CA_results['favorite_count'], sm.add_constant(CA_results[featuresH2b]))\n",
    "poiss_model_H2c = poisson_model2c.fit()                        \n",
    "print (poiss_model_H2c.summary())"
   ]
  },
  {
   "cell_type": "markdown",
   "metadata": {},
   "source": [
    "Running Poisson Regression using retweet count as DV and presence of sensationalist feature/s (main variable of interest), outlet type, channel type, topic type, and tweet length as IVs (Table C2)"
   ]
  },
  {
   "cell_type": "code",
   "execution_count": 81,
   "metadata": {},
   "outputs": [
    {
     "name": "stdout",
     "output_type": "stream",
     "text": [
      "Optimization terminated successfully.\n",
      "         Current function value: 41.926246\n",
      "         Iterations 7\n",
      "                          Poisson Regression Results                          \n",
      "==============================================================================\n",
      "Dep. Variable:          retweet_count   No. Observations:                 1440\n",
      "Model:                        Poisson   Df Residuals:                     1434\n",
      "Method:                           MLE   Df Model:                            5\n",
      "Date:                Mon, 18 Dec 2023   Pseudo R-squ.:                  0.1502\n",
      "Time:                        22:51:18   Log-Likelihood:                -60374.\n",
      "converged:                       True   LL-Null:                       -71046.\n",
      "Covariance Type:            nonrobust   LLR p-value:                     0.000\n",
      "===========================================================================================\n",
      "                              coef    std err          z      P>|z|      [0.025      0.975]\n",
      "-------------------------------------------------------------------------------------------\n",
      "const                       1.4013      0.027     52.672      0.000       1.349       1.453\n",
      "combined_features_dummy    -0.3150      0.014    -22.251      0.000      -0.343      -0.287\n",
      "channel_type                1.3509      0.025     54.960      0.000       1.303       1.399\n",
      "topic_type                  0.4057      0.025     16.093      0.000       0.356       0.455\n",
      "outlet_type                 1.2473      0.016     79.000      0.000       1.216       1.278\n",
      "len_tweet                  -0.0038      0.000    -26.344      0.000      -0.004      -0.004\n",
      "===========================================================================================\n"
     ]
    }
   ],
   "source": [
    "poisson_model2d = sm.Poisson(CA_results['retweet_count'], sm.add_constant(CA_results[featuresH2b]))\n",
    "poiss_model_H2d = poisson_model2d.fit()                        \n",
    "print (poiss_model_H2d.summary())"
   ]
  },
  {
   "cell_type": "markdown",
   "metadata": {},
   "source": [
    "Running Poisson Regression using favorite count as DV and individual sensationalist features as IVs controlling for outlet type, channel type, topic type, and tweet length (Table C3)"
   ]
  },
  {
   "cell_type": "code",
   "execution_count": 82,
   "metadata": {},
   "outputs": [],
   "source": [
    "featuresH2c = ['[hyperbolic_feature]', '[slang_feature]', '[listicle_feature]', '[emoji_feature]', '[question_feature]', '[hashtag_feature]', '[forw_ref_feature]', '[punct_feature]', '[cap_feature]', '[media_dummy]','channel_type','topic_type','outlet_type','len_tweet']"
   ]
  },
  {
   "cell_type": "code",
   "execution_count": 83,
   "metadata": {},
   "outputs": [
    {
     "name": "stdout",
     "output_type": "stream",
     "text": [
      "Optimization terminated successfully.\n",
      "         Current function value: 25.038853\n",
      "         Iterations 7\n",
      "                          Poisson Regression Results                          \n",
      "==============================================================================\n",
      "Dep. Variable:         favorite_count   No. Observations:                 1440\n",
      "Model:                        Poisson   Df Residuals:                     1425\n",
      "Method:                           MLE   Df Model:                           14\n",
      "Date:                Mon, 18 Dec 2023   Pseudo R-squ.:                  0.1307\n",
      "Time:                        22:57:30   Log-Likelihood:                -36056.\n",
      "converged:                       True   LL-Null:                       -41478.\n",
      "Covariance Type:            nonrobust   LLR p-value:                     0.000\n",
      "========================================================================================\n",
      "                           coef    std err          z      P>|z|      [0.025      0.975]\n",
      "----------------------------------------------------------------------------------------\n",
      "const                    1.1780      0.027     44.022      0.000       1.126       1.230\n",
      "[hyperbolic_feature]    -0.2800      0.028    -10.140      0.000      -0.334      -0.226\n",
      "[slang_feature]          0.5719      0.026     22.146      0.000       0.521       0.622\n",
      "[listicle_feature]      -0.6308      0.106     -5.968      0.000      -0.838      -0.424\n",
      "[emoji_feature]          1.1686      0.026     44.298      0.000       1.117       1.220\n",
      "[question_feature]       1.1217      0.024     47.479      0.000       1.075       1.168\n",
      "[hashtag_feature]        0.3031      0.025     12.134      0.000       0.254       0.352\n",
      "[forw_ref_feature]      -0.8263      0.052    -15.790      0.000      -0.929      -0.724\n",
      "[punct_feature]         -1.8063      0.090    -20.014      0.000      -1.983      -1.629\n",
      "[cap_feature]           -0.1817      0.038     -4.815      0.000      -0.256      -0.108\n",
      "[media_dummy]            0.1106      0.019      5.769      0.000       0.073       0.148\n",
      "channel_type            -1.0622      0.024    -44.382      0.000      -1.109      -1.015\n",
      "topic_type               0.9697      0.023     42.760      0.000       0.925       1.014\n",
      "outlet_type              0.6918      0.018     39.419      0.000       0.657       0.726\n",
      "len_tweet                0.0059      0.000     39.791      0.000       0.006       0.006\n",
      "========================================================================================\n"
     ]
    }
   ],
   "source": [
    "poisson_model2e = sm.Poisson(CA_results['favorite_count'], sm.add_constant(CA_results[featuresH2c]))\n",
    "poiss_model_H2e = poisson_model2e.fit()                        \n",
    "print (poiss_model_H2e.summary())"
   ]
  },
  {
   "cell_type": "markdown",
   "metadata": {},
   "source": [
    "Running Poisson Regression using retweet count as DV and individual sensationalist features as IVs controlling for outlet type, channel type, topic type, and tweet length (Table C3)"
   ]
  },
  {
   "cell_type": "code",
   "execution_count": 84,
   "metadata": {},
   "outputs": [
    {
     "name": "stdout",
     "output_type": "stream",
     "text": [
      "Optimization terminated successfully.\n",
      "         Current function value: 40.502319\n",
      "         Iterations 8\n",
      "                          Poisson Regression Results                          \n",
      "==============================================================================\n",
      "Dep. Variable:          retweet_count   No. Observations:                 1440\n",
      "Model:                        Poisson   Df Residuals:                     1425\n",
      "Method:                           MLE   Df Model:                           14\n",
      "Date:                Mon, 18 Dec 2023   Pseudo R-squ.:                  0.1791\n",
      "Time:                        22:58:06   Log-Likelihood:                -58323.\n",
      "converged:                       True   LL-Null:                       -71046.\n",
      "Covariance Type:            nonrobust   LLR p-value:                     0.000\n",
      "========================================================================================\n",
      "                           coef    std err          z      P>|z|      [0.025      0.975]\n",
      "----------------------------------------------------------------------------------------\n",
      "const                    1.5075      0.026     57.193      0.000       1.456       1.559\n",
      "[hyperbolic_feature]    -0.6253      0.025    -25.451      0.000      -0.673      -0.577\n",
      "[slang_feature]          0.3320      0.019     17.182      0.000       0.294       0.370\n",
      "[listicle_feature]      -2.8178      0.169    -16.640      0.000      -3.150      -2.486\n",
      "[emoji_feature]         -0.4377      0.027    -16.146      0.000      -0.491      -0.385\n",
      "[question_feature]      -0.2069      0.029     -7.110      0.000      -0.264      -0.150\n",
      "[hashtag_feature]        0.3202      0.018     17.664      0.000       0.285       0.356\n",
      "[forw_ref_feature]      -0.9705      0.047    -20.595      0.000      -1.063      -0.878\n",
      "[punct_feature]          0.2050      0.029      7.085      0.000       0.148       0.262\n",
      "[cap_feature]            0.8274      0.021     38.960      0.000       0.786       0.869\n",
      "[media_dummy]            0.0130      0.014      0.902      0.367      -0.015       0.041\n",
      "channel_type             1.2201      0.026     47.040      0.000       1.169       1.271\n",
      "topic_type               0.3119      0.027     11.761      0.000       0.260       0.364\n",
      "outlet_type              1.1578      0.016     73.425      0.000       1.127       1.189\n",
      "len_tweet               -0.0043      0.000    -29.471      0.000      -0.005      -0.004\n",
      "========================================================================================\n"
     ]
    }
   ],
   "source": [
    "poisson_model2f = sm.Poisson(CA_results['retweet_count'], sm.add_constant(CA_results[featuresH2c]))\n",
    "poiss_model_H2f = poisson_model2f.fit()                        \n",
    "print (poiss_model_H2f.summary())"
   ]
  },
  {
   "cell_type": "markdown",
   "metadata": {},
   "source": [
    "Exploratory Analysis"
   ]
  },
  {
   "cell_type": "markdown",
   "metadata": {},
   "source": [
    "Running Logistic Regression using presence of sensationalism as DV and entertainment-oriented topics as IVs controlling for outlet type, channel type, and tweet length (Table D1)"
   ]
  },
  {
   "cell_type": "code",
   "execution_count": 85,
   "metadata": {},
   "outputs": [],
   "source": [
    "featuresD = ['entertainment/celebrity news','lifestyle and society','sports','human-interest story', 'crime/law and order', 'channel_type','outlet_type','len_tweet']"
   ]
  },
  {
   "cell_type": "code",
   "execution_count": 86,
   "metadata": {},
   "outputs": [
    {
     "name": "stdout",
     "output_type": "stream",
     "text": [
      "Optimization terminated successfully.\n",
      "         Current function value: 0.572772\n",
      "         Iterations 6\n",
      "                              Logit Regression Results                             \n",
      "===================================================================================\n",
      "Dep. Variable:     combined_features_dummy   No. Observations:                 1440\n",
      "Model:                               Logit   Df Residuals:                     1431\n",
      "Method:                                MLE   Df Model:                            8\n",
      "Date:                     Mon, 18 Dec 2023   Pseudo R-squ.:                  0.1651\n",
      "Time:                             23:23:19   Log-Likelihood:                -824.79\n",
      "converged:                            True   LL-Null:                       -987.84\n",
      "Covariance Type:                 nonrobust   LLR p-value:                 1.142e-65\n",
      "================================================================================================\n",
      "                                   coef    std err          z      P>|z|      [0.025      0.975]\n",
      "------------------------------------------------------------------------------------------------\n",
      "const                           -2.0104      0.196    -10.270      0.000      -2.394      -1.627\n",
      "entertainment/celebrity news     1.1068      0.245      4.515      0.000       0.626       1.587\n",
      "lifestyle and society            0.5163      0.282      1.831      0.067      -0.036       1.069\n",
      "sports                           1.4725      0.266      5.545      0.000       0.952       1.993\n",
      "human-interest story             0.3777      0.601      0.628      0.530      -0.800       1.556\n",
      "crime/law and order             -0.8253      0.436     -1.893      0.058      -1.680       0.029\n",
      "channel_type                     0.7303      0.231      3.164      0.002       0.278       1.183\n",
      "outlet_type                      0.9065      0.126      7.190      0.000       0.659       1.154\n",
      "len_tweet                        0.0028      0.001      2.300      0.021       0.000       0.005\n",
      "================================================================================================\n"
     ]
    }
   ],
   "source": [
    "logit_model_top = sm.Logit(CA_results['combined_features_dummy'], sm.add_constant(CA_results[featuresD]))\n",
    "reg_model_top = logit_model_top.fit()\n",
    "print(reg_model_top.summary())"
   ]
  },
  {
   "cell_type": "markdown",
   "metadata": {},
   "source": [
    "Running Poisson Regression using presence of sensationalism as DV and entertainment-oriented topics as IVs controlling for outlet type, channel type, and tweet length (Table D1)"
   ]
  },
  {
   "cell_type": "code",
   "execution_count": 87,
   "metadata": {},
   "outputs": [
    {
     "name": "stdout",
     "output_type": "stream",
     "text": [
      "Optimization terminated successfully.\n",
      "         Current function value: 0.939805\n",
      "         Iterations 7\n",
      "                          Poisson Regression Results                          \n",
      "==============================================================================\n",
      "Dep. Variable:         count_variable   No. Observations:                 1440\n",
      "Model:                        Poisson   Df Residuals:                     1431\n",
      "Method:                           MLE   Df Model:                            8\n",
      "Date:                Mon, 18 Dec 2023   Pseudo R-squ.:                  0.1477\n",
      "Time:                        23:24:04   Log-Likelihood:                -1353.3\n",
      "converged:                       True   LL-Null:                       -1587.8\n",
      "Covariance Type:            nonrobust   LLR p-value:                 3.251e-96\n",
      "================================================================================================\n",
      "                                   coef    std err          z      P>|z|      [0.025      0.975]\n",
      "------------------------------------------------------------------------------------------------\n",
      "const                           -2.0185      0.122    -16.509      0.000      -2.258      -1.779\n",
      "entertainment/celebrity news     0.8871      0.156      5.701      0.000       0.582       1.192\n",
      "lifestyle and society            0.3539      0.183      1.935      0.053      -0.005       0.712\n",
      "sports                           0.8929      0.162      5.515      0.000       0.576       1.210\n",
      "human-interest story             0.2704      0.422      0.641      0.522      -0.557       1.097\n",
      "crime/law and order             -0.6826      0.388     -1.760      0.078      -1.443       0.078\n",
      "channel_type                     0.6796      0.147      4.634      0.000       0.392       0.967\n",
      "outlet_type                      0.5184      0.070      7.366      0.000       0.380       0.656\n",
      "len_tweet                        0.0028      0.001      4.601      0.000       0.002       0.004\n",
      "================================================================================================\n"
     ]
    }
   ],
   "source": [
    "poiss_model_top = sm.Poisson(CA_results['count_variable'], sm.add_constant(CA_results[featuresD]))\n",
    "poiss_model_top = poiss_model_top.fit()\n",
    "print(poiss_model_top.summary())"
   ]
  },
  {
   "cell_type": "code",
   "execution_count": null,
   "metadata": {},
   "outputs": [],
   "source": []
  },
  {
   "cell_type": "markdown",
   "metadata": {},
   "source": [
    "Visualizations"
   ]
  },
  {
   "cell_type": "markdown",
   "metadata": {},
   "source": [
    "Plotting frequency distribution of number of sensationalist features (Figure 1)"
   ]
  },
  {
   "cell_type": "code",
   "execution_count": 88,
   "metadata": {},
   "outputs": [
    {
     "data": {
      "text/plain": [
       "0    55.972222\n",
       "1    28.611111\n",
       "2    10.902778\n",
       "3     3.611111\n",
       "4     0.694444\n",
       "5     0.208333\n",
       "Name: count_variable, dtype: float64"
      ]
     },
     "execution_count": 88,
     "metadata": {},
     "output_type": "execute_result"
    }
   ],
   "source": [
    "CA_results['count_variable'].value_counts(normalize=True)*100"
   ]
  },
  {
   "cell_type": "code",
   "execution_count": 89,
   "metadata": {},
   "outputs": [
    {
     "data": {
      "text/plain": [
       "<Figure size 432x288 with 0 Axes>"
      ]
     },
     "metadata": {},
     "output_type": "display_data"
    },
    {
     "data": {
      "image/png": "[encoded data removed]",
      "text/plain": [
       "<Figure size 864x576 with 1 Axes>"
      ]
     },
     "metadata": {
      "needs_background": "light"
     },
     "output_type": "display_data"
    }
   ],
   "source": [
    "#x-axis\n",
    "features = [0,1,2,3,4,5]\n",
    "\n",
    "#y-axis\n",
    "frequency = [55.97,28.61,10.90,3.61,0.69,0.21]\n",
    "\n",
    "frequency_series = pd.Series(frequency)\n",
    "\n",
    "x_labels = [0,1,2,3,4,5]\n",
    "\n",
    "\n",
    "fig = plt.figure()\n",
    "\n",
    "# Plotting the bar chart\n",
    "\n",
    "plt.figure(figsize=(12, 8))\n",
    "plt.xlabel(\"Number of Sensationalist Features\",fontsize=15)\n",
    "plt.ylabel(\"Percentage of Tweets\",fontsize=15)\n",
    "plt.title(\"Frequency of Sensationalist Features\", fontsize=15)\n",
    "fig = frequency_series.plot(kind='bar', color='#7F7F7F')\n",
    "fig.set_xticklabels(x_labels,rotation=0)\n",
    "fig.bar_label(fig.containers[0], label_type='edge',fontsize=14)\n",
    "\n",
    "\n",
    "plt.savefig(\"/Users/salmankhawar/Desktop/Thesis Publication/Paper Revisions/Frequency_Sensationalist.jpg\", dpi = 300)\n",
    "#plt.show()"
   ]
  },
  {
   "cell_type": "markdown",
   "metadata": {},
   "source": [
    "Presence of sensationalism in tweets by outlet type - legacy and online-native (Figure 2)"
   ]
  },
  {
   "cell_type": "code",
   "execution_count": 90,
   "metadata": {},
   "outputs": [
    {
     "data": {
      "text/plain": [
       "51.94444444444445"
      ]
     },
     "execution_count": 90,
     "metadata": {},
     "output_type": "execute_result"
    }
   ],
   "source": [
    "len(CA_results.loc[(CA_results['outlet_type'] == 1) & (CA_results['combined_features_dummy'] == 1)])/(len(CA_results.loc[(CA_results['outlet_type'] == 1)])) * 100"
   ]
  },
  {
   "cell_type": "code",
   "execution_count": 91,
   "metadata": {},
   "outputs": [
    {
     "data": {
      "text/plain": [
       "36.11111111111111"
      ]
     },
     "execution_count": 91,
     "metadata": {},
     "output_type": "execute_result"
    }
   ],
   "source": [
    "len(CA_results.loc[(CA_results['outlet_type'] == 0) & (CA_results['combined_features_dummy'] == 1)])/ (len(CA_results.loc[(CA_results['outlet_type'] == 0)])) * 100"
   ]
  },
  {
   "cell_type": "code",
   "execution_count": 92,
   "metadata": {},
   "outputs": [
    {
     "data": {
      "image/png": "[encoded data removed]",
      "text/plain": [
       "<Figure size 864x576 with 1 Axes>"
      ]
     },
     "metadata": {
      "needs_background": "light"
     },
     "output_type": "display_data"
    }
   ],
   "source": [
    "x = np.array([\"Legacy\", \"Online-native\"])\n",
    "y = np.array([36.29,51.81])\n",
    "\n",
    "def addlabels(x,y):\n",
    "    for i in range(len(x)):\n",
    "        plt.text(i, y[i], y[i], ha = 'center',fontsize=13)\n",
    "        \n",
    "plt.figure(figsize=(12,8)) \n",
    "        \n",
    "plt.bar(x,y,color='#7F7F7F', width=0.6)\n",
    "\n",
    "addlabels(x, y)\n",
    "     \n",
    "plt.title(\"Sensationalism by News Outlet Type\", fontsize=13)\n",
    "     \n",
    "plt.ylabel(\"Percentage of Tweets\",fontsize=13)\n",
    "\n",
    "\n",
    "plt.savefig(\"/Users/salmankhawar/Desktop/Thesis Publication/Paper Revisions/Sensationalism_Outlet_Type.jpg\", dpi = 300)\n",
    "\n"
   ]
  },
  {
   "cell_type": "markdown",
   "metadata": {},
   "source": [
    "Descriptive Statistics - Topics and Sensationalism (Figure D1)"
   ]
  },
  {
   "cell_type": "code",
   "execution_count": 93,
   "metadata": {},
   "outputs": [
    {
     "data": {
      "text/plain": [
       "24.587155963302752"
      ]
     },
     "execution_count": 93,
     "metadata": {},
     "output_type": "execute_result"
    }
   ],
   "source": [
    "len(CA_results.loc[(CA_results['politics/government affairs/military'] == 1) & (CA_results['combined_features_dummy'] == 1)])/len(CA_results.loc[(CA_results['politics/government affairs/military'] == 1)])*100"
   ]
  },
  {
   "cell_type": "code",
   "execution_count": 94,
   "metadata": {},
   "outputs": [
    {
     "data": {
      "text/plain": [
       "23.076923076923077"
      ]
     },
     "execution_count": 94,
     "metadata": {},
     "output_type": "execute_result"
    }
   ],
   "source": [
    "len(CA_results.loc[(CA_results['international affairs'] == 1) & (CA_results['combined_features_dummy'] == 1)])/len(CA_results.loc[(CA_results['international affairs'] == 1)])*100"
   ]
  },
  {
   "cell_type": "code",
   "execution_count": 95,
   "metadata": {},
   "outputs": [
    {
     "data": {
      "text/plain": [
       "8.333333333333332"
      ]
     },
     "execution_count": 95,
     "metadata": {},
     "output_type": "execute_result"
    }
   ],
   "source": [
    "len(CA_results.loc[(CA_results['economy/business'] == 1) & (CA_results['combined_features_dummy'] == 1)])/len(CA_results.loc[(CA_results['economy/business'] == 1)])*100"
   ]
  },
  {
   "cell_type": "code",
   "execution_count": 96,
   "metadata": {},
   "outputs": [
    {
     "data": {
      "text/plain": [
       "14.814814814814813"
      ]
     },
     "execution_count": 96,
     "metadata": {},
     "output_type": "execute_result"
    }
   ],
   "source": [
    "len(CA_results.loc[(CA_results['health/education'] == 1) & (CA_results['combined_features_dummy'] == 1)])/len(CA_results.loc[(CA_results['health/education'] == 1)])*100"
   ]
  },
  {
   "cell_type": "code",
   "execution_count": 97,
   "metadata": {},
   "outputs": [
    {
     "data": {
      "text/plain": [
       "25.0"
      ]
     },
     "execution_count": 97,
     "metadata": {},
     "output_type": "execute_result"
    }
   ],
   "source": [
    "len(CA_results.loc[(CA_results['science/technology'] == 1) & (CA_results['combined_features_dummy'] == 1)])/len(CA_results.loc[(CA_results['science/technology'] == 1)])*100"
   ]
  },
  {
   "cell_type": "code",
   "execution_count": 98,
   "metadata": {},
   "outputs": [
    {
     "data": {
      "text/plain": [
       "61.37931034482759"
      ]
     },
     "execution_count": 98,
     "metadata": {},
     "output_type": "execute_result"
    }
   ],
   "source": [
    "len(CA_results.loc[(CA_results['entertainment/celebrity news'] == 1) & (CA_results['combined_features_dummy'] == 1)])/len(CA_results.loc[(CA_results['entertainment/celebrity news'] == 1)])*100"
   ]
  },
  {
   "cell_type": "code",
   "execution_count": 99,
   "metadata": {},
   "outputs": [
    {
     "data": {
      "text/plain": [
       "50.847457627118644"
      ]
     },
     "execution_count": 99,
     "metadata": {},
     "output_type": "execute_result"
    }
   ],
   "source": [
    "len(CA_results.loc[(CA_results['lifestyle and society'] == 1) & (CA_results['combined_features_dummy'] == 1)])/len(CA_results.loc[(CA_results['lifestyle and society'] == 1)])*100"
   ]
  },
  {
   "cell_type": "code",
   "execution_count": 100,
   "metadata": {},
   "outputs": [
    {
     "data": {
      "text/plain": [
       "70.64220183486239"
      ]
     },
     "execution_count": 100,
     "metadata": {},
     "output_type": "execute_result"
    }
   ],
   "source": [
    "len(CA_results.loc[(CA_results['sports'] == 1) & (CA_results['combined_features_dummy'] == 1)])/len(CA_results.loc[(CA_results['sports'] == 1)])*100"
   ]
  },
  {
   "cell_type": "code",
   "execution_count": 101,
   "metadata": {},
   "outputs": [
    {
     "data": {
      "text/plain": [
       "17.5"
      ]
     },
     "execution_count": 101,
     "metadata": {},
     "output_type": "execute_result"
    }
   ],
   "source": [
    "len(CA_results.loc[(CA_results['crime/law and order'] == 1) & (CA_results['combined_features_dummy'] == 1)])/len(CA_results.loc[(CA_results['crime/law and order'] == 1)])*100"
   ]
  },
  {
   "cell_type": "code",
   "execution_count": 102,
   "metadata": {},
   "outputs": [
    {
     "data": {
      "text/plain": [
       "35.714285714285715"
      ]
     },
     "execution_count": 102,
     "metadata": {},
     "output_type": "execute_result"
    }
   ],
   "source": [
    "len(CA_results.loc[(CA_results['human-interest story'] == 1) & (CA_results['combined_features_dummy'] == 1)])/len(CA_results.loc[(CA_results['human-interest story'] == 1)])*100"
   ]
  },
  {
   "cell_type": "markdown",
   "metadata": {},
   "source": [
    "Sensationalism by topic categories (Figure D1)"
   ]
  },
  {
   "cell_type": "code",
   "execution_count": 103,
   "metadata": {},
   "outputs": [
    {
     "data": {
      "image/png": "[encoded data removed]",
      "text/plain": [
       "<Figure size 864x360 with 1 Axes>"
      ]
     },
     "metadata": {
      "needs_background": "light"
     },
     "output_type": "display_data"
    }
   ],
   "source": [
    "# y-axis\n",
    "topics =['entertainment/celebrity news','lifestyle and society','sports','human-interest story','crime/law and order','science/technology','health/education','economy/business','international affairs','politics/government affairs/military']\n",
    "\n",
    "#x-axis\n",
    "perc_sens=[61.38,50.85,70.64,35.71,17.50,25.00,14.81,8.33,23.08,24.59] \n",
    "\n",
    "#horizontal bar chart\n",
    "fig, ax = plt.subplots(figsize=(12,5))\n",
    "plt.barh(topics, perc_sens, height=0.75,color='#7F7F7F')\n",
    "\n",
    "plt.ylabel(\"Topics\",fontsize=13)\n",
    "plt.xlabel(\"Percentage of Sensationalist Tweets\",fontsize=13) \n",
    "plt.title(\"Sensationalism by Topic\",fontsize=13)\n",
    "\n",
    "_, xmax = plt.xlim()\n",
    "plt.xlim(0, xmax+10)\n",
    "for i, v in enumerate(perc_sens):\n",
    "    plt.text(v, i, str(v), fontsize=12, ha='left', va='center')\n",
    "#plt.show()\n",
    "fig.tight_layout(pad=2)\n",
    "plt.savefig(\"/Users/salmankhawar/Desktop/Thesis Publication/Paper Revisions/Sensationalism_by_topic.jpg\", dpi = 300)\n"
   ]
  },
  {
   "cell_type": "code",
   "execution_count": null,
   "metadata": {},
   "outputs": [],
   "source": []
  },
  {
   "cell_type": "markdown",
   "metadata": {},
   "source": [
    "Length of tweets - descriptive statistics"
   ]
  },
  {
   "cell_type": "markdown",
   "metadata": {},
   "source": [
    "The mean length of tweets in the sample was 109.5 characters."
   ]
  },
  {
   "cell_type": "code",
   "execution_count": 104,
   "metadata": {},
   "outputs": [
    {
     "data": {
      "text/plain": [
       "count    1440.000000\n",
       "mean      109.453472\n",
       "std        50.609879\n",
       "min         4.000000\n",
       "25%        74.000000\n",
       "50%        97.500000\n",
       "75%       142.000000\n",
       "max       280.000000\n",
       "Name: len_tweet, dtype: float64"
      ]
     },
     "execution_count": 104,
     "metadata": {},
     "output_type": "execute_result"
    }
   ],
   "source": [
    "CA_results['len_tweet'].describe()"
   ]
  },
  {
   "cell_type": "markdown",
   "metadata": {},
   "source": [
    "The mean length of tweets posted by online-native news outlets was 99.5 characters."
   ]
  },
  {
   "cell_type": "code",
   "execution_count": 105,
   "metadata": {},
   "outputs": [
    {
     "data": {
      "text/plain": [
       "count    720.000000\n",
       "mean      99.486111\n",
       "std       39.787472\n",
       "min        5.000000\n",
       "25%       72.000000\n",
       "50%       95.500000\n",
       "75%      128.000000\n",
       "max      279.000000\n",
       "Name: len_tweet, dtype: float64"
      ]
     },
     "execution_count": 105,
     "metadata": {},
     "output_type": "execute_result"
    }
   ],
   "source": [
    "CA_results['len_tweet'].loc[(CA_results['outlet_type'] == 1)].describe()"
   ]
  },
  {
   "cell_type": "markdown",
   "metadata": {},
   "source": [
    "The mean length of tweets posted by legacy news outlets was 119.4 characters."
   ]
  },
  {
   "cell_type": "code",
   "execution_count": 106,
   "metadata": {},
   "outputs": [
    {
     "data": {
      "text/plain": [
       "count    720.000000\n",
       "mean     119.420833\n",
       "std       57.829632\n",
       "min        4.000000\n",
       "25%       76.750000\n",
       "50%      102.000000\n",
       "75%      153.250000\n",
       "max      280.000000\n",
       "Name: len_tweet, dtype: float64"
      ]
     },
     "execution_count": 106,
     "metadata": {},
     "output_type": "execute_result"
    }
   ],
   "source": [
    "CA_results['len_tweet'].loc[(CA_results['outlet_type'] == 0)].describe()"
   ]
  },
  {
   "cell_type": "markdown",
   "metadata": {},
   "source": [
    "The mean length of sensationalist tweets in the sample was 109.3 characters."
   ]
  },
  {
   "cell_type": "code",
   "execution_count": 107,
   "metadata": {},
   "outputs": [
    {
     "data": {
      "text/plain": [
       "count    634.000000\n",
       "mean     109.324921\n",
       "std       58.242250\n",
       "min        4.000000\n",
       "25%       71.000000\n",
       "50%       94.000000\n",
       "75%      137.750000\n",
       "max      280.000000\n",
       "Name: len_tweet, dtype: float64"
      ]
     },
     "execution_count": 107,
     "metadata": {},
     "output_type": "execute_result"
    }
   ],
   "source": [
    "CA_results['len_tweet'].loc[(CA_results['combined_features_dummy'] == 1)].describe()"
   ]
  },
  {
   "cell_type": "markdown",
   "metadata": {},
   "source": [
    "The mean length of non-sensationalist tweets in the sample was 109.6 characters."
   ]
  },
  {
   "cell_type": "code",
   "execution_count": 108,
   "metadata": {},
   "outputs": [
    {
     "data": {
      "text/plain": [
       "count    806.000000\n",
       "mean     109.554591\n",
       "std       43.717630\n",
       "min        5.000000\n",
       "25%       77.000000\n",
       "50%      102.000000\n",
       "75%      145.000000\n",
       "max      269.000000\n",
       "Name: len_tweet, dtype: float64"
      ]
     },
     "execution_count": 108,
     "metadata": {},
     "output_type": "execute_result"
    }
   ],
   "source": [
    "CA_results['len_tweet'].loc[(CA_results['combined_features_dummy'] == 0)].describe()"
   ]
  },
  {
   "cell_type": "code",
   "execution_count": null,
   "metadata": {},
   "outputs": [],
   "source": []
  }
 ],
 "metadata": {
  "kernelspec": {
   "display_name": "Python 3",
   "language": "python",
   "name": "python3"
  },
  "language_info": {
   "codemirror_mode": {
    "name": "ipython",
    "version": 3
   },
   "file_extension": ".py",
   "mimetype": "text/x-python",
   "name": "python",
   "nbconvert_exporter": "python",
   "pygments_lexer": "ipython3",
   "version": "3.7.4"
  }
 },
 "nbformat": 4,
 "nbformat_minor": 2
}
